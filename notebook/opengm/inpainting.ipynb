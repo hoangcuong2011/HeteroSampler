{
 "metadata": {
  "name": "",
  "signature": "sha256:63c9c0feeff72c917b3756f7ae9f2a205c18af4b09ea6dac20c0daf9512c0779"
 },
 "nbformat": 3,
 "nbformat_minor": 0,
 "worksheets": [
  {
   "cells": [
    {
     "cell_type": "code",
     "collapsed": false,
     "input": [
      "%pylab inline \n",
      "%load_ext autoreload\n",
      "%autoreload 2\n",
      "from lxml import etree as Etree\n",
      "import matplotlib\n",
      "import matplotlib.pyplot as plt\n",
      "import sys\n",
      "import numpy as np\n",
      "import subprocess\n",
      "\n",
      "def parse(path):\n",
      "  tree = Etree.parse(path)\n",
      "  root = tree.getroot()\n",
      "  nodes = root.findall('test/example/*/mask')\n",
      "  mask_l = list()\n",
      "  for node in nodes:\n",
      "    mask_s = node.text\n",
      "    mask = mask_s.split('\\n')\n",
      "    mask = [[float(f) for f in m.split('\\t') if f != ''] for m in mask if m != '']\n",
      "    mask_l.append(mask[0])\n",
      "  return mask_l\n",
      "        \n"
     ],
     "language": "python",
     "metadata": {},
     "outputs": [
      {
       "output_type": "stream",
       "stream": "stdout",
       "text": [
        "Populating the interactive namespace from numpy and matplotlib\n",
        "The autoreload extension is already loaded. To reload it, use:\n",
        "  %reload_ext autoreload\n"
       ]
      }
     ],
     "prompt_number": 14
    },
    {
     "cell_type": "code",
     "collapsed": false,
     "input": [
      "# visualize the allocation of resources.\n",
      "mask_l = parse('test/opengm/inpaint/gibbs/default/0/tcall_T100/policy.xml')\n",
      "mask = np.array(mask_l[0])\n",
      "mask = np.reshape(mask, (120, 120))\n",
      "imshow(mask)\n"
     ],
     "language": "python",
     "metadata": {},
     "outputs": [
      {
       "metadata": {},
       "output_type": "pyout",
       "prompt_number": 18,
       "text": [
        "<matplotlib.image.AxesImage at 0x108f3b210>"
       ]
      },
      {
       "metadata": {},
       "output_type": "display_data",
       "png": "[encoded data removed]",
       "text": [
        "<matplotlib.figure.Figure at 0x108f12cd0>"
       ]
      }
     ],
     "prompt_number": 18
    },
    {
     "cell_type": "code",
     "collapsed": false,
     "input": [],
     "language": "python",
     "metadata": {},
     "outputs": []
    }
   ],
   "metadata": {}
  }
 ]
}