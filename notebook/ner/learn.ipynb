{
 "metadata": {
  "name": "",
  "signature": "sha256:dc3207e4a609c5223e65d97a266f2117527a0f67fe69988a130f089ab6dc8274"
 },
 "nbformat": 3,
 "nbformat_minor": 0,
 "worksheets": [
  {
   "cells": [
    {
     "cell_type": "code",
     "collapsed": false,
     "input": [
      "%pylab inline \n",
      "%load_ext autoreload\n",
      "%autoreload 2\n",
      "from lxml import etree as Etree\n",
      "import matplotlib\n",
      "import matplotlib.pyplot as plt\n",
      "import sys\n",
      "import numpy as np\n",
      "import subprocess\n",
      "\n",
      "maindir = '../../'\n",
      "def parse(path):\n",
      "  tree = Etree.parse(maindir+path)\n",
      "  root = tree.getroot()\n",
      "  nodes = root.findall('train/policy_example/*')\n",
      "  res = list()\n",
      "  for node in nodes:\n",
      "    dic = dict()\n",
      "    for item in node:\n",
      "      attr = item.attrib\n",
      "      dic[item.tag + '/' + attr['name']] = float(attr['value'])\n",
      "    res.append(dic)\n",
      "  return res\n",
      "        \n",
      "extract = lambda dic_l, name : [dic[name] for dic in dic_l]"
     ],
     "language": "python",
     "metadata": {},
     "outputs": [
      {
       "output_type": "stream",
       "stream": "stdout",
       "text": [
        "Populating the interactive namespace from numpy and matplotlib\n",
        "The autoreload extension is already loaded. To reload it, use:\n",
        "  %reload_ext autoreload\n"
       ]
      },
      {
       "output_type": "stream",
       "stream": "stderr",
       "text": [
        "WARNING: pylab import has clobbered these variables: ['extract']\n",
        "`%matplotlib` prevents importing * from pylab and numpy\n"
       ]
      }
     ],
     "prompt_number": 19
    },
    {
     "cell_type": "code",
     "collapsed": false,
     "input": [
      "res = parse(\"test/ner/w2/f2/blockpolicy/default/0/tcall_train/policy.xml\")\n",
      "keys = res[0].keys()\n",
      "if 'item/reward' in keys:\n",
      "  reward = extract(res, 'item/reward')\n",
      "if 'item/resp' in keys:\n",
      "  resp = extract(res, 'item/resp')\n",
      "if 'feat/oracle-stale' in keys:\n",
      "  oracle_stale = extract(res, 'feat/oracle-stale')\n",
      "if 'feat/oracle-ent' in keys:\n",
      "  oracle_ent = extract(res, 'feat/oracle-ent')\n",
      "if 'feat/cond-lhood' in keys:\n",
      "  cond_lhood = extract(res, 'feat/cond-lhood')\n",
      "if 'feat/nb-vary' in keys:\n",
      "  nb_vary = extract(res, 'feat/nb-vary')\n",
      "if 'feat/b' in keys:\n",
      "  bias = extract(res, 'feat/b')\n",
      "if 'feat/sp' in keys:\n",
      "  num_sp = extract(res, 'feat/sp')\n",
      "if 'feat/cond-ent' in keys:\n",
      "  cond_ent = extract(res, 'feat/cond-ent')\n",
      "if 'feat/nb-vary' in keys:\n",
      "  nb_vary = extract(res, '/feat/nb-vary')\n",
      "# old_param = zip(extract(res, 'param/b'), extract(res, 'param/cond-ent'), extract(res, 'param/sp'))"
     ],
     "language": "python",
     "metadata": {},
     "outputs": [
      {
       "ename": "KeyError",
       "evalue": "'/feat/nb-vary'",
       "output_type": "pyerr",
       "traceback": [
        "\u001b[0;31m---------------------------------------------------------------------------\u001b[0m\n\u001b[0;31mKeyError\u001b[0m                                  Traceback (most recent call last)",
        "\u001b[0;32m<ipython-input-52-64732e740e54>\u001b[0m in \u001b[0;36m<module>\u001b[0;34m()\u001b[0m\n\u001b[1;32m     20\u001b[0m   \u001b[0mcond_ent\u001b[0m \u001b[0;34m=\u001b[0m \u001b[0mextract\u001b[0m\u001b[0;34m(\u001b[0m\u001b[0mres\u001b[0m\u001b[0;34m,\u001b[0m \u001b[0;34m'feat/cond-ent'\u001b[0m\u001b[0;34m)\u001b[0m\u001b[0;34m\u001b[0m\u001b[0m\n\u001b[1;32m     21\u001b[0m \u001b[0;32mif\u001b[0m \u001b[0;34m'feat/nb-vary'\u001b[0m \u001b[0;32min\u001b[0m \u001b[0mkeys\u001b[0m\u001b[0;34m:\u001b[0m\u001b[0;34m\u001b[0m\u001b[0m\n\u001b[0;32m---> 22\u001b[0;31m   \u001b[0mnb_vary\u001b[0m \u001b[0;34m=\u001b[0m \u001b[0mextract\u001b[0m\u001b[0;34m(\u001b[0m\u001b[0mres\u001b[0m\u001b[0;34m,\u001b[0m \u001b[0;34m'/feat/nb-vary'\u001b[0m\u001b[0;34m)\u001b[0m\u001b[0;34m\u001b[0m\u001b[0m\n\u001b[0m\u001b[1;32m     23\u001b[0m \u001b[0;31m# old_param = zip(extract(res, 'param/b'), extract(res, 'param/cond-ent'), extract(res, 'param/sp'))\u001b[0m\u001b[0;34m\u001b[0m\u001b[0;34m\u001b[0m\u001b[0m\n",
        "\u001b[0;32m<ipython-input-19-6fef4a0f92e9>\u001b[0m in \u001b[0;36m<lambda>\u001b[0;34m(dic_l, name)\u001b[0m\n\u001b[1;32m     23\u001b[0m   \u001b[0;32mreturn\u001b[0m \u001b[0mres\u001b[0m\u001b[0;34m\u001b[0m\u001b[0m\n\u001b[1;32m     24\u001b[0m \u001b[0;34m\u001b[0m\u001b[0m\n\u001b[0;32m---> 25\u001b[0;31m \u001b[0mextract\u001b[0m \u001b[0;34m=\u001b[0m \u001b[0;32mlambda\u001b[0m \u001b[0mdic_l\u001b[0m\u001b[0;34m,\u001b[0m \u001b[0mname\u001b[0m \u001b[0;34m:\u001b[0m \u001b[0;34m[\u001b[0m\u001b[0mdic\u001b[0m\u001b[0;34m[\u001b[0m\u001b[0mname\u001b[0m\u001b[0;34m]\u001b[0m \u001b[0;32mfor\u001b[0m \u001b[0mdic\u001b[0m \u001b[0;32min\u001b[0m \u001b[0mdic_l\u001b[0m\u001b[0;34m]\u001b[0m\u001b[0;34m\u001b[0m\u001b[0m\n\u001b[0m",
        "\u001b[0;31mKeyError\u001b[0m: '/feat/nb-vary'"
       ]
      }
     ],
     "prompt_number": 52
    },
    {
     "cell_type": "heading",
     "level": 1,
     "metadata": {},
     "source": [
      "Feature Reward Analysis"
     ]
    },
    {
     "cell_type": "code",
     "collapsed": false,
     "input": [
      "\" histogram of reward. \"\n",
      "# print reward\n",
      "print len(reward)\n",
      "temp = hist(reward, bins=10)"
     ],
     "language": "python",
     "metadata": {},
     "outputs": [
      {
       "output_type": "stream",
       "stream": "stdout",
       "text": [
        "4968\n"
       ]
      },
      {
       "metadata": {},
       "output_type": "display_data",
       "png": "[encoded data removed]",
       "text": [
        "<matplotlib.figure.Figure at 0x10ebb4a90>"
       ]
      }
     ],
     "prompt_number": 45
    },
    {
     "cell_type": "code",
     "collapsed": false,
     "input": [
      "\" histogram of staleness\"\n",
      "temp = hist(oracle_stale, bins=100)\n",
      "    "
     ],
     "language": "python",
     "metadata": {},
     "outputs": [
      {
       "metadata": {},
       "output_type": "display_data",
       "png": "[encoded data removed]",
       "text": [
        "<matplotlib.figure.Figure at 0x110985a10>"
       ]
      }
     ],
     "prompt_number": 36
    },
    {
     "cell_type": "code",
     "collapsed": false,
     "input": [
      "\" histogram of oracle-ent\"\n",
      "temp = hist(oracle_ent, bins = 100)"
     ],
     "language": "python",
     "metadata": {},
     "outputs": [
      {
       "metadata": {},
       "output_type": "display_data",
       "png": "[encoded data removed]",
       "text": [
        "<matplotlib.figure.Figure at 0x11038e8d0>"
       ]
      }
     ],
     "prompt_number": 37
    },
    {
     "cell_type": "code",
     "collapsed": false,
     "input": [
      "\"histogram of cond-lhood\"\n",
      "temp = hist(cond_lhood, bins = 100)"
     ],
     "language": "python",
     "metadata": {},
     "outputs": [
      {
       "metadata": {},
       "output_type": "display_data",
       "png": "[encoded data removed]",
       "text": [
        "<matplotlib.figure.Figure at 0x10eb41290>"
       ]
      }
     ],
     "prompt_number": 38
    },
    {
     "cell_type": "code",
     "collapsed": false,
     "input": [
      "cond_lhood = np.array(cond_lhood)\n",
      "oracle_ent = np.array(oracle_ent)\n",
      "oracle_stale = np.array(oracle_stale)\n",
      "plot(-oracle_ent - cond_lhood + oracle_stale, reward, 'r.')"
     ],
     "language": "python",
     "metadata": {},
     "outputs": [
      {
       "metadata": {},
       "output_type": "pyout",
       "prompt_number": 40,
       "text": [
        "[<matplotlib.lines.Line2D at 0x110ba9190>]"
       ]
      },
      {
       "metadata": {},
       "output_type": "display_data",
       "png": "[encoded data removed]",
       "text": [
        "<matplotlib.figure.Figure at 0x10eb419d0>"
       ]
      }
     ],
     "prompt_number": 40
    },
    {
     "cell_type": "code",
     "collapsed": false,
     "input": [
      "\" hist of resp\"\n",
      "temp = hist(resp, bins=20)"
     ],
     "language": "python",
     "metadata": {},
     "outputs": [
      {
       "metadata": {},
       "output_type": "display_data",
       "png": "[encoded data removed]",
       "text": [
        "<matplotlib.figure.Figure at 0x10eaaf190>"
       ]
      }
     ],
     "prompt_number": 47
    },
    {
     "cell_type": "code",
     "collapsed": false,
     "input": [
      "\" reward vs. #sp. \"\n",
      "plot(num_sp, reward, '.')"
     ],
     "language": "python",
     "metadata": {},
     "outputs": [
      {
       "ename": "NameError",
       "evalue": "name 'num_sp' is not defined",
       "output_type": "pyerr",
       "traceback": [
        "\u001b[0;31m---------------------------------------------------------------------------\u001b[0m\n\u001b[0;31mNameError\u001b[0m                                 Traceback (most recent call last)",
        "\u001b[0;32m<ipython-input-48-4ca9dfc896cf>\u001b[0m in \u001b[0;36m<module>\u001b[0;34m()\u001b[0m\n\u001b[1;32m      1\u001b[0m \u001b[0;34m\" reward vs. #sp. \"\u001b[0m\u001b[0;34m\u001b[0m\u001b[0m\n\u001b[0;32m----> 2\u001b[0;31m \u001b[0mplot\u001b[0m\u001b[0;34m(\u001b[0m\u001b[0mnum_sp\u001b[0m\u001b[0;34m,\u001b[0m \u001b[0mreward\u001b[0m\u001b[0;34m,\u001b[0m \u001b[0;34m'.'\u001b[0m\u001b[0;34m)\u001b[0m\u001b[0;34m\u001b[0m\u001b[0m\n\u001b[0m",
        "\u001b[0;31mNameError\u001b[0m: name 'num_sp' is not defined"
       ]
      }
     ],
     "prompt_number": 48
    },
    {
     "cell_type": "code",
     "collapsed": false,
     "input": [
      "\" reward vs. cond-ent\"\n",
      "plot(log(cond_ent), reward, '.')"
     ],
     "language": "python",
     "metadata": {},
     "outputs": [
      {
       "output_type": "stream",
       "stream": "stderr",
       "text": [
        "-c:2: RuntimeWarning: divide by zero encountered in log\n",
        "/opt/local/Library/Frameworks/Python.framework/Versions/2.7/lib/python2.7/site-packages/matplotlib/lines.py:650: RuntimeWarning: invalid value encountered in subtract\n",
        "  return np.amin(x[1:] - x[0:-1]) >= 0\n"
       ]
      },
      {
       "metadata": {},
       "output_type": "pyout",
       "prompt_number": 54,
       "text": [
        "[<matplotlib.lines.Line2D at 0x110f14490>]"
       ]
      },
      {
       "metadata": {},
       "output_type": "display_data",
       "png": "[encoded data removed]",
       "text": [
        "<matplotlib.figure.Figure at 0x10d550d90>"
       ]
      }
     ],
     "prompt_number": 54
    },
    {
     "cell_type": "code",
     "collapsed": false,
     "input": [
      "\" reward vs. cond-ent\"\n",
      "trunc = lambda arr, x: [a for (a, sp) in zip(arr, num_sp) if sp >= x]\n",
      "plot(trunc(cond_ent, 2), trunc(reward, 2), '.')"
     ],
     "language": "python",
     "metadata": {},
     "outputs": [
      {
       "metadata": {},
       "output_type": "pyout",
       "prompt_number": 41,
       "text": [
        "[<matplotlib.lines.Line2D at 0x10e804990>]"
       ]
      },
      {
       "metadata": {},
       "output_type": "display_data",
       "png": "[encoded data removed]",
       "text": [
        "<matplotlib.figure.Figure at 0x110739ad0>"
       ]
      }
     ],
     "prompt_number": 41
    },
    {
     "cell_type": "code",
     "collapsed": false,
     "input": [
      "\"reward vs. nb-vary\"\n",
      "plot(nb_vary, reward, 'b.')"
     ],
     "language": "python",
     "metadata": {},
     "outputs": [
      {
       "metadata": {},
       "output_type": "pyout",
       "prompt_number": 55,
       "text": [
        "[<matplotlib.lines.Line2D at 0x10e006c90>]"
       ]
      },
      {
       "metadata": {},
       "output_type": "display_data",
       "png": "[encoded data removed]",
       "text": [
        "<matplotlib.figure.Figure at 0x10e006250>"
       ]
      }
     ],
     "prompt_number": 55
    },
    {
     "cell_type": "code",
     "collapsed": false,
     "input": [
      "\"compute mean of reward for different values of cond-ent\"\n",
      "rw = [rw for (cond, rw) in zip(cond_ent, reward) if cond <= 1.2 and cond >= 1.0]\n",
      "temp = hist(rw)\n",
      "np.mean(rw)"
     ],
     "language": "python",
     "metadata": {},
     "outputs": [
      {
       "ename": "ValueError",
       "evalue": "x must have at least one data point",
       "output_type": "pyerr",
       "traceback": [
        "\u001b[0;31m---------------------------------------------------------------------------\u001b[0m\n\u001b[0;31mValueError\u001b[0m                                Traceback (most recent call last)",
        "\u001b[0;32m<ipython-input-56-e1abff3fafc0>\u001b[0m in \u001b[0;36m<module>\u001b[0;34m()\u001b[0m\n\u001b[1;32m      1\u001b[0m \u001b[0;34m\"compute mean of reward for different values of cond-ent\"\u001b[0m\u001b[0;34m\u001b[0m\u001b[0m\n\u001b[1;32m      2\u001b[0m \u001b[0mrw\u001b[0m \u001b[0;34m=\u001b[0m \u001b[0;34m[\u001b[0m\u001b[0mrw\u001b[0m \u001b[0;32mfor\u001b[0m \u001b[0;34m(\u001b[0m\u001b[0mcond\u001b[0m\u001b[0;34m,\u001b[0m \u001b[0mrw\u001b[0m\u001b[0;34m)\u001b[0m \u001b[0;32min\u001b[0m \u001b[0mzip\u001b[0m\u001b[0;34m(\u001b[0m\u001b[0mcond_ent\u001b[0m\u001b[0;34m,\u001b[0m \u001b[0mreward\u001b[0m\u001b[0;34m)\u001b[0m \u001b[0;32mif\u001b[0m \u001b[0mcond\u001b[0m \u001b[0;34m<=\u001b[0m \u001b[0;36m1.2\u001b[0m \u001b[0;32mand\u001b[0m \u001b[0mcond\u001b[0m \u001b[0;34m>=\u001b[0m \u001b[0;36m1.0\u001b[0m\u001b[0;34m]\u001b[0m\u001b[0;34m\u001b[0m\u001b[0m\n\u001b[0;32m----> 3\u001b[0;31m \u001b[0mtemp\u001b[0m \u001b[0;34m=\u001b[0m \u001b[0mhist\u001b[0m\u001b[0;34m(\u001b[0m\u001b[0mrw\u001b[0m\u001b[0;34m)\u001b[0m\u001b[0;34m\u001b[0m\u001b[0m\n\u001b[0m\u001b[1;32m      4\u001b[0m \u001b[0mnp\u001b[0m\u001b[0;34m.\u001b[0m\u001b[0mmean\u001b[0m\u001b[0;34m(\u001b[0m\u001b[0mrw\u001b[0m\u001b[0;34m)\u001b[0m\u001b[0;34m\u001b[0m\u001b[0m\n",
        "\u001b[0;32m/opt/local/Library/Frameworks/Python.framework/Versions/2.7/lib/python2.7/site-packages/matplotlib/pyplot.pyc\u001b[0m in \u001b[0;36mhist\u001b[0;34m(x, bins, range, normed, weights, cumulative, bottom, histtype, align, orientation, rwidth, log, color, label, stacked, hold, **kwargs)\u001b[0m\n\u001b[1;32m   2888\u001b[0m                       \u001b[0mhisttype\u001b[0m\u001b[0;34m=\u001b[0m\u001b[0mhisttype\u001b[0m\u001b[0;34m,\u001b[0m \u001b[0malign\u001b[0m\u001b[0;34m=\u001b[0m\u001b[0malign\u001b[0m\u001b[0;34m,\u001b[0m \u001b[0morientation\u001b[0m\u001b[0;34m=\u001b[0m\u001b[0morientation\u001b[0m\u001b[0;34m,\u001b[0m\u001b[0;34m\u001b[0m\u001b[0m\n\u001b[1;32m   2889\u001b[0m                       \u001b[0mrwidth\u001b[0m\u001b[0;34m=\u001b[0m\u001b[0mrwidth\u001b[0m\u001b[0;34m,\u001b[0m \u001b[0mlog\u001b[0m\u001b[0;34m=\u001b[0m\u001b[0mlog\u001b[0m\u001b[0;34m,\u001b[0m \u001b[0mcolor\u001b[0m\u001b[0;34m=\u001b[0m\u001b[0mcolor\u001b[0m\u001b[0;34m,\u001b[0m \u001b[0mlabel\u001b[0m\u001b[0;34m=\u001b[0m\u001b[0mlabel\u001b[0m\u001b[0;34m,\u001b[0m\u001b[0;34m\u001b[0m\u001b[0m\n\u001b[0;32m-> 2890\u001b[0;31m                       stacked=stacked, **kwargs)\n\u001b[0m\u001b[1;32m   2891\u001b[0m         \u001b[0mdraw_if_interactive\u001b[0m\u001b[0;34m(\u001b[0m\u001b[0;34m)\u001b[0m\u001b[0;34m\u001b[0m\u001b[0m\n\u001b[1;32m   2892\u001b[0m     \u001b[0;32mfinally\u001b[0m\u001b[0;34m:\u001b[0m\u001b[0;34m\u001b[0m\u001b[0m\n",
        "\u001b[0;32m/opt/local/Library/Frameworks/Python.framework/Versions/2.7/lib/python2.7/site-packages/matplotlib/axes/_axes.pyc\u001b[0m in \u001b[0;36mhist\u001b[0;34m(self, x, bins, range, normed, weights, cumulative, bottom, histtype, align, orientation, rwidth, log, color, label, stacked, **kwargs)\u001b[0m\n\u001b[1;32m   5553\u001b[0m         \u001b[0mflat\u001b[0m \u001b[0;34m=\u001b[0m \u001b[0mnp\u001b[0m\u001b[0;34m.\u001b[0m\u001b[0mravel\u001b[0m\u001b[0;34m(\u001b[0m\u001b[0mx\u001b[0m\u001b[0;34m)\u001b[0m\u001b[0;34m\u001b[0m\u001b[0m\n\u001b[1;32m   5554\u001b[0m         \u001b[0;32mif\u001b[0m \u001b[0mlen\u001b[0m\u001b[0;34m(\u001b[0m\u001b[0mflat\u001b[0m\u001b[0;34m)\u001b[0m \u001b[0;34m==\u001b[0m \u001b[0;36m0\u001b[0m\u001b[0;34m:\u001b[0m\u001b[0;34m\u001b[0m\u001b[0m\n\u001b[0;32m-> 5555\u001b[0;31m             \u001b[0;32mraise\u001b[0m \u001b[0mValueError\u001b[0m\u001b[0;34m(\u001b[0m\u001b[0;34m\"x must have at least one data point\"\u001b[0m\u001b[0;34m)\u001b[0m\u001b[0;34m\u001b[0m\u001b[0m\n\u001b[0m\u001b[1;32m   5556\u001b[0m         \u001b[0;32melif\u001b[0m \u001b[0mlen\u001b[0m\u001b[0;34m(\u001b[0m\u001b[0mflat\u001b[0m\u001b[0;34m)\u001b[0m \u001b[0;34m==\u001b[0m \u001b[0;36m1\u001b[0m \u001b[0;32mand\u001b[0m \u001b[0;32mnot\u001b[0m \u001b[0mbinsgiven\u001b[0m\u001b[0;34m:\u001b[0m\u001b[0;34m\u001b[0m\u001b[0m\n\u001b[1;32m   5557\u001b[0m             raise ValueError(\n",
        "\u001b[0;31mValueError\u001b[0m: x must have at least one data point"
       ]
      },
      {
       "metadata": {},
       "output_type": "display_data",
       "png": "[encoded data removed]",
       "text": [
        "<matplotlib.figure.Figure at 0x10e066750>"
       ]
      }
     ],
     "prompt_number": 56
    },
    {
     "cell_type": "code",
     "collapsed": false,
     "input": [
      "\"compute mean of reward for different values of sp\"\n",
      "rw = [rw for (sp, rw) in zip(num_sp, reward) if sp == 1]\n",
      "temp = hist(rw, bins=100)\n",
      "np.mean(rw)"
     ],
     "language": "python",
     "metadata": {},
     "outputs": []
    },
    {
     "cell_type": "code",
     "collapsed": false,
     "input": [
      "\"compute mean of reward for different values of sp\"\n",
      "rw = [rw for (sp, rw) in zip(num_sp, reward) if sp == 1]\n",
      "temp = hist(rw, bins=100)\n",
      "np.mean(rw)"
     ],
     "language": "python",
     "metadata": {},
     "outputs": []
    },
    {
     "cell_type": "code",
     "collapsed": false,
     "input": [
      "\" reward vs. cond-ent\"\n",
      "plot(resp, reward, '.')"
     ],
     "language": "python",
     "metadata": {},
     "outputs": [
      {
       "metadata": {},
       "output_type": "pyout",
       "prompt_number": 57,
       "text": [
        "[<matplotlib.lines.Line2D at 0x10eb41c50>]"
       ]
      },
      {
       "metadata": {},
       "output_type": "display_data",
       "png": "[encoded data removed]",
       "text": [
        "<matplotlib.figure.Figure at 0x10ebce4d0>"
       ]
      }
     ],
     "prompt_number": 57
    },
    {
     "cell_type": "code",
     "collapsed": false,
     "input": [
      "\"lhood vs. reward\"\n",
      "plot(cond_lhood, reward, 'r.')"
     ],
     "language": "python",
     "metadata": {},
     "outputs": [
      {
       "metadata": {},
       "output_type": "pyout",
       "prompt_number": 58,
       "text": [
        "[<matplotlib.lines.Line2D at 0x1109d7210>]"
       ]
      },
      {
       "metadata": {},
       "output_type": "display_data",
       "png": "[encoded data removed]",
       "text": [
        "<matplotlib.figure.Figure at 0x110c03310>"
       ]
      }
     ],
     "prompt_number": 58
    },
    {
     "cell_type": "code",
     "collapsed": false,
     "input": [
      "\"reward > 0 as positive instance. 2D diagram\"\n",
      "pos = [(ce, sp) for (ce, sp, r) in zip(cond_ent, num_sp, reward) if r > 0]\n",
      "neg = [(ce, sp) for (ce, sp, r) in zip(cond_ent, num_sp, reward) if r <= 0]\n",
      "figure\n",
      "plot(*zip(*neg), color='b', marker='+', linestyle='')\n",
      "plot(*zip(*pos), color='r', marker='.', linestyle='')"
     ],
     "language": "python",
     "metadata": {},
     "outputs": []
    },
    {
     "cell_type": "code",
     "collapsed": false,
     "input": [
      "\"reproduce adagrad algorithm (sanity check)\"\n",
      "def train_adagrad(example_l, reward_l, eta, num_iter):\n",
      "  param = np.zeros(len(example_l[0]))\n",
      "  G2 = np.zeros(len(param))\n",
      "  count = 0\n",
      "  for it in range(num_iter):\n",
      "    print 'iter = ', it\n",
      "    for (example, reward) in zip(example_l, reward_l):\n",
      "      example = np.array(example)\n",
      "      resp = np.dot(example, param)\n",
      "      resp = 1./(1+exp(-resp))\n",
      "      if reward > 0:\n",
      "        grad = example * (1 - resp)\n",
      "      else:\n",
      "        grad = example * (- resp)\n",
      "      G2 += grad**2\n",
      "      param += eta * grad / sqrt(1 + G2)\n",
      "    print 'param = ', param\n",
      "  return param\n",
      "\n",
      "param = train_adagrad(zip(bias, cond_ent, num_sp), reward, 1, 100)"
     ],
     "language": "python",
     "metadata": {},
     "outputs": [
      {
       "output_type": "stream",
       "stream": "stdout",
       "text": [
        "iter =  0\n",
        "param = "
       ]
      },
      {
       "output_type": "stream",
       "stream": "stdout",
       "text": [
        " [-2.35682144  8.17201638 -2.44010831]\n",
        "iter =  1\n",
        "param = "
       ]
      },
      {
       "output_type": "stream",
       "stream": "stdout",
       "text": [
        " [-2.41990619  8.59172595 -2.29249784]\n",
        "iter =  2\n",
        "param = "
       ]
      },
      {
       "output_type": "stream",
       "stream": "stdout",
       "text": [
        " [-2.45776073  8.69182321 -2.21291911]\n",
        "iter =  3\n",
        "param = "
       ]
      },
      {
       "output_type": "stream",
       "stream": "stdout",
       "text": [
        " [-2.48212235  8.72945176 -2.16477119]\n",
        "iter =  4\n",
        "param = "
       ]
      },
      {
       "output_type": "stream",
       "stream": "stdout",
       "text": [
        " [-2.49856928  8.74782245 -2.1332195 ]\n",
        "iter =  5\n",
        "param = "
       ]
      },
      {
       "output_type": "stream",
       "stream": "stdout",
       "text": [
        " [-2.51009353  8.75836535 -2.11132967]\n",
        "iter =  6\n",
        "param = "
       ]
      },
      {
       "output_type": "stream",
       "stream": "stdout",
       "text": [
        " [-2.51840866  8.7650462  -2.09546989]\n",
        "iter =  7\n",
        "param = "
       ]
      },
      {
       "output_type": "stream",
       "stream": "stdout",
       "text": [
        " [-2.52455017  8.76954114 -2.08357559]\n",
        "iter =  8\n",
        "param = "
       ]
      },
      {
       "output_type": "stream",
       "stream": "stdout",
       "text": [
        " [-2.52917219  8.77267485 -2.07439831]\n",
        "iter =  9\n",
        "param = "
       ]
      },
      {
       "output_type": "stream",
       "stream": "stdout",
       "text": [
        " [-2.53270356  8.77490323 -2.06714563]\n",
        "iter =  10\n",
        "param = "
       ]
      },
      {
       "output_type": "stream",
       "stream": "stdout",
       "text": [
        " [-2.53543435  8.77650147 -2.06129446]\n",
        "iter =  11\n",
        "param = "
       ]
      },
      {
       "output_type": "stream",
       "stream": "stdout",
       "text": [
        " [-2.53756604  8.77764683 -2.0564881 ]\n",
        "iter =  12\n"
       ]
      },
      {
       "ename": "KeyboardInterrupt",
       "evalue": "",
       "output_type": "pyerr",
       "traceback": [
        "\u001b[0;31m---------------------------------------------------------------------------\u001b[0m\n\u001b[0;31mKeyboardInterrupt\u001b[0m                         Traceback (most recent call last)",
        "\u001b[0;32m<ipython-input-56-2d375badfb7f>\u001b[0m in \u001b[0;36m<module>\u001b[0;34m()\u001b[0m\n\u001b[1;32m     19\u001b[0m   \u001b[0;32mreturn\u001b[0m \u001b[0mparam\u001b[0m\u001b[0;34m\u001b[0m\u001b[0m\n\u001b[1;32m     20\u001b[0m \u001b[0;34m\u001b[0m\u001b[0m\n\u001b[0;32m---> 21\u001b[0;31m \u001b[0mparam\u001b[0m \u001b[0;34m=\u001b[0m \u001b[0mtrain_adagrad\u001b[0m\u001b[0;34m(\u001b[0m\u001b[0mzip\u001b[0m\u001b[0;34m(\u001b[0m\u001b[0mbias\u001b[0m\u001b[0;34m,\u001b[0m \u001b[0mcond_ent\u001b[0m\u001b[0;34m,\u001b[0m \u001b[0mnum_sp\u001b[0m\u001b[0;34m)\u001b[0m\u001b[0;34m,\u001b[0m \u001b[0mreward\u001b[0m\u001b[0;34m,\u001b[0m \u001b[0;36m1\u001b[0m\u001b[0;34m,\u001b[0m \u001b[0;36m100\u001b[0m\u001b[0;34m)\u001b[0m\u001b[0;34m\u001b[0m\u001b[0m\n\u001b[0m",
        "\u001b[0;32m<ipython-input-56-2d375badfb7f>\u001b[0m in \u001b[0;36mtrain_adagrad\u001b[0;34m(example_l, reward_l, eta, num_iter)\u001b[0m\n\u001b[1;32m      7\u001b[0m     \u001b[0;32mprint\u001b[0m \u001b[0;34m'iter = '\u001b[0m\u001b[0;34m,\u001b[0m \u001b[0mit\u001b[0m\u001b[0;34m\u001b[0m\u001b[0m\n\u001b[1;32m      8\u001b[0m     \u001b[0;32mfor\u001b[0m \u001b[0;34m(\u001b[0m\u001b[0mexample\u001b[0m\u001b[0;34m,\u001b[0m \u001b[0mreward\u001b[0m\u001b[0;34m)\u001b[0m \u001b[0;32min\u001b[0m \u001b[0mzip\u001b[0m\u001b[0;34m(\u001b[0m\u001b[0mexample_l\u001b[0m\u001b[0;34m,\u001b[0m \u001b[0mreward_l\u001b[0m\u001b[0;34m)\u001b[0m\u001b[0;34m:\u001b[0m\u001b[0;34m\u001b[0m\u001b[0m\n\u001b[0;32m----> 9\u001b[0;31m       \u001b[0mexample\u001b[0m \u001b[0;34m=\u001b[0m \u001b[0mnp\u001b[0m\u001b[0;34m.\u001b[0m\u001b[0marray\u001b[0m\u001b[0;34m(\u001b[0m\u001b[0mexample\u001b[0m\u001b[0;34m)\u001b[0m\u001b[0;34m\u001b[0m\u001b[0m\n\u001b[0m\u001b[1;32m     10\u001b[0m       \u001b[0mresp\u001b[0m \u001b[0;34m=\u001b[0m \u001b[0mnp\u001b[0m\u001b[0;34m.\u001b[0m\u001b[0mdot\u001b[0m\u001b[0;34m(\u001b[0m\u001b[0mexample\u001b[0m\u001b[0;34m,\u001b[0m \u001b[0mparam\u001b[0m\u001b[0;34m)\u001b[0m\u001b[0;34m\u001b[0m\u001b[0m\n\u001b[1;32m     11\u001b[0m       \u001b[0mresp\u001b[0m \u001b[0;34m=\u001b[0m \u001b[0;36m1.\u001b[0m\u001b[0;34m/\u001b[0m\u001b[0;34m(\u001b[0m\u001b[0;36m1\u001b[0m\u001b[0;34m+\u001b[0m\u001b[0mexp\u001b[0m\u001b[0;34m(\u001b[0m\u001b[0;34m-\u001b[0m\u001b[0mresp\u001b[0m\u001b[0;34m)\u001b[0m\u001b[0;34m)\u001b[0m\u001b[0;34m\u001b[0m\u001b[0m\n",
        "\u001b[0;31mKeyboardInterrupt\u001b[0m: "
       ]
      }
     ],
     "prompt_number": 56
    },
    {
     "cell_type": "code",
     "collapsed": false,
     "input": [
      "plot(range(len(param_list)), [x[0] for x in param_list])\n",
      "plot(range(len(param_list)), [x[0] for x in old_param])\n",
      "# new_resp = [np.dot(param, np.array(example)) for example in zip(bias, cond_ent, num_sp)]"
     ],
     "language": "python",
     "metadata": {},
     "outputs": []
    },
    {
     "cell_type": "code",
     "collapsed": false,
     "input": [
      "param"
     ],
     "language": "python",
     "metadata": {},
     "outputs": []
    },
    {
     "cell_type": "code",
     "collapsed": false,
     "input": [
      "param_list[0:10]"
     ],
     "language": "python",
     "metadata": {},
     "outputs": []
    },
    {
     "cell_type": "code",
     "collapsed": false,
     "input": [
      "old_param[0:10]"
     ],
     "language": "python",
     "metadata": {},
     "outputs": []
    },
    {
     "cell_type": "code",
     "collapsed": false,
     "input": [
      "plot(new_resp, reward, 'b+')"
     ],
     "language": "python",
     "metadata": {},
     "outputs": []
    },
    {
     "cell_type": "code",
     "collapsed": false,
     "input": [
      "\"batch gradient descent for logistic regression\"\n",
      "\"reproduce adagrad algorithm (sanity check)\"\n",
      "def train_batchgrad(example_l, reward_l, eta, num_iter):\n",
      "  param = np.zeros(len(example_l[0]))\n",
      "  G2 = np.zeros(len(param))\n",
      "  count = 0\n",
      "  for it in range(num_iter):\n",
      "    grad = zeros(len(param))\n",
      "    lhood = 0\n",
      "    acc = 0\n",
      "    num_pred = 0\n",
      "    for (example, reward) in zip(example_l, reward_l):\n",
      "      example = np.array(example)\n",
      "      resp = np.dot(example, param)\n",
      "      resp = 1./(1+exp(-resp))\n",
      "      if reward > 0:\n",
      "        grad += example * (1 - resp)\n",
      "        lhood += np.log(resp)\n",
      "      else:\n",
      "        grad += example * (- resp)\n",
      "        lhood += np.log(1-resp)\n",
      "      acc += reward > 0 and resp >= 0.5 or reward <= 0 and resp < 0.5\n",
      "      num_pred += resp >= 0.5\n",
      "    grad /= float(len(example_l))\n",
      "    lhood /= float(len(example_l))\n",
      "    acc /= float(len(example_l))\n",
      "    print 'iter = ', it, ', lhood = ', lhood, ', pred = ', num_pred, ', acc = ', acc, ', param = ', param\n",
      "    param += eta * grad\n",
      "  return param\n",
      "\n",
      "param = train_batchgrad(zip(bias, cond_ent, num_sp), reward, 1, 1000)"
     ],
     "language": "python",
     "metadata": {},
     "outputs": [
      {
       "output_type": "stream",
       "stream": "stdout",
       "text": [
        "iter =  0 , lhood =  -0.693147180559 , pred =  36171 , acc =  0.00754748279008 , param =  [ 0.  0.  0.]\n",
        "iter = "
       ]
      },
      {
       "output_type": "stream",
       "stream": "stdout",
       "text": [
        " 1 , lhood =  -0.117295528707 , pred =  0 , acc =  0.99245251721 , param =  [ -4.92452517e-01  -3.45298886e-04  -9.91623123e-01]\n",
        "iter = "
       ]
      },
      {
       "output_type": "stream",
       "stream": "stdout",
       "text": [
        " 2 , lhood =  -0.0945625512958 , pred =  0 , acc =  0.99245251721 , param =  [ -5.82454327e-01   8.32559981e-04  -1.12682631e+00]\n",
        "iter = "
       ]
      },
      {
       "output_type": "stream",
       "stream": "stdout",
       "text": [
        " 3 , lhood =  -0.0817458450455 , pred =  0 , acc =  0.99245251721 , param =  [-0.65067851  0.00214301 -1.22512427]\n",
        "iter = "
       ]
      },
      {
       "output_type": "stream",
       "stream": "stdout",
       "text": [
        " 4 , lhood =  -0.0734146388172 , pred =  0 , acc =  0.99245251721 , param =  [-0.70612799  0.00353761 -1.30279886]\n",
        "iter = "
       ]
      },
      {
       "output_type": "stream",
       "stream": "stdout",
       "text": [
        " 5 , lhood =  -0.0675405698807 , pred =  0 , acc =  0.99245251721 , param =  [-0.75299852  0.00499179 -1.36710358]\n",
        "iter = "
       ]
      },
      {
       "output_type": "stream",
       "stream": "stdout",
       "text": [
        " 6 , lhood =  -0.0631720224813 , pred =  0 , acc =  0.99245251721 , param =  [-0.79364333  0.00649094 -1.42196819]\n",
        "iter = "
       ]
      },
      {
       "output_type": "stream",
       "stream": "stdout",
       "text": [
        " 7 , lhood =  -0.0597974330182 , pred =  0 , acc =  0.99245251721 , param =  [-0.82953374  0.00802548 -1.46978195]\n",
        "iter = "
       ]
      },
      {
       "output_type": "stream",
       "stream": "stdout",
       "text": [
        " 8 , lhood =  -0.0571152718814 , pred =  0 , acc =  0.99245251721 , param =  [-0.86165899  0.00958874 -1.51211422]\n",
        "iter = "
       ]
      },
      {
       "output_type": "stream",
       "stream": "stdout",
       "text": [
        " 9 , lhood =  -0.0549354968154 , pred =  0 , acc =  0.99245251721 , param =  [-0.89071993  0.01117585 -1.55005489]\n",
        "iter = "
       ]
      },
      {
       "output_type": "stream",
       "stream": "stdout",
       "text": [
        " 10 , lhood =  -0.0531320469613 , pred =  0 , acc =  0.99245251721 , param =  [-0.91723315  0.01278312 -1.58439361]\n",
        "iter = "
       ]
      },
      {
       "output_type": "stream",
       "stream": "stdout",
       "text": [
        " 11 , lhood =  -0.0516178518689 , pred =  0 , acc =  0.99245251721 , param =  [-0.94159151  0.01440768 -1.61572184]\n",
        "iter = "
       ]
      },
      {
       "output_type": "stream",
       "stream": "stdout",
       "text": [
        " 12 , lhood =  -0.0503307646274 , pred =  0 , acc =  0.99245251721 , param =  [-0.96410141  0.01604728 -1.64449466]\n",
        "iter = "
       ]
      },
      {
       "output_type": "stream",
       "stream": "stdout",
       "text": [
        " 13 , lhood =  -0.0492252035482 , pred =  0 , acc =  0.99245251721 , param =  [-0.98500681  0.01770005 -1.6710701 ]\n",
        "iter = "
       ]
      },
      {
       "output_type": "stream",
       "stream": "stdout",
       "text": [
        " 14 , lhood =  -0.0482669603401 , pred =  0 , acc =  0.99245251721 , param =  [-1.00450542  0.0193645  -1.69573515]\n",
        "iter = "
       ]
      },
      {
       "output_type": "stream",
       "stream": "stdout",
       "text": [
        " 15 , lhood =  -0.0474298531932 , pred =  0 , acc =  0.99245251721 , param =  [-1.02275985  0.02103935 -1.71872352]\n",
        "iter = "
       ]
      },
      {
       "output_type": "stream",
       "stream": "stdout",
       "text": [
        " 16 , lhood =  -0.0466935000409 , pred =  0 , acc =  0.99245251721 , param =  [-1.0399056   0.02272355 -1.7402282 ]\n",
        "iter = "
       ]
      },
      {
       "output_type": "stream",
       "stream": "stdout",
       "text": [
        " 17 , lhood =  -0.046041796307 , pred =  0 , acc =  0.99245251721 , param =  [-1.05605685  0.02441619 -1.76041046]\n",
        "iter = "
       ]
      },
      {
       "output_type": "stream",
       "stream": "stdout",
       "text": [
        " 18 , lhood =  -0.0454618493628 , pred =  0 , acc =  0.99245251721 , param =  [-1.07131076  0.02611649 -1.7794065 ]\n",
        "iter = "
       ]
      },
      {
       "output_type": "stream",
       "stream": "stdout",
       "text": [
        " 19 , lhood =  -0.0449432170154 , pred =  0 , acc =  0.99245251721 , param =  [-1.08575078  0.02782378 -1.79733243]\n",
        "iter = "
       ]
      },
      {
       "output_type": "stream",
       "stream": "stdout",
       "text": [
        " 20 , lhood =  -0.0444773531668 , pred =  0 , acc =  0.99245251721 , param =  [-1.09944908  0.02953747 -1.81428806]\n",
        "iter = "
       ]
      },
      {
       "output_type": "stream",
       "stream": "stdout",
       "text": [
        " 21 , lhood =  -0.0440571975982 , pred =  0 , acc =  0.99245251721 , param =  [-1.1124686   0.03125705 -1.83035984]\n",
        "iter = "
       ]
      },
      {
       "output_type": "stream",
       "stream": "stdout",
       "text": [
        " 22 , lhood =  -0.0436768678957 , pred =  0 , acc =  0.99245251721 , param =  [-1.12486452  0.03298205 -1.84562316]\n",
        "iter = "
       ]
      },
      {
       "output_type": "stream",
       "stream": "stdout",
       "text": [
        " 23 , lhood =  -0.0433314249789 , pred =  0 , acc =  0.99245251721 , param =  [-1.13668553  0.03471207 -1.86014417]\n",
        "iter = "
       ]
      },
      {
       "output_type": "stream",
       "stream": "stdout",
       "text": [
        " 24 , lhood =  -0.0430166924755 , pred =  0 , acc =  0.99245251721 , param =  [-1.14797481  0.03644676 -1.87398123]\n",
        "iter = "
       ]
      },
      {
       "output_type": "stream",
       "stream": "stdout",
       "text": [
        " 25 , lhood =  -0.0427291160308 , pred =  0 , acc =  0.99245251721 , param =  [-1.15877084  0.03818578 -1.88718614]\n",
        "iter = "
       ]
      },
      {
       "output_type": "stream",
       "stream": "stdout",
       "text": [
        " 26 , lhood =  -0.042465652609 , pred =  0 , acc =  0.99245251721 , param =  [-1.16910809  0.03992885 -1.89980502]\n",
        "iter = "
       ]
      },
      {
       "output_type": "stream",
       "stream": "stdout",
       "text": [
        " 27 , lhood =  -0.0422236825797 , pred =  0 , acc =  0.99245251721 , param =  [-1.17901753  0.0416757  -1.91187918]\n",
        "iter = "
       ]
      },
      {
       "output_type": "stream",
       "stream": "stdout",
       "text": [
        " 28 , lhood =  -0.0420009392971 , pred =  0 , acc =  0.99245251721 , param =  [-1.18852711  0.0434261  -1.92344575]\n",
        "iter = "
       ]
      },
      {
       "output_type": "stream",
       "stream": "stdout",
       "text": [
        " 29 , lhood =  -0.0417954522426 , pred =  0 , acc =  0.99245251721 , param =  [-1.19766215  0.04517982 -1.93453821]\n",
        "iter = "
       ]
      },
      {
       "output_type": "stream",
       "stream": "stdout",
       "text": [
        " 30 , lhood =  -0.0416055007777 , pred =  0 , acc =  0.99245251721 , param =  [-1.20644565  0.04693667 -1.94518688]\n",
        "iter = "
       ]
      },
      {
       "output_type": "stream",
       "stream": "stdout",
       "text": [
        " 31 , lhood =  -0.041429576269 , pred =  0 , acc =  0.99245251721 , param =  [-1.21489857  0.04869647 -1.9554193 ]\n",
        "iter = "
       ]
      },
      {
       "output_type": "stream",
       "stream": "stdout",
       "text": [
        " 32 , lhood =  -0.0412663508694 , pred =  0 , acc =  0.99245251721 , param =  [-1.2230401   0.05045905 -1.96526056]\n",
        "iter = "
       ]
      },
      {
       "output_type": "stream",
       "stream": "stdout",
       "text": [
        " 33 , lhood =  -0.0411146516327 , pred =  0 , acc =  0.99245251721 , param =  [-1.23088779  0.05222425 -1.97473358]\n",
        "iter = "
       ]
      },
      {
       "output_type": "stream",
       "stream": "stdout",
       "text": [
        " 34 , lhood =  -0.0409734389276 , pred =  0 , acc =  0.99245251721 , param =  [-1.23845779  0.05399194 -1.98385937]\n",
        "iter = "
       ]
      },
      {
       "output_type": "stream",
       "stream": "stdout",
       "text": [
        " 35 , lhood =  -0.040841788343 , pred =  0 , acc =  0.99245251721 , param =  [-1.24576498  0.05576199 -1.99265721]\n",
        "iter = "
       ]
      },
      {
       "output_type": "stream",
       "stream": "stdout",
       "text": [
        " 36 , lhood =  -0.0407188754444 , pred =  0 , acc =  0.99245251721 , param =  [-1.25282308  0.05753427 -2.00114487]\n",
        "iter = "
       ]
      },
      {
       "output_type": "stream",
       "stream": "stdout",
       "text": [
        " 37 , lhood =  -0.0406039628712 , pred =  0 , acc =  0.99245251721 , param =  [-1.25964481  0.05930867 -2.00933874]\n",
        "iter = "
       ]
      },
      {
       "output_type": "stream",
       "stream": "stdout",
       "text": [
        " 38 , lhood =  -0.0404963893678 , pred =  0 , acc =  0.99245251721 , param =  [-1.26624193  0.06108509 -2.01725396]\n",
        "iter = "
       ]
      },
      {
       "output_type": "stream",
       "stream": "stdout",
       "text": [
        " 39 , lhood =  -0.0403955604188 , pred =  0 , acc =  0.99245251721 , param =  [-1.2726254   0.06286343 -2.02490459]\n",
        "iter = "
       ]
      },
      {
       "output_type": "stream",
       "stream": "stdout",
       "text": [
        " 40 , lhood =  -0.0403009402223 , pred =  0 , acc =  0.99245251721 , param =  [-1.2788054   0.0646436  -2.03230367]\n",
        "iter = "
       ]
      },
      {
       "output_type": "stream",
       "stream": "stdout",
       "text": [
        " 41 , lhood =  -0.0402120447848 , pred =  0 , acc =  0.99245251721 , param =  [-1.28479142  0.06642552 -2.03946331]\n",
        "iter = "
       ]
      },
      {
       "output_type": "stream",
       "stream": "stdout",
       "text": [
        " 42 , lhood =  -0.0401284359584 , pred =  0 , acc =  0.99245251721 , param =  [-1.29059232  0.0682091  -2.04639481]\n",
        "iter = "
       ]
      },
      {
       "output_type": "stream",
       "stream": "stdout",
       "text": [
        " 43 , lhood =  -0.0400497162752 , pred =  0 , acc =  0.99245251721 , param =  [-1.2962164   0.06999427 -2.05310873]\n",
        "iter = "
       ]
      },
      {
       "output_type": "stream",
       "stream": "stdout",
       "text": [
        " 44 , lhood =  -0.0399755244574 , pred =  0 , acc =  0.99245251721 , param =  [-1.30167142  0.07178096 -2.05961492]\n",
        "iter = "
       ]
      },
      {
       "output_type": "stream",
       "stream": "stdout",
       "text": [
        " 45 , lhood =  -0.0399055315029 , pred =  0 , acc =  0.99245251721 , param =  [-1.30696467  0.07356911 -2.06592259]\n",
        "iter = "
       ]
      },
      {
       "output_type": "stream",
       "stream": "stdout",
       "text": [
        " 46 , lhood =  -0.0398394372624 , pred =  0 , acc =  0.99245251721 , param =  [-1.31210299  0.07535865 -2.07204041]\n",
        "iter = "
       ]
      },
      {
       "output_type": "stream",
       "stream": "stdout",
       "text": [
        " 47 , lhood =  -0.0397769674372 , pred =  0 , acc =  0.99245251721 , param =  [-1.3170928   0.07714953 -2.0779765 ]\n",
        "iter = "
       ]
      },
      {
       "output_type": "stream",
       "stream": "stdout",
       "text": [
        " 48 , lhood =  -0.0397178709405 , pred =  0 , acc =  0.99245251721 , param =  [-1.32194018  0.07894169 -2.08373847]\n",
        "iter = "
       ]
      },
      {
       "output_type": "stream",
       "stream": "stdout",
       "text": [
        " 49 , lhood =  -0.0396619175706 , pred =  0 , acc =  0.99245251721 , param =  [-1.32665084  0.08073508 -2.08933353]\n",
        "iter = "
       ]
      },
      {
       "output_type": "stream",
       "stream": "stdout",
       "text": [
        " 50 , lhood =  -0.0396088959546 , pred =  0 , acc =  0.99245251721 , param =  [-1.33123016  0.08252964 -2.09476843]\n",
        "iter = "
       ]
      },
      {
       "output_type": "stream",
       "stream": "stdout",
       "text": [
        " 51 , lhood =  -0.0395586117274 , pred =  0 , acc =  0.99245251721 , param =  [-1.33568325  0.08432534 -2.10004956]\n",
        "iter = "
       ]
      },
      {
       "output_type": "stream",
       "stream": "stdout",
       "text": [
        " 52 , lhood =  -0.0395108859143 , pred =  0 , acc =  0.99245251721 , param =  [-1.34001492  0.08612213 -2.10518296]\n",
        "iter = "
       ]
      },
      {
       "output_type": "stream",
       "stream": "stdout",
       "text": [
        " 53 , lhood =  -0.0394655534926 , pred =  0 , acc =  0.99245251721 , param =  [-1.34422974  0.08791996 -2.11017432]\n",
        "iter = "
       ]
      },
      {
       "output_type": "stream",
       "stream": "stdout",
       "text": [
        " 54 , lhood =  -0.0394224621081 , pred =  0 , acc =  0.99245251721 , param =  [-1.34833204  0.08971881 -2.11502905]\n",
        "iter = "
       ]
      },
      {
       "output_type": "stream",
       "stream": "stdout",
       "text": [
        " 55 , lhood =  -0.0393814709292 , pred =  0 , acc =  0.99245251721 , param =  [-1.35232592  0.09151862 -2.11975226]\n",
        "iter = "
       ]
      },
      {
       "output_type": "stream",
       "stream": "stdout",
       "text": [
        " 56 , lhood =  -0.0393424496207 , pred =  0 , acc =  0.99245251721 , param =  [-1.35621527  0.09331936 -2.12434879]\n",
        "iter = "
       ]
      },
      {
       "output_type": "stream",
       "stream": "stdout",
       "text": [
        " 57 , lhood =  -0.0393052774234 , pred =  0 , acc =  0.99245251721 , param =  [-1.36000381  0.095121   -2.12882325]\n",
        "iter = "
       ]
      },
      {
       "output_type": "stream",
       "stream": "stdout",
       "text": [
        " 58 , lhood =  -0.0392698423273 , pred =  0 , acc =  0.99245251721 , param =  [-1.36369506  0.09692351 -2.13318   ]\n",
        "iter = "
       ]
      },
      {
       "output_type": "stream",
       "stream": "stdout",
       "text": [
        " 59 , lhood =  -0.0392360403267 , pred =  0 , acc =  0.99245251721 , param =  [-1.36729237  0.09872686 -2.13742322]\n",
        "iter = "
       ]
      },
      {
       "output_type": "stream",
       "stream": "stdout",
       "text": [
        " 60 , lhood =  -0.0392037747499 , pred =  0 , acc =  0.99245251721 , param =  [-1.37079895  0.10053101 -2.14155684]\n",
        "iter = "
       ]
      },
      {
       "output_type": "stream",
       "stream": "stdout",
       "text": [
        " 61 , lhood =  -0.0391729556528 , pred =  0 , acc =  0.99245251721 , param =  [-1.37421783  0.10233594 -2.14558464]\n",
        "iter = "
       ]
      },
      {
       "output_type": "stream",
       "stream": "stdout",
       "text": [
        " 62 , lhood =  -0.0391434992705 , pred =  0 , acc =  0.99245251721 , param =  [-1.37755193  0.10414162 -2.14951022]\n",
        "iter = "
       ]
      },
      {
       "output_type": "stream",
       "stream": "stdout",
       "text": [
        " 63 , lhood =  -0.0391153275212 , pred =  0 , acc =  0.99245251721 , param =  [-1.38080402  0.10594802 -2.15333698]\n",
        "iter = "
       ]
      },
      {
       "output_type": "stream",
       "stream": "stdout",
       "text": [
        " 64 , lhood =  -0.0390883675551 , pred =  0 , acc =  0.99245251721 , param =  [-1.38397677  0.10775513 -2.15706821]\n",
        "iter = "
       ]
      },
      {
       "output_type": "stream",
       "stream": "stdout",
       "text": [
        " 65 , lhood =  -0.0390625513457 , pred =  0 , acc =  0.99245251721 , param =  [-1.3870727   0.10956291 -2.16070702]\n",
        "iter = "
       ]
      },
      {
       "output_type": "stream",
       "stream": "stdout",
       "text": [
        " 66 , lhood =  -0.0390378153173 , pred =  0 , acc =  0.99245251721 , param =  [-1.39009425  0.11137134 -2.1642564 ]\n",
        "iter = "
       ]
      },
      {
       "output_type": "stream",
       "stream": "stdout",
       "text": [
        " 67 , lhood =  -0.0390141000055 , pred =  0 , acc =  0.99245251721 , param =  [-1.39304374  0.1131804  -2.16771921]\n",
        "iter = "
       ]
      },
      {
       "output_type": "stream",
       "stream": "stdout",
       "text": [
        " 68 , lhood =  -0.0389913497481 , pred =  0 , acc =  0.99245251721 , param =  [-1.3959234   0.11499008 -2.17109816]\n",
        "iter = "
       ]
      },
      {
       "output_type": "stream",
       "stream": "stdout",
       "text": [
        " 69 , lhood =  -0.0389695124023 , pred =  0 , acc =  0.99245251721 , param =  [-1.39873536  0.11680034 -2.17439589]\n",
        "iter = "
       ]
      },
      {
       "output_type": "stream",
       "stream": "stdout",
       "text": [
        " 70 , lhood =  -0.0389485390866 , pred =  0 , acc =  0.99245251721 , param =  [-1.40148168  0.11861118 -2.17761489]\n",
        "iter = "
       ]
      },
      {
       "output_type": "stream",
       "stream": "stdout",
       "text": [
        " 71 , lhood =  -0.038928383944 , pred =  0 , acc =  0.99245251721 , param =  [-1.40416431  0.12042257 -2.18075756]\n",
        "iter = "
       ]
      },
      {
       "output_type": "stream",
       "stream": "stdout",
       "text": [
        " 72 , lhood =  -0.038909003925 , pred =  0 , acc =  0.99245251721 , param =  [-1.40678515  0.12223449 -2.18382623]\n",
        "iter = "
       ]
      },
      {
       "output_type": "stream",
       "stream": "stdout",
       "text": [
        " 73 , lhood =  -0.038890358589 , pred =  0 , acc =  0.99245251721 , param =  [-1.409346    0.12404694 -2.18682308]\n",
        "iter = "
       ]
      },
      {
       "output_type": "stream",
       "stream": "stdout",
       "text": [
        " 74 , lhood =  -0.0388724099214 , pred =  0 , acc =  0.99245251721 , param =  [-1.41184861  0.12585988 -2.18975025]\n",
        "iter = "
       ]
      },
      {
       "output_type": "stream",
       "stream": "stdout",
       "text": [
        " 75 , lhood =  -0.0388551221655 , pred =  0 , acc =  0.99245251721 , param =  [-1.41429465  0.12767331 -2.19260979]\n",
        "iter = "
       ]
      },
      {
       "output_type": "stream",
       "stream": "stdout",
       "text": [
        " 76 , lhood =  -0.0388384616677 , pred =  0 , acc =  0.99245251721 , param =  [-1.41668575  0.12948721 -2.19540365]\n",
        "iter = "
       ]
      },
      {
       "output_type": "stream",
       "stream": "stdout",
       "text": [
        " 77 , lhood =  -0.0388223967352 , pred =  0 , acc =  0.99245251721 , param =  [-1.41902343  0.13130156 -2.19813371]\n",
        "iter = "
       ]
      },
      {
       "output_type": "stream",
       "stream": "stdout",
       "text": [
        " 78 , lhood =  -0.0388068975043 , pred =  0 , acc =  0.99245251721 , param =  [-1.42130922  0.13311636 -2.20080181]\n",
        "iter = "
       ]
      },
      {
       "output_type": "stream",
       "stream": "stdout",
       "text": [
        " 79 , lhood =  -0.0387919358192 , pred =  0 , acc =  0.99245251721 , param =  [-1.42354453  0.13493158 -2.20340967]\n",
        "iter = "
       ]
      },
      {
       "output_type": "stream",
       "stream": "stdout",
       "text": [
        " 80 , lhood =  -0.0387774851197 , pred =  0 , acc =  0.99245251721 , param =  [-1.42573076  0.13674722 -2.205959  ]\n",
        "iter = "
       ]
      },
      {
       "output_type": "stream",
       "stream": "stdout",
       "text": [
        " 81 , lhood =  -0.0387635203376 , pred =  0 , acc =  0.99245251721 , param =  [-1.42786925  0.13856326 -2.2084514 ]\n",
        "iter = "
       ]
      },
      {
       "output_type": "stream",
       "stream": "stdout",
       "text": [
        " 82 , lhood =  -0.0387500178006 , pred =  0 , acc =  0.99245251721 , param =  [-1.42996128  0.14037968 -2.21088844]\n",
        "iter = "
       ]
      },
      {
       "output_type": "stream",
       "stream": "stdout",
       "text": [
        " 83 , lhood =  -0.0387369551434 , pred =  0 , acc =  0.99245251721 , param =  [-1.43200811  0.14219649 -2.21327163]\n",
        "iter = "
       ]
      },
      {
       "output_type": "stream",
       "stream": "stdout",
       "text": [
        " 84 , lhood =  -0.0387243112252 , pred =  0 , acc =  0.99245251721 , param =  [-1.43401093  0.14401366 -2.21560243]\n",
        "iter = "
       ]
      },
      {
       "output_type": "stream",
       "stream": "stdout",
       "text": [
        " 85 , lhood =  -0.038712066053 , pred =  0 , acc =  0.99245251721 , param =  [-1.4359709   0.14583118 -2.21788223]\n",
        "iter = "
       ]
      },
      {
       "output_type": "stream",
       "stream": "stdout",
       "text": [
        " 86 , lhood =  -0.038700200711 , pred =  0 , acc =  0.99245251721 , param =  [-1.43788915  0.14764905 -2.2201124 ]\n",
        "iter = "
       ]
      },
      {
       "output_type": "stream",
       "stream": "stdout",
       "text": [
        " 87 , lhood =  -0.0386886972937 , pred =  0 , acc =  0.99245251721 , param =  [-1.43976677  0.14946725 -2.22229424]\n",
        "iter = "
       ]
      },
      {
       "output_type": "stream",
       "stream": "stdout",
       "text": [
        " 88 , lhood =  -0.0386775388454 , pred =  0 , acc =  0.99245251721 , param =  [-1.44160479  0.15128578 -2.22442901]\n",
        "iter = "
       ]
      },
      {
       "output_type": "stream",
       "stream": "stdout",
       "text": [
        " 89 , lhood =  -0.0386667093024 , pred =  0 , acc =  0.99245251721 , param =  [-1.44340423  0.15310462 -2.22651794]\n",
        "iter = "
       ]
      },
      {
       "output_type": "stream",
       "stream": "stdout",
       "text": [
        " 90 , lhood =  -0.0386561934398 , pred =  0 , acc =  0.99245251721 , param =  [-1.44516608  0.15492376 -2.22856221]\n",
        "iter = "
       ]
      },
      {
       "output_type": "stream",
       "stream": "stdout",
       "text": [
        " 91 , lhood =  -0.0386459768218 , pred =  0 , acc =  0.99245251721 , param =  [-1.44689127  0.15674319 -2.23056296]\n",
        "iter = "
       ]
      },
      {
       "output_type": "stream",
       "stream": "stdout",
       "text": [
        " 92 , lhood =  -0.0386360457556 , pred =  0 , acc =  0.99245251721 , param =  [-1.44858074  0.15856292 -2.2325213 ]\n",
        "iter = "
       ]
      },
      {
       "output_type": "stream",
       "stream": "stdout",
       "text": [
        " 93 , lhood =  -0.0386263872481 , pred =  0 , acc =  0.99245251721 , param =  [-1.45023536  0.16038292 -2.2344383 ]\n",
        "iter = "
       ]
      },
      {
       "output_type": "stream",
       "stream": "stdout",
       "text": [
        " 94 , lhood =  -0.0386169889652 , pred =  0 , acc =  0.99245251721 , param =  [-1.45185601  0.16220319 -2.23631498]\n",
        "iter = "
       ]
      },
      {
       "output_type": "stream",
       "stream": "stdout",
       "text": [
        " 95 , lhood =  -0.0386078391946 , pred =  0 , acc =  0.99245251721 , param =  [-1.45344351  0.16402372 -2.23815237]\n",
        "iter = "
       ]
      },
      {
       "output_type": "stream",
       "stream": "stdout",
       "text": [
        " 96 , lhood =  -0.03859892681 , pred =  0 , acc =  0.99245251721 , param =  [-1.45499867  0.1658445  -2.23995142]\n",
        "iter = "
       ]
      },
      {
       "output_type": "stream",
       "stream": "stdout",
       "text": [
        " 97 , lhood =  -0.0385902412382 , pred =  0 , acc =  0.99245251721 , param =  [-1.45652228  0.16766553 -2.24171308]\n",
        "iter = "
       ]
      },
      {
       "output_type": "stream",
       "stream": "stdout",
       "text": [
        " 98 , lhood =  -0.0385817724284 , pred =  0 , acc =  0.99245251721 , param =  [-1.4580151   0.16948679 -2.24343826]\n",
        "iter = "
       ]
      },
      {
       "output_type": "stream",
       "stream": "stdout",
       "text": [
        " 99 , lhood =  -0.038573510823 , pred =  0 , acc =  0.99245251721 , param =  [-1.45947787  0.17130829 -2.24512784]\n",
        "iter = "
       ]
      },
      {
       "output_type": "stream",
       "stream": "stdout",
       "text": [
        " 100 , lhood =  -0.0385654473305 , pred =  0 , acc =  0.99245251721 , param =  [-1.4609113   0.17313001 -2.24678269]\n",
        "iter = "
       ]
      },
      {
       "output_type": "stream",
       "stream": "stdout",
       "text": [
        " 101 , lhood =  -0.0385575733001 , pred =  0 , acc =  0.99245251721 , param =  [-1.46231608  0.17495194 -2.24840363]\n",
        "iter = "
       ]
      },
      {
       "output_type": "stream",
       "stream": "stdout",
       "text": [
        " 102 , lhood =  -0.0385498804977 , pred =  0 , acc =  0.99245251721 , param =  [-1.4636929   0.17677409 -2.24999148]\n",
        "iter = "
       ]
      },
      {
       "output_type": "stream",
       "stream": "stdout",
       "text": [
        " 103 , lhood =  -0.0385423610833 , pred =  0 , acc =  0.99245251721 , param =  [-1.4650424   0.17859644 -2.25154701]\n",
        "iter = "
       ]
      },
      {
       "output_type": "stream",
       "stream": "stdout",
       "text": [
        " 104 , lhood =  -0.0385350075905 , pred =  0 , acc =  0.99245251721 , param =  [-1.46636523  0.18041899 -2.25307099]\n",
        "iter = "
       ]
      },
      {
       "output_type": "stream",
       "stream": "stdout",
       "text": [
        " 105 , lhood =  -0.038527812906 , pred =  0 , acc =  0.99245251721 , param =  [-1.46766199  0.18224173 -2.25456415]\n",
        "iter = "
       ]
      },
      {
       "output_type": "stream",
       "stream": "stdout",
       "text": [
        " 106 , lhood =  -0.0385207702512 , pred =  0 , acc =  0.99245251721 , param =  [-1.4689333   0.18406466 -2.25602722]\n",
        "iter = "
       ]
      },
      {
       "output_type": "stream",
       "stream": "stdout",
       "text": [
        " 107 , lhood =  -0.038513873165 , pred =  0 , acc =  0.99245251721 , param =  [-1.47017972  0.18588776 -2.25746088]\n",
        "iter = "
       ]
      },
      {
       "output_type": "stream",
       "stream": "stdout",
       "text": [
        " 108 , lhood =  -0.0385071154868 , pred =  0 , acc =  0.99245251721 , param =  [-1.47140184  0.18771104 -2.25886582]\n",
        "iter = "
       ]
      },
      {
       "output_type": "stream",
       "stream": "stdout",
       "text": [
        " 109 , lhood =  -0.0385004913413 , pred =  0 , acc =  0.99245251721 , param =  [-1.4726002   0.18953449 -2.2602427 ]\n",
        "iter = "
       ]
      },
      {
       "output_type": "stream",
       "stream": "stdout",
       "text": [
        " 110 , lhood =  -0.0384939951237 , pred =  0 , acc =  0.99245251721 , param =  [-1.47377533  0.1913581  -2.26159215]\n",
        "iter = "
       ]
      },
      {
       "output_type": "stream",
       "stream": "stdout",
       "text": [
        " 111 , lhood =  -0.0384876214859 , pred =  0 , acc =  0.99245251721 , param =  [-1.47492777  0.19318187 -2.26291479]\n",
        "iter = "
       ]
      },
      {
       "output_type": "stream",
       "stream": "stdout",
       "text": [
        " 112 , lhood =  -0.0384813653235 , pred =  0 , acc =  0.99245251721 , param =  [-1.47605801  0.1950058  -2.26421123]\n",
        "iter = "
       ]
      },
      {
       "output_type": "stream",
       "stream": "stdout",
       "text": [
        " 113 , lhood =  -0.0384752217637 , pred =  0 , acc =  0.99245251721 , param =  [-1.47716655  0.19682987 -2.26548206]\n",
        "iter = "
       ]
      },
      {
       "output_type": "stream",
       "stream": "stdout",
       "text": [
        " 114 , lhood =  -0.0384691861535 , pred =  0 , acc =  0.99245251721 , param =  [-1.47825387  0.19865408 -2.26672786]\n",
        "iter = "
       ]
      },
      {
       "output_type": "stream",
       "stream": "stdout",
       "text": [
        " 115 , lhood =  -0.0384632540488 , pred =  0 , acc =  0.99245251721 , param =  [-1.47932043  0.20047844 -2.26794917]\n",
        "iter = "
       ]
      },
      {
       "output_type": "stream",
       "stream": "stdout",
       "text": [
        " 116 , lhood =  -0.0384574212041 , pred =  0 , acc =  0.99245251721 , param =  [-1.48036671  0.20230293 -2.26914654]\n",
        "iter = "
       ]
      },
      {
       "output_type": "stream",
       "stream": "stdout",
       "text": [
        " 117 , lhood =  -0.0384516835627 , pred =  0 , acc =  0.99245251721 , param =  [-1.48139312  0.20412754 -2.2703205 ]\n",
        "iter = "
       ]
      },
      {
       "output_type": "stream",
       "stream": "stdout",
       "text": [
        " 118 , lhood =  -0.0384460372475 , pred =  0 , acc =  0.99245251721 , param =  [-1.48240012  0.20595229 -2.27147155]\n",
        "iter = "
       ]
      },
      {
       "output_type": "stream",
       "stream": "stdout",
       "text": [
        " 119 , lhood =  -0.0384404785523 , pred =  0 , acc =  0.99245251721 , param =  [-1.48338812  0.20777715 -2.27260021]\n",
        "iter = "
       ]
      },
      {
       "output_type": "stream",
       "stream": "stdout",
       "text": [
        " 120 , lhood =  -0.0384350039335 , pred =  0 , acc =  0.99245251721 , param =  [-1.48435753  0.20960214 -2.27370696]\n",
        "iter = "
       ]
      },
      {
       "output_type": "stream",
       "stream": "stdout",
       "text": [
        " 121 , lhood =  -0.0384296100024 , pred =  0 , acc =  0.99245251721 , param =  [-1.48530874  0.21142723 -2.27479227]\n",
        "iter = "
       ]
      },
      {
       "output_type": "stream",
       "stream": "stdout",
       "text": [
        " 122 , lhood =  -0.0384242935174 , pred =  0 , acc =  0.99245251721 , param =  [-1.48624215  0.21325244 -2.27585661]\n",
        "iter = "
       ]
      },
      {
       "output_type": "stream",
       "stream": "stdout",
       "text": [
        " 123 , lhood =  -0.0384190513775 , pred =  0 , acc =  0.99245251721 , param =  [-1.48715815  0.21507775 -2.27690042]\n",
        "iter = "
       ]
      },
      {
       "output_type": "stream",
       "stream": "stdout",
       "text": [
        " 124 , lhood =  -0.0384138806155 , pred =  0 , acc =  0.99245251721 , param =  [-1.48805708  0.21690316 -2.27792415]\n",
        "iter = "
       ]
      },
      {
       "output_type": "stream",
       "stream": "stdout",
       "text": [
        " 125 , lhood =  -0.0384087783915 , pred =  0 , acc =  0.99245251721 , param =  [-1.48893933  0.21872868 -2.27892822]\n",
        "iter = "
       ]
      },
      {
       "output_type": "stream",
       "stream": "stdout",
       "text": [
        " 126 , lhood =  -0.0384037419872 , pred =  0 , acc =  0.99245251721 , param =  [-1.48980524  0.22055428 -2.27991305]\n",
        "iter = "
       ]
      },
      {
       "output_type": "stream",
       "stream": "stdout",
       "text": [
        " 127 , lhood =  -0.0383987688 , pred =  0 , acc =  0.99245251721 , param =  [-1.49065515  0.22237998 -2.28087905]\n",
        "iter = "
       ]
      },
      {
       "output_type": "stream",
       "stream": "stdout",
       "text": [
        " 128 , lhood =  -0.0383938563379 , pred =  0 , acc =  0.99245251721 , param =  [-1.4914894   0.22420576 -2.28182661]\n",
        "iter = "
       ]
      },
      {
       "output_type": "stream",
       "stream": "stdout",
       "text": [
        " 129 , lhood =  -0.0383890022141 , pred =  0 , acc =  0.99245251721 , param =  [-1.49230831  0.22603163 -2.28275613]\n",
        "iter = "
       ]
      },
      {
       "output_type": "stream",
       "stream": "stdout",
       "text": [
        " 130 , lhood =  -0.0383842041425 , pred =  0 , acc =  0.99245251721 , param =  [-1.49311221  0.22785759 -2.28366797]\n",
        "iter = "
       ]
      },
      {
       "output_type": "stream",
       "stream": "stdout",
       "text": [
        " 131 , lhood =  -0.0383794599329 , pred =  0 , acc =  0.99245251721 , param =  [-1.4939014   0.22968361 -2.28456251]\n",
        "iter = "
       ]
      },
      {
       "output_type": "stream",
       "stream": "stdout",
       "text": [
        " 132 , lhood =  -0.0383747674867 , pred =  0 , acc =  0.99245251721 , param =  [-1.49467619  0.23150972 -2.28544011]\n",
        "iter = "
       ]
      },
      {
       "output_type": "stream",
       "stream": "stdout",
       "text": [
        " 133 , lhood =  -0.0383701247926 , pred =  0 , acc =  0.99245251721 , param =  [-1.49543687  0.23333589 -2.28630111]\n",
        "iter = "
       ]
      },
      {
       "output_type": "stream",
       "stream": "stdout",
       "text": [
        " 134 , lhood =  -0.0383655299229 , pred =  0 , acc =  0.99245251721 , param =  [-1.49618374  0.23516214 -2.28714586]\n",
        "iter = "
       ]
      },
      {
       "output_type": "stream",
       "stream": "stdout",
       "text": [
        " 135 , lhood =  -0.0383609810298 , pred =  0 , acc =  0.99245251721 , param =  [-1.49691707  0.23698845 -2.2879747 ]\n",
        "iter = "
       ]
      },
      {
       "output_type": "stream",
       "stream": "stdout",
       "text": [
        " 136 , lhood =  -0.0383564763415 , pred =  0 , acc =  0.99245251721 , param =  [-1.49763714  0.23881482 -2.28878795]\n",
        "iter = "
       ]
      },
      {
       "output_type": "stream",
       "stream": "stdout",
       "text": [
        " 137 , lhood =  -0.038352014159 , pred =  0 , acc =  0.99245251721 , param =  [-1.49834423  0.24064126 -2.28958593]\n",
        "iter = "
       ]
      },
      {
       "output_type": "stream",
       "stream": "stdout",
       "text": [
        " 138 , lhood =  -0.038347592853 , pred =  0 , acc =  0.99245251721 , param =  [-1.49903859  0.24246775 -2.29036894]\n",
        "iter = "
       ]
      },
      {
       "output_type": "stream",
       "stream": "stdout",
       "text": [
        " 139 , lhood =  -0.0383432108607 , pred =  0 , acc =  0.99245251721 , param =  [-1.49972048  0.2442943  -2.2911373 ]\n",
        "iter = "
       ]
      },
      {
       "output_type": "stream",
       "stream": "stdout",
       "text": [
        " 140 , lhood =  -0.038338866683 , pred =  0 , acc =  0.99245251721 , param =  [-1.50039015  0.2461209  -2.2918913 ]\n",
        "iter = "
       ]
      },
      {
       "output_type": "stream",
       "stream": "stdout",
       "text": [
        " 141 , lhood =  -0.0383345588813 , pred =  0 , acc =  0.99245251721 , param =  [-1.50104785  0.24794755 -2.29263124]\n",
        "iter = "
       ]
      },
      {
       "output_type": "stream",
       "stream": "stdout",
       "text": [
        " 142 , lhood =  -0.0383302860755 , pred =  0 , acc =  0.99245251721 , param =  [-1.50169382  0.24977425 -2.29335738]\n",
        "iter = "
       ]
      },
      {
       "output_type": "stream",
       "stream": "stdout",
       "text": [
        " 143 , lhood =  -0.0383260469412 , pred =  0 , acc =  0.99245251721 , param =  [-1.50232829  0.25160099 -2.29407001]\n",
        "iter = "
       ]
      },
      {
       "output_type": "stream",
       "stream": "stdout",
       "text": [
        " 144 , lhood =  -0.0383218402069 , pred =  0 , acc =  0.99245251721 , param =  [-1.50295148  0.25342778 -2.29476941]\n",
        "iter = "
       ]
      },
      {
       "output_type": "stream",
       "stream": "stdout",
       "text": [
        " 145 , lhood =  -0.0383176646524 , pred =  0 , acc =  0.99245251721 , param =  [-1.50356364  0.25525461 -2.29545583]\n",
        "iter = "
       ]
      },
      {
       "output_type": "stream",
       "stream": "stdout",
       "text": [
        " 146 , lhood =  -0.0383135191061 , pred =  0 , acc =  0.99245251721 , param =  [-1.50416497  0.25708147 -2.29612953]\n",
        "iter = "
       ]
      },
      {
       "output_type": "stream",
       "stream": "stdout",
       "text": [
        " 147 , lhood =  -0.0383094024432 , pred =  0 , acc =  0.99245251721 , param =  [-1.50475568  0.25890837 -2.29679077]\n",
        "iter = "
       ]
      },
      {
       "output_type": "stream",
       "stream": "stdout",
       "text": [
        " 148 , lhood =  -0.0383053135835 , pred =  0 , acc =  0.99245251721 , param =  [-1.50533599  0.26073531 -2.29743979]\n",
        "iter = "
       ]
      },
      {
       "output_type": "stream",
       "stream": "stdout",
       "text": [
        " 149 , lhood =  -0.0383012514898 , pred =  0 , acc =  0.99245251721 , param =  [-1.5059061   0.26256227 -2.29807684]\n",
        "iter = "
       ]
      },
      {
       "output_type": "stream",
       "stream": "stdout",
       "text": [
        " 150 , lhood =  -0.0382972151658 , pred =  0 , acc =  0.99245251721 , param =  [-1.50646621  0.26438927 -2.29870214]\n",
        "iter = "
       ]
      },
      {
       "output_type": "stream",
       "stream": "stdout",
       "text": [
        " 151 , lhood =  -0.0382932036545 , pred =  0 , acc =  0.99245251721 , param =  [-1.50701652  0.26621629 -2.29931593]\n",
        "iter = "
       ]
      },
      {
       "output_type": "stream",
       "stream": "stdout",
       "text": [
        " 152 , lhood =  -0.0382892160364 , pred =  0 , acc =  0.99245251721 , param =  [-1.50755722  0.26804334 -2.29991844]\n",
        "iter = "
       ]
      },
      {
       "output_type": "stream",
       "stream": "stdout",
       "text": [
        " 153 , lhood =  -0.0382852514283 , pred =  0 , acc =  0.99245251721 , param =  [-1.50808849  0.26987041 -2.30050989]\n",
        "iter = "
       ]
      },
      {
       "output_type": "stream",
       "stream": "stdout",
       "text": [
        " 154 , lhood =  -0.0382813089815 , pred =  0 , acc =  0.99245251721 , param =  [-1.50861052  0.27169751 -2.30109049]\n",
        "iter = "
       ]
      },
      {
       "output_type": "stream",
       "stream": "stdout",
       "text": [
        " 155 , lhood =  -0.0382773878804 , pred =  0 , acc =  0.99245251721 , param =  [-1.50912349  0.27352462 -2.30166045]\n",
        "iter = "
       ]
      },
      {
       "output_type": "stream",
       "stream": "stdout",
       "text": [
        " 156 , lhood =  -0.038273487341 , pred =  0 , acc =  0.99245251721 , param =  [-1.50962758  0.27535175 -2.30221998]\n",
        "iter = "
       ]
      },
      {
       "output_type": "stream",
       "stream": "stdout",
       "text": [
        " 157 , lhood =  -0.0382696066102 , pred =  0 , acc =  0.99245251721 , param =  [-1.51012294  0.2771789  -2.30276929]\n",
        "iter = "
       ]
      },
      {
       "output_type": "stream",
       "stream": "stdout",
       "text": [
        " 158 , lhood =  -0.0382657449635 , pred =  0 , acc =  0.99245251721 , param =  [-1.51060976  0.27900606 -2.30330856]\n",
        "iter = "
       ]
      },
      {
       "output_type": "stream",
       "stream": "stdout",
       "text": [
        " 159 , lhood =  -0.0382619017049 , pred =  0 , acc =  0.99245251721 , param =  [-1.5110882   0.28083323 -2.303838  ]\n",
        "iter = "
       ]
      },
      {
       "output_type": "stream",
       "stream": "stdout",
       "text": [
        " 160 , lhood =  -0.0382580761651 , pred =  0 , acc =  0.99245251721 , param =  [-1.51155841  0.28266042 -2.30435779]\n",
        "iter = "
       ]
      },
      {
       "output_type": "stream",
       "stream": "stdout",
       "text": [
        " 161 , lhood =  -0.0382542677005 , pred =  0 , acc =  0.99245251721 , param =  [-1.51202056  0.28448761 -2.30486811]\n",
        "iter = "
       ]
      },
      {
       "output_type": "stream",
       "stream": "stdout",
       "text": [
        " 162 , lhood =  -0.0382504756922 , pred =  0 , acc =  0.99245251721 , param =  [-1.5124748   0.28631481 -2.30536916]\n",
        "iter = "
       ]
      },
      {
       "output_type": "stream",
       "stream": "stdout",
       "text": [
        " 163 , lhood =  -0.0382466995453 , pred =  0 , acc =  0.99245251721 , param =  [-1.51292128  0.28814202 -2.30586111]\n",
        "iter = "
       ]
      },
      {
       "output_type": "stream",
       "stream": "stdout",
       "text": [
        " 164 , lhood =  -0.0382429386872 , pred =  0 , acc =  0.99245251721 , param =  [-1.51336015  0.28996923 -2.30634412]\n",
        "iter = "
       ]
      },
      {
       "output_type": "stream",
       "stream": "stdout",
       "text": [
        " 165 , lhood =  -0.0382391925675 , pred =  0 , acc =  0.99245251721 , param =  [-1.51379155  0.29179645 -2.30681838]\n",
        "iter = "
       ]
      },
      {
       "output_type": "stream",
       "stream": "stdout",
       "text": [
        " 166 , lhood =  -0.0382354606567 , pred =  0 , acc =  0.99245251721 , param =  [-1.51421562  0.29362366 -2.30728404]\n",
        "iter = "
       ]
      },
      {
       "output_type": "stream",
       "stream": "stdout",
       "text": [
        " 167 , lhood =  -0.0382317424455 , pred =  0 , acc =  0.99245251721 , param =  [-1.51463251  0.29545088 -2.30774127]\n",
        "iter = "
       ]
      },
      {
       "output_type": "stream",
       "stream": "stdout",
       "text": [
        " 168 , lhood =  -0.0382280374436 , pred =  0 , acc =  0.99245251721 , param =  [-1.51504235  0.29727809 -2.30819024]\n",
        "iter = "
       ]
      },
      {
       "output_type": "stream",
       "stream": "stdout",
       "text": [
        " 169 , lhood =  -0.0382243451797 , pred =  0 , acc =  0.99245251721 , param =  [-1.51544527  0.2991053  -2.30863109]\n",
        "iter = "
       ]
      },
      {
       "output_type": "stream",
       "stream": "stdout",
       "text": [
        " 170 , lhood =  -0.0382206652 , pred =  0 , acc =  0.99245251721 , param =  [-1.5158414   0.30093251 -2.30906398]\n",
        "iter = "
       ]
      },
      {
       "output_type": "stream",
       "stream": "stdout",
       "text": [
        " 171 , lhood =  -0.038216997068 , pred =  0 , acc =  0.99245251721 , param =  [-1.51623087  0.30275971 -2.30948906]\n",
        "iter = "
       ]
      },
      {
       "output_type": "stream",
       "stream": "stdout",
       "text": [
        " 172 , lhood =  -0.0382133403636 , pred =  0 , acc =  0.99245251721 , param =  [-1.51661381  0.3045869  -2.30990648]\n",
        "iter = "
       ]
      },
      {
       "output_type": "stream",
       "stream": "stdout",
       "text": [
        " 173 , lhood =  -0.0382096946824 , pred =  0 , acc =  0.99245251721 , param =  [-1.51699034  0.30641408 -2.31031638]\n",
        "iter = "
       ]
      },
      {
       "output_type": "stream",
       "stream": "stdout",
       "text": [
        " 174 , lhood =  -0.0382060596352 , pred =  0 , acc =  0.99245251721 , param =  [-1.51736057  0.30824126 -2.3107189 ]\n",
        "iter = "
       ]
      },
      {
       "output_type": "stream",
       "stream": "stdout",
       "text": [
        " 175 , lhood =  -0.0382024348475 , pred =  0 , acc =  0.99245251721 , param =  [-1.51772463  0.31006842 -2.31111418]\n",
        "iter = "
       ]
      },
      {
       "output_type": "stream",
       "stream": "stdout",
       "text": [
        " 176 , lhood =  -0.0381988199587 , pred =  0 , acc =  0.99245251721 , param =  [-1.51808263  0.31189557 -2.31150235]\n",
        "iter = "
       ]
      },
      {
       "output_type": "stream",
       "stream": "stdout",
       "text": [
        " 177 , lhood =  -0.0381952146217 , pred =  0 , acc =  0.99245251721 , param =  [-1.51843468  0.3137227  -2.31188356]\n",
        "iter = "
       ]
      },
      {
       "output_type": "stream",
       "stream": "stdout",
       "text": [
        " 178 , lhood =  -0.0381916185023 , pred =  0 , acc =  0.99245251721 , param =  [-1.5187809   0.31554982 -2.31225792]\n",
        "iter = "
       ]
      },
      {
       "output_type": "stream",
       "stream": "stdout",
       "text": [
        " 179 , lhood =  -0.0381880312789 , pred =  0 , acc =  0.99245251721 , param =  [-1.51912139  0.31737693 -2.31262557]\n",
        "iter = "
       ]
      },
      {
       "output_type": "stream",
       "stream": "stdout",
       "text": [
        " 180 , lhood =  -0.0381844526415 , pred =  0 , acc =  0.99245251721 , param =  [-1.51945626  0.31920401 -2.31298662]\n",
        "iter = "
       ]
      },
      {
       "output_type": "stream",
       "stream": "stdout",
       "text": [
        " 181 , lhood =  -0.038180882292 , pred =  0 , acc =  0.99245251721 , param =  [-1.51978561  0.32103108 -2.31334121]\n",
        "iter = "
       ]
      },
      {
       "output_type": "stream",
       "stream": "stdout",
       "text": [
        " 182 , lhood =  -0.038177319943 , pred =  0 , acc =  0.99245251721 , param =  [-1.52010955  0.32285813 -2.31368945]\n",
        "iter = "
       ]
      },
      {
       "output_type": "stream",
       "stream": "stdout",
       "text": [
        " 183 , lhood =  -0.038173765318 , pred =  0 , acc =  0.99245251721 , param =  [-1.52042817  0.32468516 -2.31403146]\n",
        "iter = "
       ]
      },
      {
       "output_type": "stream",
       "stream": "stdout",
       "text": [
        " 184 , lhood =  -0.0381702181505 , pred =  0 , acc =  0.99245251721 , param =  [-1.52074158  0.32651216 -2.31436736]\n",
        "iter = "
       ]
      },
      {
       "output_type": "stream",
       "stream": "stdout",
       "text": [
        " 185 , lhood =  -0.0381666781841 , pred =  0 , acc =  0.99245251721 , param =  [-1.52104986  0.32833915 -2.31469725]\n",
        "iter = "
       ]
      },
      {
       "output_type": "stream",
       "stream": "stdout",
       "text": [
        " 186 , lhood =  -0.0381631451714 , pred =  0 , acc =  0.99245251721 , param =  [-1.52135312  0.33016611 -2.31502125]\n",
        "iter = "
       ]
      },
      {
       "output_type": "stream",
       "stream": "stdout",
       "text": [
        " 187 , lhood =  -0.0381596188746 , pred =  0 , acc =  0.99245251721 , param =  [-1.52165145  0.33199304 -2.31533947]\n",
        "iter = "
       ]
      },
      {
       "output_type": "stream",
       "stream": "stdout",
       "text": [
        " 188 , lhood =  -0.0381560990643 , pred =  0 , acc =  0.99245251721 , param =  [-1.52194493  0.33381995 -2.315652  ]\n",
        "iter = "
       ]
      },
      {
       "output_type": "stream",
       "stream": "stdout",
       "text": [
        " 189 , lhood =  -0.0381525855196 , pred =  0 , acc =  0.99245251721 , param =  [-1.52223366  0.33564683 -2.31595897]\n",
        "iter = "
       ]
      },
      {
       "output_type": "stream",
       "stream": "stdout",
       "text": [
        " 190 , lhood =  -0.0381490780277 , pred =  0 , acc =  0.99245251721 , param =  [-1.52251772  0.33747368 -2.31626046]\n",
        "iter = "
       ]
      },
      {
       "output_type": "stream",
       "stream": "stdout",
       "text": [
        " 191 , lhood =  -0.0381455763836 , pred =  0 , acc =  0.99245251721 , param =  [-1.5227972   0.3393005  -2.31655659]\n",
        "iter = "
       ]
      },
      {
       "output_type": "stream",
       "stream": "stdout",
       "text": [
        " 192 , lhood =  -0.0381420803898 , pred =  0 , acc =  0.99245251721 , param =  [-1.52307219  0.3411273  -2.31684744]\n",
        "iter = "
       ]
      },
      {
       "output_type": "stream",
       "stream": "stdout",
       "text": [
        " 193 , lhood =  -0.0381385898559 , pred =  0 , acc =  0.99245251721 , param =  [-1.52334275  0.34295406 -2.31713311]\n",
        "iter = "
       ]
      },
      {
       "output_type": "stream",
       "stream": "stdout",
       "text": [
        " 194 , lhood =  -0.0381351045986 , pred =  0 , acc =  0.99245251721 , param =  [-1.52360898  0.34478079 -2.3174137 ]\n",
        "iter = "
       ]
      },
      {
       "output_type": "stream",
       "stream": "stdout",
       "text": [
        " 195 , lhood =  -0.0381316244412 , pred =  0 , acc =  0.99245251721 , param =  [-1.52387096  0.34660749 -2.3176893 ]\n",
        "iter = "
       ]
      },
      {
       "output_type": "stream",
       "stream": "stdout",
       "text": [
        " 196 , lhood =  -0.0381281492132 , pred =  0 , acc =  0.99245251721 , param =  [-1.52412875  0.34843415 -2.31796   ]\n",
        "iter = "
       ]
      },
      {
       "output_type": "stream",
       "stream": "stdout",
       "text": [
        " 197 , lhood =  -0.0381246787508 , pred =  0 , acc =  0.99245251721 , param =  [-1.52438244  0.35026078 -2.3182259 ]\n",
        "iter = "
       ]
      },
      {
       "output_type": "stream",
       "stream": "stdout",
       "text": [
        " 198 , lhood =  -0.0381212128957 , pred =  0 , acc =  0.99245251721 , param =  [-1.52463211  0.35208737 -2.31848707]\n",
        "iter = "
       ]
      },
      {
       "output_type": "stream",
       "stream": "stdout",
       "text": [
        " 199 , lhood =  -0.0381177514955 , pred =  0 , acc =  0.99245251721 , param =  [-1.52487782  0.35391393 -2.3187436 ]\n",
        "iter = "
       ]
      },
      {
       "output_type": "stream",
       "stream": "stdout",
       "text": [
        " 200 , lhood =  -0.0381142944033 , pred =  0 , acc =  0.99245251721 , param =  [-1.52511964  0.35574045 -2.31899558]\n",
        "iter = "
       ]
      },
      {
       "output_type": "stream",
       "stream": "stdout",
       "text": [
        " 201 , lhood =  -0.0381108414775 , pred =  0 , acc =  0.99245251721 , param =  [-1.52535766  0.35756694 -2.31924309]\n",
        "iter = "
       ]
      },
      {
       "output_type": "stream",
       "stream": "stdout",
       "text": [
        " 202 , lhood =  -0.0381073925816 , pred =  0 , acc =  0.99245251721 , param =  [-1.52559192  0.35939338 -2.31948621]\n",
        "iter = "
       ]
      },
      {
       "output_type": "stream",
       "stream": "stdout",
       "text": [
        " 203 , lhood =  -0.0381039475841 , pred =  0 , acc =  0.99245251721 , param =  [-1.52582252  0.36121978 -2.31972502]\n",
        "iter = "
       ]
      },
      {
       "output_type": "stream",
       "stream": "stdout",
       "text": [
        " 204 , lhood =  -0.0381005063582 , pred =  0 , acc =  0.99245251721 , param =  [-1.5260495   0.36304615 -2.3199596 ]\n",
        "iter = "
       ]
      },
      {
       "output_type": "stream",
       "stream": "stdout",
       "text": [
        " 205 , lhood =  -0.0380970687816 , pred =  0 , acc =  0.99245251721 , param =  [-1.52627294  0.36487247 -2.32019002]\n",
        "iter = "
       ]
      },
      {
       "output_type": "stream",
       "stream": "stdout",
       "text": [
        " 206 , lhood =  -0.0380936347364 , pred =  0 , acc =  0.99245251721 , param =  [-1.52649289  0.36669875 -2.32041636]\n",
        "iter = "
       ]
      },
      {
       "output_type": "stream",
       "stream": "stdout",
       "text": [
        " 207 , lhood =  -0.0380902041091 , pred =  0 , acc =  0.99245251721 , param =  [-1.52670943  0.36852499 -2.32063869]\n",
        "iter = "
       ]
      },
      {
       "output_type": "stream",
       "stream": "stdout",
       "text": [
        " 208 , lhood =  -0.0380867767902 , pred =  0 , acc =  0.99245251721 , param =  [-1.52692261  0.37035119 -2.32085709]\n",
        "iter = "
       ]
      },
      {
       "output_type": "stream",
       "stream": "stdout",
       "text": [
        " 209 , lhood =  -0.038083352674 , pred =  0 , acc =  0.99245251721 , param =  [-1.5271325   0.37217734 -2.32107162]\n",
        "iter = "
       ]
      },
      {
       "output_type": "stream",
       "stream": "stdout",
       "text": [
        " 210 , lhood =  -0.0380799316587 , pred =  0 , acc =  0.99245251721 , param =  [-1.52733914  0.37400344 -2.32128235]\n",
        "iter = "
       ]
      },
      {
       "output_type": "stream",
       "stream": "stdout",
       "text": [
        " 211 , lhood =  -0.0380765136461 , pred =  0 , acc =  0.99245251721 , param =  [-1.52754261  0.37582951 -2.32148936]\n",
        "iter = "
       ]
      },
      {
       "output_type": "stream",
       "stream": "stdout",
       "text": [
        " 212 , lhood =  -0.0380730985417 , pred =  0 , acc =  0.99245251721 , param =  [-1.52774296  0.37765552 -2.3216927 ]\n",
        "iter = "
       ]
      },
      {
       "output_type": "stream",
       "stream": "stdout",
       "text": [
        " 213 , lhood =  -0.0380696862541 , pred =  0 , acc =  0.99245251721 , param =  [-1.52794024  0.37948149 -2.32189245]\n",
        "iter = "
       ]
      },
      {
       "output_type": "stream",
       "stream": "stdout",
       "text": [
        " 214 , lhood =  -0.0380662766953 , pred =  0 , acc =  0.99245251721 , param =  [-1.52813451  0.38130741 -2.32208867]\n",
        "iter = "
       ]
      },
      {
       "output_type": "stream",
       "stream": "stdout",
       "text": [
        " 215 , lhood =  -0.0380628697804 , pred =  0 , acc =  0.99245251721 , param =  [-1.52832582  0.38313328 -2.32228142]\n",
        "iter = "
       ]
      },
      {
       "output_type": "stream",
       "stream": "stdout",
       "text": [
        " 216 , lhood =  -0.0380594654277 , pred =  0 , acc =  0.99245251721 , param =  [-1.52851423  0.38495911 -2.32247076]\n",
        "iter = "
       ]
      },
      {
       "output_type": "stream",
       "stream": "stdout",
       "text": [
        " 217 , lhood =  -0.0380560635581 , pred =  0 , acc =  0.99245251721 , param =  [-1.52869979  0.38678488 -2.32265676]\n",
        "iter = "
       ]
      },
      {
       "output_type": "stream",
       "stream": "stdout",
       "text": [
        " 218 , lhood =  -0.0380526640956 , pred =  0 , acc =  0.99245251721 , param =  [-1.52888255  0.38861061 -2.32283947]\n",
        "iter = "
       ]
      },
      {
       "output_type": "stream",
       "stream": "stdout",
       "text": [
        " 219 , lhood =  -0.0380492669668 , pred =  0 , acc =  0.99245251721 , param =  [-1.52906255  0.39043628 -2.32301896]\n",
        "iter = "
       ]
      },
      {
       "output_type": "stream",
       "stream": "stdout",
       "text": [
        " 220 , lhood =  -0.0380458721009 , pred =  0 , acc =  0.99245251721 , param =  [-1.52923986  0.3922619  -2.32319527]\n",
        "iter = "
       ]
      },
      {
       "output_type": "stream",
       "stream": "stdout",
       "text": [
        " 221 , lhood =  -0.0380424794295 , pred =  0 , acc =  0.99245251721 , param =  [-1.52941451  0.39408748 -2.32336847]\n",
        "iter = "
       ]
      },
      {
       "output_type": "stream",
       "stream": "stdout",
       "text": [
        " 222 , lhood =  -0.038039088887 , pred =  0 , acc =  0.99245251721 , param =  [-1.52958655  0.395913   -2.32353862]\n",
        "iter = "
       ]
      },
      {
       "output_type": "stream",
       "stream": "stdout",
       "text": [
        " 223 , lhood =  -0.0380357004096 , pred =  0 , acc =  0.99245251721 , param =  [-1.52975603  0.39773846 -2.32370575]\n",
        "iter = "
       ]
      },
      {
       "output_type": "stream",
       "stream": "stdout",
       "text": [
        " 224 , lhood =  -0.0380323139364 , pred =  0 , acc =  0.99245251721 , param =  [-1.529923    0.39956387 -2.32386994]\n",
        "iter = "
       ]
      },
      {
       "output_type": "stream",
       "stream": "stdout",
       "text": [
        " 225 , lhood =  -0.038028929408 , pred =  0 , acc =  0.99245251721 , param =  [-1.5300875   0.40138923 -2.32403123]\n",
        "iter = "
       ]
      },
      {
       "output_type": "stream",
       "stream": "stdout",
       "text": [
        " 226 , lhood =  -0.0380255467675 , pred =  0 , acc =  0.99245251721 , param =  [-1.53024957  0.40321454 -2.32418968]\n",
        "iter = "
       ]
      },
      {
       "output_type": "stream",
       "stream": "stdout",
       "text": [
        " 227 , lhood =  -0.03802216596 , pred =  0 , acc =  0.99245251721 , param =  [-1.53040926  0.40503978 -2.32434532]\n",
        "iter = "
       ]
      },
      {
       "output_type": "stream",
       "stream": "stdout",
       "text": [
        " 228 , lhood =  -0.0380187869324 , pred =  0 , acc =  0.99245251721 , param =  [-1.53056661  0.40686498 -2.32449822]\n",
        "iter = "
       ]
      },
      {
       "output_type": "stream",
       "stream": "stdout",
       "text": [
        " 229 , lhood =  -0.0380154096336 , pred =  0 , acc =  0.99245251721 , param =  [-1.53072166  0.40869011 -2.32464842]\n",
        "iter = "
       ]
      },
      {
       "output_type": "stream",
       "stream": "stdout",
       "text": [
        " 230 , lhood =  -0.0380120340143 , pred =  0 , acc =  0.99245251721 , param =  [-1.53087446  0.41051519 -2.32479597]\n",
        "iter = "
       ]
      },
      {
       "output_type": "stream",
       "stream": "stdout",
       "text": [
        " 231 , lhood =  -0.0380086600269 , pred =  0 , acc =  0.99245251721 , param =  [-1.53102503  0.41234022 -2.32494092]\n",
        "iter = "
       ]
      },
      {
       "output_type": "stream",
       "stream": "stdout",
       "text": [
        " 232 , lhood =  -0.0380052876253 , pred =  0 , acc =  0.99245251721 , param =  [-1.53117343  0.41416518 -2.32508331]\n",
        "iter = "
       ]
      },
      {
       "output_type": "stream",
       "stream": "stdout",
       "text": [
        " 233 , lhood =  -0.0380019167655 , pred =  0 , acc =  0.99245251721 , param =  [-1.53131969  0.41599009 -2.32522319]\n",
        "iter = "
       ]
      },
      {
       "output_type": "stream",
       "stream": "stdout",
       "text": [
        " 234 , lhood =  -0.0379985474046 , pred =  0 , acc =  0.99245251721 , param =  [-1.53146384  0.41781493 -2.32536059]\n",
        "iter = "
       ]
      },
      {
       "output_type": "stream",
       "stream": "stdout",
       "text": [
        " 235 , lhood =  -0.0379951795014 , pred =  0 , acc =  0.99245251721 , param =  [-1.53160593  0.41963972 -2.32549558]\n",
        "iter = "
       ]
      },
      {
       "output_type": "stream",
       "stream": "stdout",
       "text": [
        " 236 , lhood =  -0.0379918130162 , pred =  0 , acc =  0.99245251721 , param =  [-1.531746    0.42146445 -2.32562818]\n",
        "iter = "
       ]
      },
      {
       "output_type": "stream",
       "stream": "stdout",
       "text": [
        " 237 , lhood =  -0.0379884479105 , pred =  0 , acc =  0.99245251721 , param =  [-1.53188407  0.42328912 -2.32575844]\n",
        "iter = "
       ]
      },
      {
       "output_type": "stream",
       "stream": "stdout",
       "text": [
        " 238 , lhood =  -0.0379850841475 , pred =  0 , acc =  0.99245251721 , param =  [-1.53202018  0.42511373 -2.3258864 ]\n",
        "iter = "
       ]
      },
      {
       "output_type": "stream",
       "stream": "stdout",
       "text": [
        " 239 , lhood =  -0.0379817216914 , pred =  0 , acc =  0.99245251721 , param =  [-1.53215437  0.42693827 -2.3260121 ]\n",
        "iter = "
       ]
      },
      {
       "output_type": "stream",
       "stream": "stdout",
       "text": [
        " 240 , lhood =  -0.0379783605077 , pred =  0 , acc =  0.99245251721 , param =  [-1.53228667  0.42876276 -2.32613558]\n",
        "iter = "
       ]
      },
      {
       "output_type": "stream",
       "stream": "stdout",
       "text": [
        " 241 , lhood =  -0.0379750005632 , pred =  0 , acc =  0.99245251721 , param =  [-1.53241712  0.43058718 -2.32625689]\n",
        "iter = "
       ]
      },
      {
       "output_type": "stream",
       "stream": "stdout",
       "text": [
        " 242 , lhood =  -0.0379716418259 , pred =  0 , acc =  0.99245251721 , param =  [-1.53254575  0.43241154 -2.32637605]\n",
        "iter = "
       ]
      },
      {
       "output_type": "stream",
       "stream": "stdout",
       "text": [
        " 243 , lhood =  -0.0379682842648 , pred =  0 , acc =  0.99245251721 , param =  [-1.53267258  0.43423584 -2.32649311]\n",
        "iter = "
       ]
      },
      {
       "output_type": "stream",
       "stream": "stdout",
       "text": [
        " 244 , lhood =  -0.0379649278501 , pred =  0 , acc =  0.99245251721 , param =  [-1.53279766  0.43606007 -2.3266081 ]\n",
        "iter = "
       ]
      },
      {
       "output_type": "stream",
       "stream": "stdout",
       "text": [
        " 245 , lhood =  -0.037961572553 , pred =  0 , acc =  0.99245251721 , param =  [-1.53292101  0.43788424 -2.32672106]\n",
        "iter = "
       ]
      },
      {
       "output_type": "stream",
       "stream": "stdout",
       "text": [
        " 246 , lhood =  -0.0379582183458 , pred =  0 , acc =  0.99245251721 , param =  [-1.53304266  0.43970835 -2.32683202]\n",
        "iter = "
       ]
      },
      {
       "output_type": "stream",
       "stream": "stdout",
       "text": [
        " 247 , lhood =  -0.0379548652015 , pred =  0 , acc =  0.99245251721 , param =  [-1.53316265  0.44153239 -2.32694103]\n",
        "iter = "
       ]
      },
      {
       "output_type": "stream",
       "stream": "stdout",
       "text": [
        " 248 , lhood =  -0.0379515130944 , pred =  0 , acc =  0.99245251721 , param =  [-1.53328099  0.44335637 -2.3270481 ]\n",
        "iter = "
       ]
      },
      {
       "output_type": "stream",
       "stream": "stdout",
       "text": [
        " 249 , lhood =  -0.0379481619996 , pred =  0 , acc =  0.99245251721 , param =  [-1.53339773  0.44518028 -2.32715329]\n",
        "iter = "
       ]
      },
      {
       "output_type": "stream",
       "stream": "stdout",
       "text": [
        " 250 , lhood =  -0.0379448118929 , pred =  0 , acc =  0.99245251721 , param =  [-1.53351289  0.44700413 -2.32725662]\n",
        "iter = "
       ]
      },
      {
       "output_type": "stream",
       "stream": "stdout",
       "text": [
        " 251 , lhood =  -0.0379414627512 , pred =  0 , acc =  0.99245251721 , param =  [-1.5336265   0.44882791 -2.32735811]\n",
        "iter = "
       ]
      },
      {
       "output_type": "stream",
       "stream": "stdout",
       "text": [
        " 252 , lhood =  -0.0379381145519 , pred =  0 , acc =  0.99245251721 , param =  [-1.53373858  0.45065162 -2.32745782]\n",
        "iter = "
       ]
      },
      {
       "output_type": "stream",
       "stream": "stdout",
       "text": [
        " 253 , lhood =  -0.0379347672736 , pred =  0 , acc =  0.99245251721 , param =  [-1.53384916  0.45247527 -2.32755576]\n",
        "iter = "
       ]
      },
      {
       "output_type": "stream",
       "stream": "stdout",
       "text": [
        " 254 , lhood =  -0.0379314208953 , pred =  0 , acc =  0.99245251721 , param =  [-1.53395827  0.45429884 -2.32765197]\n",
        "iter = "
       ]
      },
      {
       "output_type": "stream",
       "stream": "stdout",
       "text": [
        " 255 , lhood =  -0.037928075397 , pred =  0 , acc =  0.99245251721 , param =  [-1.53406593  0.45612236 -2.32774648]\n",
        "iter = "
       ]
      },
      {
       "output_type": "stream",
       "stream": "stdout",
       "text": [
        " 256 , lhood =  -0.0379247307592 , pred =  0 , acc =  0.99245251721 , param =  [-1.53417218  0.4579458  -2.32783931]\n",
        "iter = "
       ]
      },
      {
       "output_type": "stream",
       "stream": "stdout",
       "text": [
        " 257 , lhood =  -0.0379213869632 , pred =  0 , acc =  0.99245251721 , param =  [-1.53427702  0.45976917 -2.3279305 ]\n",
        "iter = "
       ]
      },
      {
       "output_type": "stream",
       "stream": "stdout",
       "text": [
        " 258 , lhood =  -0.0379180439909 , pred =  0 , acc =  0.99245251721 , param =  [-1.5343805   0.46159248 -2.32802007]\n",
        "iter = "
       ]
      },
      {
       "output_type": "stream",
       "stream": "stdout",
       "text": [
        " 259 , lhood =  -0.0379147018249 , pred =  0 , acc =  0.99245251721 , param =  [-1.53448263  0.46341572 -2.32810806]\n",
        "iter = "
       ]
      },
      {
       "output_type": "stream",
       "stream": "stdout",
       "text": [
        " 260 , lhood =  -0.0379113604483 , pred =  0 , acc =  0.99245251721 , param =  [-1.53458344  0.46523888 -2.32819449]\n",
        "iter = "
       ]
      },
      {
       "output_type": "stream",
       "stream": "stdout",
       "text": [
        " 261 , lhood =  -0.037908019845 , pred =  0 , acc =  0.99245251721 , param =  [-1.53468294  0.46706198 -2.32827939]\n",
        "iter = "
       ]
      },
      {
       "output_type": "stream",
       "stream": "stdout",
       "text": [
        " 262 , lhood =  -0.0379046799993 , pred =  0 , acc =  0.99245251721 , param =  [-1.53478117  0.46888501 -2.32836278]\n",
        "iter = "
       ]
      },
      {
       "output_type": "stream",
       "stream": "stdout",
       "text": [
        " 263 , lhood =  -0.037901340896 , pred =  0 , acc =  0.99245251721 , param =  [-1.53487815  0.47070797 -2.3284447 ]\n",
        "iter = "
       ]
      },
      {
       "output_type": "stream",
       "stream": "stdout",
       "text": [
        " 264 , lhood =  -0.0378980025207 , pred =  0 , acc =  0.99245251721 , param =  [-1.53497389  0.47253085 -2.32852516]\n",
        "iter = "
       ]
      },
      {
       "output_type": "stream",
       "stream": "stdout",
       "text": [
        " 265 , lhood =  -0.0378946648592 , pred =  0 , acc =  0.99245251721 , param =  [-1.53506842  0.47435367 -2.32860419]\n",
        "iter = "
       ]
      },
      {
       "output_type": "stream",
       "stream": "stdout",
       "text": [
        " 266 , lhood =  -0.037891327898 , pred =  0 , acc =  0.99245251721 , param =  [-1.53516176  0.47617641 -2.32868182]\n",
        "iter = "
       ]
      },
      {
       "output_type": "stream",
       "stream": "stdout",
       "text": [
        " 267 , lhood =  -0.037887991624 , pred =  0 , acc =  0.99245251721 , param =  [-1.53525393  0.47799908 -2.32875807]\n",
        "iter = "
       ]
      },
      {
       "output_type": "stream",
       "stream": "stdout",
       "text": [
        " 268 , lhood =  -0.0378846560246 , pred =  0 , acc =  0.99245251721 , param =  [-1.53534495  0.47982168 -2.32883297]\n",
        "iter = "
       ]
      },
      {
       "output_type": "stream",
       "stream": "stdout",
       "text": [
        " 269 , lhood =  -0.0378813210876 , pred =  0 , acc =  0.99245251721 , param =  [-1.53543485  0.48164421 -2.32890653]\n",
        "iter = "
       ]
      },
      {
       "output_type": "stream",
       "stream": "stdout",
       "text": [
        " 270 , lhood =  -0.0378779868013 , pred =  0 , acc =  0.99245251721 , param =  [-1.53552364  0.48346667 -2.32897879]\n",
        "iter = "
       ]
      },
      {
       "output_type": "stream",
       "stream": "stdout",
       "text": [
        " 271 , lhood =  -0.0378746531543 , pred =  0 , acc =  0.99245251721 , param =  [-1.53561134  0.48528905 -2.32904976]\n",
        "iter = "
       ]
      },
      {
       "output_type": "stream",
       "stream": "stdout",
       "text": [
        " 272 , lhood =  -0.0378713201357 , pred =  0 , acc =  0.99245251721 , param =  [-1.53569797  0.48711136 -2.32911947]\n",
        "iter = "
       ]
      },
      {
       "output_type": "stream",
       "stream": "stdout",
       "text": [
        " 273 , lhood =  -0.037867987735 , pred =  0 , acc =  0.99245251721 , param =  [-1.53578354  0.4889336  -2.32918793]\n",
        "iter = "
       ]
      },
      {
       "output_type": "stream",
       "stream": "stdout",
       "text": [
        " 274 , lhood =  -0.0378646559419 , pred =  0 , acc =  0.99245251721 , param =  [-1.53586809  0.49075576 -2.32925518]\n",
        "iter = "
       ]
      },
      {
       "output_type": "stream",
       "stream": "stdout",
       "text": [
        " 275 , lhood =  -0.0378613247468 , pred =  0 , acc =  0.99245251721 , param =  [-1.53595162  0.49257784 -2.32932123]\n",
        "iter = "
       ]
      },
      {
       "output_type": "stream",
       "stream": "stdout",
       "text": [
        " 276 , lhood =  -0.0378579941401 , pred =  0 , acc =  0.99245251721 , param =  [-1.53603416  0.49439986 -2.3293861 ]\n",
        "iter = "
       ]
      },
      {
       "output_type": "stream",
       "stream": "stdout",
       "text": [
        " 277 , lhood =  -0.0378546641127 , pred =  0 , acc =  0.99245251721 , param =  [-1.53611571  0.4962218  -2.32944981]\n",
        "iter = "
       ]
      },
      {
       "output_type": "stream",
       "stream": "stdout",
       "text": [
        " 278 , lhood =  -0.0378513346558 , pred =  0 , acc =  0.99245251721 , param =  [-1.53619631  0.49804366 -2.32951239]\n",
        "iter = "
       ]
      },
      {
       "output_type": "stream",
       "stream": "stdout",
       "text": [
        " 279 , lhood =  -0.0378480057609 , pred =  0 , acc =  0.99245251721 , param =  [-1.53627596  0.49986545 -2.32957385]\n",
        "iter = "
       ]
      },
      {
       "output_type": "stream",
       "stream": "stdout",
       "text": [
        " 280 , lhood =  -0.0378446774199 , pred =  0 , acc =  0.99245251721 , param =  [-1.53635468  0.50168716 -2.32963421]\n",
        "iter = "
       ]
      },
      {
       "output_type": "stream",
       "stream": "stdout",
       "text": [
        " 281 , lhood =  -0.0378413496248 , pred =  0 , acc =  0.99245251721 , param =  [-1.53643249  0.5035088  -2.32969349]\n",
        "iter = "
       ]
      },
      {
       "output_type": "stream",
       "stream": "stdout",
       "text": [
        " 282 , lhood =  -0.037838022368 , pred =  0 , acc =  0.99245251721 , param =  [-1.5365094   0.50533036 -2.32975172]\n",
        "iter = "
       ]
      },
      {
       "output_type": "stream",
       "stream": "stdout",
       "text": [
        " 283 , lhood =  -0.0378346956423 , pred =  0 , acc =  0.99245251721 , param =  [-1.53658543  0.50715184 -2.3298089 ]\n",
        "iter = "
       ]
      },
      {
       "output_type": "stream",
       "stream": "stdout",
       "text": [
        " 284 , lhood =  -0.0378313694405 , pred =  0 , acc =  0.99245251721 , param =  [-1.5366606   0.50897325 -2.32986505]\n",
        "iter = "
       ]
      },
      {
       "output_type": "stream",
       "stream": "stdout",
       "text": [
        " 285 , lhood =  -0.0378280437558 , pred =  0 , acc =  0.99245251721 , param =  [-1.53673492  0.51079458 -2.3299202 ]\n",
        "iter = "
       ]
      },
      {
       "output_type": "stream",
       "stream": "stdout",
       "text": [
        " 286 , lhood =  -0.0378247185816 , pred =  0 , acc =  0.99245251721 , param =  [-1.53680841  0.51261584 -2.32997436]\n",
        "iter = "
       ]
      },
      {
       "output_type": "stream",
       "stream": "stdout",
       "text": [
        " 287 , lhood =  -0.0378213939116 , pred =  0 , acc =  0.99245251721 , param =  [-1.53688107  0.51443702 -2.33002755]\n",
        "iter = "
       ]
      },
      {
       "output_type": "stream",
       "stream": "stdout",
       "text": [
        " 288 , lhood =  -0.0378180697397 , pred =  0 , acc =  0.99245251721 , param =  [-1.53695293  0.51625812 -2.33007978]\n",
        "iter = "
       ]
      },
      {
       "output_type": "stream",
       "stream": "stdout",
       "text": [
        " 289 , lhood =  -0.03781474606 , pred =  0 , acc =  0.99245251721 , param =  [-1.537024    0.51807914 -2.33013108]\n",
        "iter = "
       ]
      },
      {
       "output_type": "stream",
       "stream": "stdout",
       "text": [
        " 290 , lhood =  -0.0378114228668 , pred =  0 , acc =  0.99245251721 , param =  [-1.53709429  0.51990008 -2.33018145]\n",
        "iter = "
       ]
      },
      {
       "output_type": "stream",
       "stream": "stdout",
       "text": [
        " 291 , lhood =  -0.0378081001546 , pred =  0 , acc =  0.99245251721 , param =  [-1.53716381  0.52172095 -2.33023092]\n",
        "iter = "
       ]
      },
      {
       "output_type": "stream",
       "stream": "stdout",
       "text": [
        " 292 , lhood =  -0.0378047779182 , pred =  0 , acc =  0.99245251721 , param =  [-1.53723259  0.52354173 -2.3302795 ]\n",
        "iter = "
       ]
      },
      {
       "output_type": "stream",
       "stream": "stdout",
       "text": [
        " 293 , lhood =  -0.0378014561524 , pred =  0 , acc =  0.99245251721 , param =  [-1.53730063  0.52536244 -2.3303272 ]\n",
        "iter = "
       ]
      },
      {
       "output_type": "stream",
       "stream": "stdout",
       "text": [
        " 294 , lhood =  -0.0377981348524 , pred =  0 , acc =  0.99245251721 , param =  [-1.53736794  0.52718307 -2.33037404]\n",
        "iter = "
       ]
      },
      {
       "output_type": "stream",
       "stream": "stdout",
       "text": [
        " 295 , lhood =  -0.0377948140134 , pred =  0 , acc =  0.99245251721 , param =  [-1.53743455  0.52900362 -2.33042003]\n",
        "iter = "
       ]
      },
      {
       "output_type": "stream",
       "stream": "stdout",
       "text": [
        " 296 , lhood =  -0.037791493631 , pred =  0 , acc =  0.99245251721 , param =  [-1.53750045  0.53082409 -2.3304652 ]\n",
        "iter = "
       ]
      },
      {
       "output_type": "stream",
       "stream": "stdout",
       "text": [
        " 297 , lhood =  -0.0377881737006 , pred =  0 , acc =  0.99245251721 , param =  [-1.53756567  0.53264448 -2.33050955]\n",
        "iter = "
       ]
      },
      {
       "output_type": "stream",
       "stream": "stdout",
       "text": [
        " 298 , lhood =  -0.0377848542182 , pred =  0 , acc =  0.99245251721 , param =  [-1.53763021  0.53446479 -2.3305531 ]\n",
        "iter = "
       ]
      },
      {
       "output_type": "stream",
       "stream": "stdout",
       "text": [
        " 299 , lhood =  -0.0377815351795 , pred =  0 , acc =  0.99245251721 , param =  [-1.53769409  0.53628502 -2.33059585]\n",
        "iter = "
       ]
      },
      {
       "output_type": "stream",
       "stream": "stdout",
       "text": [
        " 300 , lhood =  -0.0377782165808 , pred =  0 , acc =  0.99245251721 , param =  [-1.53775732  0.53810517 -2.33063784]\n",
        "iter = "
       ]
      },
      {
       "output_type": "stream",
       "stream": "stdout",
       "text": [
        " 301 , lhood =  -0.0377748984182 , pred =  0 , acc =  0.99245251721 , param =  [-1.53781991  0.53992524 -2.33067906]\n",
        "iter = "
       ]
      },
      {
       "output_type": "stream",
       "stream": "stdout",
       "text": [
        " 302 , lhood =  -0.0377715806881 , pred =  0 , acc =  0.99245251721 , param =  [-1.53788187  0.54174523 -2.33071953]\n",
        "iter = "
       ]
      },
      {
       "output_type": "stream",
       "stream": "stdout",
       "text": [
        " 303 , lhood =  -0.0377682633871 , pred =  0 , acc =  0.99245251721 , param =  [-1.53794322  0.54356514 -2.33075927]\n",
        "iter = "
       ]
      },
      {
       "output_type": "stream",
       "stream": "stdout",
       "text": [
        " 304 , lhood =  -0.0377649465116 , pred =  0 , acc =  0.99245251721 , param =  [-1.53800396  0.54538497 -2.33079829]\n",
        "iter = "
       ]
      },
      {
       "output_type": "stream",
       "stream": "stdout",
       "text": [
        " 305 , lhood =  -0.0377616300586 , pred =  0 , acc =  0.99245251721 , param =  [-1.5380641   0.54720471 -2.33083659]\n",
        "iter = "
       ]
      },
      {
       "output_type": "stream",
       "stream": "stdout",
       "text": [
        " 306 , lhood =  -0.0377583140248 , pred =  0 , acc =  0.99245251721 , param =  [-1.53812366  0.54902438 -2.3308742 ]\n",
        "iter = "
       ]
      },
      {
       "output_type": "stream",
       "stream": "stdout",
       "text": [
        " 307 , lhood =  -0.0377549984073 , pred =  0 , acc =  0.99245251721 , param =  [-1.53818264  0.55084396 -2.33091112]\n",
        "iter = "
       ]
      },
      {
       "output_type": "stream",
       "stream": "stdout",
       "text": [
        " 308 , lhood =  -0.0377516832032 , pred =  0 , acc =  0.99245251721 , param =  [-1.53824106  0.55266346 -2.33094737]\n",
        "iter = "
       ]
      },
      {
       "output_type": "stream",
       "stream": "stdout",
       "text": [
        " 309 , lhood =  -0.0377483684096 , pred =  0 , acc =  0.99245251721 , param =  [-1.53829893  0.55448288 -2.33098296]\n",
        "iter = "
       ]
      },
      {
       "output_type": "stream",
       "stream": "stdout",
       "text": [
        " 310 , lhood =  -0.037745054024 , pred =  0 , acc =  0.99245251721 , param =  [-1.53835625  0.55630221 -2.33101789]\n",
        "iter = "
       ]
      },
      {
       "output_type": "stream",
       "stream": "stdout",
       "text": [
        " 311 , lhood =  -0.0377417400438 , pred =  0 , acc =  0.99245251721 , param =  [-1.53841303  0.55812147 -2.33105219]\n",
        "iter = "
       ]
      },
      {
       "output_type": "stream",
       "stream": "stdout",
       "text": [
        " 312 , lhood =  -0.0377384264664 , pred =  0 , acc =  0.99245251721 , param =  [-1.53846929  0.55994064 -2.33108585]\n",
        "iter = "
       ]
      },
      {
       "output_type": "stream",
       "stream": "stdout",
       "text": [
        " 313 , lhood =  -0.0377351132895 , pred =  0 , acc =  0.99245251721 , param =  [-1.53852504  0.56175972 -2.3311189 ]\n",
        "iter = "
       ]
      },
      {
       "output_type": "stream",
       "stream": "stdout",
       "text": [
        " 314 , lhood =  -0.0377318005108 , pred =  0 , acc =  0.99245251721 , param =  [-1.53858027  0.56357873 -2.33115134]\n",
        "iter = "
       ]
      },
      {
       "output_type": "stream",
       "stream": "stdout",
       "text": [
        " 315 , lhood =  -0.0377284881281 , pred =  0 , acc =  0.99245251721 , param =  [-1.53863501  0.56539765 -2.33118318]\n",
        "iter = "
       ]
      },
      {
       "output_type": "stream",
       "stream": "stdout",
       "text": [
        " 316 , lhood =  -0.0377251761394 , pred =  0 , acc =  0.99245251721 , param =  [-1.53868926  0.56721648 -2.33121444]\n",
        "iter = "
       ]
      },
      {
       "output_type": "stream",
       "stream": "stdout",
       "text": [
        " 317 , lhood =  -0.0377218645425 , pred =  0 , acc =  0.99245251721 , param =  [-1.53874302  0.56903524 -2.33124512]\n",
        "iter = "
       ]
      },
      {
       "output_type": "stream",
       "stream": "stdout",
       "text": [
        " 318 , lhood =  -0.0377185533355 , pred =  0 , acc =  0.99245251721 , param =  [-1.53879632  0.5708539  -2.33127524]\n",
        "iter = "
       ]
      },
      {
       "output_type": "stream",
       "stream": "stdout",
       "text": [
        " 319 , lhood =  -0.0377152425165 , pred =  0 , acc =  0.99245251721 , param =  [-1.53884915  0.57267249 -2.3313048 ]\n",
        "iter = "
       ]
      },
      {
       "output_type": "stream",
       "stream": "stdout",
       "text": [
        " 320 , lhood =  -0.0377119320838 , pred =  0 , acc =  0.99245251721 , param =  [-1.53890153  0.57449099 -2.33133381]\n",
        "iter = "
       ]
      },
      {
       "output_type": "stream",
       "stream": "stdout",
       "text": [
        " 321 , lhood =  -0.0377086220356 , pred =  0 , acc =  0.99245251721 , param =  [-1.53895345  0.57630941 -2.33136228]\n",
        "iter = "
       ]
      },
      {
       "output_type": "stream",
       "stream": "stdout",
       "text": [
        " 322 , lhood =  -0.0377053123703 , pred =  0 , acc =  0.99245251721 , param =  [-1.53900494  0.57812774 -2.33139022]\n",
        "iter = "
       ]
      },
      {
       "output_type": "stream",
       "stream": "stdout",
       "text": [
        " 323 , lhood =  -0.0377020030862 , pred =  0 , acc =  0.99245251721 , param =  [-1.539056    0.57994598 -2.33141765]\n",
        "iter = "
       ]
      },
      {
       "output_type": "stream",
       "stream": "stdout",
       "text": [
        " 324 , lhood =  -0.0376986941819 , pred =  0 , acc =  0.99245251721 , param =  [-1.53910663  0.58176415 -2.33144456]\n",
        "iter = "
       ]
      },
      {
       "output_type": "stream",
       "stream": "stdout",
       "text": [
        " 325 , lhood =  -0.0376953856559 , pred =  0 , acc =  0.99245251721 , param =  [-1.53915685  0.58358222 -2.33147097]\n",
        "iter = "
       ]
      },
      {
       "output_type": "stream",
       "stream": "stdout",
       "text": [
        " 326 , lhood =  -0.0376920775067 , pred =  0 , acc =  0.99245251721 , param =  [-1.53920666  0.58540021 -2.33149689]\n",
        "iter = "
       ]
      },
      {
       "output_type": "stream",
       "stream": "stdout",
       "text": [
        " 327 , lhood =  -0.0376887697331 , pred =  0 , acc =  0.99245251721 , param =  [-1.53925606  0.58721812 -2.33152233]\n",
        "iter = "
       ]
      },
      {
       "output_type": "stream",
       "stream": "stdout",
       "text": [
        " 328 , lhood =  -0.0376854623337 , pred =  0 , acc =  0.99245251721 , param =  [-1.53930507  0.58903594 -2.33154729]\n",
        "iter = "
       ]
      },
      {
       "output_type": "stream",
       "stream": "stdout",
       "text": [
        " 329 , lhood =  -0.0376821553074 , pred =  0 , acc =  0.99245251721 , param =  [-1.5393537   0.59085367 -2.33157178]\n",
        "iter = "
       ]
      },
      {
       "output_type": "stream",
       "stream": "stdout",
       "text": [
        " 330 , lhood =  -0.0376788486528 , pred =  0 , acc =  0.99245251721 , param =  [-1.53940194  0.59267132 -2.33159581]\n",
        "iter = "
       ]
      },
      {
       "output_type": "stream",
       "stream": "stdout",
       "text": [
        " 331 , lhood =  -0.037675542369 , pred =  0 , acc =  0.99245251721 , param =  [-1.53944981  0.59448888 -2.33161939]\n",
        "iter = "
       ]
      },
      {
       "output_type": "stream",
       "stream": "stdout",
       "text": [
        " 332 , lhood =  -0.0376722364549 , pred =  0 , acc =  0.99245251721 , param =  [-1.53949731  0.59630635 -2.33164253]\n",
        "iter = "
       ]
      },
      {
       "output_type": "stream",
       "stream": "stdout",
       "text": [
        " 333 , lhood =  -0.0376689309093 , pred =  0 , acc =  0.99245251721 , param =  [-1.53954445  0.59812374 -2.33166522]\n",
        "iter = "
       ]
      },
      {
       "output_type": "stream",
       "stream": "stdout",
       "text": [
        " 334 , lhood =  -0.0376656257313 , pred =  0 , acc =  0.99245251721 , param =  [-1.53959124  0.59994104 -2.33168749]\n",
        "iter = "
       ]
      },
      {
       "output_type": "stream",
       "stream": "stdout",
       "text": [
        " 335 , lhood =  -0.0376623209201 , pred =  0 , acc =  0.99245251721 , param =  [-1.53963768  0.60175826 -2.33170934]\n",
        "iter = "
       ]
      },
      {
       "output_type": "stream",
       "stream": "stdout",
       "text": [
        " 336 , lhood =  -0.0376590164745 , pred =  0 , acc =  0.99245251721 , param =  [-1.53968378  0.60357539 -2.33173077]\n",
        "iter = "
       ]
      },
      {
       "output_type": "stream",
       "stream": "stdout",
       "text": [
        " 337 , lhood =  -0.037655712394 , pred =  0 , acc =  0.99245251721 , param =  [-1.53972954  0.60539243 -2.3317518 ]\n",
        "iter = "
       ]
      },
      {
       "output_type": "stream",
       "stream": "stdout",
       "text": [
        " 338 , lhood =  -0.0376524086775 , pred =  0 , acc =  0.99245251721 , param =  [-1.53977497  0.60720938 -2.33177243]\n",
        "iter = "
       ]
      },
      {
       "output_type": "stream",
       "stream": "stdout",
       "text": [
        " 339 , lhood =  -0.0376491053243 , pred =  0 , acc =  0.99245251721 , param =  [-1.53982008  0.60902624 -2.33179266]\n",
        "iter = "
       ]
      },
      {
       "output_type": "stream",
       "stream": "stdout",
       "text": [
        " 340 , lhood =  -0.0376458023337 , pred =  0 , acc =  0.99245251721 , param =  [-1.53986487  0.61084302 -2.3318125 ]\n",
        "iter = "
       ]
      },
      {
       "output_type": "stream",
       "stream": "stdout",
       "text": [
        " 341 , lhood =  -0.037642499705 , pred =  0 , acc =  0.99245251721 , param =  [-1.53990935  0.61265971 -2.33183197]\n",
        "iter = "
       ]
      },
      {
       "output_type": "stream",
       "stream": "stdout",
       "text": [
        " 342 , lhood =  -0.0376391974374 , pred =  0 , acc =  0.99245251721 , param =  [-1.53995353  0.61447631 -2.33185106]\n",
        "iter = "
       ]
      },
      {
       "output_type": "stream",
       "stream": "stdout",
       "text": [
        " 343 , lhood =  -0.0376358955304 , pred =  0 , acc =  0.99245251721 , param =  [-1.5399974   0.61629283 -2.33186979]\n",
        "iter = "
       ]
      },
      {
       "output_type": "stream",
       "stream": "stdout",
       "text": [
        " 344 , lhood =  -0.0376325939834 , pred =  0 , acc =  0.99245251721 , param =  [-1.54004098  0.61810925 -2.33188815]\n",
        "iter = "
       ]
      },
      {
       "output_type": "stream",
       "stream": "stdout",
       "text": [
        " 345 , lhood =  -0.0376292927958 , pred =  0 , acc =  0.99245251721 , param =  [-1.54008426  0.61992559 -2.33190616]\n",
        "iter = "
       ]
      },
      {
       "output_type": "stream",
       "stream": "stdout",
       "text": [
        " 346 , lhood =  -0.037625991967 , pred =  0 , acc =  0.99245251721 , param =  [-1.54012727  0.62174184 -2.33192382]\n",
        "iter = "
       ]
      },
      {
       "output_type": "stream",
       "stream": "stdout",
       "text": [
        " 347 , lhood =  -0.0376226914966 , pred =  0 , acc =  0.99245251721 , param =  [-1.54016999  0.623558   -2.33194114]\n",
        "iter = "
       ]
      },
      {
       "output_type": "stream",
       "stream": "stdout",
       "text": [
        " 348 , lhood =  -0.037619391384 , pred =  0 , acc =  0.99245251721 , param =  [-1.54021244  0.62537407 -2.33195813]\n",
        "iter = "
       ]
      },
      {
       "output_type": "stream",
       "stream": "stdout",
       "text": [
        " 349 , lhood =  -0.0376160916287 , pred =  0 , acc =  0.99245251721 , param =  [-1.54025462  0.62719005 -2.33197478]\n",
        "iter = "
       ]
      },
      {
       "output_type": "stream",
       "stream": "stdout",
       "text": [
        " 350 , lhood =  -0.0376127922305 , pred =  0 , acc =  0.99245251721 , param =  [-1.54029653  0.62900594 -2.33199111]\n",
        "iter = "
       ]
      },
      {
       "output_type": "stream",
       "stream": "stdout",
       "text": [
        " 351 , lhood =  -0.0376094931887 , pred =  0 , acc =  0.99245251721 , param =  [-1.54033818  0.63082174 -2.33200711]\n",
        "iter = "
       ]
      },
      {
       "output_type": "stream",
       "stream": "stdout",
       "text": [
        " 352 , lhood =  -0.0376061945032 , pred =  0 , acc =  0.99245251721 , param =  [-1.54037958  0.63263746 -2.33202281]\n",
        "iter = "
       ]
      },
      {
       "output_type": "stream",
       "stream": "stdout",
       "text": [
        " 353 , lhood =  -0.0376028961735 , pred =  0 , acc =  0.99245251721 , param =  [-1.54042073  0.63445308 -2.33203819]\n",
        "iter = "
       ]
      },
      {
       "output_type": "stream",
       "stream": "stdout",
       "text": [
        " 354 , lhood =  -0.0375995981992 , pred =  0 , acc =  0.99245251721 , param =  [-1.54046164  0.63626861 -2.33205327]\n",
        "iter = "
       ]
      },
      {
       "output_type": "stream",
       "stream": "stdout",
       "text": [
        " 355 , lhood =  -0.0375963005801 , pred =  0 , acc =  0.99245251721 , param =  [-1.5405023   0.63808406 -2.33206806]\n",
        "iter = "
       ]
      },
      {
       "output_type": "stream",
       "stream": "stdout",
       "text": [
        " 356 , lhood =  -0.0375930033158 , pred =  0 , acc =  0.99245251721 , param =  [-1.54054272  0.63989941 -2.33208255]\n",
        "iter = "
       ]
      },
      {
       "output_type": "stream",
       "stream": "stdout",
       "text": [
        " 357 , lhood =  -0.0375897064062 , pred =  0 , acc =  0.99245251721 , param =  [-1.54058291  0.64171467 -2.33209675]\n",
        "iter = "
       ]
      },
      {
       "output_type": "stream",
       "stream": "stdout",
       "text": [
        " 358 , lhood =  -0.0375864098509 , pred =  0 , acc =  0.99245251721 , param =  [-1.54062288  0.64352985 -2.33211067]\n",
        "iter = "
       ]
      },
      {
       "output_type": "stream",
       "stream": "stdout",
       "text": [
        " 359 , lhood =  -0.0375831136497 , pred =  0 , acc =  0.99245251721 , param =  [-1.54066261  0.64534493 -2.33212432]\n",
        "iter = "
       ]
      },
      {
       "output_type": "stream",
       "stream": "stdout",
       "text": [
        " 360 , lhood =  -0.0375798178025 , pred =  0 , acc =  0.99245251721 , param =  [-1.54070213  0.64715992 -2.33213769]\n",
        "iter = "
       ]
      },
      {
       "output_type": "stream",
       "stream": "stdout",
       "text": [
        " 361 , lhood =  -0.0375765223089 , pred =  0 , acc =  0.99245251721 , param =  [-1.54074144  0.64897482 -2.33215079]\n",
        "iter = "
       ]
      },
      {
       "output_type": "stream",
       "stream": "stdout",
       "text": [
        " 362 , lhood =  -0.0375732271689 , pred =  0 , acc =  0.99245251721 , param =  [-1.54078053  0.65078963 -2.33216363]\n",
        "iter = "
       ]
      },
      {
       "output_type": "stream",
       "stream": "stdout",
       "text": [
        " 363 , lhood =  -0.0375699323823 , pred =  0 , acc =  0.99245251721 , param =  [-1.54081941  0.65260435 -2.3321762 ]\n",
        "iter = "
       ]
      },
      {
       "output_type": "stream",
       "stream": "stdout",
       "text": [
        " 364 , lhood =  -0.0375666379489 , pred =  0 , acc =  0.99245251721 , param =  [-1.54085809  0.65441898 -2.33218853]\n",
        "iter = "
       ]
      },
      {
       "output_type": "stream",
       "stream": "stdout",
       "text": [
        " 365 , lhood =  -0.0375633438686 , pred =  0 , acc =  0.99245251721 , param =  [-1.54089657  0.65623352 -2.3322006 ]\n",
        "iter = "
       ]
      },
      {
       "output_type": "stream",
       "stream": "stdout",
       "text": [
        " 366 , lhood =  -0.0375600501413 , pred =  0 , acc =  0.99245251721 , param =  [-1.54093485  0.65804796 -2.33221243]\n",
        "iter = "
       ]
      },
      {
       "output_type": "stream",
       "stream": "stdout",
       "text": [
        " 367 , lhood =  -0.0375567567669 , pred =  0 , acc =  0.99245251721 , param =  [-1.54097293  0.65986231 -2.33222401]\n",
        "iter = "
       ]
      },
      {
       "output_type": "stream",
       "stream": "stdout",
       "text": [
        " 368 , lhood =  -0.0375534637453 , pred =  0 , acc =  0.99245251721 , param =  [-1.54101083  0.66167658 -2.33223536]\n",
        "iter = "
       ]
      },
      {
       "output_type": "stream",
       "stream": "stdout",
       "text": [
        " 369 , lhood =  -0.0375501710765 , pred =  0 , acc =  0.99245251721 , param =  [-1.54104854  0.66349075 -2.33224647]\n",
        "iter = "
       ]
      },
      {
       "output_type": "stream",
       "stream": "stdout",
       "text": [
        " 370 , lhood =  -0.0375468787603 , pred =  0 , acc =  0.99245251721 , param =  [-1.54108607  0.66530482 -2.33225735]\n",
        "iter = "
       ]
      },
      {
       "output_type": "stream",
       "stream": "stdout",
       "text": [
        " 371 , lhood =  -0.0375435867968 , pred =  0 , acc =  0.99245251721 , param =  [-1.54112342  0.66711881 -2.33226801]\n",
        "iter = "
       ]
      },
      {
       "output_type": "stream",
       "stream": "stdout",
       "text": [
        " 372 , lhood =  -0.0375402951859 , pred =  0 , acc =  0.99245251721 , param =  [-1.5411606   0.6689327  -2.33227845]\n",
        "iter = "
       ]
      },
      {
       "output_type": "stream",
       "stream": "stdout",
       "text": [
        " 373 , lhood =  -0.0375370039276 , pred =  0 , acc =  0.99245251721 , param =  [-1.5411976   0.6707465  -2.33228867]\n",
        "iter = "
       ]
      },
      {
       "output_type": "stream",
       "stream": "stdout",
       "text": [
        " 374 , lhood =  -0.0375337130219 , pred =  0 , acc =  0.99245251721 , param =  [-1.54123443  0.67256021 -2.33229867]\n",
        "iter = "
       ]
      },
      {
       "output_type": "stream",
       "stream": "stdout",
       "text": [
        " 375 , lhood =  -0.0375304224688 , pred =  0 , acc =  0.99245251721 , param =  [-1.5412711   0.67437383 -2.33230847]\n",
        "iter = "
       ]
      },
      {
       "output_type": "stream",
       "stream": "stdout",
       "text": [
        " 376 , lhood =  -0.0375271322683 , pred =  0 , acc =  0.99245251721 , param =  [-1.5413076   0.67618735 -2.33231805]\n",
        "iter = "
       ]
      },
      {
       "output_type": "stream",
       "stream": "stdout",
       "text": [
        " 377 , lhood =  -0.0375238424205 , pred =  0 , acc =  0.99245251721 , param =  [-1.54134395  0.67800078 -2.33232744]\n",
        "iter = "
       ]
      },
      {
       "output_type": "stream",
       "stream": "stdout",
       "text": [
        " 378 , lhood =  -0.0375205529253 , pred =  0 , acc =  0.99245251721 , param =  [-1.54138013  0.67981411 -2.33233662]\n",
        "iter = "
       ]
      },
      {
       "output_type": "stream",
       "stream": "stdout",
       "text": [
        " 379 , lhood =  -0.0375172637828 , pred =  0 , acc =  0.99245251721 , param =  [-1.54141616  0.68162736 -2.33234561]\n",
        "iter = "
       ]
      },
      {
       "output_type": "stream",
       "stream": "stdout",
       "text": [
        " 380 , lhood =  -0.0375139749931 , pred =  0 , acc =  0.99245251721 , param =  [-1.54145205  0.68344051 -2.3323544 ]\n",
        "iter = "
       ]
      },
      {
       "output_type": "stream",
       "stream": "stdout",
       "text": [
        " 381 , lhood =  -0.0375106865562 , pred =  0 , acc =  0.99245251721 , param =  [-1.54148778  0.68525356 -2.33236301]\n",
        "iter = "
       ]
      },
      {
       "output_type": "stream",
       "stream": "stdout",
       "text": [
        " 382 , lhood =  -0.0375073984722 , pred =  0 , acc =  0.99245251721 , param =  [-1.54152337  0.68706653 -2.33237142]\n",
        "iter = "
       ]
      },
      {
       "output_type": "stream",
       "stream": "stdout",
       "text": [
        " 383 , lhood =  -0.0375041107413 , pred =  0 , acc =  0.99245251721 , param =  [-1.54155881  0.6888794  -2.33237966]\n",
        "iter = "
       ]
      },
      {
       "output_type": "stream",
       "stream": "stdout",
       "text": [
        " 384 , lhood =  -0.0375008233634 , pred =  0 , acc =  0.99245251721 , param =  [-1.54159412  0.69069217 -2.33238771]\n",
        "iter = "
       ]
      },
      {
       "output_type": "stream",
       "stream": "stdout",
       "text": [
        " 385 , lhood =  -0.0374975363386 , pred =  0 , acc =  0.99245251721 , param =  [-1.54162929  0.69250485 -2.33239559]\n",
        "iter = "
       ]
      },
      {
       "output_type": "stream",
       "stream": "stdout",
       "text": [
        " 386 , lhood =  -0.0374942496672 , pred =  0 , acc =  0.99245251721 , param =  [-1.54166432  0.69431744 -2.3324033 ]\n",
        "iter = "
       ]
      },
      {
       "output_type": "stream",
       "stream": "stdout",
       "text": [
        " 387 , lhood =  -0.0374909633491 , pred =  0 , acc =  0.99245251721 , param =  [-1.54169923  0.69612993 -2.33241083]\n",
        "iter = "
       ]
      },
      {
       "output_type": "stream",
       "stream": "stdout",
       "text": [
        " 388 , lhood =  -0.0374876773846 , pred =  0 , acc =  0.99245251721 , param =  [-1.541734    0.69794233 -2.3324182 ]\n",
        "iter = "
       ]
      },
      {
       "output_type": "stream",
       "stream": "stdout",
       "text": [
        " 389 , lhood =  -0.0374843917737 , pred =  0 , acc =  0.99245251721 , param =  [-1.54176864  0.69975464 -2.3324254 ]\n",
        "iter = "
       ]
      },
      {
       "output_type": "stream",
       "stream": "stdout",
       "text": [
        " 390 , lhood =  -0.0374811065166 , pred =  0 , acc =  0.99245251721 , param =  [-1.54180317  0.70156685 -2.33243244]\n",
        "iter = "
       ]
      },
      {
       "output_type": "stream",
       "stream": "stdout",
       "text": [
        " 391 , lhood =  -0.0374778216134 , pred =  0 , acc =  0.99245251721 , param =  [-1.54183757  0.70337896 -2.33243932]\n",
        "iter = "
       ]
      },
      {
       "output_type": "stream",
       "stream": "stdout",
       "text": [
        " 392 , lhood =  -0.0374745370642 , pred =  0 , acc =  0.99245251721 , param =  [-1.54187185  0.70519098 -2.33244604]\n",
        "iter = "
       ]
      },
      {
       "output_type": "stream",
       "stream": "stdout",
       "text": [
        " 393 , lhood =  -0.0374712528693 , pred =  0 , acc =  0.99245251721 , param =  [-1.54190601  0.70700291 -2.33245261]\n",
        "iter = "
       ]
      },
      {
       "output_type": "stream",
       "stream": "stdout",
       "text": [
        " 394 , lhood =  -0.0374679690287 , pred =  0 , acc =  0.99245251721 , param =  [-1.54194006  0.70881474 -2.33245903]\n",
        "iter = "
       ]
      },
      {
       "output_type": "stream",
       "stream": "stdout",
       "text": [
        " 395 , lhood =  -0.0374646855427 , pred =  0 , acc =  0.99245251721 , param =  [-1.54197399  0.71062647 -2.3324653 ]\n",
        "iter = "
       ]
      },
      {
       "output_type": "stream",
       "stream": "stdout",
       "text": [
        " 396 , lhood =  -0.0374614024114 , pred =  0 , acc =  0.99245251721 , param =  [-1.54200782  0.71243811 -2.33247142]\n",
        "iter = "
       ]
      },
      {
       "output_type": "stream",
       "stream": "stdout",
       "text": [
        " 397 , lhood =  -0.0374581196349 , pred =  0 , acc =  0.99245251721 , param =  [-1.54204153  0.71424966 -2.3324774 ]\n",
        "iter = "
       ]
      },
      {
       "output_type": "stream",
       "stream": "stdout",
       "text": [
        " 398 , lhood =  -0.0374548372136 , pred =  0 , acc =  0.99245251721 , param =  [-1.54207514  0.71606111 -2.33248324]\n",
        "iter = "
       ]
      },
      {
       "output_type": "stream",
       "stream": "stdout",
       "text": [
        " 399 , lhood =  -0.0374515551474 , pred =  0 , acc =  0.99245251721 , param =  [-1.54210865  0.71787246 -2.33248894]\n",
        "iter = "
       ]
      },
      {
       "output_type": "stream",
       "stream": "stdout",
       "text": [
        " 400 , lhood =  -0.0374482734368 , pred =  0 , acc =  0.99245251721 , param =  [-1.54214205  0.71968372 -2.33249451]\n",
        "iter = "
       ]
      },
      {
       "output_type": "stream",
       "stream": "stdout",
       "text": [
        " 401 , lhood =  -0.0374449920817 , pred =  0 , acc =  0.99245251721 , param =  [-1.54217536  0.72149488 -2.33249994]\n",
        "iter = "
       ]
      },
      {
       "output_type": "stream",
       "stream": "stdout",
       "text": [
        " 402 , lhood =  -0.0374417110825 , pred =  0 , acc =  0.99245251721 , param =  [-1.54220856  0.72330594 -2.33250523]\n",
        "iter = "
       ]
      },
      {
       "output_type": "stream",
       "stream": "stdout",
       "text": [
        " 403 , lhood =  -0.0374384304393 , pred =  0 , acc =  0.99245251721 , param =  [-1.54224167  0.72511691 -2.3325104 ]\n",
        "iter = "
       ]
      },
      {
       "output_type": "stream",
       "stream": "stdout",
       "text": [
        " 404 , lhood =  -0.0374351501524 , pred =  0 , acc =  0.99245251721 , param =  [-1.54227469  0.72692778 -2.33251545]\n",
        "iter = "
       ]
      },
      {
       "output_type": "stream",
       "stream": "stdout",
       "text": [
        " 405 , lhood =  -0.0374318702219 , pred =  0 , acc =  0.99245251721 , param =  [-1.54230761  0.72873856 -2.33252037]\n",
        "iter = "
       ]
      },
      {
       "output_type": "stream",
       "stream": "stdout",
       "text": [
        " 406 , lhood =  -0.0374285906481 , pred =  0 , acc =  0.99245251721 , param =  [-1.54234044  0.73054924 -2.33252516]\n",
        "iter = "
       ]
      },
      {
       "output_type": "stream",
       "stream": "stdout",
       "text": [
        " 407 , lhood =  -0.0374253114312 , pred =  0 , acc =  0.99245251721 , param =  [-1.54237319  0.73235982 -2.33252984]\n",
        "iter = "
       ]
      },
      {
       "output_type": "stream",
       "stream": "stdout",
       "text": [
        " 408 , lhood =  -0.0374220325714 , pred =  0 , acc =  0.99245251721 , param =  [-1.54240585  0.73417031 -2.33253439]\n",
        "iter = "
       ]
      },
      {
       "output_type": "stream",
       "stream": "stdout",
       "text": [
        " 409 , lhood =  -0.037418754069 , pred =  0 , acc =  0.99245251721 , param =  [-1.54243842  0.7359807  -2.33253883]\n",
        "iter = "
       ]
      },
      {
       "output_type": "stream",
       "stream": "stdout",
       "text": [
        " 410 , lhood =  -0.0374154759241 , pred =  0 , acc =  0.99245251721 , param =  [-1.54247091  0.73779099 -2.33254316]\n",
        "iter = "
       ]
      },
      {
       "output_type": "stream",
       "stream": "stdout",
       "text": [
        " 411 , lhood =  -0.0374121981371 , pred =  0 , acc =  0.99245251721 , param =  [-1.54250332  0.73960119 -2.33254737]\n",
        "iter = "
       ]
      },
      {
       "output_type": "stream",
       "stream": "stdout",
       "text": [
        " 412 , lhood =  -0.0374089207081 , pred =  0 , acc =  0.99245251721 , param =  [-1.54253565  0.74141129 -2.33255148]\n",
        "iter = "
       ]
      },
      {
       "output_type": "stream",
       "stream": "stdout",
       "text": [
        " 413 , lhood =  -0.0374056436374 , pred =  0 , acc =  0.99245251721 , param =  [-1.5425679   0.74322129 -2.33255547]\n",
        "iter = "
       ]
      },
      {
       "output_type": "stream",
       "stream": "stdout",
       "text": [
        " 414 , lhood =  -0.0374023669252 , pred =  0 , acc =  0.99245251721 , param =  [-1.54260008  0.74503119 -2.33255936]\n",
        "iter = "
       ]
      },
      {
       "output_type": "stream",
       "stream": "stdout",
       "text": [
        " 415 , lhood =  -0.0373990905718 , pred =  0 , acc =  0.99245251721 , param =  [-1.54263218  0.746841   -2.33256314]\n",
        "iter = "
       ]
      },
      {
       "output_type": "stream",
       "stream": "stdout",
       "text": [
        " 416 , lhood =  -0.0373958145774 , pred =  0 , acc =  0.99245251721 , param =  [-1.5426642   0.74865071 -2.33256683]\n",
        "iter = "
       ]
      },
      {
       "output_type": "stream",
       "stream": "stdout",
       "text": [
        " 417 , lhood =  -0.0373925389423 , pred =  0 , acc =  0.99245251721 , param =  [-1.54269616  0.75046032 -2.33257041]\n",
        "iter = "
       ]
      },
      {
       "output_type": "stream",
       "stream": "stdout",
       "text": [
        " 418 , lhood =  -0.0373892636668 , pred =  0 , acc =  0.99245251721 , param =  [-1.54272804  0.75226983 -2.33257389]\n",
        "iter = "
       ]
      },
      {
       "output_type": "stream",
       "stream": "stdout",
       "text": [
        " 419 , lhood =  -0.037385988751 , pred =  0 , acc =  0.99245251721 , param =  [-1.54275986  0.75407925 -2.33257727]\n",
        "iter = "
       ]
      },
      {
       "output_type": "stream",
       "stream": "stdout",
       "text": [
        " 420 , lhood =  -0.0373827141953 , pred =  0 , acc =  0.99245251721 , param =  [-1.54279161  0.75588856 -2.33258056]\n",
        "iter = "
       ]
      },
      {
       "output_type": "stream",
       "stream": "stdout",
       "text": [
        " 421 , lhood =  -0.0373794399999 , pred =  0 , acc =  0.99245251721 , param =  [-1.54282329  0.75769778 -2.33258375]\n",
        "iter = "
       ]
      },
      {
       "output_type": "stream",
       "stream": "stdout",
       "text": [
        " 422 , lhood =  -0.0373761661651 , pred =  0 , acc =  0.99245251721 , param =  [-1.54285491  0.7595069  -2.33258685]\n",
        "iter = "
       ]
      },
      {
       "output_type": "stream",
       "stream": "stdout",
       "text": [
        " 423 , lhood =  -0.0373728926912 , pred =  0 , acc =  0.99245251721 , param =  [-1.54288647  0.76131592 -2.33258986]\n",
        "iter = "
       ]
      },
      {
       "output_type": "stream",
       "stream": "stdout",
       "text": [
        " 424 , lhood =  -0.0373696195784 , pred =  0 , acc =  0.99245251721 , param =  [-1.54291796  0.76312485 -2.33259278]\n",
        "iter = "
       ]
      },
      {
       "output_type": "stream",
       "stream": "stdout",
       "text": [
        " 425 , lhood =  -0.0373663468269 , pred =  0 , acc =  0.99245251721 , param =  [-1.54294939  0.76493367 -2.33259561]\n",
        "iter = "
       ]
      },
      {
       "output_type": "stream",
       "stream": "stdout",
       "text": [
        " 426 , lhood =  -0.0373630744372 , pred =  0 , acc =  0.99245251721 , param =  [-1.54298077  0.7667424  -2.33259835]\n",
        "iter = "
       ]
      },
      {
       "output_type": "stream",
       "stream": "stdout",
       "text": [
        " 427 , lhood =  -0.0373598024093 , pred =  0 , acc =  0.99245251721 , param =  [-1.54301209  0.76855102 -2.33260101]\n",
        "iter = "
       ]
      },
      {
       "output_type": "stream",
       "stream": "stdout",
       "text": [
        " 428 , lhood =  -0.0373565307437 , pred =  0 , acc =  0.99245251721 , param =  [-1.54304335  0.77035955 -2.33260359]\n",
        "iter = "
       ]
      },
      {
       "output_type": "stream",
       "stream": "stdout",
       "text": [
        " 429 , lhood =  -0.0373532594406 , pred =  0 , acc =  0.99245251721 , param =  [-1.54307456  0.77216798 -2.33260609]\n",
        "iter = "
       ]
      },
      {
       "output_type": "stream",
       "stream": "stdout",
       "text": [
        " 430 , lhood =  -0.0373499885003 , pred =  0 , acc =  0.99245251721 , param =  [-1.54310571  0.77397631 -2.3326085 ]\n",
        "iter = "
       ]
      },
      {
       "output_type": "stream",
       "stream": "stdout",
       "text": [
        " 431 , lhood =  -0.037346717923 , pred =  0 , acc =  0.99245251721 , param =  [-1.54313681  0.77578454 -2.33261084]\n",
        "iter = "
       ]
      },
      {
       "output_type": "stream",
       "stream": "stdout",
       "text": [
        " 432 , lhood =  -0.0373434477091 , pred =  0 , acc =  0.99245251721 , param =  [-1.54316786  0.77759267 -2.3326131 ]\n",
        "iter = "
       ]
      },
      {
       "output_type": "stream",
       "stream": "stdout",
       "text": [
        " 433 , lhood =  -0.0373401778588 , pred =  0 , acc =  0.99245251721 , param =  [-1.54319886  0.7794007  -2.33261528]\n",
        "iter = "
       ]
      },
      {
       "output_type": "stream",
       "stream": "stdout",
       "text": [
        " 434 , lhood =  -0.0373369083725 , pred =  0 , acc =  0.99245251721 , param =  [-1.54322981  0.78120863 -2.33261739]\n",
        "iter = "
       ]
      },
      {
       "output_type": "stream",
       "stream": "stdout",
       "text": [
        " 435 , lhood =  -0.0373336392503 , pred =  0 , acc =  0.99245251721 , param =  [-1.54326071  0.78301646 -2.33261942]\n",
        "iter = "
       ]
      },
      {
       "output_type": "stream",
       "stream": "stdout",
       "text": [
        " 436 , lhood =  -0.0373303704927 , pred =  0 , acc =  0.99245251721 , param =  [-1.54329156  0.78482419 -2.33262138]\n",
        "iter = "
       ]
      },
      {
       "output_type": "stream",
       "stream": "stdout",
       "text": [
        " 437 , lhood =  -0.0373271020999 , pred =  0 , acc =  0.99245251721 , param =  [-1.54332237  0.78663182 -2.33262327]\n",
        "iter = "
       ]
      },
      {
       "output_type": "stream",
       "stream": "stdout",
       "text": [
        " 438 , lhood =  -0.0373238340721 , pred =  0 , acc =  0.99245251721 , param =  [-1.54335314  0.78843936 -2.33262509]\n",
        "iter = "
       ]
      },
      {
       "output_type": "stream",
       "stream": "stdout",
       "text": [
        " 439 , lhood =  -0.0373205664098 , pred =  0 , acc =  0.99245251721 , param =  [-1.54338386  0.79024679 -2.33262684]\n",
        "iter = "
       ]
      },
      {
       "output_type": "stream",
       "stream": "stdout",
       "text": [
        " 440 , lhood =  -0.0373172991131 , pred =  0 , acc =  0.99245251721 , param =  [-1.54341454  0.79205412 -2.33262853]\n",
        "iter = "
       ]
      },
      {
       "output_type": "stream",
       "stream": "stdout",
       "text": [
        " 441 , lhood =  -0.0373140321824 , pred =  0 , acc =  0.99245251721 , param =  [-1.54344517  0.79386135 -2.33263014]\n",
        "iter = "
       ]
      },
      {
       "output_type": "stream",
       "stream": "stdout",
       "text": [
        " 442 , lhood =  -0.037310765618 , pred =  0 , acc =  0.99245251721 , param =  [-1.54347577  0.79566848 -2.3326317 ]\n",
        "iter = "
       ]
      },
      {
       "output_type": "stream",
       "stream": "stdout",
       "text": [
        " 443 , lhood =  -0.0373074994202 , pred =  0 , acc =  0.99245251721 , param =  [-1.54350633  0.79747551 -2.33263319]\n",
        "iter = "
       ]
      },
      {
       "output_type": "stream",
       "stream": "stdout",
       "text": [
        " 444 , lhood =  -0.0373042335893 , pred =  0 , acc =  0.99245251721 , param =  [-1.54353685  0.79928243 -2.33263461]\n",
        "iter = "
       ]
      },
      {
       "output_type": "stream",
       "stream": "stdout",
       "text": [
        " 445 , lhood =  -0.0373009681256 , pred =  0 , acc =  0.99245251721 , param =  [-1.54356733  0.80108926 -2.33263598]\n",
        "iter = "
       ]
      },
      {
       "output_type": "stream",
       "stream": "stdout",
       "text": [
        " 446 , lhood =  -0.0372977030294 , pred =  0 , acc =  0.99245251721 , param =  [-1.54359777  0.80289599 -2.33263728]\n",
        "iter = "
       ]
      },
      {
       "output_type": "stream",
       "stream": "stdout",
       "text": [
        " 447 , lhood =  -0.037294438301 , pred =  0 , acc =  0.99245251721 , param =  [-1.54362818  0.80470261 -2.33263853]\n",
        "iter = "
       ]
      },
      {
       "output_type": "stream",
       "stream": "stdout",
       "text": [
        " 448 , lhood =  -0.0372911739407 , pred =  0 , acc =  0.99245251721 , param =  [-1.54365856  0.80650914 -2.33263971]\n",
        "iter = "
       ]
      },
      {
       "output_type": "stream",
       "stream": "stdout",
       "text": [
        " 449 , lhood =  -0.0372879099488 , pred =  0 , acc =  0.99245251721 , param =  [-1.5436889   0.80831556 -2.33264084]\n",
        "iter = "
       ]
      },
      {
       "output_type": "stream",
       "stream": "stdout",
       "text": [
        " 450 , lhood =  -0.0372846463256 , pred =  0 , acc =  0.99245251721 , param =  [-1.54371921  0.81012188 -2.33264191]\n",
        "iter = "
       ]
      },
      {
       "output_type": "stream",
       "stream": "stdout",
       "text": [
        " 451 , lhood =  -0.0372813830715 , pred =  0 , acc =  0.99245251721 , param =  [-1.54374949  0.8119281  -2.33264293]\n",
        "iter = "
       ]
      },
      {
       "output_type": "stream",
       "stream": "stdout",
       "text": [
        " 452 , lhood =  -0.0372781201867 , pred =  0 , acc =  0.99245251721 , param =  [-1.54377973  0.81373422 -2.33264389]\n",
        "iter = "
       ]
      },
      {
       "output_type": "stream",
       "stream": "stdout",
       "text": [
        " 453 , lhood =  -0.0372748576716 , pred =  0 , acc =  0.99245251721 , param =  [-1.54380995  0.81554023 -2.3326448 ]\n",
        "iter = "
       ]
      },
      {
       "output_type": "stream",
       "stream": "stdout",
       "text": [
        " 454 , lhood =  -0.0372715955265 , pred =  0 , acc =  0.99245251721 , param =  [-1.54384013  0.81734615 -2.33264566]\n",
        "iter = "
       ]
      },
      {
       "output_type": "stream",
       "stream": "stdout",
       "text": [
        " 455 , lhood =  -0.0372683337516 , pred =  0 , acc =  0.99245251721 , param =  [-1.54387029  0.81915196 -2.33264646]\n",
        "iter = "
       ]
      },
      {
       "output_type": "stream",
       "stream": "stdout",
       "text": [
        " 456 , lhood =  -0.0372650723474 , pred =  0 , acc =  0.99245251721 , param =  [-1.54390042  0.82095767 -2.33264721]\n",
        "iter = "
       ]
      },
      {
       "output_type": "stream",
       "stream": "stdout",
       "text": [
        " 457 , lhood =  -0.0372618113141 , pred =  0 , acc =  0.99245251721 , param =  [-1.54393052  0.82276328 -2.33264792]\n",
        "iter = "
       ]
      },
      {
       "output_type": "stream",
       "stream": "stdout",
       "text": [
        " 458 , lhood =  -0.037258550652 , pred =  0 , acc =  0.99245251721 , param =  [-1.54396059  0.82456878 -2.33264857]\n",
        "iter = "
       ]
      },
      {
       "output_type": "stream",
       "stream": "stdout",
       "text": [
        " 459 , lhood =  -0.0372552903614 , pred =  0 , acc =  0.99245251721 , param =  [-1.54399064  0.82637419 -2.33264918]\n",
        "iter = "
       ]
      },
      {
       "output_type": "stream",
       "stream": "stdout",
       "text": [
        " 460 , lhood =  -0.0372520304428 , pred =  0 , acc =  0.99245251721 , param =  [-1.54402067  0.82817949 -2.33264974]\n",
        "iter = "
       ]
      },
      {
       "output_type": "stream",
       "stream": "stdout",
       "text": [
        " 461 , lhood =  -0.0372487708963 , pred =  0 , acc =  0.99245251721 , param =  [-1.54405067  0.82998468 -2.33265025]\n",
        "iter = "
       ]
      },
      {
       "output_type": "stream",
       "stream": "stdout",
       "text": [
        " 462 , lhood =  -0.0372455117223 , pred =  0 , acc =  0.99245251721 , param =  [-1.54408065  0.83178978 -2.33265072]\n",
        "iter = "
       ]
      },
      {
       "output_type": "stream",
       "stream": "stdout",
       "text": [
        " 463 , lhood =  -0.0372422529212 , pred =  0 , acc =  0.99245251721 , param =  [-1.5441106   0.83359477 -2.33265115]\n",
        "iter = "
       ]
      },
      {
       "output_type": "stream",
       "stream": "stdout",
       "text": [
        " 464 , lhood =  -0.0372389944932 , pred =  0 , acc =  0.99245251721 , param =  [-1.54414053  0.83539966 -2.33265152]\n",
        "iter = "
       ]
      },
      {
       "output_type": "stream",
       "stream": "stdout",
       "text": [
        " 465 , lhood =  -0.0372357364387 , pred =  0 , acc =  0.99245251721 , param =  [-1.54417045  0.83720445 -2.33265186]\n",
        "iter = "
       ]
      },
      {
       "output_type": "stream",
       "stream": "stdout",
       "text": [
        " 466 , lhood =  -0.0372324787579 , pred =  0 , acc =  0.99245251721 , param =  [-1.54420034  0.83900913 -2.33265215]\n",
        "iter = "
       ]
      },
      {
       "output_type": "stream",
       "stream": "stdout",
       "text": [
        " 467 , lhood =  -0.0372292214513 , pred =  0 , acc =  0.99245251721 , param =  [-1.54423021  0.84081371 -2.33265241]\n",
        "iter = "
       ]
      },
      {
       "output_type": "stream",
       "stream": "stdout",
       "text": [
        " 468 , lhood =  -0.0372259645191 , pred =  0 , acc =  0.99245251721 , param =  [-1.54426006  0.84261819 -2.33265262]\n",
        "iter = "
       ]
      },
      {
       "output_type": "stream",
       "stream": "stdout",
       "text": [
        " 469 , lhood =  -0.0372227079617 , pred =  0 , acc =  0.99245251721 , param =  [-1.54428989  0.84442256 -2.33265279]\n",
        "iter = "
       ]
      },
      {
       "output_type": "stream",
       "stream": "stdout",
       "text": [
        " 470 , lhood =  -0.0372194517794 , pred =  0 , acc =  0.99245251721 , param =  [-1.54431971  0.84622683 -2.33265292]\n",
        "iter = "
       ]
      },
      {
       "output_type": "stream",
       "stream": "stdout",
       "text": [
        " 471 , lhood =  -0.0372161959725 , pred =  0 , acc =  0.99245251721 , param =  [-1.54434951  0.84803099 -2.33265301]\n",
        "iter = "
       ]
      },
      {
       "output_type": "stream",
       "stream": "stdout",
       "text": [
        " 472 , lhood =  -0.0372129405413 , pred =  0 , acc =  0.99245251721 , param =  [-1.54437929  0.84983505 -2.33265307]\n",
        "iter = "
       ]
      },
      {
       "output_type": "stream",
       "stream": "stdout",
       "text": [
        " 473 , lhood =  -0.0372096854863 , pred =  0 , acc =  0.99245251721 , param =  [-1.54440905  0.85163901 -2.33265309]\n",
        "iter = "
       ]
      },
      {
       "output_type": "stream",
       "stream": "stdout",
       "text": [
        " 474 , lhood =  -0.0372064308076 , pred =  0 , acc =  0.99245251721 , param =  [-1.5444388   0.85344287 -2.33265307]\n",
        "iter = "
       ]
      },
      {
       "output_type": "stream",
       "stream": "stdout",
       "text": [
        " 475 , lhood =  -0.0372031765056 , pred =  0 , acc =  0.99245251721 , param =  [-1.54446854  0.85524662 -2.33265301]\n",
        "iter = "
       ]
      },
      {
       "output_type": "stream",
       "stream": "stdout",
       "text": [
        " 476 , lhood =  -0.0371999225806 , pred =  0 , acc =  0.99245251721 , param =  [-1.54449826  0.85705026 -2.33265292]\n",
        "iter = "
       ]
      },
      {
       "output_type": "stream",
       "stream": "stdout",
       "text": [
        " 477 , lhood =  -0.0371966690331 , pred =  0 , acc =  0.99245251721 , param =  [-1.54452796  0.8588538  -2.3326528 ]\n",
        "iter = "
       ]
      },
      {
       "output_type": "stream",
       "stream": "stdout",
       "text": [
        " 478 , lhood =  -0.0371934158633 , pred =  0 , acc =  0.99245251721 , param =  [-1.54455766  0.86065724 -2.33265264]\n",
        "iter = "
       ]
      },
      {
       "output_type": "stream",
       "stream": "stdout",
       "text": [
        " 479 , lhood =  -0.0371901630715 , pred =  0 , acc =  0.99245251721 , param =  [-1.54458734  0.86246057 -2.33265245]\n",
        "iter = "
       ]
      },
      {
       "output_type": "stream",
       "stream": "stdout",
       "text": [
        " 480 , lhood =  -0.037186910658 , pred =  0 , acc =  0.99245251721 , param =  [-1.544617    0.8642638  -2.33265222]\n",
        "iter = "
       ]
      },
      {
       "output_type": "stream",
       "stream": "stdout",
       "text": [
        " 481 , lhood =  -0.0371836586233 , pred =  0 , acc =  0.99245251721 , param =  [-1.54464666  0.86606692 -2.33265196]\n",
        "iter = "
       ]
      },
      {
       "output_type": "stream",
       "stream": "stdout",
       "text": [
        " 482 , lhood =  -0.0371804069676 , pred =  0 , acc =  0.99245251721 , param =  [-1.54467631  0.86786994 -2.33265167]\n",
        "iter = "
       ]
      },
      {
       "output_type": "stream",
       "stream": "stdout",
       "text": [
        " 483 , lhood =  -0.0371771556913 , pred =  0 , acc =  0.99245251721 , param =  [-1.54470594  0.86967285 -2.33265135]\n",
        "iter = "
       ]
      },
      {
       "output_type": "stream",
       "stream": "stdout",
       "text": [
        " 484 , lhood =  -0.0371739047947 , pred =  0 , acc =  0.99245251721 , param =  [-1.54473556  0.87147566 -2.332651  ]\n",
        "iter = "
       ]
      },
      {
       "output_type": "stream",
       "stream": "stdout",
       "text": [
        " 485 , lhood =  -0.0371706542781 , pred =  0 , acc =  0.99245251721 , param =  [-1.54476518  0.87327836 -2.33265062]\n",
        "iter = "
       ]
      },
      {
       "output_type": "stream",
       "stream": "stdout",
       "text": [
        " 486 , lhood =  -0.0371674041418 , pred =  0 , acc =  0.99245251721 , param =  [-1.54479478  0.87508095 -2.33265021]\n",
        "iter = "
       ]
      },
      {
       "output_type": "stream",
       "stream": "stdout",
       "text": [
        " 487 , lhood =  -0.0371641543863 , pred =  0 , acc =  0.99245251721 , param =  [-1.54482438  0.87688345 -2.33264977]\n",
        "iter = "
       ]
      },
      {
       "output_type": "stream",
       "stream": "stdout",
       "text": [
        " 488 , lhood =  -0.0371609050117 , pred =  0 , acc =  0.99245251721 , param =  [-1.54485397  0.87868583 -2.3326493 ]\n",
        "iter = "
       ]
      },
      {
       "output_type": "stream",
       "stream": "stdout",
       "text": [
        " 489 , lhood =  -0.0371576560186 , pred =  0 , acc =  0.99245251721 , param =  [-1.54488355  0.88048811 -2.33264881]\n",
        "iter = "
       ]
      },
      {
       "output_type": "stream",
       "stream": "stdout",
       "text": [
        " 490 , lhood =  -0.0371544074072 , pred =  0 , acc =  0.99245251721 , param =  [-1.54491312  0.88229029 -2.33264829]\n",
        "iter = "
       ]
      },
      {
       "output_type": "stream",
       "stream": "stdout",
       "text": [
        " 491 , lhood =  -0.0371511591777 , pred =  0 , acc =  0.99245251721 , param =  [-1.54494269  0.88409235 -2.33264774]\n",
        "iter = "
       ]
      },
      {
       "output_type": "stream",
       "stream": "stdout",
       "text": [
        " 492 , lhood =  -0.0371479113307 , pred =  0 , acc =  0.99245251721 , param =  [-1.54497225  0.88589432 -2.33264716]\n",
        "iter = "
       ]
      },
      {
       "output_type": "stream",
       "stream": "stdout",
       "text": [
        " 493 , lhood =  -0.0371446638664 , pred =  0 , acc =  0.99245251721 , param =  [-1.5450018   0.88769617 -2.33264656]\n",
        "iter = "
       ]
      },
      {
       "output_type": "stream",
       "stream": "stdout",
       "text": [
        " 494 , lhood =  -0.0371414167851 , pred =  0 , acc =  0.99245251721 , param =  [-1.54503135  0.88949792 -2.33264593]\n",
        "iter = "
       ]
      },
      {
       "output_type": "stream",
       "stream": "stdout",
       "text": [
        " 495 , lhood =  -0.0371381700872 , pred =  0 , acc =  0.99245251721 , param =  [-1.5450609   0.89129957 -2.33264528]\n",
        "iter = "
       ]
      },
      {
       "output_type": "stream",
       "stream": "stdout",
       "text": [
        " 496 , lhood =  -0.037134923773 , pred =  0 , acc =  0.99245251721 , param =  [-1.54509043  0.8931011  -2.3326446 ]\n",
        "iter = "
       ]
      },
      {
       "output_type": "stream",
       "stream": "stdout",
       "text": [
        " 497 , lhood =  -0.0371316778428 , pred =  0 , acc =  0.99245251721 , param =  [-1.54511997  0.89490254 -2.3326439 ]\n",
        "iter = "
       ]
      },
      {
       "output_type": "stream",
       "stream": "stdout",
       "text": [
        " 498 , lhood =  -0.0371284322971 , pred =  0 , acc =  0.99245251721 , param =  [-1.5451495   0.89670386 -2.33264318]\n",
        "iter = "
       ]
      },
      {
       "output_type": "stream",
       "stream": "stdout",
       "text": [
        " 499 , lhood =  -0.0371251871361 , pred =  0 , acc =  0.99245251721 , param =  [-1.54517902  0.89850508 -2.33264243]\n",
        "iter = "
       ]
      },
      {
       "output_type": "stream",
       "stream": "stdout",
       "text": [
        " 500 , lhood =  -0.0371219423602 , pred =  0 , acc =  0.99245251721 , param =  [-1.54520855  0.90030619 -2.33264166]\n",
        "iter = "
       ]
      },
      {
       "output_type": "stream",
       "stream": "stdout",
       "text": [
        " 501 , lhood =  -0.0371186979696 , pred =  0 , acc =  0.99245251721 , param =  [-1.54523807  0.90210719 -2.33264086]\n",
        "iter = "
       ]
      },
      {
       "output_type": "stream",
       "stream": "stdout",
       "text": [
        " 502 , lhood =  -0.0371154539649 , pred =  0 , acc =  0.99245251721 , param =  [-1.54526759  0.90390809 -2.33264005]\n",
        "iter = "
       ]
      },
      {
       "output_type": "stream",
       "stream": "stdout",
       "text": [
        " 503 , lhood =  -0.0371122103462 , pred =  0 , acc =  0.99245251721 , param =  [-1.5452971   0.90570888 -2.33263921]\n",
        "iter = "
       ]
      },
      {
       "output_type": "stream",
       "stream": "stdout",
       "text": [
        " 504 , lhood =  -0.0371089671139 , pred =  0 , acc =  0.99245251721 , param =  [-1.54532662  0.90750956 -2.33263836]\n",
        "iter = "
       ]
      },
      {
       "output_type": "stream",
       "stream": "stdout",
       "text": [
        " 505 , lhood =  -0.0371057242684 , pred =  0 , acc =  0.99245251721 , param =  [-1.54535613  0.90931014 -2.33263748]\n",
        "iter = "
       ]
      },
      {
       "output_type": "stream",
       "stream": "stdout",
       "text": [
        " 506 , lhood =  -0.0371024818101 , pred =  0 , acc =  0.99245251721 , param =  [-1.54538564  0.9111106  -2.33263658]\n",
        "iter = "
       ]
      },
      {
       "output_type": "stream",
       "stream": "stdout",
       "text": [
        " 507 , lhood =  -0.0370992397391 , pred =  0 , acc =  0.99245251721 , param =  [-1.54541515  0.91291096 -2.33263566]\n",
        "iter = "
       ]
      },
      {
       "output_type": "stream",
       "stream": "stdout",
       "text": [
        " 508 , lhood =  -0.037095998056 , pred =  0 , acc =  0.99245251721 , param =  [-1.54544466  0.91471122 -2.33263473]\n",
        "iter = "
       ]
      },
      {
       "output_type": "stream",
       "stream": "stdout",
       "text": [
        " 509 , lhood =  -0.037092756761 , pred =  0 , acc =  0.99245251721 , param =  [-1.54547417  0.91651136 -2.33263377]\n",
        "iter = "
       ]
      },
      {
       "output_type": "stream",
       "stream": "stdout",
       "text": [
        " 510 , lhood =  -0.0370895158545 , pred =  0 , acc =  0.99245251721 , param =  [-1.54550368  0.9183114  -2.33263279]\n",
        "iter = "
       ]
      },
      {
       "output_type": "stream",
       "stream": "stdout",
       "text": [
        " 511 , lhood =  -0.0370862753368 , pred =  0 , acc =  0.99245251721 , param =  [-1.5455332   0.92011133 -2.3326318 ]\n",
        "iter = "
       ]
      },
      {
       "output_type": "stream",
       "stream": "stdout",
       "text": [
        " 512 , lhood =  -0.0370830352083 , pred =  0 , acc =  0.99245251721 , param =  [-1.54556271  0.92191115 -2.33263079]\n",
        "iter = "
       ]
      },
      {
       "output_type": "stream",
       "stream": "stdout",
       "text": [
        " 513 , lhood =  -0.0370797954692 , pred =  0 , acc =  0.99245251721 , param =  [-1.54559222  0.92371086 -2.33262976]\n",
        "iter = "
       ]
      },
      {
       "output_type": "stream",
       "stream": "stdout",
       "text": [
        " 514 , lhood =  -0.0370765561201 , pred =  0 , acc =  0.99245251721 , param =  [-1.54562174  0.92551046 -2.33262871]\n",
        "iter = "
       ]
      },
      {
       "output_type": "stream",
       "stream": "stdout",
       "text": [
        " 515 , lhood =  -0.0370733171611 , pred =  0 , acc =  0.99245251721 , param =  [-1.54565126  0.92730996 -2.33262765]\n",
        "iter = "
       ]
      },
      {
       "output_type": "stream",
       "stream": "stdout",
       "text": [
        " 516 , lhood =  -0.0370700785926 , pred =  0 , acc =  0.99245251721 , param =  [-1.54568077  0.92910934 -2.33262657]\n",
        "iter = "
       ]
      },
      {
       "output_type": "stream",
       "stream": "stdout",
       "text": [
        " 517 , lhood =  -0.0370668404151 , pred =  0 , acc =  0.99245251721 , param =  [-1.5457103   0.93090862 -2.33262547]\n",
        "iter = "
       ]
      },
      {
       "output_type": "stream",
       "stream": "stdout",
       "text": [
        " 518 , lhood =  -0.0370636026287 , pred =  0 , acc =  0.99245251721 , param =  [-1.54573982  0.93270779 -2.33262436]\n",
        "iter = "
       ]
      },
      {
       "output_type": "stream",
       "stream": "stdout",
       "text": [
        " 519 , lhood =  -0.0370603652339 , pred =  0 , acc =  0.99245251721 , param =  [-1.54576935  0.93450685 -2.33262323]\n",
        "iter = "
       ]
      },
      {
       "output_type": "stream",
       "stream": "stdout",
       "text": [
        " 520 , lhood =  -0.0370571282311 , pred =  0 , acc =  0.99245251721 , param =  [-1.54579888  0.93630581 -2.33262208]\n",
        "iter = "
       ]
      },
      {
       "output_type": "stream",
       "stream": "stdout",
       "text": [
        " 521 , lhood =  -0.0370538916205 , pred =  0 , acc =  0.99245251721 , param =  [-1.54582841  0.93810465 -2.33262092]\n",
        "iter = "
       ]
      },
      {
       "output_type": "stream",
       "stream": "stdout",
       "text": [
        " 522 , lhood =  -0.0370506554025 , pred =  0 , acc =  0.99245251721 , param =  [-1.54585795  0.93990338 -2.33261975]\n",
        "iter = "
       ]
      },
      {
       "output_type": "stream",
       "stream": "stdout",
       "text": [
        " 523 , lhood =  -0.0370474195775 , pred =  0 , acc =  0.99245251721 , param =  [-1.54588749  0.94170201 -2.33261856]\n",
        "iter = "
       ]
      },
      {
       "output_type": "stream",
       "stream": "stdout",
       "text": [
        " 524 , lhood =  -0.0370441841457 , pred =  0 , acc =  0.99245251721 , param =  [-1.54591704  0.94350052 -2.33261736]\n",
        "iter = "
       ]
      },
      {
       "output_type": "stream",
       "stream": "stdout",
       "text": [
        " 525 , lhood =  -0.0370409491076 , pred =  0 , acc =  0.99245251721 , param =  [-1.54594659  0.94529893 -2.33261614]\n",
        "iter = "
       ]
      },
      {
       "output_type": "stream",
       "stream": "stdout",
       "text": [
        " 526 , lhood =  -0.0370377144635 , pred =  0 , acc =  0.99245251721 , param =  [-1.54597615  0.94709722 -2.33261491]\n",
        "iter = "
       ]
      },
      {
       "output_type": "stream",
       "stream": "stdout",
       "text": [
        " 527 , lhood =  -0.0370344802138 , pred =  0 , acc =  0.99245251721 , param =  [-1.54600571  0.94889541 -2.33261366]\n",
        "iter = "
       ]
      },
      {
       "output_type": "stream",
       "stream": "stdout",
       "text": [
        " 528 , lhood =  -0.0370312463587 , pred =  0 , acc =  0.99245251721 , param =  [-1.54603528  0.95069348 -2.3326124 ]\n",
        "iter = "
       ]
      },
      {
       "output_type": "stream",
       "stream": "stdout",
       "text": [
        " 529 , lhood =  -0.0370280128986 , pred =  0 , acc =  0.99245251721 , param =  [-1.54606485  0.95249145 -2.33261113]\n",
        "iter = "
       ]
      },
      {
       "output_type": "stream",
       "stream": "stdout",
       "text": [
        " 530 , lhood =  -0.037024779834 , pred =  0 , acc =  0.99245251721 , param =  [-1.54609443  0.95428931 -2.33260985]\n",
        "iter = "
       ]
      },
      {
       "output_type": "stream",
       "stream": "stdout",
       "text": [
        " 531 , lhood =  -0.037021547165 , pred =  0 , acc =  0.99245251721 , param =  [-1.54612401  0.95608705 -2.33260855]\n",
        "iter = "
       ]
      },
      {
       "output_type": "stream",
       "stream": "stdout",
       "text": [
        " 532 , lhood =  -0.0370183148922 , pred =  0 , acc =  0.99245251721 , param =  [-1.5461536   0.95788469 -2.33260724]\n",
        "iter = "
       ]
      },
      {
       "output_type": "stream",
       "stream": "stdout",
       "text": [
        " 533 , lhood =  -0.0370150830157 , pred =  0 , acc =  0.99245251721 , param =  [-1.5461832   0.95968221 -2.33260592]\n",
        "iter = "
       ]
      },
      {
       "output_type": "stream",
       "stream": "stdout",
       "text": [
        " 534 , lhood =  -0.0370118515361 , pred =  0 , acc =  0.99245251721 , param =  [-1.5462128   0.96147963 -2.33260459]\n",
        "iter = "
       ]
      },
      {
       "output_type": "stream",
       "stream": "stdout",
       "text": [
        " 535 , lhood =  -0.0370086204535 , pred =  0 , acc =  0.99245251721 , param =  [-1.54624241  0.96327693 -2.33260324]\n",
        "iter = "
       ]
      },
      {
       "output_type": "stream",
       "stream": "stdout",
       "text": [
        " 536 , lhood =  -0.0370053897685 , pred =  0 , acc =  0.99245251721 , param =  [-1.54627203  0.96507413 -2.33260189]\n",
        "iter = "
       ]
      },
      {
       "output_type": "stream",
       "stream": "stdout",
       "text": [
        " 537 , lhood =  -0.0370021594812 , pred =  0 , acc =  0.99245251721 , param =  [-1.54630166  0.96687121 -2.33260052]\n",
        "iter = "
       ]
      },
      {
       "output_type": "stream",
       "stream": "stdout",
       "text": [
        " 538 , lhood =  -0.0369989295922 , pred =  0 , acc =  0.99245251721 , param =  [-1.54633129  0.96866818 -2.33259914]\n",
        "iter = "
       ]
      },
      {
       "output_type": "stream",
       "stream": "stdout",
       "text": [
        " 539 , lhood =  -0.0369957001016 , pred =  0 , acc =  0.99245251721 , param =  [-1.54636093  0.97046504 -2.33259776]\n",
        "iter = "
       ]
      },
      {
       "output_type": "stream",
       "stream": "stdout",
       "text": [
        " 540 , lhood =  -0.0369924710099 , pred =  0 , acc =  0.99245251721 , param =  [-1.54639058  0.97226179 -2.33259636]\n",
        "iter = "
       ]
      },
      {
       "output_type": "stream",
       "stream": "stdout",
       "text": [
        " 541 , lhood =  -0.0369892423175 , pred =  0 , acc =  0.99245251721 , param =  [-1.54642024  0.97405843 -2.33259495]\n",
        "iter = "
       ]
      },
      {
       "output_type": "stream",
       "stream": "stdout",
       "text": [
        " 542 , lhood =  -0.0369860140246 , pred =  0 , acc =  0.99245251721 , param =  [-1.5464499   0.97585496 -2.33259353]\n",
        "iter = "
       ]
      },
      {
       "output_type": "stream",
       "stream": "stdout",
       "text": [
        " 543 , lhood =  -0.0369827861316 , pred =  0 , acc =  0.99245251721 , param =  [-1.54647957  0.97765138 -2.3325921 ]\n",
        "iter = "
       ]
      },
      {
       "output_type": "stream",
       "stream": "stdout",
       "text": [
        " 544 , lhood =  -0.036979558639 , pred =  0 , acc =  0.99245251721 , param =  [-1.54650926  0.97944768 -2.33259067]\n",
        "iter = "
       ]
      },
      {
       "output_type": "stream",
       "stream": "stdout",
       "text": [
        " 545 , lhood =  -0.0369763315469 , pred =  0 , acc =  0.99245251721 , param =  [-1.54653895  0.98124387 -2.33258922]\n",
        "iter = "
       ]
      },
      {
       "output_type": "stream",
       "stream": "stdout",
       "text": [
        " 546 , lhood =  -0.0369731048558 , pred =  0 , acc =  0.99245251721 , param =  [-1.54656865  0.98303995 -2.33258776]\n",
        "iter = "
       ]
      },
      {
       "output_type": "stream",
       "stream": "stdout",
       "text": [
        " 547 , lhood =  -0.0369698785661 , pred =  0 , acc =  0.99245251721 , param =  [-1.54659836  0.98483592 -2.3325863 ]\n",
        "iter = "
       ]
      },
      {
       "output_type": "stream",
       "stream": "stdout",
       "text": [
        " 548 , lhood =  -0.036966652678 , pred =  0 , acc =  0.99245251721 , param =  [-1.54662808  0.98663178 -2.33258482]\n",
        "iter = "
       ]
      },
      {
       "output_type": "stream",
       "stream": "stdout",
       "text": [
        " 549 , lhood =  -0.036963427192 , pred =  0 , acc =  0.99245251721 , param =  [-1.54665781  0.98842753 -2.33258334]\n",
        "iter = "
       ]
      },
      {
       "output_type": "stream",
       "stream": "stdout",
       "text": [
        " 550 , lhood =  -0.0369602021084 , pred =  0 , acc =  0.99245251721 , param =  [-1.54668755  0.99022316 -2.33258185]\n",
        "iter = "
       ]
      },
      {
       "output_type": "stream",
       "stream": "stdout",
       "text": [
        " 551 , lhood =  -0.0369569774275 , pred =  0 , acc =  0.99245251721 , param =  [-1.54671729  0.99201868 -2.33258035]\n",
        "iter = "
       ]
      },
      {
       "output_type": "stream",
       "stream": "stdout",
       "text": [
        " 552 , lhood =  -0.0369537531497 , pred =  0 , acc =  0.99245251721 , param =  [-1.54674705  0.99381409 -2.33257884]\n",
        "iter = "
       ]
      },
      {
       "output_type": "stream",
       "stream": "stdout",
       "text": [
        " 553 , lhood =  -0.0369505292754 , pred =  0 , acc =  0.99245251721 , param =  [-1.54677682  0.99560938 -2.33257733]\n",
        "iter = "
       ]
      },
      {
       "output_type": "stream",
       "stream": "stdout",
       "text": [
        " 554 , lhood =  -0.0369473058048 , pred =  0 , acc =  0.99245251721 , param =  [-1.5468066   0.99740457 -2.3325758 ]\n",
        "iter = "
       ]
      },
      {
       "output_type": "stream",
       "stream": "stdout",
       "text": [
        " 555 , lhood =  -0.0369440827384 , pred =  0 , acc =  0.99245251721 , param =  [-1.54683639  0.99919964 -2.33257427]\n",
        "iter = "
       ]
      },
      {
       "output_type": "stream",
       "stream": "stdout",
       "text": [
        " 556 , lhood =  -0.0369408600765 , pred =  0 , acc =  0.99245251721 , param =  [-1.54686619  1.00099459 -2.33257274]\n",
        "iter = "
       ]
      },
      {
       "output_type": "stream",
       "stream": "stdout",
       "text": [
        " 557 , lhood =  -0.0369376378195 , pred =  0 , acc =  0.99245251721 , param =  [-1.54689601  1.00278944 -2.33257119]\n",
        "iter = "
       ]
      },
      {
       "output_type": "stream",
       "stream": "stdout",
       "text": [
        " 558 , lhood =  -0.0369344159677 , pred =  0 , acc =  0.99245251721 , param =  [-1.54692583  1.00458417 -2.33256964]\n",
        "iter = "
       ]
      },
      {
       "output_type": "stream",
       "stream": "stdout",
       "text": [
        " 559 , lhood =  -0.0369311945215 , pred =  0 , acc =  0.99245251721 , param =  [-1.54695566  1.00637879 -2.33256808]\n",
        "iter = "
       ]
      },
      {
       "output_type": "stream",
       "stream": "stdout",
       "text": [
        " 560 , lhood =  -0.0369279734812 , pred =  0 , acc =  0.99245251721 , param =  [-1.54698551  1.00817329 -2.33256651]\n",
        "iter = "
       ]
      },
      {
       "output_type": "stream",
       "stream": "stdout",
       "text": [
        " 561 , lhood =  -0.0369247528472 , pred =  0 , acc =  0.99245251721 , param =  [-1.54701537  1.00996769 -2.33256494]\n",
        "iter = "
       ]
      },
      {
       "output_type": "stream",
       "stream": "stdout",
       "text": [
        " 562 , lhood =  -0.0369215326198 , pred =  0 , acc =  0.99245251721 , param =  [-1.54704524  1.01176196 -2.33256336]\n",
        "iter = "
       ]
      },
      {
       "output_type": "stream",
       "stream": "stdout",
       "text": [
        " 563 , lhood =  -0.0369183127994 , pred =  0 , acc =  0.99245251721 , param =  [-1.54707512  1.01355613 -2.33256178]\n",
        "iter = "
       ]
      },
      {
       "output_type": "stream",
       "stream": "stdout",
       "text": [
        " 564 , lhood =  -0.0369150933864 , pred =  0 , acc =  0.99245251721 , param =  [-1.54710501  1.01535018 -2.33256018]\n",
        "iter = "
       ]
      },
      {
       "output_type": "stream",
       "stream": "stdout",
       "text": [
        " 565 , lhood =  -0.0369118743811 , pred =  0 , acc =  0.99245251721 , param =  [-1.54713491  1.01714412 -2.33255859]\n",
        "iter = "
       ]
      },
      {
       "output_type": "stream",
       "stream": "stdout",
       "text": [
        " 566 , lhood =  -0.0369086557839 , pred =  0 , acc =  0.99245251721 , param =  [-1.54716483  1.01893794 -2.33255698]\n",
        "iter = "
       ]
      },
      {
       "output_type": "stream",
       "stream": "stdout",
       "text": [
        " 567 , lhood =  -0.036905437595 , pred =  0 , acc =  0.99245251721 , param =  [-1.54719476  1.02073165 -2.33255537]\n",
        "iter = "
       ]
      },
      {
       "output_type": "stream",
       "stream": "stdout",
       "text": [
        " 568 , lhood =  -0.036902219815 , pred =  0 , acc =  0.99245251721 , param =  [-1.5472247   1.02252524 -2.33255376]\n",
        "iter = "
       ]
      },
      {
       "output_type": "stream",
       "stream": "stdout",
       "text": [
        " 569 , lhood =  -0.036899002444 , pred =  0 , acc =  0.99245251721 , param =  [-1.54725466  1.02431872 -2.33255214]\n",
        "iter = "
       ]
      },
      {
       "output_type": "stream",
       "stream": "stdout",
       "text": [
        " 570 , lhood =  -0.0368957854825 , pred =  0 , acc =  0.99245251721 , param =  [-1.54728463  1.02611209 -2.33255051]\n",
        "iter = "
       ]
      },
      {
       "output_type": "stream",
       "stream": "stdout",
       "text": [
        " 571 , lhood =  -0.036892568931 , pred =  0 , acc =  0.99245251721 , param =  [-1.54731461  1.02790534 -2.33254888]\n",
        "iter = "
       ]
      },
      {
       "output_type": "stream",
       "stream": "stdout",
       "text": [
        " 572 , lhood =  -0.0368893527896 , pred =  0 , acc =  0.99245251721 , param =  [-1.5473446   1.02969848 -2.33254724]\n",
        "iter = "
       ]
      },
      {
       "output_type": "stream",
       "stream": "stdout",
       "text": [
        " 573 , lhood =  -0.0368861370587 , pred =  0 , acc =  0.99245251721 , param =  [-1.54737461  1.0314915  -2.3325456 ]\n",
        "iter = "
       ]
      },
      {
       "output_type": "stream",
       "stream": "stdout",
       "text": [
        " 574 , lhood =  -0.0368829217389 , pred =  0 , acc =  0.99245251721 , param =  [-1.54740463  1.03328441 -2.33254396]\n",
        "iter = "
       ]
      },
      {
       "output_type": "stream",
       "stream": "stdout",
       "text": [
        " 575 , lhood =  -0.0368797068302 , pred =  0 , acc =  0.99245251721 , param =  [-1.54743466  1.0350772  -2.33254231]\n",
        "iter = "
       ]
      },
      {
       "output_type": "stream",
       "stream": "stdout",
       "text": [
        " 576 , lhood =  -0.0368764923332 , pred =  0 , acc =  0.99245251721 , param =  [-1.54746471  1.03686988 -2.33254065]\n",
        "iter = "
       ]
      },
      {
       "output_type": "stream",
       "stream": "stdout",
       "text": [
        " 577 , lhood =  -0.0368732782482 , pred =  0 , acc =  0.99245251721 , param =  [-1.54749477  1.03866244 -2.33253899]\n",
        "iter = "
       ]
      },
      {
       "output_type": "stream",
       "stream": "stdout",
       "text": [
        " 578 , lhood =  -0.0368700645756 , pred =  0 , acc =  0.99245251721 , param =  [-1.54752484  1.04045489 -2.33253733]\n",
        "iter = "
       ]
      },
      {
       "output_type": "stream",
       "stream": "stdout",
       "text": [
        " 579 , lhood =  -0.0368668513157 , pred =  0 , acc =  0.99245251721 , param =  [-1.54755493  1.04224722 -2.33253566]\n",
        "iter = "
       ]
      },
      {
       "output_type": "stream",
       "stream": "stdout",
       "text": [
        " 580 , lhood =  -0.0368636384688 , pred =  0 , acc =  0.99245251721 , param =  [-1.54758503  1.04403944 -2.33253398]\n",
        "iter = "
       ]
      },
      {
       "output_type": "stream",
       "stream": "stdout",
       "text": [
        " 581 , lhood =  -0.0368604260354 , pred =  0 , acc =  0.99245251721 , param =  [-1.54761515  1.04583154 -2.33253231]\n",
        "iter = "
       ]
      },
      {
       "output_type": "stream",
       "stream": "stdout",
       "text": [
        " 582 , lhood =  -0.0368572140158 , pred =  0 , acc =  0.99245251721 , param =  [-1.54764528  1.04762353 -2.33253062]\n",
        "iter = "
       ]
      },
      {
       "output_type": "stream",
       "stream": "stdout",
       "text": [
        " 583 , lhood =  -0.0368540024104 , pred =  0 , acc =  0.99245251721 , param =  [-1.54767542  1.0494154  -2.33252894]\n",
        "iter = "
       ]
      },
      {
       "output_type": "stream",
       "stream": "stdout",
       "text": [
        " 584 , lhood =  -0.0368507912194 , pred =  0 , acc =  0.99245251721 , param =  [-1.54770558  1.05120715 -2.33252725]\n",
        "iter = "
       ]
      },
      {
       "output_type": "stream",
       "stream": "stdout",
       "text": [
        " 585 , lhood =  -0.0368475804433 , pred =  0 , acc =  0.99245251721 , param =  [-1.54773575  1.05299879 -2.33252556]\n",
        "iter = "
       ]
      },
      {
       "output_type": "stream",
       "stream": "stdout",
       "text": [
        " 586 , lhood =  -0.0368443700825 , pred =  0 , acc =  0.99245251721 , param =  [-1.54776594  1.05479031 -2.33252386]\n",
        "iter = "
       ]
      },
      {
       "output_type": "stream",
       "stream": "stdout",
       "text": [
        " 587 , lhood =  -0.0368411601372 , pred =  0 , acc =  0.99245251721 , param =  [-1.54779614  1.05658172 -2.33252216]\n",
        "iter = "
       ]
      },
      {
       "output_type": "stream",
       "stream": "stdout",
       "text": [
        " 588 , lhood =  -0.0368379506079 , pred =  0 , acc =  0.99245251721 , param =  [-1.54782636  1.05837301 -2.33252046]\n",
        "iter = "
       ]
      },
      {
       "output_type": "stream",
       "stream": "stdout",
       "text": [
        " 589 , lhood =  -0.036834741495 , pred =  0 , acc =  0.99245251721 , param =  [-1.54785659  1.06016418 -2.33251875]\n",
        "iter = "
       ]
      },
      {
       "output_type": "stream",
       "stream": "stdout",
       "text": [
        " 590 , lhood =  -0.0368315327987 , pred =  0 , acc =  0.99245251721 , param =  [-1.54788684  1.06195524 -2.33251704]\n",
        "iter = "
       ]
      },
      {
       "output_type": "stream",
       "stream": "stdout",
       "text": [
        " 591 , lhood =  -0.0368283245194 , pred =  0 , acc =  0.99245251721 , param =  [-1.5479171   1.06374618 -2.33251533]\n",
        "iter = "
       ]
      },
      {
       "output_type": "stream",
       "stream": "stdout",
       "text": [
        " 592 , lhood =  -0.0368251166576 , pred =  0 , acc =  0.99245251721 , param =  [-1.54794737  1.065537   -2.33251361]\n",
        "iter = "
       ]
      },
      {
       "output_type": "stream",
       "stream": "stdout",
       "text": [
        " 593 , lhood =  -0.0368219092135 , pred =  0 , acc =  0.99245251721 , param =  [-1.54797767  1.0673277  -2.3325119 ]\n",
        "iter = "
       ]
      },
      {
       "output_type": "stream",
       "stream": "stdout",
       "text": [
        " 594 , lhood =  -0.0368187021875 , pred =  0 , acc =  0.99245251721 , param =  [-1.54800797  1.06911829 -2.33251017]\n",
        "iter = "
       ]
      },
      {
       "output_type": "stream",
       "stream": "stdout",
       "text": [
        " 595 , lhood =  -0.0368154955801 , pred =  0 , acc =  0.99245251721 , param =  [-1.5480383   1.07090877 -2.33250845]\n",
        "iter = "
       ]
      },
      {
       "output_type": "stream",
       "stream": "stdout",
       "text": [
        " 596 , lhood =  -0.0368122893915 , pred =  0 , acc =  0.99245251721 , param =  [-1.54806863  1.07269912 -2.33250672]\n",
        "iter = "
       ]
      },
      {
       "output_type": "stream",
       "stream": "stdout",
       "text": [
        " 597 , lhood =  -0.0368090836221 , pred =  0 , acc =  0.99245251721 , param =  [-1.54809899  1.07448936 -2.33250499]\n",
        "iter = "
       ]
      },
      {
       "output_type": "stream",
       "stream": "stdout",
       "text": [
        " 598 , lhood =  -0.0368058782723 , pred =  0 , acc =  0.99245251721 , param =  [-1.54812936  1.07627948 -2.33250326]\n",
        "iter = "
       ]
      },
      {
       "output_type": "stream",
       "stream": "stdout",
       "text": [
        " 599 , lhood =  -0.0368026733424 , pred =  0 , acc =  0.99245251721 , param =  [-1.54815974  1.07806948 -2.33250153]\n",
        "iter = "
       ]
      },
      {
       "output_type": "stream",
       "stream": "stdout",
       "text": [
        " 600 , lhood =  -0.0367994688328 , pred =  0 , acc =  0.99245251721 , param =  [-1.54819014  1.07985936 -2.33249979]\n",
        "iter = "
       ]
      },
      {
       "output_type": "stream",
       "stream": "stdout",
       "text": [
        " 601 , lhood =  -0.0367962647439 , pred =  0 , acc =  0.99245251721 , param =  [-1.54822056  1.08164913 -2.33249805]\n",
        "iter = "
       ]
      },
      {
       "output_type": "stream",
       "stream": "stdout",
       "text": [
        " 602 , lhood =  -0.0367930610761 , pred =  0 , acc =  0.99245251721 , param =  [-1.54825099  1.08343878 -2.33249631]\n",
        "iter = "
       ]
      },
      {
       "output_type": "stream",
       "stream": "stdout",
       "text": [
        " 603 , lhood =  -0.0367898578296 , pred =  0 , acc =  0.99245251721 , param =  [-1.54828144  1.08522831 -2.33249456]\n",
        "iter = "
       ]
      },
      {
       "output_type": "stream",
       "stream": "stdout",
       "text": [
        " 604 , lhood =  -0.0367866550049 , pred =  0 , acc =  0.99245251721 , param =  [-1.54831191  1.08701773 -2.33249282]\n",
        "iter = "
       ]
      },
      {
       "output_type": "stream",
       "stream": "stdout",
       "text": [
        " 605 , lhood =  -0.0367834526023 , pred =  0 , acc =  0.99245251721 , param =  [-1.54834239  1.08880702 -2.33249107]\n",
        "iter = "
       ]
      },
      {
       "output_type": "stream",
       "stream": "stdout",
       "text": [
        " 606 , lhood =  -0.0367802506223 , pred =  0 , acc =  0.99245251721 , param =  [-1.54837288  1.0905962  -2.33248932]\n",
        "iter = "
       ]
      },
      {
       "output_type": "stream",
       "stream": "stdout",
       "text": [
        " 607 , lhood =  -0.036777049065 , pred =  0 , acc =  0.99245251721 , param =  [-1.5484034   1.09238525 -2.33248757]\n",
        "iter = "
       ]
      },
      {
       "output_type": "stream",
       "stream": "stdout",
       "text": [
        " 608 , lhood =  -0.036773847931 , pred =  0 , acc =  0.99245251721 , param =  [-1.54843393  1.09417419 -2.33248582]\n",
        "iter = "
       ]
      },
      {
       "output_type": "stream",
       "stream": "stdout",
       "text": [
        " 609 , lhood =  -0.0367706472206 , pred =  0 , acc =  0.99245251721 , param =  [-1.54846447  1.09596302 -2.33248406]\n",
        "iter = "
       ]
      },
      {
       "output_type": "stream",
       "stream": "stdout",
       "text": [
        " 610 , lhood =  -0.0367674469342 , pred =  0 , acc =  0.99245251721 , param =  [-1.54849504  1.09775172 -2.3324823 ]\n",
        "iter = "
       ]
      },
      {
       "output_type": "stream",
       "stream": "stdout",
       "text": [
        " 611 , lhood =  -0.036764247072 , pred =  0 , acc =  0.99245251721 , param =  [-1.54852562  1.0995403  -2.33248054]\n",
        "iter = "
       ]
      },
      {
       "output_type": "stream",
       "stream": "stdout",
       "text": [
        " 612 , lhood =  -0.0367610476346 , pred =  0 , acc =  0.99245251721 , param =  [-1.54855621  1.10132876 -2.33247878]\n",
        "iter = "
       ]
      },
      {
       "output_type": "stream",
       "stream": "stdout",
       "text": [
        " 613 , lhood =  -0.0367578486222 , pred =  0 , acc =  0.99245251721 , param =  [-1.54858683  1.10311711 -2.33247702]\n",
        "iter = "
       ]
      },
      {
       "output_type": "stream",
       "stream": "stdout",
       "text": [
        " 614 , lhood =  -0.0367546500352 , pred =  0 , acc =  0.99245251721 , param =  [-1.54861746  1.10490534 -2.33247526]\n",
        "iter = "
       ]
      },
      {
       "output_type": "stream",
       "stream": "stdout",
       "text": [
        " 615 , lhood =  -0.036751451874 , pred =  0 , acc =  0.99245251721 , param =  [-1.5486481   1.10669344 -2.33247349]\n",
        "iter = "
       ]
      },
      {
       "output_type": "stream",
       "stream": "stdout",
       "text": [
        " 616 , lhood =  -0.0367482541389 , pred =  0 , acc =  0.99245251721 , param =  [-1.54867877  1.10848143 -2.33247173]\n",
        "iter = "
       ]
      },
      {
       "output_type": "stream",
       "stream": "stdout",
       "text": [
        " 617 , lhood =  -0.0367450568304 , pred =  0 , acc =  0.99245251721 , param =  [-1.54870945  1.1102693  -2.33246996]\n",
        "iter = "
       ]
      },
      {
       "output_type": "stream",
       "stream": "stdout",
       "text": [
        " 618 , lhood =  -0.0367418599488 , pred =  0 , acc =  0.99245251721 , param =  [-1.54874015  1.11205705 -2.33246819]\n",
        "iter = "
       ]
      },
      {
       "output_type": "stream",
       "stream": "stdout",
       "text": [
        " 619 , lhood =  -0.0367386634944 , pred =  0 , acc =  0.99245251721 , param =  [-1.54877086  1.11384467 -2.33246642]\n",
        "iter = "
       ]
      },
      {
       "output_type": "stream",
       "stream": "stdout",
       "text": [
        " 620 , lhood =  -0.0367354674676 , pred =  0 , acc =  0.99245251721 , param =  [-1.5488016   1.11563218 -2.33246465]\n",
        "iter = "
       ]
      },
      {
       "output_type": "stream",
       "stream": "stdout",
       "text": [
        " 621 , lhood =  -0.0367322718688 , pred =  0 , acc =  0.99245251721 , param =  [-1.54883234  1.11741957 -2.33246288]\n",
        "iter = "
       ]
      },
      {
       "output_type": "stream",
       "stream": "stdout",
       "text": [
        " 622 , lhood =  -0.0367290766984 , pred =  0 , acc =  0.99245251721 , param =  [-1.54886311  1.11920684 -2.33246111]\n",
        "iter = "
       ]
      },
      {
       "output_type": "stream",
       "stream": "stdout",
       "text": [
        " 623 , lhood =  -0.0367258819567 , pred =  0 , acc =  0.99245251721 , param =  [-1.5488939   1.12099399 -2.33245934]\n",
        "iter = "
       ]
      },
      {
       "output_type": "stream",
       "stream": "stdout",
       "text": [
        " 624 , lhood =  -0.0367226876441 , pred =  0 , acc =  0.99245251721 , param =  [-1.5489247   1.12278101 -2.33245756]\n",
        "iter = "
       ]
      },
      {
       "output_type": "stream",
       "stream": "stdout",
       "text": [
        " 625 , lhood =  -0.036719493761 , pred =  0 , acc =  0.99245251721 , param =  [-1.54895552  1.12456792 -2.33245579]\n",
        "iter = "
       ]
      },
      {
       "output_type": "stream",
       "stream": "stdout",
       "text": [
        " 626 , lhood =  -0.0367163003077 , pred =  0 , acc =  0.99245251721 , param =  [-1.54898636  1.12635471 -2.33245401]\n",
        "iter = "
       ]
      },
      {
       "output_type": "stream",
       "stream": "stdout",
       "text": [
        " 627 , lhood =  -0.0367131072846 , pred =  0 , acc =  0.99245251721 , param =  [-1.54901721  1.12814137 -2.33245223]\n",
        "iter = "
       ]
      },
      {
       "output_type": "stream",
       "stream": "stdout",
       "text": [
        " 628 , lhood =  -0.036709914692 , pred =  0 , acc =  0.99245251721 , param =  [-1.54904808  1.12992792 -2.33245046]\n",
        "iter = "
       ]
      },
      {
       "output_type": "stream",
       "stream": "stdout",
       "text": [
        " 629 , lhood =  -0.0367067225304 , pred =  0 , acc =  0.99245251721 , param =  [-1.54907897  1.13171434 -2.33244868]\n",
        "iter = "
       ]
      },
      {
       "output_type": "stream",
       "stream": "stdout",
       "text": [
        " 630 , lhood =  -0.0367035308001 , pred =  0 , acc =  0.99245251721 , param =  [-1.54910988  1.13350065 -2.3324469 ]\n",
        "iter = "
       ]
      },
      {
       "output_type": "stream",
       "stream": "stdout",
       "text": [
        " 631 , lhood =  -0.0367003395015 , pred =  0 , acc =  0.99245251721 , param =  [-1.54914081  1.13528683 -2.33244512]\n",
        "iter = "
       ]
      },
      {
       "output_type": "stream",
       "stream": "stdout",
       "text": [
        " 632 , lhood =  -0.036697148635 , pred =  0 , acc =  0.99245251721 , param =  [-1.54917175  1.13707289 -2.33244334]\n",
        "iter = "
       ]
      },
      {
       "output_type": "stream",
       "stream": "stdout",
       "text": [
        " 633 , lhood =  -0.0366939582008 , pred =  0 , acc =  0.99245251721 , param =  [-1.54920271  1.13885883 -2.33244156]\n",
        "iter = "
       ]
      },
      {
       "output_type": "stream",
       "stream": "stdout",
       "text": [
        " 634 , lhood =  -0.0366907681995 , pred =  0 , acc =  0.99245251721 , param =  [-1.54923369  1.14064465 -2.33243978]\n",
        "iter = "
       ]
      },
      {
       "output_type": "stream",
       "stream": "stdout",
       "text": [
        " 635 , lhood =  -0.0366875786313 , pred =  0 , acc =  0.99245251721 , param =  [-1.54926469  1.14243034 -2.332438  ]\n",
        "iter = "
       ]
      },
      {
       "output_type": "stream",
       "stream": "stdout",
       "text": [
        " 636 , lhood =  -0.0366843894966 , pred =  0 , acc =  0.99245251721 , param =  [-1.54929571  1.14421592 -2.33243622]\n",
        "iter = "
       ]
      },
      {
       "output_type": "stream",
       "stream": "stdout",
       "text": [
        " 637 , lhood =  -0.0366812007959 , pred =  0 , acc =  0.99245251721 , param =  [-1.54932674  1.14600137 -2.33243443]\n",
        "iter = "
       ]
      },
      {
       "output_type": "stream",
       "stream": "stdout",
       "text": [
        " 638 , lhood =  -0.0366780125294 , pred =  0 , acc =  0.99245251721 , param =  [-1.5493578   1.1477867  -2.33243265]\n",
        "iter = "
       ]
      },
      {
       "output_type": "stream",
       "stream": "stdout",
       "text": [
        " 639 , lhood =  -0.0366748246975 , pred =  0 , acc =  0.99245251721 , param =  [-1.54938887  1.14957191 -2.33243087]\n",
        "iter = "
       ]
      },
      {
       "output_type": "stream",
       "stream": "stdout",
       "text": [
        " 640 , lhood =  -0.0366716373007 , pred =  0 , acc =  0.99245251721 , param =  [-1.54941996  1.151357   -2.33242909]\n",
        "iter = "
       ]
      },
      {
       "output_type": "stream",
       "stream": "stdout",
       "text": [
        " 641 , lhood =  -0.0366684503393 , pred =  0 , acc =  0.99245251721 , param =  [-1.54945106  1.15314197 -2.3324273 ]\n",
        "iter = "
       ]
      },
      {
       "output_type": "stream",
       "stream": "stdout",
       "text": [
        " 642 , lhood =  -0.0366652638136 , pred =  0 , acc =  0.99245251721 , param =  [-1.54948219  1.15492681 -2.33242552]\n",
        "iter = "
       ]
      },
      {
       "output_type": "stream",
       "stream": "stdout",
       "text": [
        " 643 , lhood =  -0.0366620777241 , pred =  0 , acc =  0.99245251721 , param =  [-1.54951333  1.15671153 -2.33242374]\n",
        "iter = "
       ]
      },
      {
       "output_type": "stream",
       "stream": "stdout",
       "text": [
        " 644 , lhood =  -0.036658892071 , pred =  0 , acc =  0.99245251721 , param =  [-1.5495445   1.15849613 -2.33242196]\n",
        "iter = "
       ]
      },
      {
       "output_type": "stream",
       "stream": "stdout",
       "text": [
        " 645 , lhood =  -0.0366557068549 , pred =  0 , acc =  0.99245251721 , param =  [-1.54957568  1.1602806  -2.33242017]\n",
        "iter = "
       ]
      },
      {
       "output_type": "stream",
       "stream": "stdout",
       "text": [
        " 646 , lhood =  -0.036652522076 , pred =  0 , acc =  0.99245251721 , param =  [-1.54960688  1.16206495 -2.33241839]\n",
        "iter = "
       ]
      },
      {
       "output_type": "stream",
       "stream": "stdout",
       "text": [
        " 647 , lhood =  -0.0366493377347 , pred =  0 , acc =  0.99245251721 , param =  [-1.5496381   1.16384918 -2.33241661]\n",
        "iter = "
       ]
      },
      {
       "output_type": "stream",
       "stream": "stdout",
       "text": [
        " 648 , lhood =  -0.0366461538314 , pred =  0 , acc =  0.99245251721 , param =  [-1.54966934  1.16563329 -2.33241482]\n",
        "iter = "
       ]
      },
      {
       "output_type": "stream",
       "stream": "stdout",
       "text": [
        " 649 , lhood =  -0.0366429703665 , pred =  0 , acc =  0.99245251721 , param =  [-1.54970059  1.16741727 -2.33241304]\n",
        "iter = "
       ]
      },
      {
       "output_type": "stream",
       "stream": "stdout",
       "text": [
        " 650 , lhood =  -0.0366397873404 , pred =  0 , acc =  0.99245251721 , param =  [-1.54973187  1.16920113 -2.33241126]\n",
        "iter = "
       ]
      },
      {
       "output_type": "stream",
       "stream": "stdout",
       "text": [
        " 651 , lhood =  -0.0366366047533 , pred =  0 , acc =  0.99245251721 , param =  [-1.54976316  1.17098487 -2.33240948]\n",
        "iter = "
       ]
      },
      {
       "output_type": "stream",
       "stream": "stdout",
       "text": [
        " 652 , lhood =  -0.0366334226057 , pred =  0 , acc =  0.99245251721 , param =  [-1.54979447  1.17276848 -2.3324077 ]\n",
        "iter = "
       ]
      },
      {
       "output_type": "stream",
       "stream": "stdout",
       "text": [
        " 653 , lhood =  -0.0366302408981 , pred =  0 , acc =  0.99245251721 , param =  [-1.54982581  1.17455197 -2.33240591]\n",
        "iter = "
       ]
      },
      {
       "output_type": "stream",
       "stream": "stdout",
       "text": [
        " 654 , lhood =  -0.0366270596306 , pred =  0 , acc =  0.99245251721 , param =  [-1.54985716  1.17633533 -2.33240413]\n",
        "iter = "
       ]
      },
      {
       "output_type": "stream",
       "stream": "stdout",
       "text": [
        " 655 , lhood =  -0.0366238788038 , pred =  0 , acc =  0.99245251721 , param =  [-1.54988853  1.17811857 -2.33240235]\n",
        "iter = "
       ]
      },
      {
       "output_type": "stream",
       "stream": "stdout",
       "text": [
        " 656 , lhood =  -0.0366206984179 , pred =  0 , acc =  0.99245251721 , param =  [-1.54991992  1.17990169 -2.33240057]\n",
        "iter = "
       ]
      },
      {
       "output_type": "stream",
       "stream": "stdout",
       "text": [
        " 657 , lhood =  -0.0366175184735 , pred =  0 , acc =  0.99245251721 , param =  [-1.54995132  1.18168468 -2.33239879]\n",
        "iter = "
       ]
      },
      {
       "output_type": "stream",
       "stream": "stdout",
       "text": [
        " 658 , lhood =  -0.0366143389707 , pred =  0 , acc =  0.99245251721 , param =  [-1.54998275  1.18346755 -2.33239701]\n",
        "iter = "
       ]
      },
      {
       "output_type": "stream",
       "stream": "stdout",
       "text": [
        " 659 , lhood =  -0.0366111599101 , pred =  0 , acc =  0.99245251721 , param =  [-1.5500142   1.1852503  -2.33239523]\n",
        "iter = "
       ]
      },
      {
       "output_type": "stream",
       "stream": "stdout",
       "text": [
        " 660 , lhood =  -0.036607981292 , pred =  0 , acc =  0.99245251721 , param =  [-1.55004566  1.18703292 -2.33239345]\n",
        "iter = "
       ]
      },
      {
       "output_type": "stream",
       "stream": "stdout",
       "text": [
        " 661 , lhood =  -0.0366048031167 , pred =  0 , acc =  0.99245251721 , param =  [-1.55007715  1.18881541 -2.33239167]\n",
        "iter = "
       ]
      },
      {
       "output_type": "stream",
       "stream": "stdout",
       "text": [
        " 662 , lhood =  -0.0366016253847 , pred =  0 , acc =  0.99245251721 , param =  [-1.55010865  1.19059779 -2.33238989]\n",
        "iter = "
       ]
      },
      {
       "output_type": "stream",
       "stream": "stdout",
       "text": [
        " 663 , lhood =  -0.0365984480963 , pred =  0 , acc =  0.99245251721 , param =  [-1.55014018  1.19238003 -2.33238812]\n",
        "iter = "
       ]
      },
      {
       "output_type": "stream",
       "stream": "stdout",
       "text": [
        " 664 , lhood =  -0.0365952712519 , pred =  0 , acc =  0.99245251721 , param =  [-1.55017172  1.19416215 -2.33238634]\n",
        "iter = "
       ]
      },
      {
       "output_type": "stream",
       "stream": "stdout",
       "text": [
        " 665 , lhood =  -0.0365920948519 , pred =  0 , acc =  0.99245251721 , param =  [-1.55020328  1.19594415 -2.33238456]\n",
        "iter = "
       ]
      },
      {
       "output_type": "stream",
       "stream": "stdout",
       "text": [
        " 666 , lhood =  -0.0365889188966 , pred =  0 , acc =  0.99245251721 , param =  [-1.55023486  1.19772602 -2.33238279]\n",
        "iter = "
       ]
      },
      {
       "output_type": "stream",
       "stream": "stdout",
       "text": [
        " 667 , lhood =  -0.0365857433865 , pred =  0 , acc =  0.99245251721 , param =  [-1.55026647  1.19950777 -2.33238101]\n",
        "iter = "
       ]
      },
      {
       "output_type": "stream",
       "stream": "stdout",
       "text": [
        " 668 , lhood =  -0.0365825683218 , pred =  0 , acc =  0.99245251721 , param =  [-1.55029809  1.20128939 -2.33237924]\n",
        "iter = "
       ]
      },
      {
       "output_type": "stream",
       "stream": "stdout",
       "text": [
        " 669 , lhood =  -0.036579393703 , pred =  0 , acc =  0.99245251721 , param =  [-1.55032973  1.20307088 -2.33237746]\n",
        "iter = "
       ]
      },
      {
       "output_type": "stream",
       "stream": "stdout",
       "text": [
        " 670 , lhood =  -0.0365762195305 , pred =  0 , acc =  0.99245251721 , param =  [-1.55036139  1.20485225 -2.33237569]\n",
        "iter = "
       ]
      },
      {
       "output_type": "stream",
       "stream": "stdout",
       "text": [
        " 671 , lhood =  -0.0365730458046 , pred =  0 , acc =  0.99245251721 , param =  [-1.55039307  1.2066335  -2.33237392]\n",
        "iter = "
       ]
      },
      {
       "output_type": "stream",
       "stream": "stdout",
       "text": [
        " 672 , lhood =  -0.0365698725258 , pred =  0 , acc =  0.99245251721 , param =  [-1.55042477  1.20841462 -2.33237215]\n",
        "iter = "
       ]
      },
      {
       "output_type": "stream",
       "stream": "stdout",
       "text": [
        " 673 , lhood =  -0.0365666996943 , pred =  0 , acc =  0.99245251721 , param =  [-1.55045648  1.21019561 -2.33237037]\n",
        "iter = "
       ]
      },
      {
       "output_type": "stream",
       "stream": "stdout",
       "text": [
        " 674 , lhood =  -0.0365635273106 , pred =  0 , acc =  0.99245251721 , param =  [-1.55048822  1.21197648 -2.3323686 ]\n",
        "iter = "
       ]
      },
      {
       "output_type": "stream",
       "stream": "stdout",
       "text": [
        " 675 , lhood =  -0.036560355375 , pred =  0 , acc =  0.99245251721 , param =  [-1.55051998  1.21375722 -2.33236684]\n",
        "iter = "
       ]
      },
      {
       "output_type": "stream",
       "stream": "stdout",
       "text": [
        " 676 , lhood =  -0.036557183888 , pred =  0 , acc =  0.99245251721 , param =  [-1.55055176  1.21553783 -2.33236507]\n",
        "iter = "
       ]
      },
      {
       "output_type": "stream",
       "stream": "stdout",
       "text": [
        " 677 , lhood =  -0.0365540128499 , pred =  0 , acc =  0.99245251721 , param =  [-1.55058356  1.21731832 -2.3323633 ]\n",
        "iter = "
       ]
      },
      {
       "output_type": "stream",
       "stream": "stdout",
       "text": [
        " 678 , lhood =  -0.036550842261 , pred =  0 , acc =  0.99245251721 , param =  [-1.55061538  1.21909868 -2.33236153]\n",
        "iter = "
       ]
      },
      {
       "output_type": "stream",
       "stream": "stdout",
       "text": [
        " 679 , lhood =  -0.0365476721219 , pred =  0 , acc =  0.99245251721 , param =  [-1.55064721  1.22087891 -2.33235977]\n",
        "iter = "
       ]
      },
      {
       "output_type": "stream",
       "stream": "stdout",
       "text": [
        " 680 , lhood =  -0.0365445024327 , pred =  0 , acc =  0.99245251721 , param =  [-1.55067907  1.22265902 -2.332358  ]\n",
        "iter = "
       ]
      },
      {
       "output_type": "stream",
       "stream": "stdout",
       "text": [
        " 681 , lhood =  -0.036541333194 , pred =  0 , acc =  0.99245251721 , param =  [-1.55071095  1.224439   -2.33235624]\n",
        "iter = "
       ]
      },
      {
       "output_type": "stream",
       "stream": "stdout",
       "text": [
        " 682 , lhood =  -0.0365381644061 , pred =  0 , acc =  0.99245251721 , param =  [-1.55074285  1.22621886 -2.33235447]\n",
        "iter = "
       ]
      },
      {
       "output_type": "stream",
       "stream": "stdout",
       "text": [
        " 683 , lhood =  -0.0365349960694 , pred =  0 , acc =  0.99245251721 , param =  [-1.55077477  1.22799858 -2.33235271]\n",
        "iter = "
       ]
      },
      {
       "output_type": "stream",
       "stream": "stdout",
       "text": [
        " 684 , lhood =  -0.0365318281842 , pred =  0 , acc =  0.99245251721 , param =  [-1.5508067   1.22977818 -2.33235095]\n",
        "iter = "
       ]
      },
      {
       "output_type": "stream",
       "stream": "stdout",
       "text": [
        " 685 , lhood =  -0.036528660751 , pred =  0 , acc =  0.99245251721 , param =  [-1.55083866  1.23155765 -2.33234919]\n",
        "iter = "
       ]
      },
      {
       "output_type": "stream",
       "stream": "stdout",
       "text": [
        " 686 , lhood =  -0.0365254937701 , pred =  0 , acc =  0.99245251721 , param =  [-1.55087064  1.233337   -2.33234743]\n",
        "iter = "
       ]
      },
      {
       "output_type": "stream",
       "stream": "stdout",
       "text": [
        " 687 , lhood =  -0.0365223272419 , pred =  0 , acc =  0.99245251721 , param =  [-1.55090264  1.23511622 -2.33234567]\n",
        "iter = "
       ]
      },
      {
       "output_type": "stream",
       "stream": "stdout",
       "text": [
        " 688 , lhood =  -0.0365191611668 , pred =  0 , acc =  0.99245251721 , param =  [-1.55093466  1.23689531 -2.33234392]\n",
        "iter = "
       ]
      },
      {
       "output_type": "stream",
       "stream": "stdout",
       "text": [
        " 689 , lhood =  -0.0365159955451 , pred =  0 , acc =  0.99245251721 , param =  [-1.55096669  1.23867427 -2.33234216]\n",
        "iter = "
       ]
      },
      {
       "output_type": "stream",
       "stream": "stdout",
       "text": [
        " 690 , lhood =  -0.0365128303773 , pred =  0 , acc =  0.99245251721 , param =  [-1.55099875  1.2404531  -2.3323404 ]\n",
        "iter = "
       ]
      },
      {
       "output_type": "stream",
       "stream": "stdout",
       "text": [
        " 691 , lhood =  -0.0365096656638 , pred =  0 , acc =  0.99245251721 , param =  [-1.55103083  1.24223181 -2.33233865]\n",
        "iter = "
       ]
      },
      {
       "output_type": "stream",
       "stream": "stdout",
       "text": [
        " 692 , lhood =  -0.0365065014048 , pred =  0 , acc =  0.99245251721 , param =  [-1.55106293  1.24401039 -2.3323369 ]\n",
        "iter = "
       ]
      },
      {
       "output_type": "stream",
       "stream": "stdout",
       "text": [
        " 693 , lhood =  -0.0365033376008 , pred =  0 , acc =  0.99245251721 , param =  [-1.55109505  1.24578884 -2.33233515]\n",
        "iter = "
       ]
      },
      {
       "output_type": "stream",
       "stream": "stdout",
       "text": [
        " 694 , lhood =  -0.0365001742522 , pred =  0 , acc =  0.99245251721 , param =  [-1.55112719  1.24756716 -2.3323334 ]\n",
        "iter = "
       ]
      },
      {
       "output_type": "stream",
       "stream": "stdout",
       "text": [
        " 695 , lhood =  -0.0364970113594 , pred =  0 , acc =  0.99245251721 , param =  [-1.55115935  1.24934535 -2.33233165]\n",
        "iter = "
       ]
      },
      {
       "output_type": "stream",
       "stream": "stdout",
       "text": [
        " 696 , lhood =  -0.0364938489227 , pred =  0 , acc =  0.99245251721 , param =  [-1.55119153  1.25112341 -2.3323299 ]\n",
        "iter = "
       ]
      },
      {
       "output_type": "stream",
       "stream": "stdout",
       "text": [
        " 697 , lhood =  -0.0364906869425 , pred =  0 , acc =  0.99245251721 , param =  [-1.55122374  1.25290135 -2.33232815]\n",
        "iter = "
       ]
      },
      {
       "output_type": "stream",
       "stream": "stdout",
       "text": [
        " 698 , lhood =  -0.0364875254192 , pred =  0 , acc =  0.99245251721 , param =  [-1.55125596  1.25467916 -2.3323264 ]\n",
        "iter = "
       ]
      },
      {
       "output_type": "stream",
       "stream": "stdout",
       "text": [
        " 699 , lhood =  -0.0364843643532 , pred =  0 , acc =  0.99245251721 , param =  [-1.5512882   1.25645683 -2.33232466]\n",
        "iter = "
       ]
      },
      {
       "output_type": "stream",
       "stream": "stdout",
       "text": [
        " 700 , lhood =  -0.0364812037449 , pred =  0 , acc =  0.99245251721 , param =  [-1.55132046  1.25823438 -2.33232292]\n",
        "iter = "
       ]
      },
      {
       "output_type": "stream",
       "stream": "stdout",
       "text": [
        " 701 , lhood =  -0.0364780435946 , pred =  0 , acc =  0.99245251721 , param =  [-1.55135275  1.2600118  -2.33232117]\n",
        "iter = "
       ]
      },
      {
       "output_type": "stream",
       "stream": "stdout",
       "text": [
        " 702 , lhood =  -0.0364748839028 , pred =  0 , acc =  0.99245251721 , param =  [-1.55138505  1.26178909 -2.33231943]\n",
        "iter = "
       ]
      },
      {
       "output_type": "stream",
       "stream": "stdout",
       "text": [
        " 703 , lhood =  -0.0364717246698 , pred =  0 , acc =  0.99245251721 , param =  [-1.55141738  1.26356625 -2.33231769]\n",
        "iter = "
       ]
      },
      {
       "output_type": "stream",
       "stream": "stdout",
       "text": [
        " 704 , lhood =  -0.036468565896 , pred =  0 , acc =  0.99245251721 , param =  [-1.55144972  1.26534328 -2.33231596]\n",
        "iter = "
       ]
      },
      {
       "output_type": "stream",
       "stream": "stdout",
       "text": [
        " 705 , lhood =  -0.0364654075817 , pred =  0 , acc =  0.99245251721 , param =  [-1.55148209  1.26712018 -2.33231422]\n",
        "iter = "
       ]
      },
      {
       "output_type": "stream",
       "stream": "stdout",
       "text": [
        " 706 , lhood =  -0.0364622497274 , pred =  0 , acc =  0.99245251721 , param =  [-1.55151448  1.26889696 -2.33231248]\n",
        "iter = "
       ]
      },
      {
       "output_type": "stream",
       "stream": "stdout",
       "text": [
        " 707 , lhood =  -0.0364590923336 , pred =  0 , acc =  0.99245251721 , param =  [-1.55154688  1.2706736  -2.33231075]\n",
        "iter = "
       ]
      },
      {
       "output_type": "stream",
       "stream": "stdout",
       "text": [
        " 708 , lhood =  -0.0364559354004 , pred =  0 , acc =  0.99245251721 , param =  [-1.55157931  1.27245011 -2.33230901]\n",
        "iter = "
       ]
      },
      {
       "output_type": "stream",
       "stream": "stdout",
       "text": [
        " 709 , lhood =  -0.0364527789283 , pred =  0 , acc =  0.99245251721 , param =  [-1.55161176  1.27422649 -2.33230728]\n",
        "iter = "
       ]
      },
      {
       "output_type": "stream",
       "stream": "stdout",
       "text": [
        " 710 , lhood =  -0.0364496229178 , pred =  0 , acc =  0.99245251721 , param =  [-1.55164423  1.27600274 -2.33230555]\n",
        "iter = "
       ]
      },
      {
       "output_type": "stream",
       "stream": "stdout",
       "text": [
        " 711 , lhood =  -0.0364464673692 , pred =  0 , acc =  0.99245251721 , param =  [-1.55167672  1.27777886 -2.33230382]\n",
        "iter = "
       ]
      },
      {
       "output_type": "stream",
       "stream": "stdout",
       "text": [
        " 712 , lhood =  -0.0364433122828 , pred =  0 , acc =  0.99245251721 , param =  [-1.55170924  1.27955485 -2.3323021 ]\n",
        "iter = "
       ]
      },
      {
       "output_type": "stream",
       "stream": "stdout",
       "text": [
        " 713 , lhood =  -0.0364401576591 , pred =  0 , acc =  0.99245251721 , param =  [-1.55174177  1.28133071 -2.33230037]\n",
        "iter = "
       ]
      },
      {
       "output_type": "stream",
       "stream": "stdout",
       "text": [
        " 714 , lhood =  -0.0364370034985 , pred =  0 , acc =  0.99245251721 , param =  [-1.55177432  1.28310644 -2.33229864]\n",
        "iter = "
       ]
      },
      {
       "output_type": "stream",
       "stream": "stdout",
       "text": [
        " 715 , lhood =  -0.0364338498013 , pred =  0 , acc =  0.99245251721 , param =  [-1.5518069   1.28488204 -2.33229692]\n",
        "iter = "
       ]
      },
      {
       "output_type": "stream",
       "stream": "stdout",
       "text": [
        " 716 , lhood =  -0.0364306965679 , pred =  0 , acc =  0.99245251721 , param =  [-1.55183949  1.28665751 -2.3322952 ]\n",
        "iter = "
       ]
      },
      {
       "output_type": "stream",
       "stream": "stdout",
       "text": [
        " 717 , lhood =  -0.0364275437987 , pred =  0 , acc =  0.99245251721 , param =  [-1.55187211  1.28843284 -2.33229348]\n",
        "iter = "
       ]
      },
      {
       "output_type": "stream",
       "stream": "stdout",
       "text": [
        " 718 , lhood =  -0.0364243914942 , pred =  0 , acc =  0.99245251721 , param =  [-1.55190475  1.29020805 -2.33229176]\n",
        "iter = "
       ]
      },
      {
       "output_type": "stream",
       "stream": "stdout",
       "text": [
        " 719 , lhood =  -0.0364212396546 , pred =  0 , acc =  0.99245251721 , param =  [-1.5519374   1.29198312 -2.33229004]\n",
        "iter = "
       ]
      },
      {
       "output_type": "stream",
       "stream": "stdout",
       "text": [
        " 720 , lhood =  -0.0364180882803 , pred =  0 , acc =  0.99245251721 , param =  [-1.55197008  1.29375807 -2.33228832]\n",
        "iter = "
       ]
      },
      {
       "output_type": "stream",
       "stream": "stdout",
       "text": [
        " 721 , lhood =  -0.0364149373719 , pred =  0 , acc =  0.99245251721 , param =  [-1.55200279  1.29553288 -2.33228661]\n",
        "iter = "
       ]
      },
      {
       "output_type": "stream",
       "stream": "stdout",
       "text": [
        " 722 , lhood =  -0.0364117869295 , pred =  0 , acc =  0.99245251721 , param =  [-1.55203551  1.29730755 -2.33228489]\n",
        "iter = "
       ]
      },
      {
       "output_type": "stream",
       "stream": "stdout",
       "text": [
        " 723 , lhood =  -0.0364086369537 , pred =  0 , acc =  0.99245251721 , param =  [-1.55206825  1.2990821  -2.33228318]\n",
        "iter = "
       ]
      },
      {
       "output_type": "stream",
       "stream": "stdout",
       "text": [
        " 724 , lhood =  -0.0364054874448 , pred =  0 , acc =  0.99245251721 , param =  [-1.55210101  1.30085652 -2.33228147]\n",
        "iter = "
       ]
      },
      {
       "output_type": "stream",
       "stream": "stdout",
       "text": [
        " 725 , lhood =  -0.0364023384033 , pred =  0 , acc =  0.99245251721 , param =  [-1.5521338   1.3026308  -2.33227976]\n",
        "iter = "
       ]
      },
      {
       "output_type": "stream",
       "stream": "stdout",
       "text": [
        " 726 , lhood =  -0.0363991898294 , pred =  0 , acc =  0.99245251721 , param =  [-1.55216661  1.30440495 -2.33227806]\n",
        "iter = "
       ]
      },
      {
       "output_type": "stream",
       "stream": "stdout",
       "text": [
        " 727 , lhood =  -0.0363960417235 , pred =  0 , acc =  0.99245251721 , param =  [-1.55219943  1.30617897 -2.33227635]\n",
        "iter = "
       ]
      },
      {
       "output_type": "stream",
       "stream": "stdout",
       "text": [
        " 728 , lhood =  -0.0363928940862 , pred =  0 , acc =  0.99245251721 , param =  [-1.55223228  1.30795286 -2.33227464]\n",
        "iter = "
       ]
      },
      {
       "output_type": "stream",
       "stream": "stdout",
       "text": [
        " 729 , lhood =  -0.0363897469177 , pred =  0 , acc =  0.99245251721 , param =  [-1.55226515  1.30972661 -2.33227294]\n",
        "iter = "
       ]
      },
      {
       "output_type": "stream",
       "stream": "stdout",
       "text": [
        " 730 , lhood =  -0.0363866002184 , pred =  0 , acc =  0.99245251721 , param =  [-1.55229805  1.31150023 -2.33227124]\n",
        "iter = "
       ]
      },
      {
       "output_type": "stream",
       "stream": "stdout",
       "text": [
        " 731 , lhood =  -0.0363834539888 , pred =  0 , acc =  0.99245251721 , param =  [-1.55233096  1.31327372 -2.33226954]\n",
        "iter = "
       ]
      },
      {
       "output_type": "stream",
       "stream": "stdout",
       "text": [
        " 732 , lhood =  -0.0363803082292 , pred =  0 , acc =  0.99245251721 , param =  [-1.55236389  1.31504707 -2.33226784]\n",
        "iter = "
       ]
      },
      {
       "output_type": "stream",
       "stream": "stdout",
       "text": [
        " 733 , lhood =  -0.03637716294 , pred =  0 , acc =  0.99245251721 , param =  [-1.55239685  1.3168203  -2.33226614]\n",
        "iter = "
       ]
      },
      {
       "output_type": "stream",
       "stream": "stdout",
       "text": [
        " 734 , lhood =  -0.0363740181216 , pred =  0 , acc =  0.99245251721 , param =  [-1.55242983  1.31859339 -2.33226445]\n",
        "iter = "
       ]
      },
      {
       "output_type": "stream",
       "stream": "stdout",
       "text": [
        " 735 , lhood =  -0.0363708737744 , pred =  0 , acc =  0.99245251721 , param =  [-1.55246283  1.32036634 -2.33226275]\n",
        "iter = "
       ]
      },
      {
       "output_type": "stream",
       "stream": "stdout",
       "text": [
        " 736 , lhood =  -0.0363677298988 , pred =  0 , acc =  0.99245251721 , param =  [-1.55249585  1.32213917 -2.33226106]\n",
        "iter = "
       ]
      },
      {
       "output_type": "stream",
       "stream": "stdout",
       "text": [
        " 737 , lhood =  -0.0363645864951 , pred =  0 , acc =  0.99245251721 , param =  [-1.55252889  1.32391185 -2.33225937]\n",
        "iter = "
       ]
      },
      {
       "output_type": "stream",
       "stream": "stdout",
       "text": [
        " 738 , lhood =  -0.0363614435639 , pred =  0 , acc =  0.99245251721 , param =  [-1.55256195  1.32568441 -2.33225768]\n",
        "iter = "
       ]
      },
      {
       "output_type": "stream",
       "stream": "stdout",
       "text": [
        " 739 , lhood =  -0.0363583011053 , pred =  0 , acc =  0.99245251721 , param =  [-1.55259503  1.32745683 -2.33225599]\n",
        "iter = "
       ]
      },
      {
       "output_type": "stream",
       "stream": "stdout",
       "text": [
        " 740 , lhood =  -0.0363551591199 , pred =  0 , acc =  0.99245251721 , param =  [-1.55262814  1.32922912 -2.33225431]\n",
        "iter = "
       ]
      },
      {
       "output_type": "stream",
       "stream": "stdout",
       "text": [
        " 741 , lhood =  -0.036352017608 , pred =  0 , acc =  0.99245251721 , param =  [-1.55266127  1.33100127 -2.33225262]\n",
        "iter = "
       ]
      },
      {
       "output_type": "stream",
       "stream": "stdout",
       "text": [
        " 742 , lhood =  -0.03634887657 , pred =  0 , acc =  0.99245251721 , param =  [-1.55269442  1.33277329 -2.33225094]\n",
        "iter = "
       ]
      },
      {
       "output_type": "stream",
       "stream": "stdout",
       "text": [
        " 743 , lhood =  -0.0363457360064 , pred =  0 , acc =  0.99245251721 , param =  [-1.55272759  1.33454518 -2.33224926]\n",
        "iter = "
       ]
      },
      {
       "output_type": "stream",
       "stream": "stdout",
       "text": [
        " 744 , lhood =  -0.0363425959174 , pred =  0 , acc =  0.99245251721 , param =  [-1.55276078  1.33631693 -2.33224758]\n",
        "iter = "
       ]
      },
      {
       "output_type": "stream",
       "stream": "stdout",
       "text": [
        " 745 , lhood =  -0.0363394563035 , pred =  0 , acc =  0.99245251721 , param =  [-1.552794    1.33808855 -2.3322459 ]\n",
        "iter = "
       ]
      },
      {
       "output_type": "stream",
       "stream": "stdout",
       "text": [
        " 746 , lhood =  -0.0363363171651 , pred =  0 , acc =  0.99245251721 , param =  [-1.55282723  1.33986003 -2.33224423]\n",
        "iter = "
       ]
      },
      {
       "output_type": "stream",
       "stream": "stdout",
       "text": [
        " 747 , lhood =  -0.0363331785026 , pred =  0 , acc =  0.99245251721 , param =  [-1.55286049  1.34163138 -2.33224255]\n",
        "iter = "
       ]
      },
      {
       "output_type": "stream",
       "stream": "stdout",
       "text": [
        " 748 , lhood =  -0.0363300403163 , pred =  0 , acc =  0.99245251721 , param =  [-1.55289377  1.34340259 -2.33224088]\n",
        "iter = "
       ]
      },
      {
       "output_type": "stream",
       "stream": "stdout",
       "text": [
        " 749 , lhood =  -0.0363269026067 , pred =  0 , acc =  0.99245251721 , param =  [-1.55292707  1.34517367 -2.33223921]\n",
        "iter = "
       ]
      },
      {
       "output_type": "stream",
       "stream": "stdout",
       "text": [
        " 750 , lhood =  -0.0363237653741 , pred =  0 , acc =  0.99245251721 , param =  [-1.55296039  1.34694461 -2.33223754]\n",
        "iter = "
       ]
      },
      {
       "output_type": "stream",
       "stream": "stdout",
       "text": [
        " 751 , lhood =  -0.036320628619 , pred =  0 , acc =  0.99245251721 , param =  [-1.55299374  1.34871542 -2.33223587]\n",
        "iter = "
       ]
      },
      {
       "output_type": "stream",
       "stream": "stdout",
       "text": [
        " 752 , lhood =  -0.0363174923417 , pred =  0 , acc =  0.99245251721 , param =  [-1.5530271   1.35048609 -2.3322342 ]\n",
        "iter = "
       ]
      },
      {
       "output_type": "stream",
       "stream": "stdout",
       "text": [
        " 753 , lhood =  -0.0363143565427 , pred =  0 , acc =  0.99245251721 , param =  [-1.55306049  1.35225663 -2.33223254]\n",
        "iter = "
       ]
      },
      {
       "output_type": "stream",
       "stream": "stdout",
       "text": [
        " 754 , lhood =  -0.0363112212222 , pred =  0 , acc =  0.99245251721 , param =  [-1.5530939   1.35402703 -2.33223087]\n",
        "iter = "
       ]
      },
      {
       "output_type": "stream",
       "stream": "stdout",
       "text": [
        " 755 , lhood =  -0.0363080863808 , pred =  0 , acc =  0.99245251721 , param =  [-1.55312733  1.3557973  -2.33222921]\n",
        "iter = "
       ]
      },
      {
       "output_type": "stream",
       "stream": "stdout",
       "text": [
        " 756 , lhood =  -0.0363049520187 , pred =  0 , acc =  0.99245251721 , param =  [-1.55316079  1.35756743 -2.33222755]\n",
        "iter = "
       ]
      },
      {
       "output_type": "stream",
       "stream": "stdout",
       "text": [
        " 757 , lhood =  -0.0363018181365 , pred =  0 , acc =  0.99245251721 , param =  [-1.55319426  1.35933742 -2.33222589]\n",
        "iter = "
       ]
      },
      {
       "output_type": "stream",
       "stream": "stdout",
       "text": [
        " 758 , lhood =  -0.0362986847344 , pred =  0 , acc =  0.99245251721 , param =  [-1.55322776  1.36110728 -2.33222424]\n",
        "iter = "
       ]
      },
      {
       "output_type": "stream",
       "stream": "stdout",
       "text": [
        " 759 , lhood =  -0.0362955518129 , pred =  0 , acc =  0.99245251721 , param =  [-1.55326128  1.362877   -2.33222258]\n",
        "iter = "
       ]
      },
      {
       "output_type": "stream",
       "stream": "stdout",
       "text": [
        " 760 , lhood =  -0.0362924193724 , pred =  0 , acc =  0.99245251721 , param =  [-1.55329482  1.36464659 -2.33222093]\n",
        "iter = "
       ]
      },
      {
       "output_type": "stream",
       "stream": "stdout",
       "text": [
        " 761 , lhood =  -0.0362892874132 , pred =  0 , acc =  0.99245251721 , param =  [-1.55332838  1.36641603 -2.33221928]\n",
        "iter = "
       ]
      },
      {
       "output_type": "stream",
       "stream": "stdout",
       "text": [
        " 762 , lhood =  -0.0362861559359 , pred =  0 , acc =  0.99245251721 , param =  [-1.55336197  1.36818535 -2.33221763]\n",
        "iter = "
       ]
      },
      {
       "output_type": "stream",
       "stream": "stdout",
       "text": [
        " 763 , lhood =  -0.0362830249406 , pred =  0 , acc =  0.99245251721 , param =  [-1.55339558  1.36995452 -2.33221598]\n",
        "iter = "
       ]
      },
      {
       "output_type": "stream",
       "stream": "stdout",
       "text": [
        " 764 , lhood =  -0.036279894428 , pred =  0 , acc =  0.99245251721 , param =  [-1.55342921  1.37172356 -2.33221434]\n",
        "iter = "
       ]
      },
      {
       "output_type": "stream",
       "stream": "stdout",
       "text": [
        " 765 , lhood =  -0.0362767643982 , pred =  0 , acc =  0.99245251721 , param =  [-1.55346286  1.37349247 -2.33221269]\n",
        "iter = "
       ]
      },
      {
       "output_type": "stream",
       "stream": "stdout",
       "text": [
        " 766 , lhood =  -0.0362736348518 , pred =  0 , acc =  0.99245251721 , param =  [-1.55349653  1.37526123 -2.33221105]\n",
        "iter = "
       ]
      },
      {
       "output_type": "stream",
       "stream": "stdout",
       "text": [
        " 767 , lhood =  -0.0362705057891 , pred =  0 , acc =  0.99245251721 , param =  [-1.55353023  1.37702986 -2.33220941]\n",
        "iter = "
       ]
      },
      {
       "output_type": "stream",
       "stream": "stdout",
       "text": [
        " 768 , lhood =  -0.0362673772106 , pred =  0 , acc =  0.99245251721 , param =  [-1.55356394  1.37879835 -2.33220777]\n",
        "iter = "
       ]
      },
      {
       "output_type": "stream",
       "stream": "stdout",
       "text": [
        " 769 , lhood =  -0.0362642491166 , pred =  0 , acc =  0.99245251721 , param =  [-1.55359769  1.3805667  -2.33220613]\n",
        "iter = "
       ]
      },
      {
       "output_type": "stream",
       "stream": "stdout",
       "text": [
        " 770 , lhood =  -0.0362611215075 , pred =  0 , acc =  0.99245251721 , param =  [-1.55363145  1.38233492 -2.33220449]\n",
        "iter = "
       ]
      },
      {
       "output_type": "stream",
       "stream": "stdout",
       "text": [
        " 771 , lhood =  -0.0362579943836 , pred =  0 , acc =  0.99245251721 , param =  [-1.55366523  1.384103   -2.33220286]\n",
        "iter = "
       ]
      },
      {
       "output_type": "stream",
       "stream": "stdout",
       "text": [
        " 772 , lhood =  -0.0362548677456 , pred =  0 , acc =  0.99245251721 , param =  [-1.55369904  1.38587094 -2.33220123]\n",
        "iter = "
       ]
      },
      {
       "output_type": "stream",
       "stream": "stdout",
       "text": [
        " 773 , lhood =  -0.0362517415936 , pred =  0 , acc =  0.99245251721 , param =  [-1.55373287  1.38763874 -2.3321996 ]\n",
        "iter = "
       ]
      },
      {
       "output_type": "stream",
       "stream": "stdout",
       "text": [
        " 774 , lhood =  -0.0362486159281 , pred =  0 , acc =  0.99245251721 , param =  [-1.55376672  1.38940641 -2.33219797]\n",
        "iter = "
       ]
      },
      {
       "output_type": "stream",
       "stream": "stdout",
       "text": [
        " 775 , lhood =  -0.0362454907495 , pred =  0 , acc =  0.99245251721 , param =  [-1.55380059  1.39117393 -2.33219634]\n",
        "iter = "
       ]
      },
      {
       "output_type": "stream",
       "stream": "stdout",
       "text": [
        " 776 , lhood =  -0.0362423660582 , pred =  0 , acc =  0.99245251721 , param =  [-1.55383449  1.39294132 -2.33219471]\n",
        "iter = "
       ]
      },
      {
       "output_type": "stream",
       "stream": "stdout",
       "text": [
        " 777 , lhood =  -0.0362392418546 , pred =  0 , acc =  0.99245251721 , param =  [-1.55386841  1.39470857 -2.33219309]\n",
        "iter = "
       ]
      },
      {
       "output_type": "stream",
       "stream": "stdout",
       "text": [
        " 778 , lhood =  -0.036236118139 , pred =  0 , acc =  0.99245251721 , param =  [-1.55390235  1.39647568 -2.33219147]\n",
        "iter = "
       ]
      },
      {
       "output_type": "stream",
       "stream": "stdout",
       "text": [
        " 779 , lhood =  -0.036232994912 , pred =  0 , acc =  0.99245251721 , param =  [-1.55393631  1.39824265 -2.33218985]\n",
        "iter = "
       ]
      },
      {
       "output_type": "stream",
       "stream": "stdout",
       "text": [
        " 780 , lhood =  -0.0362298721738 , pred =  0 , acc =  0.99245251721 , param =  [-1.55397029  1.40000949 -2.33218823]\n",
        "iter = "
       ]
      },
      {
       "output_type": "stream",
       "stream": "stdout",
       "text": [
        " 781 , lhood =  -0.0362267499249 , pred =  0 , acc =  0.99245251721 , param =  [-1.5540043   1.40177618 -2.33218661]\n",
        "iter = "
       ]
      },
      {
       "output_type": "stream",
       "stream": "stdout",
       "text": [
        " 782 , lhood =  -0.0362236281656 , pred =  0 , acc =  0.99245251721 , param =  [-1.55403833  1.40354274 -2.332185  ]\n",
        "iter = "
       ]
      },
      {
       "output_type": "stream",
       "stream": "stdout",
       "text": [
        " 783 , lhood =  -0.0362205068965 , pred =  0 , acc =  0.99245251721 , param =  [-1.55407238  1.40530916 -2.33218339]\n",
        "iter = "
       ]
      },
      {
       "output_type": "stream",
       "stream": "stdout",
       "text": [
        " 784 , lhood =  -0.0362173861178 , pred =  0 , acc =  0.99245251721 , param =  [-1.55410646  1.40707544 -2.33218177]\n",
        "iter = "
       ]
      },
      {
       "output_type": "stream",
       "stream": "stdout",
       "text": [
        " 785 , lhood =  -0.0362142658299 , pred =  0 , acc =  0.99245251721 , param =  [-1.55414055  1.40884157 -2.33218016]\n",
        "iter = "
       ]
      },
      {
       "output_type": "stream",
       "stream": "stdout",
       "text": [
        " 786 , lhood =  -0.0362111460333 , pred =  0 , acc =  0.99245251721 , param =  [-1.55417467  1.41060757 -2.33217856]\n",
        "iter = "
       ]
      },
      {
       "output_type": "stream",
       "stream": "stdout",
       "text": [
        " 787 , lhood =  -0.0362080267283 , pred =  0 , acc =  0.99245251721 , param =  [-1.55420882  1.41237343 -2.33217695]\n",
        "iter = "
       ]
      },
      {
       "output_type": "stream",
       "stream": "stdout",
       "text": [
        " 788 , lhood =  -0.0362049079154 , pred =  0 , acc =  0.99245251721 , param =  [-1.55424298  1.41413915 -2.33217535]\n",
        "iter = "
       ]
      },
      {
       "output_type": "stream",
       "stream": "stdout",
       "text": [
        " 789 , lhood =  -0.036201789595 , pred =  0 , acc =  0.99245251721 , param =  [-1.55427717  1.41590473 -2.33217374]\n",
        "iter = "
       ]
      },
      {
       "output_type": "stream",
       "stream": "stdout",
       "text": [
        " 790 , lhood =  -0.0361986717674 , pred =  0 , acc =  0.99245251721 , param =  [-1.55431138  1.41767017 -2.33217214]\n",
        "iter = "
       ]
      },
      {
       "output_type": "stream",
       "stream": "stdout",
       "text": [
        " 791 , lhood =  -0.0361955544331 , pred =  0 , acc =  0.99245251721 , param =  [-1.55434561  1.41943547 -2.33217054]\n",
        "iter = "
       ]
      },
      {
       "output_type": "stream",
       "stream": "stdout",
       "text": [
        " 792 , lhood =  -0.0361924375924 , pred =  0 , acc =  0.99245251721 , param =  [-1.55437987  1.42120063 -2.33216895]\n",
        "iter = "
       ]
      },
      {
       "output_type": "stream",
       "stream": "stdout",
       "text": [
        " 793 , lhood =  -0.0361893212457 , pred =  0 , acc =  0.99245251721 , param =  [-1.55441414  1.42296565 -2.33216735]\n",
        "iter = "
       ]
      },
      {
       "output_type": "stream",
       "stream": "stdout",
       "text": [
        " 794 , lhood =  -0.0361862053935 , pred =  0 , acc =  0.99245251721 , param =  [-1.55444844  1.42473053 -2.33216576]\n",
        "iter = "
       ]
      },
      {
       "output_type": "stream",
       "stream": "stdout",
       "text": [
        " 795 , lhood =  -0.0361830900362 , pred =  0 , acc =  0.99245251721 , param =  [-1.55448277  1.42649527 -2.33216417]\n",
        "iter = "
       ]
      },
      {
       "output_type": "stream",
       "stream": "stdout",
       "text": [
        " 796 , lhood =  -0.036179975174 , pred =  0 , acc =  0.99245251721 , param =  [-1.55451711  1.42825986 -2.33216258]\n",
        "iter = "
       ]
      },
      {
       "output_type": "stream",
       "stream": "stdout",
       "text": [
        " 797 , lhood =  -0.0361768608076 , pred =  0 , acc =  0.99245251721 , param =  [-1.55455148  1.43002432 -2.33216099]\n",
        "iter = "
       ]
      },
      {
       "output_type": "stream",
       "stream": "stdout",
       "text": [
        " 798 , lhood =  -0.0361737469371 , pred =  0 , acc =  0.99245251721 , param =  [-1.55458587  1.43178864 -2.3321594 ]\n",
        "iter = "
       ]
      },
      {
       "output_type": "stream",
       "stream": "stdout",
       "text": [
        " 799 , lhood =  -0.0361706335631 , pred =  0 , acc =  0.99245251721 , param =  [-1.55462028  1.43355281 -2.33215782]\n",
        "iter = "
       ]
      },
      {
       "output_type": "stream",
       "stream": "stdout",
       "text": [
        " 800 , lhood =  -0.0361675206859 , pred =  0 , acc =  0.99245251721 , param =  [-1.55465472  1.43531684 -2.33215623]\n",
        "iter = "
       ]
      },
      {
       "output_type": "stream",
       "stream": "stdout",
       "text": [
        " 801 , lhood =  -0.036164408306 , pred =  0 , acc =  0.99245251721 , param =  [-1.55468918  1.43708074 -2.33215465]\n",
        "iter = "
       ]
      },
      {
       "output_type": "stream",
       "stream": "stdout",
       "text": [
        " 802 , lhood =  -0.0361612964237 , pred =  0 , acc =  0.99245251721 , param =  [-1.55472366  1.43884449 -2.33215307]\n",
        "iter = "
       ]
      },
      {
       "output_type": "stream",
       "stream": "stdout",
       "text": [
        " 803 , lhood =  -0.0361581850395 , pred =  0 , acc =  0.99245251721 , param =  [-1.55475817  1.4406081  -2.33215149]\n",
        "iter = "
       ]
      },
      {
       "output_type": "stream",
       "stream": "stdout",
       "text": [
        " 804 , lhood =  -0.0361550741537 , pred =  0 , acc =  0.99245251721 , param =  [-1.55479269  1.44237156 -2.33214992]\n",
        "iter = "
       ]
      },
      {
       "output_type": "stream",
       "stream": "stdout",
       "text": [
        " 805 , lhood =  -0.0361519637667 , pred =  0 , acc =  0.99245251721 , param =  [-1.55482724  1.44413489 -2.33214835]\n",
        "iter = "
       ]
      },
      {
       "output_type": "stream",
       "stream": "stdout",
       "text": [
        " 806 , lhood =  -0.036148853879 , pred =  0 , acc =  0.99245251721 , param =  [-1.55486182  1.44589807 -2.33214677]\n",
        "iter = "
       ]
      },
      {
       "output_type": "stream",
       "stream": "stdout",
       "text": [
        " 807 , lhood =  -0.0361457444909 , pred =  0 , acc =  0.99245251721 , param =  [-1.55489641  1.44766111 -2.3321452 ]\n",
        "iter = "
       ]
      },
      {
       "output_type": "stream",
       "stream": "stdout",
       "text": [
        " 808 , lhood =  -0.0361426356028 , pred =  0 , acc =  0.99245251721 , param =  [-1.55493103  1.44942401 -2.33214363]\n",
        "iter = "
       ]
      },
      {
       "output_type": "stream",
       "stream": "stdout",
       "text": [
        " 809 , lhood =  -0.0361395272152 , pred =  0 , acc =  0.99245251721 , param =  [-1.55496567  1.45118677 -2.33214207]\n",
        "iter = "
       ]
      },
      {
       "output_type": "stream",
       "stream": "stdout",
       "text": [
        " 810 , lhood =  -0.0361364193285 , pred =  0 , acc =  0.99245251721 , param =  [-1.55500034  1.45294938 -2.3321405 ]\n",
        "iter = "
       ]
      },
      {
       "output_type": "stream",
       "stream": "stdout",
       "text": [
        " 811 , lhood =  -0.036133311943 , pred =  0 , acc =  0.99245251721 , param =  [-1.55503503  1.45471185 -2.33213894]\n",
        "iter = "
       ]
      },
      {
       "output_type": "stream",
       "stream": "stdout",
       "text": [
        " 812 , lhood =  -0.0361302050591 , pred =  0 , acc =  0.99245251721 , param =  [-1.55506974  1.45647418 -2.33213738]\n",
        "iter = "
       ]
      },
      {
       "output_type": "stream",
       "stream": "stdout",
       "text": [
        " 813 , lhood =  -0.0361270986773 , pred =  0 , acc =  0.99245251721 , param =  [-1.55510447  1.45823637 -2.33213582]\n",
        "iter = "
       ]
      },
      {
       "output_type": "stream",
       "stream": "stdout",
       "text": [
        " 814 , lhood =  -0.0361239927979 , pred =  0 , acc =  0.99245251721 , param =  [-1.55513923  1.45999841 -2.33213426]\n",
        "iter = "
       ]
      },
      {
       "output_type": "stream",
       "stream": "stdout",
       "text": [
        " 815 , lhood =  -0.0361208874214 , pred =  0 , acc =  0.99245251721 , param =  [-1.55517401  1.46176031 -2.3321327 ]\n",
        "iter = "
       ]
      },
      {
       "output_type": "stream",
       "stream": "stdout",
       "text": [
        " 816 , lhood =  -0.0361177825481 , pred =  0 , acc =  0.99245251721 , param =  [-1.55520881  1.46352207 -2.33213115]\n",
        "iter = "
       ]
      },
      {
       "output_type": "stream",
       "stream": "stdout",
       "text": [
        " 817 , lhood =  -0.0361146781785 , pred =  0 , acc =  0.99245251721 , param =  [-1.55524364  1.46528368 -2.3321296 ]\n",
        "iter = "
       ]
      },
      {
       "output_type": "stream",
       "stream": "stdout",
       "text": [
        " 818 , lhood =  -0.0361115743129 , pred =  0 , acc =  0.99245251721 , param =  [-1.55527849  1.46704515 -2.33212805]\n",
        "iter = "
       ]
      },
      {
       "output_type": "stream",
       "stream": "stdout",
       "text": [
        " 819 , lhood =  -0.0361084709518 , pred =  0 , acc =  0.99245251721 , param =  [-1.55531336  1.46880647 -2.3321265 ]\n",
        "iter = "
       ]
      },
      {
       "output_type": "stream",
       "stream": "stdout",
       "text": [
        " 820 , lhood =  -0.0361053680956 , pred =  0 , acc =  0.99245251721 , param =  [-1.55534825  1.47056766 -2.33212495]\n",
        "iter = "
       ]
      },
      {
       "output_type": "stream",
       "stream": "stdout",
       "text": [
        " 821 , lhood =  -0.0361022657446 , pred =  0 , acc =  0.99245251721 , param =  [-1.55538317  1.47232869 -2.33212341]\n",
        "iter = "
       ]
      },
      {
       "output_type": "stream",
       "stream": "stdout",
       "text": [
        " 822 , lhood =  -0.0360991638993 , pred =  0 , acc =  0.99245251721 , param =  [-1.55541811  1.47408959 -2.33212186]\n",
        "iter = "
       ]
      },
      {
       "output_type": "stream",
       "stream": "stdout",
       "text": [
        " 823 , lhood =  -0.0360960625601 , pred =  0 , acc =  0.99245251721 , param =  [-1.55545308  1.47585034 -2.33212032]\n",
        "iter = "
       ]
      },
      {
       "output_type": "stream",
       "stream": "stdout",
       "text": [
        " 824 , lhood =  -0.0360929617273 , pred =  0 , acc =  0.99245251721 , param =  [-1.55548806  1.47761094 -2.33211878]\n",
        "iter = "
       ]
      },
      {
       "output_type": "stream",
       "stream": "stdout",
       "text": [
        " 825 , lhood =  -0.0360898614014 , pred =  0 , acc =  0.99245251721 , param =  [-1.55552308  1.47937141 -2.33211725]\n",
        "iter = "
       ]
      },
      {
       "output_type": "stream",
       "stream": "stdout",
       "text": [
        " 826 , lhood =  -0.0360867615828 , pred =  0 , acc =  0.99245251721 , param =  [-1.55555811  1.48113172 -2.33211571]\n",
        "iter = "
       ]
      },
      {
       "output_type": "stream",
       "stream": "stdout",
       "text": [
        " 827 , lhood =  -0.0360836622719 , pred =  0 , acc =  0.99245251721 , param =  [-1.55559317  1.48289189 -2.33211418]\n",
        "iter = "
       ]
      },
      {
       "output_type": "stream",
       "stream": "stdout",
       "text": [
        " 828 , lhood =  -0.0360805634691 , pred =  0 , acc =  0.99245251721 , param =  [-1.55562825  1.48465192 -2.33211264]\n",
        "iter = "
       ]
      },
      {
       "output_type": "stream",
       "stream": "stdout",
       "text": [
        " 829 , lhood =  -0.0360774651747 , pred =  0 , acc =  0.99245251721 , param =  [-1.55566335  1.4864118  -2.33211111]\n",
        "iter = "
       ]
      },
      {
       "output_type": "stream",
       "stream": "stdout",
       "text": [
        " 830 , lhood =  -0.0360743673893 , pred =  0 , acc =  0.99245251721 , param =  [-1.55569848  1.48817154 -2.33210958]\n",
        "iter = "
       ]
      },
      {
       "output_type": "stream",
       "stream": "stdout",
       "text": [
        " 831 , lhood =  -0.0360712701131 , pred =  0 , acc =  0.99245251721 , param =  [-1.55573363  1.48993114 -2.33210806]\n",
        "iter = "
       ]
      },
      {
       "output_type": "stream",
       "stream": "stdout",
       "text": [
        " 832 , lhood =  -0.0360681733467 , pred =  0 , acc =  0.99245251721 , param =  [-1.5557688   1.49169058 -2.33210653]\n",
        "iter = "
       ]
      },
      {
       "output_type": "stream",
       "stream": "stdout",
       "text": [
        " 833 , lhood =  -0.0360650770904 , pred =  0 , acc =  0.99245251721 , param =  [-1.555804    1.49344988 -2.33210501]\n",
        "iter = "
       ]
      },
      {
       "output_type": "stream",
       "stream": "stdout",
       "text": [
        " 834 , lhood =  -0.0360619813445 , pred =  0 , acc =  0.99245251721 , param =  [-1.55583922  1.49520904 -2.33210349]\n",
        "iter = "
       ]
      },
      {
       "output_type": "stream",
       "stream": "stdout",
       "text": [
        " 835 , lhood =  -0.0360588861096 , pred =  0 , acc =  0.99245251721 , param =  [-1.55587447  1.49696805 -2.33210197]\n",
        "iter = "
       ]
      },
      {
       "output_type": "stream",
       "stream": "stdout",
       "text": [
        " 836 , lhood =  -0.036055791386 , pred =  0 , acc =  0.99245251721 , param =  [-1.55590973  1.49872692 -2.33210045]\n",
        "iter = "
       ]
      },
      {
       "output_type": "stream",
       "stream": "stdout",
       "text": [
        " 837 , lhood =  -0.0360526971742 , pred =  0 , acc =  0.99245251721 , param =  [-1.55594502  1.50048563 -2.33209893]\n",
        "iter = "
       ]
      },
      {
       "output_type": "stream",
       "stream": "stdout",
       "text": [
        " 838 , lhood =  -0.0360496034744 , pred =  0 , acc =  0.99245251721 , param =  [-1.55598034  1.50224421 -2.33209742]\n",
        "iter = "
       ]
      },
      {
       "output_type": "stream",
       "stream": "stdout",
       "text": [
        " 839 , lhood =  -0.0360465102872 , pred =  0 , acc =  0.99245251721 , param =  [-1.55601568  1.50400263 -2.33209591]\n",
        "iter = "
       ]
      },
      {
       "output_type": "stream",
       "stream": "stdout",
       "text": [
        " 840 , lhood =  -0.036043417613 , pred =  0 , acc =  0.99245251721 , param =  [-1.55605104  1.50576091 -2.3320944 ]\n",
        "iter = "
       ]
      },
      {
       "output_type": "stream",
       "stream": "stdout",
       "text": [
        " 841 , lhood =  -0.0360403254521 , pred =  0 , acc =  0.99245251721 , param =  [-1.55608642  1.50751905 -2.33209289]\n",
        "iter = "
       ]
      },
      {
       "output_type": "stream",
       "stream": "stdout",
       "text": [
        " 842 , lhood =  -0.0360372338049 , pred =  0 , acc =  0.99245251721 , param =  [-1.55612183  1.50927704 -2.33209138]\n",
        "iter = "
       ]
      },
      {
       "output_type": "stream",
       "stream": "stdout",
       "text": [
        " 843 , lhood =  -0.0360341426719 , pred =  0 , acc =  0.99245251721 , param =  [-1.55615726  1.51103488 -2.33208988]\n",
        "iter = "
       ]
      },
      {
       "output_type": "stream",
       "stream": "stdout",
       "text": [
        " 844 , lhood =  -0.0360310520535 , pred =  0 , acc =  0.99245251721 , param =  [-1.55619272  1.51279257 -2.33208837]\n",
        "iter = "
       ]
      },
      {
       "output_type": "stream",
       "stream": "stdout",
       "text": [
        " 845 , lhood =  -0.03602796195 , pred =  0 , acc =  0.99245251721 , param =  [-1.55622819  1.51455012 -2.33208687]\n",
        "iter = "
       ]
      },
      {
       "output_type": "stream",
       "stream": "stdout",
       "text": [
        " 846 , lhood =  -0.0360248723619 , pred =  0 , acc =  0.99245251721 , param =  [-1.5562637   1.51630752 -2.33208537]\n",
        "iter = "
       ]
      },
      {
       "output_type": "stream",
       "stream": "stdout",
       "text": [
        " 847 , lhood =  -0.0360217832896 , pred =  0 , acc =  0.99245251721 , param =  [-1.55629922  1.51806477 -2.33208388]\n",
        "iter = "
       ]
      },
      {
       "output_type": "stream",
       "stream": "stdout",
       "text": [
        " 848 , lhood =  -0.0360186947335 , pred =  0 , acc =  0.99245251721 , param =  [-1.55633477  1.51982188 -2.33208238]\n",
        "iter = "
       ]
      },
      {
       "output_type": "stream",
       "stream": "stdout",
       "text": [
        " 849 , lhood =  -0.036015606694 , pred =  0 , acc =  0.99245251721 , param =  [-1.55637034  1.52157883 -2.33208088]\n",
        "iter = "
       ]
      },
      {
       "output_type": "stream",
       "stream": "stdout",
       "text": [
        " 850 , lhood =  -0.0360125191714 , pred =  0 , acc =  0.99245251721 , param =  [-1.55640594  1.52333564 -2.33207939]\n",
        "iter = "
       ]
      },
      {
       "output_type": "stream",
       "stream": "stdout",
       "text": [
        " 851 , lhood =  -0.0360094321663 , pred =  0 , acc =  0.99245251721 , param =  [-1.55644156  1.52509231 -2.3320779 ]\n",
        "iter = "
       ]
      },
      {
       "output_type": "stream",
       "stream": "stdout",
       "text": [
        " 852 , lhood =  -0.036006345679 , pred =  0 , acc =  0.99245251721 , param =  [-1.55647721  1.52684882 -2.33207641]\n",
        "iter = "
       ]
      },
      {
       "output_type": "stream",
       "stream": "stdout",
       "text": [
        " 853 , lhood =  -0.0360032597099 , pred =  0 , acc =  0.99245251721 , param =  [-1.55651287  1.52860519 -2.33207493]\n",
        "iter = "
       ]
      },
      {
       "output_type": "stream",
       "stream": "stdout",
       "text": [
        " 854 , lhood =  -0.0360001742595 , pred =  0 , acc =  0.99245251721 , param =  [-1.55654856  1.53036141 -2.33207344]\n",
        "iter = "
       ]
      },
      {
       "output_type": "stream",
       "stream": "stdout",
       "text": [
        " 855 , lhood =  -0.0359970893281 , pred =  0 , acc =  0.99245251721 , param =  [-1.55658428  1.53211748 -2.33207196]\n",
        "iter = "
       ]
      },
      {
       "output_type": "stream",
       "stream": "stdout",
       "text": [
        " 856 , lhood =  -0.0359940049161 , pred =  0 , acc =  0.99245251721 , param =  [-1.55662002  1.5338734  -2.33207048]\n",
        "iter = "
       ]
      },
      {
       "output_type": "stream",
       "stream": "stdout",
       "text": [
        " 857 , lhood =  -0.0359909210239 , pred =  0 , acc =  0.99245251721 , param =  [-1.55665578  1.53562917 -2.332069  ]\n",
        "iter = "
       ]
      },
      {
       "output_type": "stream",
       "stream": "stdout",
       "text": [
        " 858 , lhood =  -0.0359878376521 , pred =  0 , acc =  0.99245251721 , param =  [-1.55669157  1.5373848  -2.33206752]\n",
        "iter = "
       ]
      },
      {
       "output_type": "stream",
       "stream": "stdout",
       "text": [
        " 859 , lhood =  -0.0359847548009 , pred =  0 , acc =  0.99245251721 , param =  [-1.55672738  1.53914027 -2.33206604]\n",
        "iter = "
       ]
      },
      {
       "output_type": "stream",
       "stream": "stdout",
       "text": [
        " 860 , lhood =  -0.0359816724707 , pred =  0 , acc =  0.99245251721 , param =  [-1.55676321  1.5408956  -2.33206457]\n",
        "iter = "
       ]
      },
      {
       "output_type": "stream",
       "stream": "stdout",
       "text": [
        " 861 , lhood =  -0.0359785906621 , pred =  0 , acc =  0.99245251721 , param =  [-1.55679907  1.54265078 -2.3320631 ]\n",
        "iter = "
       ]
      },
      {
       "output_type": "stream",
       "stream": "stdout",
       "text": [
        " 862 , lhood =  -0.0359755093753 , pred =  0 , acc =  0.99245251721 , param =  [-1.55683495  1.54440581 -2.33206163]\n",
        "iter = "
       ]
      },
      {
       "output_type": "stream",
       "stream": "stdout",
       "text": [
        " 863 , lhood =  -0.0359724286108 , pred =  0 , acc =  0.99245251721 , param =  [-1.55687086  1.54616069 -2.33206016]\n",
        "iter = "
       ]
      },
      {
       "output_type": "stream",
       "stream": "stdout",
       "text": [
        " 864 , lhood =  -0.0359693483691 , pred =  0 , acc =  0.99245251721 , param =  [-1.55690679  1.54791542 -2.33205869]\n",
        "iter = "
       ]
      },
      {
       "output_type": "stream",
       "stream": "stdout",
       "text": [
        " 865 , lhood =  -0.0359662686504 , pred =  0 , acc =  0.99245251721 , param =  [-1.55694274  1.54967    -2.33205722]\n",
        "iter = "
       ]
      },
      {
       "output_type": "stream",
       "stream": "stdout",
       "text": [
        " 866 , lhood =  -0.0359631894553 , pred =  0 , acc =  0.99245251721 , param =  [-1.55697872  1.55142443 -2.33205576]\n",
        "iter = "
       ]
      },
      {
       "output_type": "stream",
       "stream": "stdout",
       "text": [
        " 867 , lhood =  -0.0359601107841 , pred =  0 , acc =  0.99245251721 , param =  [-1.55701472  1.55317871 -2.3320543 ]\n",
        "iter = "
       ]
      },
      {
       "output_type": "stream",
       "stream": "stdout",
       "text": [
        " 868 , lhood =  -0.0359570326372 , pred =  0 , acc =  0.99245251721 , param =  [-1.55705074  1.55493285 -2.33205284]\n",
        "iter = "
       ]
      },
      {
       "output_type": "stream",
       "stream": "stdout",
       "text": [
        " 869 , lhood =  -0.0359539550151 , pred =  0 , acc =  0.99245251721 , param =  [-1.55708679  1.55668683 -2.33205138]\n",
        "iter = "
       ]
      },
      {
       "output_type": "stream",
       "stream": "stdout",
       "text": [
        " 870 , lhood =  -0.0359508779182 , pred =  0 , acc =  0.99245251721 , param =  [-1.55712286  1.55844066 -2.33204993]\n",
        "iter = "
       ]
      },
      {
       "output_type": "stream",
       "stream": "stdout",
       "text": [
        " 871 , lhood =  -0.0359478013468 , pred =  0 , acc =  0.99245251721 , param =  [-1.55715896  1.56019434 -2.33204847]\n",
        "iter = "
       ]
      },
      {
       "output_type": "stream",
       "stream": "stdout",
       "text": [
        " 872 , lhood =  -0.0359447253014 , pred =  0 , acc =  0.99245251721 , param =  [-1.55719508  1.56194787 -2.33204702]\n",
        "iter = "
       ]
      },
      {
       "output_type": "stream",
       "stream": "stdout",
       "text": [
        " 873 , lhood =  -0.0359416497824 , pred =  0 , acc =  0.99245251721 , param =  [-1.55723123  1.56370125 -2.33204557]\n",
        "iter = "
       ]
      },
      {
       "output_type": "stream",
       "stream": "stdout",
       "text": [
        " 874 , lhood =  -0.0359385747901 , pred =  0 , acc =  0.99245251721 , param =  [-1.5572674   1.56545448 -2.33204412]\n",
        "iter = "
       ]
      },
      {
       "output_type": "stream",
       "stream": "stdout",
       "text": [
        " 875 , lhood =  -0.0359355003251 , pred =  0 , acc =  0.99245251721 , param =  [-1.55730359  1.56720756 -2.33204267]\n",
        "iter = "
       ]
      },
      {
       "output_type": "stream",
       "stream": "stdout",
       "text": [
        " 876 , lhood =  -0.0359324263877 , pred =  0 , acc =  0.99245251721 , param =  [-1.55733981  1.56896049 -2.33204123]\n",
        "iter = "
       ]
      },
      {
       "output_type": "stream",
       "stream": "stdout",
       "text": [
        " 877 , lhood =  -0.0359293529783 , pred =  0 , acc =  0.99245251721 , param =  [-1.55737605  1.57071326 -2.33203978]\n",
        "iter = "
       ]
      },
      {
       "output_type": "stream",
       "stream": "stdout",
       "text": [
        " 878 , lhood =  -0.0359262800973 , pred =  0 , acc =  0.99245251721 , param =  [-1.55741231  1.57246589 -2.33203834]\n",
        "iter = "
       ]
      },
      {
       "output_type": "stream",
       "stream": "stdout",
       "text": [
        " 879 , lhood =  -0.0359232077452 , pred =  0 , acc =  0.99245251721 , param =  [-1.5574486   1.57421836 -2.3320369 ]\n",
        "iter = "
       ]
      },
      {
       "output_type": "stream",
       "stream": "stdout",
       "text": [
        " 880 , lhood =  -0.0359201359224 , pred =  0 , acc =  0.99245251721 , param =  [-1.55748492  1.57597069 -2.33203546]\n",
        "iter = "
       ]
      },
      {
       "output_type": "stream",
       "stream": "stdout",
       "text": [
        " 881 , lhood =  -0.0359170646291 , pred =  0 , acc =  0.99245251721 , param =  [-1.55752126  1.57772286 -2.33203403]\n",
        "iter = "
       ]
      },
      {
       "output_type": "stream",
       "stream": "stdout",
       "text": [
        " 882 , lhood =  -0.035913993866 , pred =  0 , acc =  0.99245251721 , param =  [-1.55755762  1.57947488 -2.33203259]\n",
        "iter = "
       ]
      },
      {
       "output_type": "stream",
       "stream": "stdout",
       "text": [
        " 883 , lhood =  -0.0359109236334 , pred =  0 , acc =  0.99245251721 , param =  [-1.557594    1.58122674 -2.33203116]\n",
        "iter = "
       ]
      },
      {
       "output_type": "stream",
       "stream": "stdout",
       "text": [
        " 884 , lhood =  -0.0359078539317 , pred =  0 , acc =  0.99245251721 , param =  [-1.55763041  1.58297846 -2.33202973]\n",
        "iter = "
       ]
      },
      {
       "output_type": "stream",
       "stream": "stdout",
       "text": [
        " 885 , lhood =  -0.0359047847612 , pred =  0 , acc =  0.99245251721 , param =  [-1.55766685  1.58473002 -2.3320283 ]\n",
        "iter = "
       ]
      },
      {
       "output_type": "stream",
       "stream": "stdout",
       "text": [
        " 886 , lhood =  -0.0359017161225 , pred =  0 , acc =  0.99245251721 , param =  [-1.55770331  1.58648143 -2.33202687]\n",
        "iter = "
       ]
      },
      {
       "output_type": "stream",
       "stream": "stdout",
       "text": [
        " 887 , lhood =  -0.0358986480159 , pred =  0 , acc =  0.99245251721 , param =  [-1.55773979  1.58823269 -2.33202545]\n",
        "iter = "
       ]
      },
      {
       "output_type": "stream",
       "stream": "stdout",
       "text": [
        " 888 , lhood =  -0.0358955804418 , pred =  0 , acc =  0.99245251721 , param =  [-1.5577763   1.5899838  -2.33202402]\n",
        "iter = "
       ]
      },
      {
       "output_type": "stream",
       "stream": "stdout",
       "text": [
        " 889 , lhood =  -0.0358925134007 , pred =  0 , acc =  0.99245251721 , param =  [-1.55781283  1.59173475 -2.3320226 ]\n",
        "iter = "
       ]
      },
      {
       "output_type": "stream",
       "stream": "stdout",
       "text": [
        " 890 , lhood =  -0.035889446893 , pred =  0 , acc =  0.99245251721 , param =  [-1.55784939  1.59348555 -2.33202118]\n",
        "iter = "
       ]
      },
      {
       "output_type": "stream",
       "stream": "stdout",
       "text": [
        " 891 , lhood =  -0.035886380919 , pred =  0 , acc =  0.99245251721 , param =  [-1.55788597  1.5952362  -2.33201976]\n",
        "iter = "
       ]
      },
      {
       "output_type": "stream",
       "stream": "stdout",
       "text": [
        " 892 , lhood =  -0.0358833154792 , pred =  0 , acc =  0.99245251721 , param =  [-1.55792257  1.59698669 -2.33201835]\n",
        "iter = "
       ]
      },
      {
       "output_type": "stream",
       "stream": "stdout",
       "text": [
        " 893 , lhood =  -0.035880250574 , pred =  0 , acc =  0.99245251721 , param =  [-1.5579592   1.59873703 -2.33201693]\n",
        "iter = "
       ]
      },
      {
       "output_type": "stream",
       "stream": "stdout",
       "text": [
        " 894 , lhood =  -0.0358771862038 , pred =  0 , acc =  0.99245251721 , param =  [-1.55799586  1.60048722 -2.33201552]\n",
        "iter = "
       ]
      },
      {
       "output_type": "stream",
       "stream": "stdout",
       "text": [
        " 895 , lhood =  -0.035874122369 , pred =  0 , acc =  0.99245251721 , param =  [-1.55803253  1.60223726 -2.33201411]\n",
        "iter = "
       ]
      },
      {
       "output_type": "stream",
       "stream": "stdout",
       "text": [
        " 896 , lhood =  -0.0358710590701 , pred =  0 , acc =  0.99245251721 , param =  [-1.55806924  1.60398714 -2.3320127 ]\n",
        "iter = "
       ]
      },
      {
       "output_type": "stream",
       "stream": "stdout",
       "text": [
        " 897 , lhood =  -0.0358679963074 , pred =  0 , acc =  0.99245251721 , param =  [-1.55810596  1.60573687 -2.33201129]\n",
        "iter = "
       ]
      },
      {
       "output_type": "stream",
       "stream": "stdout",
       "text": [
        " 898 , lhood =  -0.0358649340814 , pred =  0 , acc =  0.99245251721 , param =  [-1.55814272  1.60748644 -2.33200988]\n",
        "iter = "
       ]
      },
      {
       "output_type": "stream",
       "stream": "stdout",
       "text": [
        " 899 , lhood =  -0.0358618723924 , pred =  0 , acc =  0.99245251721 , param =  [-1.55817949  1.60923586 -2.33200848]\n",
        "iter = "
       ]
      },
      {
       "output_type": "stream",
       "stream": "stdout",
       "text": [
        " 900 , lhood =  -0.0358588112409 , pred =  0 , acc =  0.99245251721 , param =  [-1.55821629  1.61098512 -2.33200708]\n",
        "iter = "
       ]
      },
      {
       "output_type": "stream",
       "stream": "stdout",
       "text": [
        " 901 , lhood =  -0.0358557506273 , pred =  0 , acc =  0.99245251721 , param =  [-1.55825312  1.61273424 -2.33200567]\n",
        "iter = "
       ]
      },
      {
       "output_type": "stream",
       "stream": "stdout",
       "text": [
        " 902 , lhood =  -0.035852690552 , pred =  0 , acc =  0.99245251721 , param =  [-1.55828997  1.61448319 -2.33200428]\n",
        "iter = "
       ]
      },
      {
       "output_type": "stream",
       "stream": "stdout",
       "text": [
        " 903 , lhood =  -0.0358496310154 , pred =  0 , acc =  0.99245251721 , param =  [-1.55832684  1.616232   -2.33200288]\n",
        "iter = "
       ]
      },
      {
       "output_type": "stream",
       "stream": "stdout",
       "text": [
        " 904 , lhood =  -0.0358465720179 , pred =  0 , acc =  0.99245251721 , param =  [-1.55836374  1.61798064 -2.33200148]\n",
        "iter = "
       ]
      },
      {
       "output_type": "stream",
       "stream": "stdout",
       "text": [
        " 905 , lhood =  -0.03584351356 , pred =  0 , acc =  0.99245251721 , param =  [-1.55840066  1.61972914 -2.33200009]\n",
        "iter = "
       ]
      },
      {
       "output_type": "stream",
       "stream": "stdout",
       "text": [
        " 906 , lhood =  -0.035840455642 , pred =  0 , acc =  0.99245251721 , param =  [-1.55843761  1.62147747 -2.3319987 ]\n",
        "iter = "
       ]
      },
      {
       "output_type": "stream",
       "stream": "stdout",
       "text": [
        " 907 , lhood =  -0.0358373982644 , pred =  0 , acc =  0.99245251721 , param =  [-1.55847458  1.62322566 -2.33199731]\n",
        "iter = "
       ]
      },
      {
       "output_type": "stream",
       "stream": "stdout",
       "text": [
        " 908 , lhood =  -0.0358343414276 , pred =  0 , acc =  0.99245251721 , param =  [-1.55851158  1.62497368 -2.33199592]\n",
        "iter = "
       ]
      },
      {
       "output_type": "stream",
       "stream": "stdout",
       "text": [
        " 909 , lhood =  -0.035831285132 , pred =  0 , acc =  0.99245251721 , param =  [-1.5585486   1.62672156 -2.33199453]\n",
        "iter = "
       ]
      },
      {
       "output_type": "stream",
       "stream": "stdout",
       "text": [
        " 910 , lhood =  -0.035828229378 , pred =  0 , acc =  0.99245251721 , param =  [-1.55858565  1.62846927 -2.33199315]\n",
        "iter = "
       ]
      },
      {
       "output_type": "stream",
       "stream": "stdout",
       "text": [
        " 911 , lhood =  -0.035825174166 , pred =  0 , acc =  0.99245251721 , param =  [-1.55862272  1.63021684 -2.33199176]\n",
        "iter = "
       ]
      },
      {
       "output_type": "stream",
       "stream": "stdout",
       "text": [
        " 912 , lhood =  -0.0358221194964 , pred =  0 , acc =  0.99245251721 , param =  [-1.55865981  1.63196424 -2.33199038]\n",
        "iter = "
       ]
      },
      {
       "output_type": "stream",
       "stream": "stdout",
       "text": [
        " 913 , lhood =  -0.0358190653697 , pred =  0 , acc =  0.99245251721 , param =  [-1.55869693  1.63371149 -2.331989  ]\n",
        "iter = "
       ]
      },
      {
       "output_type": "stream",
       "stream": "stdout",
       "text": [
        " 914 , lhood =  -0.0358160117863 , pred =  0 , acc =  0.99245251721 , param =  [-1.55873408  1.63545859 -2.33198763]\n",
        "iter = "
       ]
      },
      {
       "output_type": "stream",
       "stream": "stdout",
       "text": [
        " 915 , lhood =  -0.0358129587465 , pred =  0 , acc =  0.99245251721 , param =  [-1.55877125  1.63720552 -2.33198625]\n",
        "iter = "
       ]
      },
      {
       "output_type": "stream",
       "stream": "stdout",
       "text": [
        " 916 , lhood =  -0.0358099062508 , pred =  0 , acc =  0.99245251721 , param =  [-1.55880844  1.63895231 -2.33198487]\n",
        "iter = "
       ]
      },
      {
       "output_type": "stream",
       "stream": "stdout",
       "text": [
        " 917 , lhood =  -0.0358068542996 , pred =  0 , acc =  0.99245251721 , param =  [-1.55884566  1.64069893 -2.3319835 ]\n",
        "iter = "
       ]
      },
      {
       "output_type": "stream",
       "stream": "stdout",
       "text": [
        " 918 , lhood =  -0.0358038028934 , pred =  0 , acc =  0.99245251721 , param =  [-1.5588829   1.6424454  -2.33198213]\n",
        "iter = "
       ]
      },
      {
       "output_type": "stream",
       "stream": "stdout",
       "text": [
        " 919 , lhood =  -0.0358007520324 , pred =  0 , acc =  0.99245251721 , param =  [-1.55892017  1.64419171 -2.33198076]\n",
        "iter = "
       ]
      },
      {
       "output_type": "stream",
       "stream": "stdout",
       "text": [
        " 920 , lhood =  -0.0357977017172 , pred =  0 , acc =  0.99245251721 , param =  [-1.55895747  1.64593787 -2.33197939]\n",
        "iter = "
       ]
      },
      {
       "output_type": "stream",
       "stream": "stdout",
       "text": [
        " 921 , lhood =  -0.0357946519482 , pred =  0 , acc =  0.99245251721 , param =  [-1.55899478  1.64768387 -2.33197803]\n",
        "iter = "
       ]
      },
      {
       "output_type": "stream",
       "stream": "stdout",
       "text": [
        " 922 , lhood =  -0.0357916027258 , pred =  0 , acc =  0.99245251721 , param =  [-1.55903213  1.64942971 -2.33197667]\n",
        "iter = "
       ]
      },
      {
       "output_type": "stream",
       "stream": "stdout",
       "text": [
        " 923 , lhood =  -0.0357885540503 , pred =  0 , acc =  0.99245251721 , param =  [-1.5590695   1.65117539 -2.3319753 ]\n",
        "iter = "
       ]
      },
      {
       "output_type": "stream",
       "stream": "stdout",
       "text": [
        " 924 , lhood =  -0.0357855059222 , pred =  0 , acc =  0.99245251721 , param =  [-1.55910689  1.65292092 -2.33197394]\n",
        "iter = "
       ]
      },
      {
       "output_type": "stream",
       "stream": "stdout",
       "text": [
        " 925 , lhood =  -0.035782458342 , pred =  0 , acc =  0.99245251721 , param =  [-1.55914431  1.65466629 -2.33197258]\n",
        "iter = "
       ]
      },
      {
       "output_type": "stream",
       "stream": "stdout",
       "text": [
        " 926 , lhood =  -0.03577941131 , pred =  0 , acc =  0.99245251721 , param =  [-1.55918175  1.6564115  -2.33197123]\n",
        "iter = "
       ]
      },
      {
       "output_type": "stream",
       "stream": "stdout",
       "text": [
        " 927 , lhood =  -0.0357763648266 , pred =  0 , acc =  0.99245251721 , param =  [-1.55921922  1.65815656 -2.33196987]\n",
        "iter = "
       ]
      },
      {
       "output_type": "stream",
       "stream": "stdout",
       "text": [
        " 928 , lhood =  -0.0357733188923 , pred =  0 , acc =  0.99245251721 , param =  [-1.55925671  1.65990145 -2.33196852]\n",
        "iter = "
       ]
      },
      {
       "output_type": "stream",
       "stream": "stdout",
       "text": [
        " 929 , lhood =  -0.0357702735075 , pred =  0 , acc =  0.99245251721 , param =  [-1.55929423  1.66164619 -2.33196717]\n",
        "iter = "
       ]
      },
      {
       "output_type": "stream",
       "stream": "stdout",
       "text": [
        " 930 , lhood =  -0.0357672286726 , pred =  0 , acc =  0.99245251721 , param =  [-1.55933177  1.66339077 -2.33196582]\n",
        "iter = "
       ]
      },
      {
       "output_type": "stream",
       "stream": "stdout",
       "text": [
        " 931 , lhood =  -0.0357641843879 , pred =  0 , acc =  0.99245251721 , param =  [-1.55936934  1.66513519 -2.33196447]\n",
        "iter = "
       ]
      },
      {
       "output_type": "stream",
       "stream": "stdout",
       "text": [
        " 932 , lhood =  -0.0357611406541 , pred =  0 , acc =  0.99245251721 , param =  [-1.55940693  1.66687946 -2.33196312]\n",
        "iter = "
       ]
      },
      {
       "output_type": "stream",
       "stream": "stdout",
       "text": [
        " 933 , lhood =  -0.0357580974713 , pred =  0 , acc =  0.99245251721 , param =  [-1.55944455  1.66862356 -2.33196178]\n",
        "iter = "
       ]
      },
      {
       "output_type": "stream",
       "stream": "stdout",
       "text": [
        " 934 , lhood =  -0.0357550548401 , pred =  0 , acc =  0.99245251721 , param =  [-1.55948219  1.67036751 -2.33196043]\n",
        "iter = "
       ]
      },
      {
       "output_type": "stream",
       "stream": "stdout",
       "text": [
        " 935 , lhood =  -0.0357520127609 , pred =  0 , acc =  0.99245251721 , param =  [-1.55951986  1.6721113  -2.33195909]\n",
        "iter = "
       ]
      },
      {
       "output_type": "stream",
       "stream": "stdout",
       "text": [
        " 936 , lhood =  -0.035748971234 , pred =  0 , acc =  0.99245251721 , param =  [-1.55955755  1.67385493 -2.33195775]\n",
        "iter = "
       ]
      },
      {
       "output_type": "stream",
       "stream": "stdout",
       "text": [
        " 937 , lhood =  -0.03574593026 , pred =  0 , acc =  0.99245251721 , param =  [-1.55959527  1.6755984  -2.33195641]\n",
        "iter = "
       ]
      },
      {
       "output_type": "stream",
       "stream": "stdout",
       "text": [
        " 938 , lhood =  -0.0357428898391 , pred =  0 , acc =  0.99245251721 , param =  [-1.55963301  1.67734171 -2.33195508]\n",
        "iter = "
       ]
      },
      {
       "output_type": "stream",
       "stream": "stdout",
       "text": [
        " 939 , lhood =  -0.0357398499719 , pred =  0 , acc =  0.99245251721 , param =  [-1.55967078  1.67908486 -2.33195374]\n",
        "iter = "
       ]
      },
      {
       "output_type": "stream",
       "stream": "stdout",
       "text": [
        " 940 , lhood =  -0.0357368106588 , pred =  0 , acc =  0.99245251721 , param =  [-1.55970857  1.68082785 -2.33195241]\n",
        "iter = "
       ]
      },
      {
       "output_type": "stream",
       "stream": "stdout",
       "text": [
        " 941 , lhood =  -0.0357337719001 , pred =  0 , acc =  0.99245251721 , param =  [-1.55974639  1.68257068 -2.33195108]\n",
        "iter = "
       ]
      },
      {
       "output_type": "stream",
       "stream": "stdout",
       "text": [
        " 942 , lhood =  -0.0357307336963 , pred =  0 , acc =  0.99245251721 , param =  [-1.55978424  1.68431336 -2.33194975]\n",
        "iter = "
       ]
      },
      {
       "output_type": "stream",
       "stream": "stdout",
       "text": [
        " 943 , lhood =  -0.0357276960478 , pred =  0 , acc =  0.99245251721 , param =  [-1.55982211  1.68605587 -2.33194842]\n",
        "iter = "
       ]
      },
      {
       "output_type": "stream",
       "stream": "stdout",
       "text": [
        " 944 , lhood =  -0.035724658955 , pred =  0 , acc =  0.99245251721 , param =  [-1.55986     1.68779822 -2.3319471 ]\n",
        "iter = "
       ]
      },
      {
       "output_type": "stream",
       "stream": "stdout",
       "text": [
        " 945 , lhood =  -0.0357216224184 , pred =  0 , acc =  0.99245251721 , param =  [-1.55989792  1.68954042 -2.33194577]\n",
        "iter = "
       ]
      },
      {
       "output_type": "stream",
       "stream": "stdout",
       "text": [
        " 946 , lhood =  -0.0357185864383 , pred =  0 , acc =  0.99245251721 , param =  [-1.55993586  1.69128245 -2.33194445]\n",
        "iter = "
       ]
      },
      {
       "output_type": "stream",
       "stream": "stdout",
       "text": [
        " 947 , lhood =  -0.0357155510151 , pred =  0 , acc =  0.99245251721 , param =  [-1.55997383  1.69302432 -2.33194313]\n",
        "iter = "
       ]
      },
      {
       "output_type": "stream",
       "stream": "stdout",
       "text": [
        " 948 , lhood =  -0.0357125161494 , pred =  0 , acc =  0.99245251721 , param =  [-1.56001183  1.69476603 -2.33194181]\n",
        "iter = "
       ]
      },
      {
       "output_type": "stream",
       "stream": "stdout",
       "text": [
        " 949 , lhood =  -0.0357094818414 , pred =  0 , acc =  0.99245251721 , param =  [-1.56004985  1.69650758 -2.33194049]\n",
        "iter = "
       ]
      },
      {
       "output_type": "stream",
       "stream": "stdout",
       "text": [
        " 950 , lhood =  -0.0357064480916 , pred =  0 , acc =  0.99245251721 , param =  [-1.5600879   1.69824897 -2.33193918]\n",
        "iter = "
       ]
      },
      {
       "output_type": "stream",
       "stream": "stdout",
       "text": [
        " 951 , lhood =  -0.0357034149005 , pred =  0 , acc =  0.99245251721 , param =  [-1.56012597  1.6999902  -2.33193786]\n",
        "iter = "
       ]
      },
      {
       "output_type": "stream",
       "stream": "stdout",
       "text": [
        " 952 , lhood =  -0.0357003822684 , pred =  0 , acc =  0.99245251721 , param =  [-1.56016406  1.70173127 -2.33193655]\n",
        "iter = "
       ]
      },
      {
       "output_type": "stream",
       "stream": "stdout",
       "text": [
        " 953 , lhood =  -0.0356973501958 , pred =  0 , acc =  0.99245251721 , param =  [-1.56020219  1.70347218 -2.33193524]\n",
        "iter = "
       ]
      },
      {
       "output_type": "stream",
       "stream": "stdout",
       "text": [
        " 954 , lhood =  -0.0356943186831 , pred =  0 , acc =  0.99245251721 , param =  [-1.56024033  1.70521292 -2.33193393]\n",
        "iter = "
       ]
      },
      {
       "output_type": "stream",
       "stream": "stdout",
       "text": [
        " 955 , lhood =  -0.0356912877307 , pred =  0 , acc =  0.99245251721 , param =  [-1.56027851  1.70695351 -2.33193262]\n",
        "iter = "
       ]
      },
      {
       "output_type": "stream",
       "stream": "stdout",
       "text": [
        " 956 , lhood =  -0.0356882573389 , pred =  0 , acc =  0.99245251721 , param =  [-1.5603167   1.70869393 -2.33193132]\n",
        "iter = "
       ]
      },
      {
       "output_type": "stream",
       "stream": "stdout",
       "text": [
        " 957 , lhood =  -0.0356852275084 , pred =  0 , acc =  0.99245251721 , param =  [-1.56035493  1.71043419 -2.33193001]\n",
        "iter = "
       ]
      },
      {
       "output_type": "stream",
       "stream": "stdout",
       "text": [
        " 958 , lhood =  -0.0356821982393 , pred =  0 , acc =  0.99245251721 , param =  [-1.56039318  1.71217429 -2.33192871]\n",
        "iter = "
       ]
      },
      {
       "output_type": "stream",
       "stream": "stdout",
       "text": [
        " 959 , lhood =  -0.0356791695323 , pred =  0 , acc =  0.99245251721 , param =  [-1.56043145  1.71391423 -2.33192741]\n",
        "iter = "
       ]
      },
      {
       "output_type": "stream",
       "stream": "stdout",
       "text": [
        " 960 , lhood =  -0.0356761413876 , pred =  0 , acc =  0.99245251721 , param =  [-1.56046975  1.715654   -2.33192611]\n",
        "iter = "
       ]
      },
      {
       "output_type": "stream",
       "stream": "stdout",
       "text": [
        " 961 , lhood =  -0.0356731138057 , pred =  0 , acc =  0.99245251721 , param =  [-1.56050808  1.71739362 -2.33192481]\n",
        "iter = "
       ]
      },
      {
       "output_type": "stream",
       "stream": "stdout",
       "text": [
        " 962 , lhood =  -0.0356700867871 , pred =  0 , acc =  0.99245251721 , param =  [-1.56054643  1.71913307 -2.33192352]\n",
        "iter = "
       ]
      },
      {
       "output_type": "stream",
       "stream": "stdout",
       "text": [
        " 963 , lhood =  -0.0356670603321 , pred =  0 , acc =  0.99245251721 , param =  [-1.5605848   1.72087235 -2.33192222]\n",
        "iter = "
       ]
      },
      {
       "output_type": "stream",
       "stream": "stdout",
       "text": [
        " 964 , lhood =  -0.0356640344411 , pred =  0 , acc =  0.99245251721 , param =  [-1.5606232   1.72261148 -2.33192093]\n",
        "iter = "
       ]
      },
      {
       "output_type": "stream",
       "stream": "stdout",
       "text": [
        " 965 , lhood =  -0.0356610091146 , pred =  0 , acc =  0.99245251721 , param =  [-1.56066163  1.72435044 -2.33191964]\n",
        "iter = "
       ]
      },
      {
       "output_type": "stream",
       "stream": "stdout",
       "text": [
        " 966 , lhood =  -0.035657984353 , pred =  0 , acc =  0.99245251721 , param =  [-1.56070008  1.72608924 -2.33191835]\n",
        "iter = "
       ]
      },
      {
       "output_type": "stream",
       "stream": "stdout",
       "text": [
        " 967 , lhood =  -0.0356549601567 , pred =  0 , acc =  0.99245251721 , param =  [-1.56073856  1.72782788 -2.33191706]\n",
        "iter = "
       ]
      },
      {
       "output_type": "stream",
       "stream": "stdout",
       "text": [
        " 968 , lhood =  -0.0356519365262 , pred =  0 , acc =  0.99245251721 , param =  [-1.56077707  1.72956635 -2.33191578]\n",
        "iter = "
       ]
      },
      {
       "output_type": "stream",
       "stream": "stdout",
       "text": [
        " 969 , lhood =  -0.0356489134618 , pred =  0 , acc =  0.99245251721 , param =  [-1.5608156   1.73130466 -2.33191449]\n",
        "iter = "
       ]
      },
      {
       "output_type": "stream",
       "stream": "stdout",
       "text": [
        " 970 , lhood =  -0.0356458909639 , pred =  0 , acc =  0.99245251721 , param =  [-1.56085415  1.7330428  -2.33191321]\n",
        "iter = "
       ]
      },
      {
       "output_type": "stream",
       "stream": "stdout",
       "text": [
        " 971 , lhood =  -0.0356428690331 , pred =  0 , acc =  0.99245251721 , param =  [-1.56089273  1.73478079 -2.33191193]\n",
        "iter = "
       ]
      },
      {
       "output_type": "stream",
       "stream": "stdout",
       "text": [
        " 972 , lhood =  -0.0356398476696 , pred =  0 , acc =  0.99245251721 , param =  [-1.56093134  1.73651861 -2.33191065]\n",
        "iter = "
       ]
      },
      {
       "output_type": "stream",
       "stream": "stdout",
       "text": [
        " 973 , lhood =  -0.035636826874 , pred =  0 , acc =  0.99245251721 , param =  [-1.56096997  1.73825626 -2.33190937]\n",
        "iter = "
       ]
      },
      {
       "output_type": "stream",
       "stream": "stdout",
       "text": [
        " 974 , lhood =  -0.0356338066466 , pred =  0 , acc =  0.99245251721 , param =  [-1.56100863  1.73999375 -2.3319081 ]\n",
        "iter = "
       ]
      },
      {
       "output_type": "stream",
       "stream": "stdout",
       "text": [
        " 975 , lhood =  -0.0356307869878 , pred =  0 , acc =  0.99245251721 , param =  [-1.56104732  1.74173108 -2.33190682]\n",
        "iter = "
       ]
      },
      {
       "output_type": "stream",
       "stream": "stdout",
       "text": [
        " 976 , lhood =  -0.0356277678981 , pred =  0 , acc =  0.99245251721 , param =  [-1.56108602  1.74346824 -2.33190555]\n",
        "iter = "
       ]
      },
      {
       "output_type": "stream",
       "stream": "stdout",
       "text": [
        " 977 , lhood =  -0.035624749378 , pred =  0 , acc =  0.99245251721 , param =  [-1.56112476  1.74520524 -2.33190428]\n",
        "iter = "
       ]
      },
      {
       "output_type": "stream",
       "stream": "stdout",
       "text": [
        " 978 , lhood =  -0.0356217314277 , pred =  0 , acc =  0.99245251721 , param =  [-1.56116352  1.74694207 -2.33190301]\n",
        "iter = "
       ]
      },
      {
       "output_type": "stream",
       "stream": "stdout",
       "text": [
        " 979 , lhood =  -0.0356187140478 , pred =  0 , acc =  0.99245251721 , param =  [-1.56120231  1.74867874 -2.33190174]\n",
        "iter = "
       ]
      },
      {
       "output_type": "stream",
       "stream": "stdout",
       "text": [
        " 980 , lhood =  -0.0356156972386 , pred =  0 , acc =  0.99245251721 , param =  [-1.56124112  1.75041524 -2.33190048]\n",
        "iter = "
       ]
      },
      {
       "output_type": "stream",
       "stream": "stdout",
       "text": [
        " 981 , lhood =  -0.0356126810006 , pred =  0 , acc =  0.99245251721 , param =  [-1.56127996  1.75215158 -2.33189921]\n",
        "iter = "
       ]
      },
      {
       "output_type": "stream",
       "stream": "stdout",
       "text": [
        " 982 , lhood =  -0.0356096653342 , pred =  0 , acc =  0.99245251721 , param =  [-1.56131882  1.75388775 -2.33189795]\n",
        "iter = "
       ]
      },
      {
       "output_type": "stream",
       "stream": "stdout",
       "text": [
        " 983 , lhood =  -0.0356066502397 , pred =  0 , acc =  0.99245251721 , param =  [-1.56135771  1.75562376 -2.33189669]\n",
        "iter = "
       ]
      },
      {
       "output_type": "stream",
       "stream": "stdout",
       "text": [
        " 984 , lhood =  -0.0356036357177 , pred =  0 , acc =  0.99245251721 , param =  [-1.56139663  1.7573596  -2.33189543]\n",
        "iter = "
       ]
      },
      {
       "output_type": "stream",
       "stream": "stdout",
       "text": [
        " 985 , lhood =  -0.0356006217686 , pred =  0 , acc =  0.99245251721 , param =  [-1.56143557  1.75909528 -2.33189417]\n",
        "iter = "
       ]
      },
      {
       "output_type": "stream",
       "stream": "stdout",
       "text": [
        " 986 , lhood =  -0.0355976083927 , pred =  0 , acc =  0.99245251721 , param =  [-1.56147454  1.76083079 -2.33189291]\n",
        "iter = "
       ]
      },
      {
       "output_type": "stream",
       "stream": "stdout",
       "text": [
        " 987 , lhood =  -0.0355945955905 , pred =  0 , acc =  0.99245251721 , param =  [-1.56151353  1.76256614 -2.33189166]\n",
        "iter = "
       ]
      },
      {
       "output_type": "stream",
       "stream": "stdout",
       "text": [
        " 988 , lhood =  -0.0355915833624 , pred =  0 , acc =  0.99245251721 , param =  [-1.56155255  1.76430132 -2.3318904 ]\n",
        "iter = "
       ]
      },
      {
       "output_type": "stream",
       "stream": "stdout",
       "text": [
        " 989 , lhood =  -0.0355885717088 , pred =  0 , acc =  0.99245251721 , param =  [-1.5615916   1.76603633 -2.33188915]\n",
        "iter = "
       ]
      },
      {
       "output_type": "stream",
       "stream": "stdout",
       "text": [
        " 990 , lhood =  -0.0355855606302 , pred =  0 , acc =  0.99245251721 , param =  [-1.56163067  1.76777118 -2.3318879 ]\n",
        "iter = "
       ]
      },
      {
       "output_type": "stream",
       "stream": "stdout",
       "text": [
        " 991 , lhood =  -0.0355825501269 , pred =  0 , acc =  0.99245251721 , param =  [-1.56166977  1.76950586 -2.33188665]\n",
        "iter = "
       ]
      },
      {
       "output_type": "stream",
       "stream": "stdout",
       "text": [
        " 992 , lhood =  -0.0355795401994 , pred =  0 , acc =  0.99245251721 , param =  [-1.56170889  1.77124037 -2.33188541]\n",
        "iter = "
       ]
      },
      {
       "output_type": "stream",
       "stream": "stdout",
       "text": [
        " 993 , lhood =  -0.0355765308481 , pred =  0 , acc =  0.99245251721 , param =  [-1.56174804  1.77297472 -2.33188416]\n",
        "iter = "
       ]
      },
      {
       "output_type": "stream",
       "stream": "stdout",
       "text": [
        " 994 , lhood =  -0.0355735220735 , pred =  0 , acc =  0.99245251721 , param =  [-1.56178722  1.7747089  -2.33188292]\n",
        "iter = "
       ]
      },
      {
       "output_type": "stream",
       "stream": "stdout",
       "text": [
        " 995 , lhood =  -0.0355705138758 , pred =  0 , acc =  0.99245251721 , param =  [-1.56182642  1.77644291 -2.33188168]\n",
        "iter = "
       ]
      },
      {
       "output_type": "stream",
       "stream": "stdout",
       "text": [
        " 996 , lhood =  -0.0355675062556 , pred =  0 , acc =  0.99245251721 , param =  [-1.56186565  1.77817676 -2.33188044]\n",
        "iter = "
       ]
      },
      {
       "output_type": "stream",
       "stream": "stdout",
       "text": [
        " 997 , lhood =  -0.0355644992134 , pred =  0 , acc =  0.99245251721 , param =  [-1.5619049   1.77991044 -2.3318792 ]\n",
        "iter = "
       ]
      },
      {
       "output_type": "stream",
       "stream": "stdout",
       "text": [
        " 998 , lhood =  -0.0355614927494 , pred =  0 , acc =  0.99245251721 , param =  [-1.56194418  1.78164395 -2.33187796]\n",
        "iter = "
       ]
      },
      {
       "output_type": "stream",
       "stream": "stdout",
       "text": [
        " 999 , lhood =  -0.0355584868641 , pred =  0 , acc =  0.99245251721 , param =  [-1.56198349  1.7833773  -2.33187673]\n"
       ]
      }
     ],
     "prompt_number": 57
    },
    {
     "cell_type": "code",
     "collapsed": false,
     "input": [],
     "language": "python",
     "metadata": {},
     "outputs": []
    }
   ],
   "metadata": {}
  }
 ]
}