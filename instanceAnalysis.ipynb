{
 "metadata": {
  "name": "",
  "signature": "sha256:5796421dc38a6cc5755e39cd8290d5a3d00f61b886081469d15de263a07f196a"
 },
 "nbformat": 3,
 "nbformat_minor": 0,
 "worksheets": [
  {
   "cells": [
    {
     "cell_type": "code",
     "collapsed": false,
     "input": [
      "%pylab inline \n",
      "%load_ext autoreload\n",
      "%autoreload 2\n",
      "from lxml import etree as Etree\n",
      "import matplotlib\n",
      "import matplotlib.pyplot as plt\n",
      "import sys\n",
      "import numpy as np\n",
      "import subprocess\n",
      "\n",
      "def parse(path):\n",
      "  tree = Etree.parse(path)\n",
      "  root = tree.getroot()\n",
      "  nodes = root.findall('train/policy_example/*')\n",
      "  res = list()\n",
      "  for node in nodes:\n",
      "    dic = dict()\n",
      "    for item in node:\n",
      "      attr = item.attrib\n",
      "      dic[item.tag + '/' + attr['name']] = float(attr['value'])\n",
      "    res.append(dic)\n",
      "  return res\n",
      "        \n",
      "extract = lambda dic_l, name : [dic[name] for dic in dic_l]"
     ],
     "language": "python",
     "metadata": {},
     "outputs": [
      {
       "output_type": "stream",
       "stream": "stdout",
       "text": [
        "Populating the interactive namespace from numpy and matplotlib\n",
        "The autoreload extension is already loaded. To reload it, use:\n",
        "  %reload_ext autoreload\n"
       ]
      },
      {
       "output_type": "stream",
       "stream": "stderr",
       "text": [
        "WARNING: pylab import has clobbered these variables: ['extract']\n",
        "`%matplotlib` prevents importing * from pylab and numpy\n"
       ]
      }
     ],
     "prompt_number": 35
    },
    {
     "cell_type": "code",
     "collapsed": false,
     "input": [
      "res = parse(\"test/opengm/inpaint/blockpolicy/cond/0/tcall_train/policy.xml\")\n",
      "reward = extract(res, 'item/reward')\n",
      "resp = extract(res, 'item/resp')\n",
      "bias = extract(res, 'feat/b')\n",
      "num_sp = extract(res, 'feat/#sp')\n",
      "cond_ent = extract(res, 'feat/cond-ent')\n",
      "old_param = zip(extract(res, 'param/b'), extract(res, 'param/cond-ent'), extract(res, 'param/#sp'))"
     ],
     "language": "python",
     "metadata": {},
     "outputs": [],
     "prompt_number": 36
    },
    {
     "cell_type": "code",
     "collapsed": false,
     "input": [
      "\" histogram of reward. \"\n",
      "hist(reward, bins=20)"
     ],
     "language": "python",
     "metadata": {},
     "outputs": [
      {
       "metadata": {},
       "output_type": "pyout",
       "prompt_number": 11,
       "text": [
        "(array([    368.,    1312.,     696.,    2840.,    2904.,    3928.,\n",
        "           8072.,    3712.,   13880.,    2936.,  151696.,   13120.,\n",
        "           4280.,    8024.,    4184.,    2536.,    3288.,     848.,\n",
        "           1368.,     408.]),\n",
        " array([-4.141593 , -3.7274337, -3.3132744, -2.8991151, -2.4849558,\n",
        "        -2.0707965, -1.6566372, -1.2424779, -0.8283186, -0.4141593,\n",
        "         0.       ,  0.4141593,  0.8283186,  1.2424779,  1.6566372,\n",
        "         2.0707965,  2.4849558,  2.8991151,  3.3132744,  3.7274337,\n",
        "         4.141593 ]),\n",
        " <a list of 20 Patch objects>)"
       ]
      },
      {
       "metadata": {},
       "output_type": "display_data",
       "png": "[encoded data removed]",
       "text": [
        "<matplotlib.figure.Figure at 0x1058d5dd0>"
       ]
      }
     ],
     "prompt_number": 11
    },
    {
     "cell_type": "code",
     "collapsed": false,
     "input": [
      "\" hist of resp\"\n",
      "hist(resp, bins=20)"
     ],
     "language": "python",
     "metadata": {},
     "outputs": [
      {
       "metadata": {},
       "output_type": "pyout",
       "prompt_number": 63,
       "text": [
        "(array([ 167675.,  171540.,  187355.,  311830.,   52815.,    6060.,\n",
        "           6165.,    5910.,    5710.,   40155.,  110860.,   80360.,\n",
        "         115090.,  158195.,  149750.,  101135.,  128795.,  164115.,\n",
        "          93000.,   31485.]),\n",
        " array([-2322.574937  , -2191.70467045, -2060.8344039 , -1929.96413735,\n",
        "        -1799.0938708 , -1668.22360425, -1537.3533377 , -1406.48307115,\n",
        "        -1275.6128046 , -1144.74253805, -1013.8722715 ,  -883.00200495,\n",
        "         -752.1317384 ,  -621.26147185,  -490.3912053 ,  -359.52093875,\n",
        "         -228.6506722 ,   -97.78040565,    33.0898609 ,   163.96012745,\n",
        "          294.830394  ]),\n",
        " <a list of 20 Patch objects>)"
       ]
      },
      {
       "metadata": {},
       "output_type": "display_data",
       "png": "[encoded data removed]",
       "text": [
        "<matplotlib.figure.Figure at 0x134835f10>"
       ]
      }
     ],
     "prompt_number": 63
    },
    {
     "cell_type": "code",
     "collapsed": false,
     "input": [
      "\" reward vs. #sp. \"\n",
      "plot(num_sp, reward, '.')"
     ],
     "language": "python",
     "metadata": {},
     "outputs": [
      {
       "metadata": {},
       "output_type": "pyout",
       "prompt_number": 64,
       "text": [
        "[<matplotlib.lines.Line2D at 0x136514d10>]"
       ]
      },
      {
       "metadata": {},
       "output_type": "display_data",
       "png": "[encoded data removed]",
       "text": [
        "<matplotlib.figure.Figure at 0x1337ad250>"
       ]
      }
     ],
     "prompt_number": 64
    },
    {
     "cell_type": "code",
     "collapsed": false,
     "input": [
      "\" reward vs. cond-ent\"\n",
      "plot(cond_ent, reward, '.')"
     ],
     "language": "python",
     "metadata": {},
     "outputs": [
      {
       "metadata": {},
       "output_type": "pyout",
       "prompt_number": 65,
       "text": [
        "[<matplotlib.lines.Line2D at 0x133638b50>]"
       ]
      },
      {
       "metadata": {},
       "output_type": "display_data",
       "png": "[encoded data removed]",
       "text": [
        "<matplotlib.figure.Figure at 0x133638410>"
       ]
      }
     ],
     "prompt_number": 65
    },
    {
     "cell_type": "code",
     "collapsed": false,
     "input": [
      "\" reward vs. cond-ent\"\n",
      "plot(resp, reward, '.')"
     ],
     "language": "python",
     "metadata": {},
     "outputs": [
      {
       "metadata": {},
       "output_type": "pyout",
       "prompt_number": 66,
       "text": [
        "[<matplotlib.lines.Line2D at 0x1357cdbd0>]"
       ]
      },
      {
       "metadata": {},
       "output_type": "display_data",
       "png": "[encoded data removed]",
       "text": [
        "<matplotlib.figure.Figure at 0x1357cd350>"
       ]
      }
     ],
     "prompt_number": 66
    },
    {
     "cell_type": "code",
     "collapsed": false,
     "input": [
      "\"reward > 0 as positive instance. 2D diagram\"\n",
      "pos = [(ce, sp) for (ce, sp, r) in zip(cond_ent, num_sp, reward) if r > 0]\n",
      "neg = [(ce, sp) for (ce, sp, r) in zip(cond_ent, num_sp, reward) if r <= 0]\n",
      "figure\n",
      "plot(*zip(*neg), color='b', marker='+', linestyle='')\n",
      "plot(*zip(*pos), color='r', marker='.', linestyle='')"
     ],
     "language": "python",
     "metadata": {},
     "outputs": [
      {
       "metadata": {},
       "output_type": "pyout",
       "prompt_number": 68,
       "text": [
        "[<matplotlib.lines.Line2D at 0x1344279d0>]"
       ]
      },
      {
       "metadata": {},
       "output_type": "display_data",
       "png": "[encoded data removed]",
       "text": [
        "<matplotlib.figure.Figure at 0x1334be150>"
       ]
      }
     ],
     "prompt_number": 68
    },
    {
     "cell_type": "code",
     "collapsed": false,
     "input": [
      "\"reproduce adagrad algorithm (sanity check)\"\n",
      "def train_adagrad(example_l, reward_l, eta, num_iter):\n",
      "  param = np.zeros(len(example_l[0]))\n",
      "  G2 = np.zeros(len(param))\n",
      "  count = 0\n",
      "  for it in range(num_iter):\n",
      "    print 'iter = ', it\n",
      "    for (example, reward) in zip(example_l, reward_l):\n",
      "      example = np.array(example)\n",
      "      resp = np.dot(example, param)\n",
      "      resp = 1./(1+exp(-resp))\n",
      "      if reward > 0:\n",
      "        grad = example * (1 - resp)\n",
      "      else:\n",
      "        grad = example * (- resp)\n",
      "      G2 += grad**2\n",
      "      param += eta * grad / sqrt(1 + G2)\n",
      "    print 'param = ', param\n",
      "  return param\n",
      "\n",
      "param = train_adagrad(zip(bias, cond_ent, num_sp), reward, 1, 100)"
     ],
     "language": "python",
     "metadata": {},
     "outputs": [
      {
       "output_type": "stream",
       "stream": "stdout",
       "text": [
        "iter =  0\n",
        "param = "
       ]
      },
      {
       "output_type": "stream",
       "stream": "stdout",
       "text": [
        " [-1.84056787  3.04531767 -1.41355791]\n",
        "iter =  1\n",
        "param = "
       ]
      },
      {
       "output_type": "stream",
       "stream": "stdout",
       "text": [
        " [-2.06580226  3.05262596 -1.246018  ]\n",
        "iter =  2\n",
        "param = "
       ]
      },
      {
       "output_type": "stream",
       "stream": "stdout",
       "text": [
        " [-2.26412721  3.04838438 -1.11955965]\n",
        "iter =  3\n",
        "param = "
       ]
      },
      {
       "output_type": "stream",
       "stream": "stdout",
       "text": [
        " [-2.43852349  3.04069459 -1.01427311]\n",
        "iter =  4\n",
        "param = "
       ]
      },
      {
       "output_type": "stream",
       "stream": "stdout",
       "text": [
        " [-2.59274474  3.03236047 -0.92364917]\n",
        "iter =  5\n",
        "param = "
       ]
      },
      {
       "output_type": "stream",
       "stream": "stdout",
       "text": [
        " [-2.7298238   3.02446068 -0.84439817]\n",
        "iter =  6\n",
        "param = "
       ]
      },
      {
       "output_type": "stream",
       "stream": "stdout",
       "text": [
        " [-2.85217355  3.01738888 -0.77444712]\n",
        "iter =  7\n",
        "param = "
       ]
      },
      {
       "output_type": "stream",
       "stream": "stdout",
       "text": [
        " [-2.96174692  3.01124534 -0.71232018]\n",
        "iter =  8\n",
        "param = "
       ]
      },
      {
       "output_type": "stream",
       "stream": "stdout",
       "text": [
        " [-3.06015441  3.00600241 -0.65688949]\n",
        "iter =  9\n",
        "param = "
       ]
      },
      {
       "output_type": "stream",
       "stream": "stdout",
       "text": [
        " [-3.14874506  3.00157922 -0.60725494]\n",
        "iter =  10\n",
        "param = "
       ]
      },
      {
       "output_type": "stream",
       "stream": "stdout",
       "text": [
        " [-3.22866319  2.99787687 -0.56267779]\n",
        "iter =  11\n",
        "param = "
       ]
      },
      {
       "output_type": "stream",
       "stream": "stdout",
       "text": [
        " [-3.30088925  2.99479503 -0.52254013]\n",
        "iter =  12\n",
        "param = "
       ]
      },
      {
       "output_type": "stream",
       "stream": "stdout",
       "text": [
        " [-3.36627007  2.99223959 -0.48631805]\n",
        "iter =  13\n",
        "param = "
       ]
      },
      {
       "output_type": "stream",
       "stream": "stdout",
       "text": [
        " [-3.4255419   2.99012578 -0.4535628 ]\n",
        "iter =  14\n",
        "param = "
       ]
      },
      {
       "output_type": "stream",
       "stream": "stdout",
       "text": [
        " [-3.47934839  2.98837905 -0.42388701]\n",
        "iter =  15\n",
        "param = "
       ]
      },
      {
       "output_type": "stream",
       "stream": "stdout",
       "text": [
        " [-3.52825479  2.98693485 -0.39695423]\n",
        "iter =  16\n",
        "param = "
       ]
      },
      {
       "output_type": "stream",
       "stream": "stdout",
       "text": [
        " [-3.57275948  2.98573788 -0.37247069]\n",
        "iter =  17\n",
        "param = "
       ]
      },
      {
       "output_type": "stream",
       "stream": "stdout",
       "text": [
        " [-3.61330336  2.9847411  -0.35017885]\n",
        "iter =  18\n",
        "param = "
       ]
      },
      {
       "output_type": "stream",
       "stream": "stdout",
       "text": [
        " [-3.65027762  2.98390477 -0.32985205]\n",
        "iter =  19\n",
        "param = "
       ]
      },
      {
       "output_type": "stream",
       "stream": "stdout",
       "text": [
        " [-3.68403027  2.98319544 -0.3112902 ]\n",
        "iter =  20\n",
        "param = "
       ]
      },
      {
       "output_type": "stream",
       "stream": "stdout",
       "text": [
        " [-3.71487162  2.98258515 -0.29431619]\n",
        "iter =  21\n",
        "param = "
       ]
      },
      {
       "output_type": "stream",
       "stream": "stdout",
       "text": [
        " [-3.74307893  2.98205055 -0.2787728 ]\n",
        "iter =  22\n",
        "param = "
       ]
      },
      {
       "output_type": "stream",
       "stream": "stdout",
       "text": [
        " [-3.76890041  2.98157229 -0.26452023]\n",
        "iter =  23\n",
        "param = "
       ]
      },
      {
       "output_type": "stream",
       "stream": "stdout",
       "text": [
        " [-3.79255865  2.98113438 -0.25143385]\n",
        "iter =  24\n",
        "param = "
       ]
      },
      {
       "output_type": "stream",
       "stream": "stdout",
       "text": [
        " [-3.81425354  2.98072367 -0.23940238]\n",
        "iter =  25\n",
        "param = "
       ]
      },
      {
       "output_type": "stream",
       "stream": "stdout",
       "text": [
        " [-3.8341649   2.98032942 -0.22832629]\n",
        "iter =  26\n",
        "param = "
       ]
      },
      {
       "output_type": "stream",
       "stream": "stdout",
       "text": [
        " [-3.85245464  2.97994294 -0.21811641]\n",
        "iter =  27\n",
        "param = "
       ]
      },
      {
       "output_type": "stream",
       "stream": "stdout",
       "text": [
        " [-3.8692688   2.9795572  -0.20869274]\n",
        "iter =  28\n",
        "param = "
       ]
      },
      {
       "output_type": "stream",
       "stream": "stdout",
       "text": [
        " [-3.88473919  2.97916665 -0.1999834 ]\n",
        "iter =  29\n",
        "param = "
       ]
      },
      {
       "output_type": "stream",
       "stream": "stdout",
       "text": [
        " [-3.89898494  2.97876691 -0.19192372]\n",
        "iter =  30\n",
        "param = "
       ]
      },
      {
       "output_type": "stream",
       "stream": "stdout",
       "text": [
        " [-3.91211382  2.97835459 -0.18445548]\n",
        "iter =  31\n",
        "param = "
       ]
      },
      {
       "output_type": "stream",
       "stream": "stdout",
       "text": [
        " [-3.92422342  2.97792715 -0.17752614]\n",
        "iter =  32\n",
        "param = "
       ]
      },
      {
       "output_type": "stream",
       "stream": "stdout",
       "text": [
        " [-3.93540217  2.97748274 -0.17108832]\n",
        "iter =  33\n",
        "param = "
       ]
      },
      {
       "output_type": "stream",
       "stream": "stdout",
       "text": [
        " [-3.94573029  2.97702007 -0.16509916]\n",
        "iter =  34\n",
        "param = "
       ]
      },
      {
       "output_type": "stream",
       "stream": "stdout",
       "text": [
        " [-3.95528059  2.97653833 -0.15951993]\n",
        "iter =  35\n",
        "param = "
       ]
      },
      {
       "output_type": "stream",
       "stream": "stdout",
       "text": [
        " [-3.96411924  2.97603707 -0.15431554]\n",
        "iter =  36\n",
        "param = "
       ]
      },
      {
       "output_type": "stream",
       "stream": "stdout",
       "text": [
        " [-3.97230637  2.97551619 -0.14945421]\n",
        "iter =  37\n",
        "param = "
       ]
      },
      {
       "output_type": "stream",
       "stream": "stdout",
       "text": [
        " [-3.9798967   2.97497581 -0.14490711]\n",
        "iter =  38\n",
        "param = "
       ]
      },
      {
       "output_type": "stream",
       "stream": "stdout",
       "text": [
        " [-3.98694001  2.97441627 -0.14064808]\n",
        "iter =  39\n",
        "param = "
       ]
      },
      {
       "output_type": "stream",
       "stream": "stdout",
       "text": [
        " [-3.99348169  2.97383805 -0.13665333]\n",
        "iter =  40\n",
        "param = "
       ]
      },
      {
       "output_type": "stream",
       "stream": "stdout",
       "text": [
        " [-3.99956308  2.97324178 -0.13290127]\n",
        "iter =  41\n",
        "param = "
       ]
      },
      {
       "output_type": "stream",
       "stream": "stdout",
       "text": [
        " [-4.00522189  2.97262815 -0.12937224]\n",
        "iter =  42\n",
        "param = "
       ]
      },
      {
       "output_type": "stream",
       "stream": "stdout",
       "text": [
        " [-4.01049253  2.97199795 -0.12604833]\n",
        "iter =  43\n",
        "param = "
       ]
      },
      {
       "output_type": "stream",
       "stream": "stdout",
       "text": [
        " [-4.0154064   2.971352   -0.12291323]\n",
        "iter =  44\n",
        "param = "
       ]
      },
      {
       "output_type": "stream",
       "stream": "stdout",
       "text": [
        " [-4.01999221  2.97069115 -0.1199521 ]\n",
        "iter =  45\n",
        "param = "
       ]
      },
      {
       "output_type": "stream",
       "stream": "stdout",
       "text": [
        " [-4.02427617  2.97001628 -0.11715135]\n",
        "iter =  46\n",
        "param = "
       ]
      },
      {
       "output_type": "stream",
       "stream": "stdout",
       "text": [
        " [-4.02828227  2.96932827 -0.11449861]\n",
        "iter =  47\n",
        "param = "
       ]
      },
      {
       "output_type": "stream",
       "stream": "stdout",
       "text": [
        " [-4.03203243  2.96862799 -0.11198258]\n",
        "iter =  48\n",
        "param = "
       ]
      },
      {
       "output_type": "stream",
       "stream": "stdout",
       "text": [
        " [-4.03554673  2.9679163  -0.10959292]\n",
        "iter =  49\n",
        "param = "
       ]
      },
      {
       "output_type": "stream",
       "stream": "stdout",
       "text": [
        " [-4.03884355  2.96719406 -0.10732017]\n",
        "iter =  50\n",
        "param = "
       ]
      },
      {
       "output_type": "stream",
       "stream": "stdout",
       "text": [
        " [-4.04193972  2.96646209 -0.10515569]\n",
        "iter =  51\n",
        "param = "
       ]
      },
      {
       "output_type": "stream",
       "stream": "stdout",
       "text": [
        " [-4.04485068  2.9657212  -0.10309155]\n",
        "iter =  52\n",
        "param = "
       ]
      },
      {
       "output_type": "stream",
       "stream": "stdout",
       "text": [
        " [-4.04759056  2.96497216 -0.1011205 ]\n",
        "iter =  53\n",
        "param = "
       ]
      },
      {
       "output_type": "stream",
       "stream": "stdout",
       "text": [
        " [-4.05017233  2.96421571 -0.09923589]\n",
        "iter =  54\n",
        "param = "
       ]
      },
      {
       "output_type": "stream",
       "stream": "stdout",
       "text": [
        " [-4.05260791  2.96345258 -0.09743161]\n",
        "iter =  55\n",
        "param = "
       ]
      },
      {
       "output_type": "stream",
       "stream": "stdout",
       "text": [
        " [-4.05490821  2.96268344 -0.09570207]\n",
        "iter =  56\n",
        "param = "
       ]
      },
      {
       "output_type": "stream",
       "stream": "stdout",
       "text": [
        " [-4.05708327  2.96190895 -0.09404212]\n",
        "iter =  57\n",
        "param = "
       ]
      },
      {
       "output_type": "stream",
       "stream": "stdout",
       "text": [
        " [-4.05914231  2.96112973 -0.09244704]\n",
        "iter =  58\n",
        "param = "
       ]
      },
      {
       "output_type": "stream",
       "stream": "stdout",
       "text": [
        " [-4.06109379  2.96034637 -0.09091248]\n",
        "iter =  59\n",
        "param = "
       ]
      },
      {
       "output_type": "stream",
       "stream": "stdout",
       "text": [
        " [-4.06294549  2.95955943 -0.08943445]\n",
        "iter =  60\n",
        "param = "
       ]
      },
      {
       "output_type": "stream",
       "stream": "stdout",
       "text": [
        " [-4.06470459  2.95876944 -0.08800927]\n",
        "iter =  61\n",
        "param = "
       ]
      },
      {
       "output_type": "stream",
       "stream": "stdout",
       "text": [
        " [-4.06637767  2.95797689 -0.08663355]\n",
        "iter =  62\n",
        "param = "
       ]
      },
      {
       "output_type": "stream",
       "stream": "stdout",
       "text": [
        " [-4.06797079  2.95718227 -0.08530417]\n",
        "iter =  63\n",
        "param = "
       ]
      },
      {
       "output_type": "stream",
       "stream": "stdout",
       "text": [
        " [-4.06948953  2.95638601 -0.08401826]\n",
        "iter =  64\n",
        "param = "
       ]
      },
      {
       "output_type": "stream",
       "stream": "stdout",
       "text": [
        " [-4.07093905  2.95558853 -0.08277316]\n",
        "iter =  65\n",
        "param = "
       ]
      },
      {
       "output_type": "stream",
       "stream": "stdout",
       "text": [
        " [-4.07232407  2.95479021 -0.08156641]\n",
        "iter =  66\n",
        "param = "
       ]
      },
      {
       "output_type": "stream",
       "stream": "stdout",
       "text": [
        " [-4.07364896  2.95399144 -0.08039577]\n",
        "iter =  67\n",
        "param = "
       ]
      },
      {
       "output_type": "stream",
       "stream": "stdout",
       "text": [
        " [-4.07491776  2.95319255 -0.07925912]\n",
        "iter =  68\n",
        "param = "
       ]
      },
      {
       "output_type": "stream",
       "stream": "stdout",
       "text": [
        " [-4.07613417  2.95239387 -0.07815454]\n",
        "iter =  69\n",
        "param = "
       ]
      },
      {
       "output_type": "stream",
       "stream": "stdout",
       "text": [
        " [-4.07730164  2.95159569 -0.07708023]\n",
        "iter =  70\n",
        "param = "
       ]
      },
      {
       "output_type": "stream",
       "stream": "stdout",
       "text": [
        " [-4.07842331  2.9507983  -0.07603455]\n",
        "iter =  71\n",
        "param = "
       ]
      },
      {
       "output_type": "stream",
       "stream": "stdout",
       "text": [
        " [-4.07950213  2.95000195 -0.07501595]\n",
        "iter =  72\n",
        "param = "
       ]
      },
      {
       "output_type": "stream",
       "stream": "stdout",
       "text": [
        " [-4.08054078  2.9492069  -0.074023  ]\n",
        "iter =  73\n",
        "param = "
       ]
      },
      {
       "output_type": "stream",
       "stream": "stdout",
       "text": [
        " [-4.08154177  2.94841337 -0.07305439]\n",
        "iter =  74\n",
        "param = "
       ]
      },
      {
       "output_type": "stream",
       "stream": "stdout",
       "text": [
        " [-4.0825074   2.94762157 -0.07210888]\n",
        "iter =  75\n",
        "param = "
       ]
      },
      {
       "output_type": "stream",
       "stream": "stdout",
       "text": [
        " [-4.08343982  2.94683169 -0.07118535]\n",
        "iter =  76\n",
        "param = "
       ]
      },
      {
       "output_type": "stream",
       "stream": "stdout",
       "text": [
        " [-4.084341    2.94604392 -0.07028271]\n",
        "iter =  77\n",
        "param = "
       ]
      },
      {
       "output_type": "stream",
       "stream": "stdout",
       "text": [
        " [-4.08521277  2.94525842 -0.0694    ]\n",
        "iter =  78\n",
        "param = "
       ]
      },
      {
       "output_type": "stream",
       "stream": "stdout",
       "text": [
        " [-4.08605682  2.94447535 -0.06853629]\n",
        "iter =  79\n",
        "param = "
       ]
      },
      {
       "output_type": "stream",
       "stream": "stdout",
       "text": [
        " [-4.08687474  2.94369485 -0.06769072]\n",
        "iter =  80\n",
        "param = "
       ]
      },
      {
       "output_type": "stream",
       "stream": "stdout",
       "text": [
        " [-4.08766797  2.94291705 -0.0668625 ]\n",
        "iter =  81\n",
        "param = "
       ]
      },
      {
       "output_type": "stream",
       "stream": "stdout",
       "text": [
        " [-4.08843788  2.94214208 -0.06605088]\n",
        "iter =  82\n",
        "param = "
       ]
      },
      {
       "output_type": "stream",
       "stream": "stdout",
       "text": [
        " [-4.0891857   2.94137003 -0.06525515]\n",
        "iter =  83\n",
        "param = "
       ]
      },
      {
       "output_type": "stream",
       "stream": "stdout",
       "text": [
        " [-4.08991263  2.94060103 -0.06447469]\n",
        "iter =  84\n",
        "param = "
       ]
      },
      {
       "output_type": "stream",
       "stream": "stdout",
       "text": [
        " [-4.09061972  2.93983515 -0.06370886]\n",
        "iter =  85\n",
        "param = "
       ]
      },
      {
       "output_type": "stream",
       "stream": "stdout",
       "text": [
        " [-4.091308    2.93907249 -0.0629571 ]\n",
        "iter =  86\n",
        "param = "
       ]
      },
      {
       "output_type": "stream",
       "stream": "stdout",
       "text": [
        " [-4.0919784   2.93831312 -0.06221888]\n",
        "iter =  87\n",
        "param = "
       ]
      },
      {
       "output_type": "stream",
       "stream": "stdout",
       "text": [
        " [-4.09263178  2.9375571  -0.0614937 ]\n",
        "iter =  88\n",
        "param = "
       ]
      },
      {
       "output_type": "stream",
       "stream": "stdout",
       "text": [
        " [-4.09326897  2.93680451 -0.06078108]\n",
        "iter =  89\n",
        "param = "
       ]
      },
      {
       "output_type": "stream",
       "stream": "stdout",
       "text": [
        " [-4.09389072  2.93605539 -0.06008058]\n",
        "iter =  90\n",
        "param = "
       ]
      },
      {
       "output_type": "stream",
       "stream": "stdout",
       "text": [
        " [-4.09449773  2.93530981 -0.05939179]\n",
        "iter =  91\n",
        "param = "
       ]
      },
      {
       "output_type": "stream",
       "stream": "stdout",
       "text": [
        " [-4.09509066  2.9345678  -0.0587143 ]\n",
        "iter =  92\n",
        "param = "
       ]
      },
      {
       "output_type": "stream",
       "stream": "stdout",
       "text": [
        " [-4.09567013  2.9338294  -0.05804776]\n",
        "iter =  93\n",
        "param = "
       ]
      },
      {
       "output_type": "stream",
       "stream": "stdout",
       "text": [
        " [-4.09623671  2.93309465 -0.05739182]\n",
        "iter =  94\n",
        "param = "
       ]
      },
      {
       "output_type": "stream",
       "stream": "stdout",
       "text": [
        " [-4.09679094  2.93236358 -0.05674614]\n",
        "iter =  95\n",
        "param = "
       ]
      },
      {
       "output_type": "stream",
       "stream": "stdout",
       "text": [
        " [-4.09733332  2.93163621 -0.05611041]\n",
        "iter =  96\n",
        "param = "
       ]
      },
      {
       "output_type": "stream",
       "stream": "stdout",
       "text": [
        " [-4.09786432  2.93091258 -0.05548434]\n",
        "iter =  97\n",
        "param = "
       ]
      },
      {
       "output_type": "stream",
       "stream": "stdout",
       "text": [
        " [-4.09838438  2.93019269 -0.05486765]\n",
        "iter =  98\n",
        "param = "
       ]
      },
      {
       "output_type": "stream",
       "stream": "stdout",
       "text": [
        " [-4.09889391  2.92947656 -0.05426008]\n",
        "iter =  99\n",
        "param = "
       ]
      },
      {
       "output_type": "stream",
       "stream": "stdout",
       "text": [
        " [-4.0993933   2.92876421 -0.05366137]\n"
       ]
      }
     ],
     "prompt_number": 76
    },
    {
     "cell_type": "code",
     "collapsed": false,
     "input": [
      "plot(range(len(param_list)), [x[0] for x in param_list])\n",
      "plot(range(len(param_list)), [x[0] for x in old_param])\n",
      "# new_resp = [np.dot(param, np.array(example)) for example in zip(bias, cond_ent, num_sp)]"
     ],
     "language": "python",
     "metadata": {},
     "outputs": [
      {
       "metadata": {},
       "output_type": "pyout",
       "prompt_number": 55,
       "text": [
        "[<matplotlib.lines.Line2D at 0x11bbaf110>]"
       ]
      },
      {
       "metadata": {},
       "output_type": "display_data",
       "png": "[encoded data removed]",
       "text": [
        "<matplotlib.figure.Figure at 0x108dae390>"
       ]
      }
     ],
     "prompt_number": 55
    },
    {
     "cell_type": "code",
     "collapsed": false,
     "input": [
      "param"
     ],
     "language": "python",
     "metadata": {},
     "outputs": [
      {
       "metadata": {},
       "output_type": "pyout",
       "prompt_number": 71,
       "text": [
        "array([-1.84056787,  3.04531767, -1.41355791])"
       ]
      }
     ],
     "prompt_number": 71
    },
    {
     "cell_type": "code",
     "collapsed": false,
     "input": [
      "param_list[0:10]"
     ],
     "language": "python",
     "metadata": {},
     "outputs": [
      {
       "metadata": {},
       "output_type": "pyout",
       "prompt_number": 40,
       "text": [
        "[[-0.99980005998000709, 0.0, -0.99980005998000709],\n",
        " [-1.2317399162552851, 0.0, -1.2317399162552851],\n",
        " [-1.3826004522304567, 0.0, -1.3826004522304567],\n",
        " [-1.4957643240824319, 0.0, -1.4957643240824319],\n",
        " [-1.5867247998830722, 0.0, -1.5867247998830722],\n",
        " [-1.6629411009355173, 0.0, -1.6629411009355173],\n",
        " [-1.7286134679069585, 0.0, -1.7286134679069585],\n",
        " [-1.7863530662535339, 0.0, -1.7863530662535339],\n",
        " [-1.8378989101431298, 0.0, -1.8378989101431298],\n",
        " [-1.8844696914263779, 0.0, -1.8844696914263779]]"
       ]
      }
     ],
     "prompt_number": 40
    },
    {
     "cell_type": "code",
     "collapsed": false,
     "input": [
      "old_param[0:10]"
     ],
     "language": "python",
     "metadata": {},
     "outputs": [
      {
       "metadata": {},
       "output_type": "pyout",
       "prompt_number": 30,
       "text": [
        "[(-0.9998, -0.0, -0.9998),\n",
        " (-0.9998, -0.0, -0.9998),\n",
        " (-0.9998, -0.0, -0.9998),\n",
        " (-0.9998, -0.0, -0.9998),\n",
        " (-0.9998, -0.0, -0.9998),\n",
        " (-0.9998, -0.0, -0.9998),\n",
        " (-0.9998, -0.0, -0.9998),\n",
        " (-0.9998, -0.0, -0.9998),\n",
        " (-1.23174, -0.0, -1.23174),\n",
        " (-1.23174, -0.0, -1.23174)]"
       ]
      }
     ],
     "prompt_number": 30
    },
    {
     "cell_type": "code",
     "collapsed": false,
     "input": [
      "plot(new_resp, reward, 'b+')"
     ],
     "language": "python",
     "metadata": {},
     "outputs": [
      {
       "metadata": {},
       "output_type": "pyout",
       "prompt_number": 83,
       "text": [
        "[<matplotlib.lines.Line2D at 0x16a1a8990>]"
       ]
      },
      {
       "metadata": {},
       "output_type": "display_data",
       "png": "[encoded data removed]",
       "text": [
        "<matplotlib.figure.Figure at 0x16a1a09d0>"
       ]
      }
     ],
     "prompt_number": 83
    },
    {
     "cell_type": "code",
     "collapsed": false,
     "input": [
      "\"batch gradient descent for logistic regression\"\n",
      "\"reproduce adagrad algorithm (sanity check)\"\n",
      "def train_batchgrad(example_l, reward_l, eta, num_iter):\n",
      "  param = np.zeros(len(example_l[0]))\n",
      "  G2 = np.zeros(len(param))\n",
      "  count = 0\n",
      "  for it in range(num_iter):\n",
      "    grad = zeros(len(param))\n",
      "    lhood = 0\n",
      "    acc = 0\n",
      "    num_pred = 0\n",
      "    for (example, reward) in zip(example_l, reward_l):\n",
      "      example = np.array(example)\n",
      "      resp = np.dot(example, param)\n",
      "      resp = 1./(1+exp(-resp))\n",
      "      if reward > 0:\n",
      "        grad += example * (1 - resp)\n",
      "        lhood += np.log(resp)\n",
      "      else:\n",
      "        grad += example * (- resp)\n",
      "        lhood += np.log(1-resp)\n",
      "      acc += reward > 0 and resp >= 0.5 or reward <= 0 and resp < 0.5\n",
      "      num_pred += resp >= 0.5\n",
      "    grad /= float(len(example_l))\n",
      "    lhood /= float(len(example_l))\n",
      "    acc /= float(len(example_l))\n",
      "    print 'iter = ', it, ', lhood = ', lhood, ', pred = ', num_pred, ', acc = ', acc, ', param = ', param\n",
      "    param += eta * grad\n",
      "  return param\n",
      "\n",
      "param = train_batchgrad(zip(bias, cond_ent, num_sp), reward, 1, 1000)"
     ],
     "language": "python",
     "metadata": {},
     "outputs": [
      {
       "output_type": "stream",
       "stream": "stdout",
       "text": [
        " iter =  0 , lhood =  -0.69314718056 , pred =  28800 , acc =  0.178958333333 , param =  [ 0.  0.  0.]\n",
        "iter = "
       ]
      },
      {
       "output_type": "stream",
       "stream": "stdout",
       "text": [
        " 1 , lhood =  -0.498604098848 , pred =  0 , acc =  0.821041666667 , param =  [-0.32104167 -0.15352996 -0.48128472]\n",
        "iter = "
       ]
      },
      {
       "output_type": "stream",
       "stream": "stdout",
       "text": [
        " 2 , lhood =  -0.489404860426 , pred =  0 , acc =  0.821041666667 , param =  [-0.38508849 -0.11353632 -0.55512627]\n",
        "iter = "
       ]
      },
      {
       "output_type": "stream",
       "stream": "stdout",
       "text": [
        " 3 , lhood =  -0.483930384712 , pred =  0 , acc =  0.821041666667 , param =  [-0.42430494 -0.05857589 -0.59028477]\n",
        "iter = "
       ]
      },
      {
       "output_type": "stream",
       "stream": "stdout",
       "text": [
        " 4 , lhood =  -0.479281555654 , pred =  0 , acc =  0.821041666667 , param =  [-0.45514445 -0.00068387 -0.61214562]\n",
        "iter = "
       ]
      },
      {
       "output_type": "stream",
       "stream": "stdout",
       "text": [
        " 5 , lhood =  -0.475078104326 , pred =  0 , acc =  0.821041666667 , param =  [-0.48265147  0.05656233 -0.62844818]\n",
        "iter = "
       ]
      },
      {
       "output_type": "stream",
       "stream": "stdout",
       "text": [
        " 6 , lhood =  -0.471231357258 , pred =  0 , acc =  0.821041666667 , param =  [-0.50868776  0.11193764 -0.6420615 ]\n",
        "iter = "
       ]
      },
      {
       "output_type": "stream",
       "stream": "stdout",
       "text": [
        " 7 , lhood =  -0.467698163003 , pred =  0 , acc =  0.821041666667 , param =  [-0.53398313  0.16505607 -0.65413114]\n",
        "iter = "
       ]
      },
      {
       "output_type": "stream",
       "stream": "stdout",
       "text": [
        " 8 , lhood =  -0.464445523203 , pred =  0 , acc =  0.821041666667 , param =  [-0.55882889  0.21585509 -0.66513596]\n",
        "iter = "
       ]
      },
      {
       "output_type": "stream",
       "stream": "stdout",
       "text": [
        " 9 , lhood =  -0.461444888589 , pred =  0 , acc =  0.821041666667 , param =  [-0.58334151  0.26439711 -0.67528812]\n",
        "iter = "
       ]
      },
      {
       "output_type": "stream",
       "stream": "stdout",
       "text": [
        " 10 , lhood =  -0.458670993358 , pred =  0 , acc =  0.821041666667 , param =  [-0.60756745  0.31078957 -0.68469177]\n",
        "iter = "
       ]
      },
      {
       "output_type": "stream",
       "stream": "stdout",
       "text": [
        " 11 , lhood =  -0.456101399159 , pred =  0 , acc =  0.821041666667 , param =  [-0.63152538  0.3551525  -0.69340697]\n",
        "iter = "
       ]
      },
      {
       "output_type": "stream",
       "stream": "stdout",
       "text": [
        " 12 , lhood =  -0.453716164169 , pred =  0 , acc =  0.821041666667 , param =  [-0.65522331  0.39760557 -0.70147552]\n",
        "iter = "
       ]
      },
      {
       "output_type": "stream",
       "stream": "stdout",
       "text": [
        " 13 , lhood =  -0.451497553945 , pred =  0 , acc =  0.821041666667 , param =  [-0.67866539  0.43826313 -0.7089314 ]\n",
        "iter = "
       ]
      },
      {
       "output_type": "stream",
       "stream": "stdout",
       "text": [
        " 14 , lhood =  -0.449429783486 , pred =  0 , acc =  0.821041666667 , param =  [-0.7018546   0.47723258 -0.7158049 ]\n",
        "iter = "
       ]
      },
      {
       "output_type": "stream",
       "stream": "stdout",
       "text": [
        " 15 , lhood =  -0.447498788231 , pred =  0 , acc =  0.821041666667 , param =  [-0.72479376  0.51461404 -0.7221243 ]\n",
        "iter = "
       ]
      },
      {
       "output_type": "stream",
       "stream": "stdout",
       "text": [
        " 16 , lhood =  -0.445692021805 , pred =  0 , acc =  0.821041666667 , param =  [-0.74748587  0.55050063 -0.72791642]\n",
        "iter = "
       ]
      },
      {
       "output_type": "stream",
       "stream": "stdout",
       "text": [
        " 17 , lhood =  -0.443998277969 , pred =  0 , acc =  0.821041666667 , param =  [-0.76993417  0.58497882 -0.73320694]\n",
        "iter = "
       ]
      },
      {
       "output_type": "stream",
       "stream": "stdout",
       "text": [
        " 18 , lhood =  -0.442407534166 , pred =  0 , acc =  0.821041666667 , param =  [-0.79214214  0.61812897 -0.73802043]\n",
        "iter = "
       ]
      },
      {
       "output_type": "stream",
       "stream": "stdout",
       "text": [
        " 19 , lhood =  -0.440910814171 , pred =  0 , acc =  0.821041666667 , param =  [-0.81411347  0.65002573 -0.74238042]\n",
        "iter = "
       ]
      },
      {
       "output_type": "stream",
       "stream": "stdout",
       "text": [
        " 20 , lhood =  -0.439500067549 , pred =  0 , acc =  0.821041666667 , param =  [-0.83585195  0.68073854 -0.7463094 ]\n",
        "iter = "
       ]
      },
      {
       "output_type": "stream",
       "stream": "stdout",
       "text": [
        " 21 , lhood =  -0.438168063881 , pred =  0 , acc =  0.821041666667 , param =  [-0.8573615   0.71033204 -0.74982884]\n",
        "iter = "
       ]
      },
      {
       "output_type": "stream",
       "stream": "stdout",
       "text": [
        " 22 , lhood =  -0.436908299895 , pred =  0 , acc =  0.821041666667 , param =  [-0.87864607  0.73886643 -0.75295925]\n",
        "iter = "
       ]
      },
      {
       "output_type": "stream",
       "stream": "stdout",
       "text": [
        " 23 , lhood =  -0.435714917904 , pred =  0 , acc =  0.821041666667 , param =  [-0.89970963  0.76639782 -0.75572015]\n",
        "iter = "
       ]
      },
      {
       "output_type": "stream",
       "stream": "stdout",
       "text": [
        " 24 , lhood =  -0.434582634114 , pred =  0 , acc =  0.821041666667 , param =  [-0.92055614  0.79297859 -0.75813014]\n",
        "iter = "
       ]
      },
      {
       "output_type": "stream",
       "stream": "stdout",
       "text": [
        " 25 , lhood =  -0.43350667555 , pred =  0 , acc =  0.821041666667 , param =  [-0.94118955  0.81865766 -0.76020695]\n",
        "iter = "
       ]
      },
      {
       "output_type": "stream",
       "stream": "stdout",
       "text": [
        " 26 , lhood =  -0.432482724519 , pred =  0 , acc =  0.821041666667 , param =  [-0.96161372  0.84348075 -0.76196741]\n",
        "iter = "
       ]
      },
      {
       "output_type": "stream",
       "stream": "stdout",
       "text": [
        " 27 , lhood =  -0.431506869649 , pred =  0 , acc =  0.821041666667 , param =  [-0.9818325   0.86749067 -0.76342757]\n",
        "iter = "
       ]
      },
      {
       "output_type": "stream",
       "stream": "stdout",
       "text": [
        " 28 , lhood =  -0.430575562688 , pred =  0 , acc =  0.821041666667 , param =  [-1.00184963  0.89072747 -0.76460267]\n",
        "iter = "
       ]
      },
      {
       "output_type": "stream",
       "stream": "stdout",
       "text": [
        " 29 , lhood =  -0.429685580323 , pred =  0 , acc =  0.821041666667 , param =  [-1.02166878  0.91322873 -0.76550721]\n",
        "iter = "
       ]
      },
      {
       "output_type": "stream",
       "stream": "stdout",
       "text": [
        " 30 , lhood =  -0.428833990412 , pred =  0 , acc =  0.821041666667 , param =  [-1.04129355  0.9350297  -0.76615498]\n",
        "iter = "
       ]
      },
      {
       "output_type": "stream",
       "stream": "stdout",
       "text": [
        " 31 , lhood =  -0.428018122067 , pred =  0 , acc =  0.821041666667 , param =  [-1.06072742  0.95616347 -0.76655907]\n",
        "iter = "
       ]
      },
      {
       "output_type": "stream",
       "stream": "stdout",
       "text": [
        " 32 , lhood =  -0.427235539129 , pred =  0 , acc =  0.821041666667 , param =  [-1.07997382  0.97666115 -0.76673196]\n",
        "iter = "
       ]
      },
      {
       "output_type": "stream",
       "stream": "stdout",
       "text": [
        " 33 , lhood =  -0.426484016606 , pred =  0 , acc =  0.821041666667 , param =  [-1.09903607  0.99655201 -0.76668549]\n",
        "iter = "
       ]
      },
      {
       "output_type": "stream",
       "stream": "stdout",
       "text": [
        " 34 , lhood =  -0.425761519723 , pred =  0 , acc =  0.821041666667 , param =  [-1.11791738  1.0158636  -0.76643094]\n",
        "iter = "
       ]
      },
      {
       "output_type": "stream",
       "stream": "stdout",
       "text": [
        " 35 , lhood =  -0.425066185276 , pred =  0 , acc =  0.821041666667 , param =  [-1.13662089  1.03462187 -0.76597901]\n",
        "iter = "
       ]
      },
      {
       "output_type": "stream",
       "stream": "stdout",
       "text": [
        " 36 , lhood =  -0.424396304997 , pred =  0 , acc =  0.821041666667 , param =  [-1.15514965  1.05285131 -0.76533991]\n",
        "iter = "
       ]
      },
      {
       "output_type": "stream",
       "stream": "stdout",
       "text": [
        " 37 , lhood =  -0.423750310719 , pred =  0 , acc =  0.821041666667 , param =  [-1.17350661  1.07057502 -0.76452333]\n",
        "iter = "
       ]
      },
      {
       "output_type": "stream",
       "stream": "stdout",
       "text": [
        " 38 , lhood =  -0.423126761104 , pred =  0 , acc =  0.821041666667 , param =  [-1.19169465  1.08781481 -0.7635385 ]\n",
        "iter = "
       ]
      },
      {
       "output_type": "stream",
       "stream": "stdout",
       "text": [
        " 39 , lhood =  -0.422524329775 , pred =  0 , acc =  0.821041666667 , param =  [-1.20971655  1.10459131 -0.76239421]\n",
        "iter = "
       ]
      },
      {
       "output_type": "stream",
       "stream": "stdout",
       "text": [
        " 40 , lhood =  -0.421941794678 , pred =  0 , acc =  0.821041666667 , param =  [-1.22757501  1.12092401 -0.76109881]\n",
        "iter = "
       ]
      },
      {
       "output_type": "stream",
       "stream": "stdout",
       "text": [
        " 41 , lhood =  -0.421378028536 , pred =  0 , acc =  0.821041666667 , param =  [-1.24527264  1.13683139 -0.75966026]\n",
        "iter = "
       ]
      },
      {
       "output_type": "stream",
       "stream": "stdout",
       "text": [
        " 42 , lhood =  -0.42083199028 , pred =  0 , acc =  0.821041666667 , param =  [-1.26281201  1.15233093 -0.75808614]\n",
        "iter = "
       ]
      },
      {
       "output_type": "stream",
       "stream": "stdout",
       "text": [
        " 43 , lhood =  -0.420302717337 , pred =  0 , acc =  0.821041666667 , param =  [-1.28019557  1.1674392  -0.75638366]\n",
        "iter = "
       ]
      },
      {
       "output_type": "stream",
       "stream": "stdout",
       "text": [
        " 44 , lhood =  -0.419789318691 , pred =  0 , acc =  0.821041666667 , param =  [-1.29742573  1.18217191 -0.75455971]\n",
        "iter = "
       ]
      },
      {
       "output_type": "stream",
       "stream": "stdout",
       "text": [
        " 45 , lhood =  -0.419290968626 , pred =  0 , acc =  0.821041666667 , param =  [-1.31450481  1.19654399 -0.75262083]\n",
        "iter = "
       ]
      },
      {
       "output_type": "stream",
       "stream": "stdout",
       "text": [
        " 46 , lhood =  -0.41880690108 , pred =  0 , acc =  0.821041666667 , param =  [-1.33143507  1.2105696  -0.75057327]\n",
        "iter = "
       ]
      },
      {
       "output_type": "stream",
       "stream": "stdout",
       "text": [
        " 47 , lhood =  -0.418336404542 , pred =  0 , acc =  0.821041666667 , param =  [-1.34821872  1.2242622  -0.74842297]\n",
        "iter = "
       ]
      },
      {
       "output_type": "stream",
       "stream": "stdout",
       "text": [
        " 48 , lhood =  -0.41787881744 , pred =  0 , acc =  0.821041666667 , param =  [-1.36485788  1.23763459 -0.7461756 ]\n",
        "iter = "
       ]
      },
      {
       "output_type": "stream",
       "stream": "stdout",
       "text": [
        " 49 , lhood =  -0.417433523963 , pred =  0 , acc =  0.821041666667 , param =  [-1.38135464  1.25069894 -0.74383658]\n",
        "iter = "
       ]
      },
      {
       "output_type": "stream",
       "stream": "stdout",
       "text": [
        " 50 , lhood =  -0.416999950278 , pred =  0 , acc =  0.821041666667 , param =  [-1.397711    1.26346683 -0.74141107]\n",
        "iter = "
       ]
      },
      {
       "output_type": "stream",
       "stream": "stdout",
       "text": [
        " 51 , lhood =  -0.416577561089 , pred =  0 , acc =  0.821041666667 , param =  [-1.41392894  1.2759493  -0.73890397]\n",
        "iter = "
       ]
      },
      {
       "output_type": "stream",
       "stream": "stdout",
       "text": [
        " 52 , lhood =  -0.416165856522 , pred =  0 , acc =  0.821041666667 , param =  [-1.43001037  1.28815688 -0.73631999]\n",
        "iter = "
       ]
      },
      {
       "output_type": "stream",
       "stream": "stdout",
       "text": [
        " 53 , lhood =  -0.415764369287 , pred =  0 , acc =  0.821041666667 , param =  [-1.44595714  1.30009957 -0.7336636 ]\n",
        "iter = "
       ]
      },
      {
       "output_type": "stream",
       "stream": "stdout",
       "text": [
        " 54 , lhood =  -0.415372662098 , pred =  0 , acc =  0.821041666667 , param =  [-1.46177107  1.31178695 -0.73093908]\n",
        "iter = "
       ]
      },
      {
       "output_type": "stream",
       "stream": "stdout",
       "text": [
        " 55 , lhood =  -0.414990325318 , pred =  0 , acc =  0.821041666667 , param =  [-1.47745392  1.32322813 -0.72815049]\n",
        "iter = "
       ]
      },
      {
       "output_type": "stream",
       "stream": "stdout",
       "text": [
        " 56 , lhood =  -0.414616974823 , pred =  0 , acc =  0.821041666667 , param =  [-1.49300742  1.33443183 -0.72530173]\n",
        "iter = "
       ]
      },
      {
       "output_type": "stream",
       "stream": "stdout",
       "text": [
        " 57 , lhood =  -0.414252250038 , pred =  0 , acc =  0.821041666667 , param =  [-1.50843324  1.34540637 -0.72239653]\n",
        "iter = "
       ]
      },
      {
       "output_type": "stream",
       "stream": "stdout",
       "text": [
        " 58 , lhood =  -0.413895812155 , pred =  0 , acc =  0.821041666667 , param =  [-1.52373301  1.35615969 -0.71943841]\n",
        "iter = "
       ]
      },
      {
       "output_type": "stream",
       "stream": "stdout",
       "text": [
        " 59 , lhood =  -0.413547342497 , pred =  0 , acc =  0.821041666667 , param =  [-1.53890834  1.36669941 -0.71643078]\n",
        "iter = "
       ]
      },
      {
       "output_type": "stream",
       "stream": "stdout",
       "text": [
        " 60 , lhood =  -0.413206541027 , pred =  0 , acc =  0.821041666667 , param =  [-1.55396079  1.37703279 -0.71337686]\n",
        "iter = "
       ]
      },
      {
       "output_type": "stream",
       "stream": "stdout",
       "text": [
        " 61 , lhood =  -0.412873124975 , pred =  0 , acc =  0.821041666667 , param =  [-1.56889187  1.38716679 -0.71027974]\n",
        "iter = "
       ]
      },
      {
       "output_type": "stream",
       "stream": "stdout",
       "text": [
        " 62 , lhood =  -0.412546827587 , pred =  0 , acc =  0.821041666667 , param =  [-1.58370308  1.39710807 -0.70714238]\n",
        "iter = "
       ]
      },
      {
       "output_type": "stream",
       "stream": "stdout",
       "text": [
        " 63 , lhood =  -0.412227396971 , pred =  0 , acc =  0.821041666667 , param =  [-1.59839586  1.406863   -0.70396758]\n",
        "iter = "
       ]
      },
      {
       "output_type": "stream",
       "stream": "stdout",
       "text": [
        " 64 , lhood =  -0.411914595043 , pred =  0 , acc =  0.821041666667 , param =  [-1.61297165  1.41643769 -0.70075803]\n",
        "iter = "
       ]
      },
      {
       "output_type": "stream",
       "stream": "stdout",
       "text": [
        " 65 , lhood =  -0.411608196557 , pred =  0 , acc =  0.821041666667 , param =  [-1.62743182  1.425838   -0.69751632]\n",
        "iter = "
       ]
      },
      {
       "output_type": "stream",
       "stream": "stdout",
       "text": [
        " 66 , lhood =  -0.41130798821 , pred =  0 , acc =  0.821041666667 , param =  [-1.64177775  1.43506954 -0.69424489]\n",
        "iter = "
       ]
      },
      {
       "output_type": "stream",
       "stream": "stdout",
       "text": [
        " 67 , lhood =  -0.411013767821 , pred =  0 , acc =  0.821041666667 , param =  [-1.65601076  1.4441377  -0.69094608]\n",
        "iter = "
       ]
      },
      {
       "output_type": "stream",
       "stream": "stdout",
       "text": [
        " 68 , lhood =  -0.41072534358 , pred =  0 , acc =  0.821041666667 , param =  [-1.67013216  1.45304763 -0.68762214]\n",
        "iter = "
       ]
      },
      {
       "output_type": "stream",
       "stream": "stdout",
       "text": [
        " 69 , lhood =  -0.410442533341 , pred =  0 , acc =  0.821041666667 , param =  [-1.68414323  1.46180429 -0.68427521]\n",
        "iter = "
       ]
      },
      {
       "output_type": "stream",
       "stream": "stdout",
       "text": [
        " 70 , lhood =  -0.410165163989 , pred =  0 , acc =  0.821041666667 , param =  [-1.69804521  1.47041244 -0.68090733]\n",
        "iter = "
       ]
      },
      {
       "output_type": "stream",
       "stream": "stdout",
       "text": [
        " 71 , lhood =  -0.409893070841 , pred =  0 , acc =  0.821041666667 , param =  [-1.71183933  1.47887666 -0.67752046]\n",
        "iter = "
       ]
      },
      {
       "output_type": "stream",
       "stream": "stdout",
       "text": [
        " 72 , lhood =  -0.4096260971 , pred =  0 , acc =  0.821041666667 , param =  [-1.72552679  1.48720131 -0.67411645]\n",
        "iter = "
       ]
      },
      {
       "output_type": "stream",
       "stream": "stdout",
       "text": [
        " 73 , lhood =  -0.40936409335 , pred =  0 , acc =  0.821041666667 , param =  [-1.73910879  1.49539064 -0.67069709]\n",
        "iter = "
       ]
      },
      {
       "output_type": "stream",
       "stream": "stdout",
       "text": [
        " 74 , lhood =  -0.409106917082 , pred =  0 , acc =  0.821041666667 , param =  [-1.75258646  1.50344868 -0.66726409]\n",
        "iter = "
       ]
      },
      {
       "output_type": "stream",
       "stream": "stdout",
       "text": [
        " 75 , lhood =  -0.408854432269 , pred =  0 , acc =  0.821041666667 , param =  [-1.76596096  1.51137934 -0.66381906]\n",
        "iter = "
       ]
      },
      {
       "output_type": "stream",
       "stream": "stdout",
       "text": [
        " 76 , lhood =  -0.408606508955 , pred =  0 , acc =  0.821041666667 , param =  [-1.77923338  1.51918636 -0.66036357]\n",
        "iter = "
       ]
      },
      {
       "output_type": "stream",
       "stream": "stdout",
       "text": [
        " 77 , lhood =  -0.408363022893 , pred =  0 , acc =  0.821041666667 , param =  [-1.79240484  1.52687336 -0.65689908]\n",
        "iter = "
       ]
      },
      {
       "output_type": "stream",
       "stream": "stdout",
       "text": [
        " 78 , lhood =  -0.40812385519 , pred =  0 , acc =  0.821041666667 , param =  [-1.8054764   1.53444379 -0.65342702]\n",
        "iter = "
       ]
      },
      {
       "output_type": "stream",
       "stream": "stdout",
       "text": [
        " 79 , lhood =  -0.407888891993 , pred =  0 , acc =  0.821041666667 , param =  [-1.81844912  1.54190101 -0.64994874]\n",
        "iter = "
       ]
      },
      {
       "output_type": "stream",
       "stream": "stdout",
       "text": [
        " 80 , lhood =  -0.40765802419 , pred =  0 , acc =  0.821041666667 , param =  [-1.83132404  1.54924823 -0.64646553]\n",
        "iter = "
       ]
      },
      {
       "output_type": "stream",
       "stream": "stdout",
       "text": [
        " 81 , lhood =  -0.407431147134 , pred =  0 , acc =  0.821041666667 , param =  [-1.84410218  1.55648855 -0.64297862]\n",
        "iter = "
       ]
      },
      {
       "output_type": "stream",
       "stream": "stdout",
       "text": [
        " 82 , lhood =  -0.407208160384 , pred =  0 , acc =  0.821041666667 , param =  [-1.85678454  1.56362495 -0.63948918]\n",
        "iter = "
       ]
      },
      {
       "output_type": "stream",
       "stream": "stdout",
       "text": [
        " 83 , lhood =  -0.406988967467 , pred =  0 , acc =  0.821041666667 , param =  [-1.86937211  1.57066031 -0.63599833]\n",
        "iter = "
       ]
      },
      {
       "output_type": "stream",
       "stream": "stdout",
       "text": [
        " 84 , lhood =  -0.406773475658 , pred =  0 , acc =  0.821041666667 , param =  [-1.88186586  1.5775974  -0.63250715]\n",
        "iter = "
       ]
      },
      {
       "output_type": "stream",
       "stream": "stdout",
       "text": [
        " 85 , lhood =  -0.406561595768 , pred =  0 , acc =  0.821041666667 , param =  [-1.89426675  1.58443889 -0.62901665]\n",
        "iter = "
       ]
      },
      {
       "output_type": "stream",
       "stream": "stdout",
       "text": [
        " 86 , lhood =  -0.406353241953 , pred =  0 , acc =  0.821041666667 , param =  [-1.90657572  1.59118735 -0.62552781]\n",
        "iter = "
       ]
      },
      {
       "output_type": "stream",
       "stream": "stdout",
       "text": [
        " 87 , lhood =  -0.406148331532 , pred =  0 , acc =  0.821041666667 , param =  [-1.91879369  1.59784529 -0.62204155]\n",
        "iter = "
       ]
      },
      {
       "output_type": "stream",
       "stream": "stdout",
       "text": [
        " 88 , lhood =  -0.405946784823 , pred =  0 , acc =  0.821041666667 , param =  [-1.93092157  1.60441508 -0.61855875]\n",
        "iter = "
       ]
      },
      {
       "output_type": "stream",
       "stream": "stdout",
       "text": [
        " 89 , lhood =  -0.405748524978 , pred =  0 , acc =  0.821041666667 , param =  [-1.94296027  1.61089905 -0.61508027]\n",
        "iter = "
       ]
      },
      {
       "output_type": "stream",
       "stream": "stdout",
       "text": [
        " 90 , lhood =  -0.405553477846 , pred =  0 , acc =  0.821041666667 , param =  [-1.95491066  1.61729942 -0.6116069 ]\n",
        "iter = "
       ]
      },
      {
       "output_type": "stream",
       "stream": "stdout",
       "text": [
        " 91 , lhood =  -0.405361571825 , pred =  0 , acc =  0.821041666667 , param =  [-1.96677361  1.62361836 -0.6081394 ]\n",
        "iter = "
       ]
      },
      {
       "output_type": "stream",
       "stream": "stdout",
       "text": [
        " 92 , lhood =  -0.40517273774 , pred =  0 , acc =  0.821041666667 , param =  [-1.97854999  1.62985795 -0.6046785 ]\n",
        "iter = "
       ]
      },
      {
       "output_type": "stream",
       "stream": "stdout",
       "text": [
        " 93 , lhood =  -0.404986908722 , pred =  0 , acc =  0.821041666667 , param =  [-1.99024064  1.63602019 -0.60122489]\n",
        "iter = "
       ]
      },
      {
       "output_type": "stream",
       "stream": "stdout",
       "text": [
        " 94 , lhood =  -0.404804020091 , pred =  0 , acc =  0.821041666667 , param =  [-2.00184639  1.64210702 -0.59777923]\n",
        "iter = "
       ]
      },
      {
       "output_type": "stream",
       "stream": "stdout",
       "text": [
        " 95 , lhood =  -0.404624009256 , pred =  0 , acc =  0.821041666667 , param =  [-2.01336806  1.64812033 -0.59434215]\n",
        "iter = "
       ]
      },
      {
       "output_type": "stream",
       "stream": "stdout",
       "text": [
        " 96 , lhood =  -0.404446815611 , pred =  0 , acc =  0.821041666667 , param =  [-2.02480647  1.65406192 -0.59091424]\n",
        "iter = "
       ]
      },
      {
       "output_type": "stream",
       "stream": "stdout",
       "text": [
        " 97 , lhood =  -0.404272380444 , pred =  0 , acc =  0.821041666667 , param =  [-2.03616241  1.65993356 -0.58749607]\n",
        "iter = "
       ]
      },
      {
       "output_type": "stream",
       "stream": "stdout",
       "text": [
        " 98 , lhood =  -0.404100646847 , pred =  0 , acc =  0.821041666667 , param =  [-2.04743667  1.66573692 -0.58408817]\n",
        "iter = "
       ]
      },
      {
       "output_type": "stream",
       "stream": "stdout",
       "text": [
        " 99 , lhood =  -0.403931559638 , pred =  0 , acc =  0.821041666667 , param =  [-2.05863003  1.67147366 -0.58069104]\n",
        "iter = "
       ]
      },
      {
       "output_type": "stream",
       "stream": "stdout",
       "text": [
        " 100 , lhood =  -0.40376506528 , pred =  0 , acc =  0.821041666667 , param =  [-2.06974325  1.67714535 -0.57730518]\n",
        "iter = "
       ]
      },
      {
       "output_type": "stream",
       "stream": "stdout",
       "text": [
        " 101 , lhood =  -0.403601111809 , pred =  0 , acc =  0.821041666667 , param =  [-2.08077709  1.68275352 -0.57393104]\n",
        "iter = "
       ]
      },
      {
       "output_type": "stream",
       "stream": "stdout",
       "text": [
        " 102 , lhood =  -0.403439648766 , pred =  0 , acc =  0.821041666667 , param =  [-2.0917323   1.68829967 -0.57056906]\n",
        "iter = "
       ]
      },
      {
       "output_type": "stream",
       "stream": "stdout",
       "text": [
        " 103 , lhood =  -0.403280627132 , pred =  0 , acc =  0.821041666667 , param =  [-2.10260961  1.69378523 -0.56721963]\n",
        "iter = "
       ]
      },
      {
       "output_type": "stream",
       "stream": "stdout",
       "text": [
        " 104 , lhood =  -0.403123999266 , pred =  0 , acc =  0.821041666667 , param =  [-2.11340975  1.69921157 -0.56388316]\n",
        "iter = "
       ]
      },
      {
       "output_type": "stream",
       "stream": "stdout",
       "text": [
        " 105 , lhood =  -0.402969718849 , pred =  0 , acc =  0.821041666667 , param =  [-2.12413343  1.70458006 -0.56056   ]\n",
        "iter = "
       ]
      },
      {
       "output_type": "stream",
       "stream": "stdout",
       "text": [
        " 106 , lhood =  -0.402817740829 , pred =  0 , acc =  0.821041666667 , param =  [-2.13478137  1.70989198 -0.5572505 ]\n",
        "iter = "
       ]
      },
      {
       "output_type": "stream",
       "stream": "stdout",
       "text": [
        " 107 , lhood =  -0.402668021371 , pred =  0 , acc =  0.821041666667 , param =  [-2.14535426  1.71514861 -0.553955  ]\n",
        "iter = "
       ]
      },
      {
       "output_type": "stream",
       "stream": "stdout",
       "text": [
        " 108 , lhood =  -0.402520517806 , pred =  0 , acc =  0.821041666667 , param =  [-2.1558528   1.72035116 -0.55067379]\n",
        "iter = "
       ]
      },
      {
       "output_type": "stream",
       "stream": "stdout",
       "text": [
        " 109 , lhood =  -0.402375188586 , pred =  0 , acc =  0.821041666667 , param =  [-2.16627766  1.7255008  -0.54740716]\n",
        "iter = "
       ]
      },
      {
       "output_type": "stream",
       "stream": "stdout",
       "text": [
        " 110 , lhood =  -0.402231993242 , pred =  0 , acc =  0.821041666667 , param =  [-2.17662953  1.7305987  -0.54415539]\n",
        "iter = "
       ]
      },
      {
       "output_type": "stream",
       "stream": "stdout",
       "text": [
        " 111 , lhood =  -0.402090892342 , pred =  0 , acc =  0.821041666667 , param =  [-2.18690906  1.73564596 -0.54091873]\n",
        "iter = "
       ]
      },
      {
       "output_type": "stream",
       "stream": "stdout",
       "text": [
        " 112 , lhood =  -0.401951847451 , pred =  0 , acc =  0.821041666667 , param =  [-2.19711691  1.74064365 -0.53769742]\n",
        "iter = "
       ]
      },
      {
       "output_type": "stream",
       "stream": "stdout",
       "text": [
        " 113 , lhood =  -0.401814821096 , pred =  0 , acc =  0.821041666667 , param =  [-2.20725374  1.74559282 -0.53449169]\n",
        "iter = "
       ]
      },
      {
       "output_type": "stream",
       "stream": "stdout",
       "text": [
        " 114 , lhood =  -0.401679776729 , pred =  0 , acc =  0.821041666667 , param =  [-2.21732018  1.75049448 -0.53130174]\n",
        "iter = "
       ]
      },
      {
       "output_type": "stream",
       "stream": "stdout",
       "text": [
        " 115 , lhood =  -0.401546678695 , pred =  0 , acc =  0.821041666667 , param =  [-2.22731686  1.75534961 -0.52812777]\n",
        "iter = "
       ]
      },
      {
       "output_type": "stream",
       "stream": "stdout",
       "text": [
        " 116 , lhood =  -0.401415492201 , pred =  0 , acc =  0.821041666667 , param =  [-2.23724442  1.76015916 -0.52496996]\n",
        "iter = "
       ]
      },
      {
       "output_type": "stream",
       "stream": "stdout",
       "text": [
        " 117 , lhood =  -0.401286183282 , pred =  0 , acc =  0.821041666667 , param =  [-2.24710347  1.76492406 -0.52182847]\n",
        "iter = "
       ]
      },
      {
       "output_type": "stream",
       "stream": "stdout",
       "text": [
        " 118 , lhood =  -0.401158718779 , pred =  0 , acc =  0.821041666667 , param =  [-2.25689463  1.76964519 -0.51870348]\n",
        "iter = "
       ]
      },
      {
       "output_type": "stream",
       "stream": "stdout",
       "text": [
        " 119 , lhood =  -0.401033066305 , pred =  0 , acc =  0.821041666667 , param =  [-2.26661849  1.77432343 -0.51559511]\n",
        "iter = "
       ]
      },
      {
       "output_type": "stream",
       "stream": "stdout",
       "text": [
        " 120 , lhood =  -0.400909194224 , pred =  0 , acc =  0.821041666667 , param =  [-2.27627565  1.77895963 -0.5125035 ]\n",
        "iter = "
       ]
      },
      {
       "output_type": "stream",
       "stream": "stdout",
       "text": [
        " 121 , lhood =  -0.400787071624 , pred =  0 , acc =  0.821041666667 , param =  [-2.28586672  1.78355459 -0.50942878]\n",
        "iter = "
       ]
      },
      {
       "output_type": "stream",
       "stream": "stdout",
       "text": [
        " 122 , lhood =  -0.400666668293 , pred =  0 , acc =  0.821041666667 , param =  [-2.29539226  1.78810911 -0.50637105]\n",
        "iter = "
       ]
      },
      {
       "output_type": "stream",
       "stream": "stdout",
       "text": [
        " 123 , lhood =  -0.400547954699 , pred =  0 , acc =  0.821041666667 , param =  [-2.30485286  1.79262396 -0.50333042]\n",
        "iter = "
       ]
      },
      {
       "output_type": "stream",
       "stream": "stdout",
       "text": [
        " 124 , lhood =  -0.400430901965 , pred =  0 , acc =  0.821041666667 , param =  [-2.31424908  1.7970999  -0.50030697]\n",
        "iter = "
       ]
      },
      {
       "output_type": "stream",
       "stream": "stdout",
       "text": [
        " 125 , lhood =  -0.400315481853 , pred =  0 , acc =  0.821041666667 , param =  [-2.3235815   1.80153765 -0.49730079]\n",
        "iter = "
       ]
      },
      {
       "output_type": "stream",
       "stream": "stdout",
       "text": [
        " 126 , lhood =  -0.400201666739 , pred =  0 , acc =  0.821041666667 , param =  [-2.33285066  1.80593791 -0.49431196]\n",
        "iter = "
       ]
      },
      {
       "output_type": "stream",
       "stream": "stdout",
       "text": [
        " 127 , lhood =  -0.400089429599 , pred =  0 , acc =  0.821041666667 , param =  [-2.34205713  1.81030138 -0.49134054]\n",
        "iter = "
       ]
      },
      {
       "output_type": "stream",
       "stream": "stdout",
       "text": [
        " 128 , lhood =  -0.399978743988 , pred =  0 , acc =  0.821041666667 , param =  [-2.35120144  1.81462871 -0.48838658]\n",
        "iter = "
       ]
      },
      {
       "output_type": "stream",
       "stream": "stdout",
       "text": [
        " 129 , lhood =  -0.399869584024 , pred =  0 , acc =  0.821041666667 , param =  [-2.36028414  1.81892056 -0.48545013]\n",
        "iter = "
       ]
      },
      {
       "output_type": "stream",
       "stream": "stdout",
       "text": [
        " 130 , lhood =  -0.399761924374 , pred =  0 , acc =  0.821041666667 , param =  [-2.36930575  1.82317756 -0.48253124]\n",
        "iter = "
       ]
      },
      {
       "output_type": "stream",
       "stream": "stdout",
       "text": [
        " 131 , lhood =  -0.399655740231 , pred =  0 , acc =  0.821041666667 , param =  [-2.37826682  1.82740032 -0.47962994]\n",
        "iter = "
       ]
      },
      {
       "output_type": "stream",
       "stream": "stdout",
       "text": [
        " 132 , lhood =  -0.399551007307 , pred =  0 , acc =  0.821041666667 , param =  [-2.38716785  1.83158944 -0.47674626]\n",
        "iter = "
       ]
      },
      {
       "output_type": "stream",
       "stream": "stdout",
       "text": [
        " 133 , lhood =  -0.399447701814 , pred =  0 , acc =  0.821041666667 , param =  [-2.39600936  1.83574549 -0.47388022]\n",
        "iter = "
       ]
      },
      {
       "output_type": "stream",
       "stream": "stdout",
       "text": [
        " 134 , lhood =  -0.399345800452 , pred =  0 , acc =  0.821041666667 , param =  [-2.40479187  1.83986904 -0.47103183]\n",
        "iter = "
       ]
      },
      {
       "output_type": "stream",
       "stream": "stdout",
       "text": [
        " 135 , lhood =  -0.399245280394 , pred =  0 , acc =  0.821041666667 , param =  [-2.41351588  1.84396063 -0.4682011 ]\n",
        "iter = "
       ]
      },
      {
       "output_type": "stream",
       "stream": "stdout",
       "text": [
        " 136 , lhood =  -0.399146119272 , pred =  0 , acc =  0.821041666667 , param =  [-2.42218188  1.84802081 -0.46538803]\n",
        "iter = "
       ]
      },
      {
       "output_type": "stream",
       "stream": "stdout",
       "text": [
        " 137 , lhood =  -0.39904829517 , pred =  0 , acc =  0.821041666667 , param =  [-2.43079038  1.85205008 -0.46259263]\n",
        "iter = "
       ]
      },
      {
       "output_type": "stream",
       "stream": "stdout",
       "text": [
        " 138 , lhood =  -0.398951786606 , pred =  0 , acc =  0.821041666667 , param =  [-2.43934187  1.85604895 -0.45981489]\n",
        "iter = "
       ]
      },
      {
       "output_type": "stream",
       "stream": "stdout",
       "text": [
        " 139 , lhood =  -0.398856572522 , pred =  0 , acc =  0.821041666667 , param =  [-2.44783682  1.86001792 -0.45705478]\n",
        "iter = "
       ]
      },
      {
       "output_type": "stream",
       "stream": "stdout",
       "text": [
        " 140 , lhood =  -0.398762632278 , pred =  0 , acc =  0.821041666667 , param =  [-2.45627571  1.86395746 -0.4543123 ]\n",
        "iter = "
       ]
      },
      {
       "output_type": "stream",
       "stream": "stdout",
       "text": [
        " 141 , lhood =  -0.398669945633 , pred =  0 , acc =  0.821041666667 , param =  [-2.46465902  1.86786804 -0.45158743]\n",
        "iter = "
       ]
      },
      {
       "output_type": "stream",
       "stream": "stdout",
       "text": [
        " 142 , lhood =  -0.398578492741 , pred =  0 , acc =  0.821041666667 , param =  [-2.47298722  1.87175011 -0.44888013]\n",
        "iter = "
       ]
      },
      {
       "output_type": "stream",
       "stream": "stdout",
       "text": [
        " 143 , lhood =  -0.39848825414 , pred =  0 , acc =  0.821041666667 , param =  [-2.48126077  1.87560411 -0.44619037]\n",
        "iter = "
       ]
      },
      {
       "output_type": "stream",
       "stream": "stdout",
       "text": [
        " 144 , lhood =  -0.398399210739 , pred =  0 , acc =  0.821041666667 , param =  [-2.48948012  1.87943048 -0.44351813]\n",
        "iter = "
       ]
      },
      {
       "output_type": "stream",
       "stream": "stdout",
       "text": [
        " 145 , lhood =  -0.398311343813 , pred =  0 , acc =  0.821041666667 , param =  [-2.49764574  1.88322963 -0.44086336]\n",
        "iter = "
       ]
      },
      {
       "output_type": "stream",
       "stream": "stdout",
       "text": [
        " 146 , lhood =  -0.398224634993 , pred =  0 , acc =  0.821041666667 , param =  [-2.50575807  1.88700197 -0.43822603]\n",
        "iter = "
       ]
      },
      {
       "output_type": "stream",
       "stream": "stdout",
       "text": [
        " 147 , lhood =  -0.398139066255 , pred =  0 , acc =  0.821041666667 , param =  [-2.51381756  1.8907479  -0.43560608]\n",
        "iter = "
       ]
      },
      {
       "output_type": "stream",
       "stream": "stdout",
       "text": [
        " 148 , lhood =  -0.398054619913 , pred =  0 , acc =  0.821041666667 , param =  [-2.52182465  1.89446781 -0.43300347]\n",
        "iter = "
       ]
      },
      {
       "output_type": "stream",
       "stream": "stdout",
       "text": [
        " 149 , lhood =  -0.397971278615 , pred =  0 , acc =  0.821041666667 , param =  [-2.52977976  1.89816207 -0.43041814]\n",
        "iter = "
       ]
      },
      {
       "output_type": "stream",
       "stream": "stdout",
       "text": [
        " 150 , lhood =  -0.397889025327 , pred =  0 , acc =  0.821041666667 , param =  [-2.53768334  1.90183106 -0.42785005]\n",
        "iter = "
       ]
      },
      {
       "output_type": "stream",
       "stream": "stdout",
       "text": [
        " 151 , lhood =  -0.397807843333 , pred =  0 , acc =  0.821041666667 , param =  [-2.54553581  1.90547513 -0.42529913]\n",
        "iter = "
       ]
      },
      {
       "output_type": "stream",
       "stream": "stdout",
       "text": [
        " 152 , lhood =  -0.397727716223 , pred =  0 , acc =  0.821041666667 , param =  [-2.55333759  1.90909464 -0.42276532]\n",
        "iter = "
       ]
      },
      {
       "output_type": "stream",
       "stream": "stdout",
       "text": [
        " 153 , lhood =  -0.397648627889 , pred =  0 , acc =  0.821041666667 , param =  [-2.56108909  1.91268993 -0.42024857]\n",
        "iter = "
       ]
      },
      {
       "output_type": "stream",
       "stream": "stdout",
       "text": [
        " 154 , lhood =  -0.397570562515 , pred =  0 , acc =  0.821041666667 , param =  [-2.56879074  1.91626132 -0.4177488 ]\n",
        "iter = "
       ]
      },
      {
       "output_type": "stream",
       "stream": "stdout",
       "text": [
        " 155 , lhood =  -0.397493504573 , pred =  0 , acc =  0.821041666667 , param =  [-2.57644294  1.91980915 -0.41526595]\n",
        "iter = "
       ]
      },
      {
       "output_type": "stream",
       "stream": "stdout",
       "text": [
        " 156 , lhood =  -0.397417438817 , pred =  0 , acc =  0.821041666667 , param =  [-2.5840461   1.92333374 -0.41279996]\n",
        "iter = "
       ]
      },
      {
       "output_type": "stream",
       "stream": "stdout",
       "text": [
        " 157 , lhood =  -0.397342350273 , pred =  0 , acc =  0.821041666667 , param =  [-2.59160062  1.92683539 -0.41035074]\n",
        "iter = "
       ]
      },
      {
       "output_type": "stream",
       "stream": "stdout",
       "text": [
        " 158 , lhood =  -0.397268224236 , pred =  0 , acc =  0.821041666667 , param =  [-2.59910689  1.93031441 -0.40791822]\n",
        "iter = "
       ]
      },
      {
       "output_type": "stream",
       "stream": "stdout",
       "text": [
        " 159 , lhood =  -0.397195046263 , pred =  0 , acc =  0.821041666667 , param =  [-2.60656531  1.9337711  -0.40550234]\n",
        "iter = "
       ]
      },
      {
       "output_type": "stream",
       "stream": "stdout",
       "text": [
        " 160 , lhood =  -0.397122802169 , pred =  0 , acc =  0.821041666667 , param =  [-2.61397626  1.93720573 -0.40310301]\n",
        "iter = "
       ]
      },
      {
       "output_type": "stream",
       "stream": "stdout",
       "text": [
        " 161 , lhood =  -0.397051478019 , pred =  0 , acc =  0.821041666667 , param =  [-2.62134014  1.9406186  -0.40072016]\n",
        "iter = "
       ]
      },
      {
       "output_type": "stream",
       "stream": "stdout",
       "text": [
        " 162 , lhood =  -0.396981060124 , pred =  0 , acc =  0.821041666667 , param =  [-2.62865732  1.94400998 -0.39835369]\n",
        "iter = "
       ]
      },
      {
       "output_type": "stream",
       "stream": "stdout",
       "text": [
        " 163 , lhood =  -0.396911535034 , pred =  0 , acc =  0.821041666667 , param =  [-2.63592819  1.94738013 -0.39600355]\n",
        "iter = "
       ]
      },
      {
       "output_type": "stream",
       "stream": "stdout",
       "text": [
        " 164 , lhood =  -0.396842889537 , pred =  0 , acc =  0.821041666667 , param =  [-2.6431531   1.95072933 -0.39366963]\n",
        "iter = "
       ]
      },
      {
       "output_type": "stream",
       "stream": "stdout",
       "text": [
        " 165 , lhood =  -0.396775110648 , pred =  0 , acc =  0.821041666667 , param =  [-2.65033244  1.95405783 -0.39135186]\n",
        "iter = "
       ]
      },
      {
       "output_type": "stream",
       "stream": "stdout",
       "text": [
        " 166 , lhood =  -0.39670818561 , pred =  0 , acc =  0.821041666667 , param =  [-2.65746658  1.95736588 -0.38905015]\n",
        "iter = "
       ]
      },
      {
       "output_type": "stream",
       "stream": "stdout",
       "text": [
        " 167 , lhood =  -0.396642101886 , pred =  0 , acc =  0.821041666667 , param =  [-2.66455586  1.96065372 -0.38676441]\n",
        "iter = "
       ]
      },
      {
       "output_type": "stream",
       "stream": "stdout",
       "text": [
        " 168 , lhood =  -0.396576847154 , pred =  0 , acc =  0.821041666667 , param =  [-2.67160066  1.9639216  -0.38449456]\n",
        "iter = "
       ]
      },
      {
       "output_type": "stream",
       "stream": "stdout",
       "text": [
        " 169 , lhood =  -0.396512409305 , pred =  0 , acc =  0.821041666667 , param =  [-2.67860132  1.96716975 -0.38224051]\n",
        "iter = "
       ]
      },
      {
       "output_type": "stream",
       "stream": "stdout",
       "text": [
        " 170 , lhood =  -0.396448776437 , pred =  0 , acc =  0.821041666667 , param =  [-2.68555821  1.9703984  -0.38000217]\n",
        "iter = "
       ]
      },
      {
       "output_type": "stream",
       "stream": "stdout",
       "text": [
        " 171 , lhood =  -0.396385936851 , pred =  0 , acc =  0.821041666667 , param =  [-2.69247167  1.97360777 -0.37777945]\n",
        "iter = "
       ]
      },
      {
       "output_type": "stream",
       "stream": "stdout",
       "text": [
        " 172 , lhood =  -0.396323879047 , pred =  0 , acc =  0.821041666667 , param =  [-2.69934204  1.97679809 -0.37557226]\n",
        "iter = "
       ]
      },
      {
       "output_type": "stream",
       "stream": "stdout",
       "text": [
        " 173 , lhood =  -0.396262591719 , pred =  0 , acc =  0.821041666667 , param =  [-2.70616966  1.97996956 -0.37338051]\n",
        "iter = "
       ]
      },
      {
       "output_type": "stream",
       "stream": "stdout",
       "text": [
        " 174 , lhood =  -0.396202063754 , pred =  0 , acc =  0.821041666667 , param =  [-2.71295488  1.98312241 -0.3712041 ]\n",
        "iter = "
       ]
      },
      {
       "output_type": "stream",
       "stream": "stdout",
       "text": [
        " 175 , lhood =  -0.396142284225 , pred =  0 , acc =  0.821041666667 , param =  [-2.71969803  1.98625683 -0.36904294]\n",
        "iter = "
       ]
      },
      {
       "output_type": "stream",
       "stream": "stdout",
       "text": [
        " 176 , lhood =  -0.396083242388 , pred =  0 , acc =  0.821041666667 , param =  [-2.72639944  1.98937303 -0.36689694]\n",
        "iter = "
       ]
      },
      {
       "output_type": "stream",
       "stream": "stdout",
       "text": [
        " 177 , lhood =  -0.396024927679 , pred =  0 , acc =  0.821041666667 , param =  [-2.73305944  1.99247121 -0.36476601]\n",
        "iter = "
       ]
      },
      {
       "output_type": "stream",
       "stream": "stdout",
       "text": [
        " 178 , lhood =  -0.395967329711 , pred =  0 , acc =  0.821041666667 , param =  [-2.73967835  1.99555155 -0.36265004]\n",
        "iter = "
       ]
      },
      {
       "output_type": "stream",
       "stream": "stdout",
       "text": [
        " 179 , lhood =  -0.39591043827 , pred =  0 , acc =  0.821041666667 , param =  [-2.74625651  1.99861425 -0.36054896]\n",
        "iter = "
       ]
      },
      {
       "output_type": "stream",
       "stream": "stdout",
       "text": [
        " 180 , lhood =  -0.39585424331 , pred =  0 , acc =  0.821041666667 , param =  [-2.75279421  2.00165949 -0.35846266]\n",
        "iter = "
       ]
      },
      {
       "output_type": "stream",
       "stream": "stdout",
       "text": [
        " 181 , lhood =  -0.395798734952 , pred =  0 , acc =  0.821041666667 , param =  [-2.7592918   2.00468746 -0.35639104]\n",
        "iter = "
       ]
      },
      {
       "output_type": "stream",
       "stream": "stdout",
       "text": [
        " 182 , lhood =  -0.39574390348 , pred =  0 , acc =  0.821041666667 , param =  [-2.76574957  2.00769833 -0.35433401]\n",
        "iter = "
       ]
      },
      {
       "output_type": "stream",
       "stream": "stdout",
       "text": [
        " 183 , lhood =  -0.395689739338 , pred =  0 , acc =  0.821041666667 , param =  [-2.77216783  2.01069227 -0.35229148]\n",
        "iter = "
       ]
      },
      {
       "output_type": "stream",
       "stream": "stdout",
       "text": [
        " 184 , lhood =  -0.395636233126 , pred =  0 , acc =  0.821041666667 , param =  [-2.7785469   2.01366947 -0.35026335]\n",
        "iter = "
       ]
      },
      {
       "output_type": "stream",
       "stream": "stdout",
       "text": [
        " 185 , lhood =  -0.395583375597 , pred =  0 , acc =  0.821041666667 , param =  [-2.78488707  2.01663008 -0.34824953]\n",
        "iter = "
       ]
      },
      {
       "output_type": "stream",
       "stream": "stdout",
       "text": [
        " 186 , lhood =  -0.395531157658 , pred =  0 , acc =  0.821041666667 , param =  [-2.79118866  2.01957427 -0.34624991]\n",
        "iter = "
       ]
      },
      {
       "output_type": "stream",
       "stream": "stdout",
       "text": [
        " 187 , lhood =  -0.39547957036 , pred =  0 , acc =  0.821041666667 , param =  [-2.79745195  2.0225022  -0.34426441]\n",
        "iter = "
       ]
      },
      {
       "output_type": "stream",
       "stream": "stdout",
       "text": [
        " 188 , lhood =  -0.395428604901 , pred =  0 , acc =  0.821041666667 , param =  [-2.80367724  2.02541404 -0.34229292]\n",
        "iter = "
       ]
      },
      {
       "output_type": "stream",
       "stream": "stdout",
       "text": [
        " 189 , lhood =  -0.395378252621 , pred =  0 , acc =  0.821041666667 , param =  [-2.80986483  2.02830992 -0.34033535]\n",
        "iter = "
       ]
      },
      {
       "output_type": "stream",
       "stream": "stdout",
       "text": [
        " 190 , lhood =  -0.395328505001 , pred =  0 , acc =  0.821041666667 , param =  [-2.816015    2.03119002 -0.33839161]\n",
        "iter = "
       ]
      },
      {
       "output_type": "stream",
       "stream": "stdout",
       "text": [
        " 191 , lhood =  -0.395279353656 , pred =  0 , acc =  0.821041666667 , param =  [-2.82212805  2.03405447 -0.33646159]\n",
        "iter = "
       ]
      },
      {
       "output_type": "stream",
       "stream": "stdout",
       "text": [
        " 192 , lhood =  -0.395230790339 , pred =  0 , acc =  0.821041666667 , param =  [-2.82820425  2.03690342 -0.33454521]\n",
        "iter = "
       ]
      },
      {
       "output_type": "stream",
       "stream": "stdout",
       "text": [
        " 193 , lhood =  -0.395182806933 , pred =  0 , acc =  0.821041666667 , param =  [-2.83424389  2.03973702 -0.33264236]\n",
        "iter = "
       ]
      },
      {
       "output_type": "stream",
       "stream": "stdout",
       "text": [
        " 194 , lhood =  -0.39513539545 , pred =  0 , acc =  0.821041666667 , param =  [-2.84024725  2.0425554  -0.33075296]\n",
        "iter = "
       ]
      },
      {
       "output_type": "stream",
       "stream": "stdout",
       "text": [
        " 195 , lhood =  -0.395088548031 , pred =  0 , acc =  0.821041666667 , param =  [-2.8462146   2.04535872 -0.3288769 ]\n",
        "iter = "
       ]
      },
      {
       "output_type": "stream",
       "stream": "stdout",
       "text": [
        " 196 , lhood =  -0.39504225694 , pred =  0 , acc =  0.821041666667 , param =  [-2.85214622  2.04814709 -0.32701409]\n",
        "iter = "
       ]
      },
      {
       "output_type": "stream",
       "stream": "stdout",
       "text": [
        " 197 , lhood =  -0.394996514566 , pred =  0 , acc =  0.821041666667 , param =  [-2.85804237  2.05092066 -0.32516444]\n",
        "iter = "
       ]
      },
      {
       "output_type": "stream",
       "stream": "stdout",
       "text": [
        " 198 , lhood =  -0.394951313417 , pred =  0 , acc =  0.821041666667 , param =  [-2.86390334  2.05367956 -0.32332785]\n",
        "iter = "
       ]
      },
      {
       "output_type": "stream",
       "stream": "stdout",
       "text": [
        " 199 , lhood =  -0.394906646117 , pred =  0 , acc =  0.821041666667 , param =  [-2.86972938  2.05642392 -0.32150422]\n",
        "iter = "
       ]
      },
      {
       "output_type": "stream",
       "stream": "stdout",
       "text": [
        " 200 , lhood =  -0.394862505409 , pred =  0 , acc =  0.821041666667 , param =  [-2.87552076  2.05915386 -0.31969347]\n",
        "iter = "
       ]
      },
      {
       "output_type": "stream",
       "stream": "stdout",
       "text": [
        " 201 , lhood =  -0.394818884149 , pred =  0 , acc =  0.821041666667 , param =  [-2.88127773  2.0618695  -0.31789549]\n",
        "iter = "
       ]
      },
      {
       "output_type": "stream",
       "stream": "stdout",
       "text": [
        " 202 , lhood =  -0.394775775304 , pred =  0 , acc =  0.821041666667 , param =  [-2.88700057  2.06457098 -0.31611021]\n",
        "iter = "
       ]
      },
      {
       "output_type": "stream",
       "stream": "stdout",
       "text": [
        " 203 , lhood =  -0.394733171952 , pred =  0 , acc =  0.821041666667 , param =  [-2.89268951  2.06725841 -0.31433751]\n",
        "iter = "
       ]
      },
      {
       "output_type": "stream",
       "stream": "stdout",
       "text": [
        " 204 , lhood =  -0.394691067278 , pred =  0 , acc =  0.821041666667 , param =  [-2.89834483  2.0699319  -0.31257731]\n",
        "iter = "
       ]
      },
      {
       "output_type": "stream",
       "stream": "stdout",
       "text": [
        " 205 , lhood =  -0.394649454573 , pred =  0 , acc =  0.821041666667 , param =  [-2.90396677  2.07259159 -0.31082952]\n",
        "iter = "
       ]
      },
      {
       "output_type": "stream",
       "stream": "stdout",
       "text": [
        " 206 , lhood =  -0.394608327232 , pred =  0 , acc =  0.821041666667 , param =  [-2.90955557  2.07523757 -0.30909404]\n",
        "iter = "
       ]
      },
      {
       "output_type": "stream",
       "stream": "stdout",
       "text": [
        " 207 , lhood =  -0.394567678753 , pred =  0 , acc =  0.821041666667 , param =  [-2.91511149  2.07786996 -0.30737078]\n",
        "iter = "
       ]
      },
      {
       "output_type": "stream",
       "stream": "stdout",
       "text": [
        " 208 , lhood =  -0.394527502732 , pred =  0 , acc =  0.821041666667 , param =  [-2.92063477  2.08048888 -0.30565966]\n",
        "iter = "
       ]
      },
      {
       "output_type": "stream",
       "stream": "stdout",
       "text": [
        " 209 , lhood =  -0.394487792867 , pred =  0 , acc =  0.821041666667 , param =  [-2.92612566  2.08309443 -0.30396057]\n",
        "iter = "
       ]
      },
      {
       "output_type": "stream",
       "stream": "stdout",
       "text": [
        " 210 , lhood =  -0.39444854295 , pred =  0 , acc =  0.821041666667 , param =  [-2.93158439  2.08568671 -0.30227343]\n",
        "iter = "
       ]
      },
      {
       "output_type": "stream",
       "stream": "stdout",
       "text": [
        " 211 , lhood =  -0.394409746869 , pred =  0 , acc =  0.821041666667 , param =  [-2.9370112   2.08826585 -0.30059815]\n",
        "iter = "
       ]
      },
      {
       "output_type": "stream",
       "stream": "stdout",
       "text": [
        " 212 , lhood =  -0.394371398607 , pred =  0 , acc =  0.821041666667 , param =  [-2.94240633  2.09083193 -0.29893464]\n",
        "iter = "
       ]
      },
      {
       "output_type": "stream",
       "stream": "stdout",
       "text": [
        " 213 , lhood =  -0.394333492235 , pred =  0 , acc =  0.821041666667 , param =  [-2.94777001  2.09338506 -0.29728281]\n",
        "iter = "
       ]
      },
      {
       "output_type": "stream",
       "stream": "stdout",
       "text": [
        " 214 , lhood =  -0.394296021919 , pred =  0 , acc =  0.821041666667 , param =  [-2.95310248  2.09592534 -0.29564258]\n",
        "iter = "
       ]
      },
      {
       "output_type": "stream",
       "stream": "stdout",
       "text": [
        " 215 , lhood =  -0.39425898191 , pred =  0 , acc =  0.821041666667 , param =  [-2.95840395  2.09845287 -0.29401384]\n",
        "iter = "
       ]
      },
      {
       "output_type": "stream",
       "stream": "stdout",
       "text": [
        " 216 , lhood =  -0.394222366548 , pred =  0 , acc =  0.821041666667 , param =  [-2.96367467  2.10096776 -0.29239652]\n",
        "iter = "
       ]
      },
      {
       "output_type": "stream",
       "stream": "stdout",
       "text": [
        " 217 , lhood =  -0.394186170257 , pred =  0 , acc =  0.821041666667 , param =  [-2.96891485  2.10347008 -0.29079052]\n",
        "iter = "
       ]
      },
      {
       "output_type": "stream",
       "stream": "stdout",
       "text": [
        " 218 , lhood =  -0.394150387546 , pred =  0 , acc =  0.821041666667 , param =  [-2.97412472  2.10595995 -0.28919577]\n",
        "iter = "
       ]
      },
      {
       "output_type": "stream",
       "stream": "stdout",
       "text": [
        " 219 , lhood =  -0.394115013009 , pred =  0 , acc =  0.821041666667 , param =  [-2.9793045   2.10843744 -0.28761217]\n",
        "iter = "
       ]
      },
      {
       "output_type": "stream",
       "stream": "stdout",
       "text": [
        " 220 , lhood =  -0.394080041316 , pred =  0 , acc =  0.821041666667 , param =  [-2.98445441  2.11090267 -0.28603964]\n",
        "iter = "
       ]
      },
      {
       "output_type": "stream",
       "stream": "stdout",
       "text": [
        " 221 , lhood =  -0.394045467222 , pred =  0 , acc =  0.821041666667 , param =  [-2.98957466  2.1133557  -0.28447809]\n",
        "iter = "
       ]
      },
      {
       "output_type": "stream",
       "stream": "stdout",
       "text": [
        " 222 , lhood =  -0.394011285558 , pred =  0 , acc =  0.821041666667 , param =  [-2.99466548  2.11579664 -0.28292743]\n",
        "iter = "
       ]
      },
      {
       "output_type": "stream",
       "stream": "stdout",
       "text": [
        " 223 , lhood =  -0.393977491232 , pred =  0 , acc =  0.821041666667 , param =  [-2.99972707  2.11822557 -0.28138759]\n",
        "iter = "
       ]
      },
      {
       "output_type": "stream",
       "stream": "stdout",
       "text": [
        " 224 , lhood =  -0.393944079228 , pred =  0 , acc =  0.821041666667 , param =  [-3.00475965  2.12064259 -0.27985848]\n",
        "iter = "
       ]
      },
      {
       "output_type": "stream",
       "stream": "stdout",
       "text": [
        " 225 , lhood =  -0.393911044605 , pred =  0 , acc =  0.821041666667 , param =  [-3.00976342  2.12304776 -0.27834002]\n",
        "iter = "
       ]
      },
      {
       "output_type": "stream",
       "stream": "stdout",
       "text": [
        " 226 , lhood =  -0.393878382495 , pred =  0 , acc =  0.821041666667 , param =  [-3.01473859  2.12544119 -0.27683212]\n",
        "iter = "
       ]
      },
      {
       "output_type": "stream",
       "stream": "stdout",
       "text": [
        " 227 , lhood =  -0.393846088103 , pred =  0 , acc =  0.821041666667 , param =  [-3.01968538  2.12782294 -0.2753347 ]\n",
        "iter = "
       ]
      },
      {
       "output_type": "stream",
       "stream": "stdout",
       "text": [
        " 228 , lhood =  -0.393814156704 , pred =  0 , acc =  0.821041666667 , param =  [-3.02460398  2.13019311 -0.27384768]\n",
        "iter = "
       ]
      },
      {
       "output_type": "stream",
       "stream": "stdout",
       "text": [
        " 229 , lhood =  -0.393782583642 , pred =  0 , acc =  0.821041666667 , param =  [-3.02949459  2.13255178 -0.27237097]\n",
        "iter = "
       ]
      },
      {
       "output_type": "stream",
       "stream": "stdout",
       "text": [
        " 230 , lhood =  -0.393751364329 , pred =  0 , acc =  0.821041666667 , param =  [-3.03435742  2.13489902 -0.27090451]\n",
        "iter = "
       ]
      },
      {
       "output_type": "stream",
       "stream": "stdout",
       "text": [
        " 231 , lhood =  -0.393720494248 , pred =  0 , acc =  0.821041666667 , param =  [-3.03919266  2.13723492 -0.2694482 ]\n",
        "iter = "
       ]
      },
      {
       "output_type": "stream",
       "stream": "stdout",
       "text": [
        " 232 , lhood =  -0.393689968943 , pred =  0 , acc =  0.821041666667 , param =  [-3.04400052  2.13955955 -0.26800197]\n",
        "iter = "
       ]
      },
      {
       "output_type": "stream",
       "stream": "stdout",
       "text": [
        " 233 , lhood =  -0.393659784027 , pred =  0 , acc =  0.821041666667 , param =  [-3.04878118  2.14187298 -0.26656573]\n",
        "iter = "
       ]
      },
      {
       "output_type": "stream",
       "stream": "stdout",
       "text": [
        " 234 , lhood =  -0.393629935175 , pred =  0 , acc =  0.821041666667 , param =  [-3.05353483  2.1441753  -0.26513942]\n",
        "iter = "
       ]
      },
      {
       "output_type": "stream",
       "stream": "stdout",
       "text": [
        " 235 , lhood =  -0.393600418126 , pred =  0 , acc =  0.821041666667 , param =  [-3.05826168  2.14646658 -0.26372295]\n",
        "iter = "
       ]
      },
      {
       "output_type": "stream",
       "stream": "stdout",
       "text": [
        " 236 , lhood =  -0.393571228681 , pred =  0 , acc =  0.821041666667 , param =  [-3.06296191  2.1487469  -0.26231624]\n",
        "iter = "
       ]
      },
      {
       "output_type": "stream",
       "stream": "stdout",
       "text": [
        " 237 , lhood =  -0.3935423627 , pred =  0 , acc =  0.821041666667 , param =  [-3.06763571  2.15101632 -0.26091922]\n",
        "iter = "
       ]
      },
      {
       "output_type": "stream",
       "stream": "stdout",
       "text": [
        " 238 , lhood =  -0.393513816106 , pred =  0 , acc =  0.821041666667 , param =  [-3.07228326  2.15327492 -0.25953181]\n",
        "iter = "
       ]
      },
      {
       "output_type": "stream",
       "stream": "stdout",
       "text": [
        " 239 , lhood =  -0.393485584877 , pred =  0 , acc =  0.821041666667 , param =  [-3.07690476  2.15552276 -0.25815393]\n",
        "iter = "
       ]
      },
      {
       "output_type": "stream",
       "stream": "stdout",
       "text": [
        " 240 , lhood =  -0.393457665053 , pred =  0 , acc =  0.821041666667 , param =  [-3.08150038  2.15775993 -0.25678552]\n",
        "iter = "
       ]
      },
      {
       "output_type": "stream",
       "stream": "stdout",
       "text": [
        " 241 , lhood =  -0.393430052727 , pred =  0 , acc =  0.821041666667 , param =  [-3.0860703   2.15998649 -0.25542649]\n",
        "iter = "
       ]
      },
      {
       "output_type": "stream",
       "stream": "stdout",
       "text": [
        " 242 , lhood =  -0.393402744052 , pred =  0 , acc =  0.821041666667 , param =  [-3.09061471  2.1622025  -0.25407677]\n",
        "iter = "
       ]
      },
      {
       "output_type": "stream",
       "stream": "stdout",
       "text": [
        " 243 , lhood =  -0.393375735232 , pred =  0 , acc =  0.821041666667 , param =  [-3.09513378  2.16440804 -0.2527363 ]\n",
        "iter = "
       ]
      },
      {
       "output_type": "stream",
       "stream": "stdout",
       "text": [
        " 244 , lhood =  -0.393349022529 , pred =  0 , acc =  0.821041666667 , param =  [-3.09962769  2.16660318 -0.25140498]\n",
        "iter = "
       ]
      },
      {
       "output_type": "stream",
       "stream": "stdout",
       "text": [
        " 245 , lhood =  -0.393322602256 , pred =  0 , acc =  0.821041666667 , param =  [-3.10409662  2.16878797 -0.25008276]\n",
        "iter = "
       ]
      },
      {
       "output_type": "stream",
       "stream": "stdout",
       "text": [
        " 246 , lhood =  -0.39329647078 , pred =  0 , acc =  0.821041666667 , param =  [-3.10854074  2.17096249 -0.24876956]\n",
        "iter = "
       ]
      },
      {
       "output_type": "stream",
       "stream": "stdout",
       "text": [
        " 247 , lhood =  -0.393270624517 , pred =  0 , acc =  0.821041666667 , param =  [-3.11296022  2.17312679 -0.24746531]\n",
        "iter = "
       ]
      },
      {
       "output_type": "stream",
       "stream": "stdout",
       "text": [
        " 248 , lhood =  -0.393245059937 , pred =  0 , acc =  0.821041666667 , param =  [-3.11735524  2.17528095 -0.24616993]\n",
        "iter = "
       ]
      },
      {
       "output_type": "stream",
       "stream": "stdout",
       "text": [
        " 249 , lhood =  -0.393219773558 , pred =  0 , acc =  0.821041666667 , param =  [-3.12172595  2.17742503 -0.24488336]\n",
        "iter = "
       ]
      },
      {
       "output_type": "stream",
       "stream": "stdout",
       "text": [
        " 250 , lhood =  -0.393194761947 , pred =  0 , acc =  0.821041666667 , param =  [-3.12607254  2.17955909 -0.24360554]\n",
        "iter = "
       ]
      },
      {
       "output_type": "stream",
       "stream": "stdout",
       "text": [
        " 251 , lhood =  -0.393170021721 , pred =  0 , acc =  0.821041666667 , param =  [-3.13039517  2.18168318 -0.24233638]\n",
        "iter = "
       ]
      },
      {
       "output_type": "stream",
       "stream": "stdout",
       "text": [
        " 252 , lhood =  -0.393145549544 , pred =  0 , acc =  0.821041666667 , param =  [-3.134694    2.18379738 -0.24107582]\n",
        "iter = "
       ]
      },
      {
       "output_type": "stream",
       "stream": "stdout",
       "text": [
        " 253 , lhood =  -0.393121342125 , pred =  0 , acc =  0.821041666667 , param =  [-3.13896919  2.18590174 -0.23982379]\n",
        "iter = "
       ]
      },
      {
       "output_type": "stream",
       "stream": "stdout",
       "text": [
        " 254 , lhood =  -0.393097396222 , pred =  0 , acc =  0.821041666667 , param =  [-3.14322091  2.18799633 -0.23858023]\n",
        "iter = "
       ]
      },
      {
       "output_type": "stream",
       "stream": "stdout",
       "text": [
        " 255 , lhood =  -0.393073708637 , pred =  0 , acc =  0.821041666667 , param =  [-3.14744932  2.19008119 -0.23734506]\n",
        "iter = "
       ]
      },
      {
       "output_type": "stream",
       "stream": "stdout",
       "text": [
        " 256 , lhood =  -0.393050276215 , pred =  0 , acc =  0.821041666667 , param =  [-3.15165458  2.1921564  -0.23611823]\n",
        "iter = "
       ]
      },
      {
       "output_type": "stream",
       "stream": "stdout",
       "text": [
        " 257 , lhood =  -0.393027095848 , pred =  0 , acc =  0.821041666667 , param =  [-3.15583685  2.19422201 -0.23489966]\n",
        "iter = "
       ]
      },
      {
       "output_type": "stream",
       "stream": "stdout",
       "text": [
        " 258 , lhood =  -0.393004164468 , pred =  0 , acc =  0.821041666667 , param =  [-3.15999628  2.19627807 -0.23368929]\n",
        "iter = "
       ]
      },
      {
       "output_type": "stream",
       "stream": "stdout",
       "text": [
        " 259 , lhood =  -0.392981479054 , pred =  0 , acc =  0.821041666667 , param =  [-3.16413303  2.19832464 -0.23248706]\n",
        "iter = "
       ]
      },
      {
       "output_type": "stream",
       "stream": "stdout",
       "text": [
        " 260 , lhood =  -0.392959036622 , pred =  0 , acc =  0.821041666667 , param =  [-3.16824725  2.20036178 -0.23129289]\n",
        "iter = "
       ]
      },
      {
       "output_type": "stream",
       "stream": "stdout",
       "text": [
        " 261 , lhood =  -0.392936834232 , pred =  0 , acc =  0.821041666667 , param =  [-3.1723391   2.20238955 -0.23010674]\n",
        "iter = "
       ]
      },
      {
       "output_type": "stream",
       "stream": "stdout",
       "text": [
        " 262 , lhood =  -0.392914868984 , pred =  0 , acc =  0.821041666667 , param =  [-3.17640872  2.204408   -0.22892852]\n",
        "iter = "
       ]
      },
      {
       "output_type": "stream",
       "stream": "stdout",
       "text": [
        " 263 , lhood =  -0.392893138018 , pred =  0 , acc =  0.821041666667 , param =  [-3.18045628  2.20641718 -0.22775818]\n",
        "iter = "
       ]
      },
      {
       "output_type": "stream",
       "stream": "stdout",
       "text": [
        " 264 , lhood =  -0.392871638513 , pred =  0 , acc =  0.821041666667 , param =  [-3.18448191  2.20841715 -0.22659567]\n",
        "iter = "
       ]
      },
      {
       "output_type": "stream",
       "stream": "stdout",
       "text": [
        " 265 , lhood =  -0.392850367687 , pred =  0 , acc =  0.821041666667 , param =  [-3.18848576  2.21040796 -0.22544091]\n",
        "iter = "
       ]
      },
      {
       "output_type": "stream",
       "stream": "stdout",
       "text": [
        " 266 , lhood =  -0.392829322796 , pred =  0 , acc =  0.821041666667 , param =  [-3.19246798  2.21238966 -0.22429384]\n",
        "iter = "
       ]
      },
      {
       "output_type": "stream",
       "stream": "stdout",
       "text": [
        " 267 , lhood =  -0.392808501133 , pred =  0 , acc =  0.821041666667 , param =  [-3.19642872  2.21436232 -0.2231544 ]\n",
        "iter = "
       ]
      },
      {
       "output_type": "stream",
       "stream": "stdout",
       "text": [
        " 268 , lhood =  -0.39278790003 , pred =  0 , acc =  0.821041666667 , param =  [-3.20036812  2.21632597 -0.22202254]\n",
        "iter = "
       ]
      },
      {
       "output_type": "stream",
       "stream": "stdout",
       "text": [
        " 269 , lhood =  -0.392767516852 , pred =  0 , acc =  0.821041666667 , param =  [-3.20428632  2.21828067 -0.2208982 ]\n",
        "iter = "
       ]
      },
      {
       "output_type": "stream",
       "stream": "stdout",
       "text": [
        " 270 , lhood =  -0.392747349002 , pred =  0 , acc =  0.821041666667 , param =  [-3.20818347  2.22022647 -0.21978131]\n",
        "iter = "
       ]
      },
      {
       "output_type": "stream",
       "stream": "stdout",
       "text": [
        " 271 , lhood =  -0.392727393918 , pred =  0 , acc =  0.821041666667 , param =  [-3.2120597   2.22216343 -0.21867181]\n",
        "iter = "
       ]
      },
      {
       "output_type": "stream",
       "stream": "stdout",
       "text": [
        " 272 , lhood =  -0.392707649073 , pred =  0 , acc =  0.821041666667 , param =  [-3.21591516  2.22409159 -0.21756965]\n",
        "iter = "
       ]
      },
      {
       "output_type": "stream",
       "stream": "stdout",
       "text": [
        " 273 , lhood =  -0.392688111973 , pred =  0 , acc =  0.821041666667 , param =  [-3.21974998  2.226011   -0.21647477]\n",
        "iter = "
       ]
      },
      {
       "output_type": "stream",
       "stream": "stdout",
       "text": [
        " 274 , lhood =  -0.392668780159 , pred =  0 , acc =  0.821041666667 , param =  [-3.22356429  2.22792171 -0.21538711]\n",
        "iter = "
       ]
      },
      {
       "output_type": "stream",
       "stream": "stdout",
       "text": [
        " 275 , lhood =  -0.392649651203 , pred =  0 , acc =  0.821041666667 , param =  [-3.22735825  2.22982376 -0.21430662]\n",
        "iter = "
       ]
      },
      {
       "output_type": "stream",
       "stream": "stdout",
       "text": [
        " 276 , lhood =  -0.392630722712 , pred =  0 , acc =  0.821041666667 , param =  [-3.23113197  2.23171722 -0.21323323]\n",
        "iter = "
       ]
      },
      {
       "output_type": "stream",
       "stream": "stdout",
       "text": [
        " 277 , lhood =  -0.392611992325 , pred =  0 , acc =  0.821041666667 , param =  [-3.23488559  2.23360212 -0.2121669 ]\n",
        "iter = "
       ]
      },
      {
       "output_type": "stream",
       "stream": "stdout",
       "text": [
        " 278 , lhood =  -0.39259345771 , pred =  0 , acc =  0.821041666667 , param =  [-3.23861925  2.23547852 -0.21110756]\n",
        "iter = "
       ]
      },
      {
       "output_type": "stream",
       "stream": "stdout",
       "text": [
        " 279 , lhood =  -0.392575116568 , pred =  0 , acc =  0.821041666667 , param =  [-3.24233308  2.23734645 -0.21005517]\n",
        "iter = "
       ]
      },
      {
       "output_type": "stream",
       "stream": "stdout",
       "text": [
        " 280 , lhood =  -0.392556966633 , pred =  0 , acc =  0.821041666667 , param =  [-3.2460272   2.23920597 -0.20900966]\n",
        "iter = "
       ]
      },
      {
       "output_type": "stream",
       "stream": "stdout",
       "text": [
        " 281 , lhood =  -0.392539005664 , pred =  0 , acc =  0.821041666667 , param =  [-3.24970175  2.24105712 -0.20797099]\n",
        "iter = "
       ]
      },
      {
       "output_type": "stream",
       "stream": "stdout",
       "text": [
        " 282 , lhood =  -0.392521231453 , pred =  0 , acc =  0.821041666667 , param =  [-3.25335686  2.24289995 -0.2069391 ]\n",
        "iter = "
       ]
      },
      {
       "output_type": "stream",
       "stream": "stdout",
       "text": [
        " 283 , lhood =  -0.392503641822 , pred =  0 , acc =  0.821041666667 , param =  [-3.25699264  2.24473451 -0.20591393]\n",
        "iter = "
       ]
      },
      {
       "output_type": "stream",
       "stream": "stdout",
       "text": [
        " 284 , lhood =  -0.392486234621 , pred =  0 , acc =  0.821041666667 , param =  [-3.26060924  2.24656083 -0.20489544]\n",
        "iter = "
       ]
      },
      {
       "output_type": "stream",
       "stream": "stdout",
       "text": [
        " 285 , lhood =  -0.392469007727 , pred =  0 , acc =  0.821041666667 , param =  [-3.26420677  2.24837897 -0.20388357]\n",
        "iter = "
       ]
      },
      {
       "output_type": "stream",
       "stream": "stdout",
       "text": [
        " 286 , lhood =  -0.392451959046 , pred =  0 , acc =  0.821041666667 , param =  [-3.26778535  2.25018896 -0.20287827]\n",
        "iter = "
       ]
      },
      {
       "output_type": "stream",
       "stream": "stdout",
       "text": [
        " 287 , lhood =  -0.392435086512 , pred =  0 , acc =  0.821041666667 , param =  [-3.27134512  2.25199085 -0.20187949]\n",
        "iter = "
       ]
      },
      {
       "output_type": "stream",
       "stream": "stdout",
       "text": [
        " 288 , lhood =  -0.392418388087 , pred =  0 , acc =  0.821041666667 , param =  [-3.27488618  2.25378469 -0.20088717]\n",
        "iter = "
       ]
      },
      {
       "output_type": "stream",
       "stream": "stdout",
       "text": [
        " 289 , lhood =  -0.392401861757 , pred =  0 , acc =  0.821041666667 , param =  [-3.27840867  2.25557052 -0.19990128]\n",
        "iter = "
       ]
      },
      {
       "output_type": "stream",
       "stream": "stdout",
       "text": [
        " 290 , lhood =  -0.392385505537 , pred =  0 , acc =  0.821041666667 , param =  [-3.28191271  2.25734837 -0.19892175]\n",
        "iter = "
       ]
      },
      {
       "output_type": "stream",
       "stream": "stdout",
       "text": [
        " 291 , lhood =  -0.392369317467 , pred =  0 , acc =  0.821041666667 , param =  [-3.2853984   2.2591183  -0.19794853]\n",
        "iter = "
       ]
      },
      {
       "output_type": "stream",
       "stream": "stdout",
       "text": [
        " 292 , lhood =  -0.392353295613 , pred =  0 , acc =  0.821041666667 , param =  [-3.28886588  2.26088035 -0.19698159]\n",
        "iter = "
       ]
      },
      {
       "output_type": "stream",
       "stream": "stdout",
       "text": [
        " 293 , lhood =  -0.392337438065 , pred =  0 , acc =  0.821041666667 , param =  [-3.29231525  2.26263455 -0.19602087]\n",
        "iter = "
       ]
      },
      {
       "output_type": "stream",
       "stream": "stdout",
       "text": [
        " 294 , lhood =  -0.392321742939 , pred =  0 , acc =  0.821041666667 , param =  [-3.29574664  2.26438095 -0.19506631]\n",
        "iter = "
       ]
      },
      {
       "output_type": "stream",
       "stream": "stdout",
       "text": [
        " 295 , lhood =  -0.392306208375 , pred =  0 , acc =  0.821041666667 , param =  [-3.29916015  2.26611958 -0.19411788]\n",
        "iter = "
       ]
      },
      {
       "output_type": "stream",
       "stream": "stdout",
       "text": [
        " 296 , lhood =  -0.392290832537 , pred =  0 , acc =  0.821041666667 , param =  [-3.30255591  2.2678505  -0.19317553]\n",
        "iter = "
       ]
      },
      {
       "output_type": "stream",
       "stream": "stdout",
       "text": [
        " 297 , lhood =  -0.392275613614 , pred =  0 , acc =  0.821041666667 , param =  [-3.30593402  2.26957374 -0.19223921]\n",
        "iter = "
       ]
      },
      {
       "output_type": "stream",
       "stream": "stdout",
       "text": [
        " 298 , lhood =  -0.392260549817 , pred =  0 , acc =  0.821041666667 , param =  [-3.30929461  2.27128934 -0.19130886]\n",
        "iter = "
       ]
      },
      {
       "output_type": "stream",
       "stream": "stdout",
       "text": [
        " 299 , lhood =  -0.39224563938 , pred =  0 , acc =  0.821041666667 , param =  [-3.31263778  2.27299735 -0.19038445]\n",
        "iter = "
       ]
      },
      {
       "output_type": "stream",
       "stream": "stdout",
       "text": [
        " 300 , lhood =  -0.392230880561 , pred =  0 , acc =  0.821041666667 , param =  [-3.31596363  2.27469779 -0.18946594]\n",
        "iter = "
       ]
      },
      {
       "output_type": "stream",
       "stream": "stdout",
       "text": [
        " 301 , lhood =  -0.392216271639 , pred =  0 , acc =  0.821041666667 , param =  [-3.31927229  2.27639071 -0.18855326]\n",
        "iter = "
       ]
      },
      {
       "output_type": "stream",
       "stream": "stdout",
       "text": [
        " 302 , lhood =  -0.392201810915 , pred =  0 , acc =  0.821041666667 , param =  [-3.32256386  2.27807615 -0.18764639]\n",
        "iter = "
       ]
      },
      {
       "output_type": "stream",
       "stream": "stdout",
       "text": [
        " 303 , lhood =  -0.392187496715 , pred =  0 , acc =  0.821041666667 , param =  [-3.32583845  2.27975414 -0.18674527]\n",
        "iter = "
       ]
      },
      {
       "output_type": "stream",
       "stream": "stdout",
       "text": [
        " 304 , lhood =  -0.392173327381 , pred =  0 , acc =  0.821041666667 , param =  [-3.32909616  2.28142474 -0.18584986]\n",
        "iter = "
       ]
      },
      {
       "output_type": "stream",
       "stream": "stdout",
       "text": [
        " 305 , lhood =  -0.392159301281 , pred =  0 , acc =  0.821041666667 , param =  [-3.33233711  2.28308796 -0.18496011]\n",
        "iter = "
       ]
      },
      {
       "output_type": "stream",
       "stream": "stdout",
       "text": [
        " 306 , lhood =  -0.392145416801 , pred =  0 , acc =  0.821041666667 , param =  [-3.3355614   2.28474386 -0.18407599]\n",
        "iter = "
       ]
      },
      {
       "output_type": "stream",
       "stream": "stdout",
       "text": [
        " 307 , lhood =  -0.392131672348 , pred =  0 , acc =  0.821041666667 , param =  [-3.33876913  2.28639246 -0.18319745]\n",
        "iter = "
       ]
      },
      {
       "output_type": "stream",
       "stream": "stdout",
       "text": [
        " 308 , lhood =  -0.392118066351 , pred =  0 , acc =  0.821041666667 , param =  [-3.3419604   2.28803382 -0.18232445]\n",
        "iter = "
       ]
      },
      {
       "output_type": "stream",
       "stream": "stdout",
       "text": [
        " 309 , lhood =  -0.392104597257 , pred =  0 , acc =  0.821041666667 , param =  [-3.34513533  2.28966795 -0.18145693]\n",
        "iter = "
       ]
      },
      {
       "output_type": "stream",
       "stream": "stdout",
       "text": [
        " 310 , lhood =  -0.392091263532 , pred =  0 , acc =  0.821041666667 , param =  [-3.348294    2.29129491 -0.18059487]\n",
        "iter = "
       ]
      },
      {
       "output_type": "stream",
       "stream": "stdout",
       "text": [
        " 311 , lhood =  -0.392078063663 , pred =  0 , acc =  0.821041666667 , param =  [-3.35143653  2.29291472 -0.17973823]\n",
        "iter = "
       ]
      },
      {
       "output_type": "stream",
       "stream": "stdout",
       "text": [
        " 312 , lhood =  -0.392064996157 , pred =  0 , acc =  0.821041666667 , param =  [-3.35456302  2.29452743 -0.17888695]\n",
        "iter = "
       ]
      },
      {
       "output_type": "stream",
       "stream": "stdout",
       "text": [
        " 313 , lhood =  -0.392052059537 , pred =  0 , acc =  0.821041666667 , param =  [-3.35767356  2.29613306 -0.17804099]\n",
        "iter = "
       ]
      },
      {
       "output_type": "stream",
       "stream": "stdout",
       "text": [
        " 314 , lhood =  -0.392039252346 , pred =  0 , acc =  0.821041666667 , param =  [-3.36076825  2.29773166 -0.17720033]\n",
        "iter = "
       ]
      },
      {
       "output_type": "stream",
       "stream": "stdout",
       "text": [
        " 315 , lhood =  -0.392026573147 , pred =  0 , acc =  0.821041666667 , param =  [-3.3638472   2.29932326 -0.17636491]\n",
        "iter = "
       ]
      },
      {
       "output_type": "stream",
       "stream": "stdout",
       "text": [
        " 316 , lhood =  -0.392014020517 , pred =  0 , acc =  0.821041666667 , param =  [-3.36691049  2.30090789 -0.1755347 ]\n",
        "iter = "
       ]
      },
      {
       "output_type": "stream",
       "stream": "stdout",
       "text": [
        " 317 , lhood =  -0.392001593055 , pred =  0 , acc =  0.821041666667 , param =  [-3.36995824  2.3024856  -0.17470966]\n",
        "iter = "
       ]
      },
      {
       "output_type": "stream",
       "stream": "stdout",
       "text": [
        " 318 , lhood =  -0.391989289375 , pred =  0 , acc =  0.821041666667 , param =  [-3.37299052  2.3040564  -0.17388974]\n",
        "iter = "
       ]
      },
      {
       "output_type": "stream",
       "stream": "stdout",
       "text": [
        " 319 , lhood =  -0.391977108108 , pred =  0 , acc =  0.821041666667 , param =  [-3.37600745  2.30562035 -0.17307492]\n",
        "iter = "
       ]
      },
      {
       "output_type": "stream",
       "stream": "stdout",
       "text": [
        " 320 , lhood =  -0.391965047904 , pred =  0 , acc =  0.821041666667 , param =  [-3.3790091   2.30717747 -0.17226515]\n",
        "iter = "
       ]
      },
      {
       "output_type": "stream",
       "stream": "stdout",
       "text": [
        " 321 , lhood =  -0.391953107428 , pred =  0 , acc =  0.821041666667 , param =  [-3.38199558  2.3087278  -0.17146038]\n",
        "iter = "
       ]
      },
      {
       "output_type": "stream",
       "stream": "stdout",
       "text": [
        " 322 , lhood =  -0.391941285363 , pred =  0 , acc =  0.821041666667 , param =  [-3.38496699  2.31027137 -0.1706606 ]\n",
        "iter = "
       ]
      },
      {
       "output_type": "stream",
       "stream": "stdout",
       "text": [
        " 323 , lhood =  -0.391929580407 , pred =  0 , acc =  0.821041666667 , param =  [-3.3879234   2.31180822 -0.16986575]\n",
        "iter = "
       ]
      },
      {
       "output_type": "stream",
       "stream": "stdout",
       "text": [
        " 324 , lhood =  -0.391917991275 , pred =  0 , acc =  0.821041666667 , param =  [-3.39086492  2.31333837 -0.1690758 ]\n",
        "iter = "
       ]
      },
      {
       "output_type": "stream",
       "stream": "stdout",
       "text": [
        " 325 , lhood =  -0.391906516698 , pred =  0 , acc =  0.821041666667 , param =  [-3.39379163  2.31486187 -0.16829071]\n",
        "iter = "
       ]
      },
      {
       "output_type": "stream",
       "stream": "stdout",
       "text": [
        " 326 , lhood =  -0.391895155421 , pred =  0 , acc =  0.821041666667 , param =  [-3.39670363  2.31637874 -0.16751045]\n",
        "iter = "
       ]
      },
      {
       "output_type": "stream",
       "stream": "stdout",
       "text": [
        " 327 , lhood =  -0.391883906206 , pred =  0 , acc =  0.821041666667 , param =  [-3.39960101  2.31788902 -0.16673498]\n",
        "iter = "
       ]
      },
      {
       "output_type": "stream",
       "stream": "stdout",
       "text": [
        " 328 , lhood =  -0.39187276783 , pred =  0 , acc =  0.821041666667 , param =  [-3.40248385  2.31939274 -0.16596427]\n",
        "iter = "
       ]
      },
      {
       "output_type": "stream",
       "stream": "stdout",
       "text": [
        " 329 , lhood =  -0.391861739085 , pred =  0 , acc =  0.821041666667 , param =  [-3.40535224  2.32088993 -0.16519827]\n",
        "iter = "
       ]
      },
      {
       "output_type": "stream",
       "stream": "stdout",
       "text": [
        " 330 , lhood =  -0.391850818778 , pred =  0 , acc =  0.821041666667 , param =  [-3.40820627  2.32238062 -0.16443696]\n",
        "iter = "
       ]
      },
      {
       "output_type": "stream",
       "stream": "stdout",
       "text": [
        " 331 , lhood =  -0.391840005729 , pred =  0 , acc =  0.821041666667 , param =  [-3.41104603  2.32386485 -0.16368029]\n",
        "iter = "
       ]
      },
      {
       "output_type": "stream",
       "stream": "stdout",
       "text": [
        " 332 , lhood =  -0.391829298775 , pred =  0 , acc =  0.821041666667 , param =  [-3.41387161  2.32534264 -0.16292824]\n",
        "iter = "
       ]
      },
      {
       "output_type": "stream",
       "stream": "stdout",
       "text": [
        " 333 , lhood =  -0.391818696764 , pred =  0 , acc =  0.821041666667 , param =  [-3.41668308  2.32681404 -0.16218077]\n",
        "iter = "
       ]
      },
      {
       "output_type": "stream",
       "stream": "stdout",
       "text": [
        " 334 , lhood =  -0.391808198562 , pred =  0 , acc =  0.821041666667 , param =  [-3.41948054  2.32827907 -0.16143784]\n",
        "iter = "
       ]
      },
      {
       "output_type": "stream",
       "stream": "stdout",
       "text": [
        " 335 , lhood =  -0.391797803046 , pred =  0 , acc =  0.821041666667 , param =  [-3.42226406  2.32973775 -0.16069943]\n",
        "iter = "
       ]
      },
      {
       "output_type": "stream",
       "stream": "stdout",
       "text": [
        " 336 , lhood =  -0.391787509106 , pred =  0 , acc =  0.821041666667 , param =  [-3.42503374  2.33119013 -0.15996549]\n",
        "iter = "
       ]
      },
      {
       "output_type": "stream",
       "stream": "stdout",
       "text": [
        " 337 , lhood =  -0.391777315647 , pred =  0 , acc =  0.821041666667 , param =  [-3.42778966  2.33263624 -0.159236  ]\n",
        "iter = "
       ]
      },
      {
       "output_type": "stream",
       "stream": "stdout",
       "text": [
        " 338 , lhood =  -0.391767221589 , pred =  0 , acc =  0.821041666667 , param =  [-3.43053189  2.33407609 -0.15851092]\n",
        "iter = "
       ]
      },
      {
       "output_type": "stream",
       "stream": "stdout",
       "text": [
        " 339 , lhood =  -0.39175722586 , pred =  0 , acc =  0.821041666667 , param =  [-3.43326053  2.33550973 -0.15779021]\n",
        "iter = "
       ]
      },
      {
       "output_type": "stream",
       "stream": "stdout",
       "text": [
        " 340 , lhood =  -0.391747327405 , pred =  0 , acc =  0.821041666667 , param =  [-3.43597564  2.33693719 -0.15707385]\n",
        "iter = "
       ]
      },
      {
       "output_type": "stream",
       "stream": "stdout",
       "text": [
        " 341 , lhood =  -0.391737525181 , pred =  0 , acc =  0.821041666667 , param =  [-3.43867732  2.33835848 -0.15636181]\n",
        "iter = "
       ]
      },
      {
       "output_type": "stream",
       "stream": "stdout",
       "text": [
        " 342 , lhood =  -0.391727818157 , pred =  0 , acc =  0.821041666667 , param =  [-3.44136564  2.33977365 -0.15565405]\n",
        "iter = "
       ]
      },
      {
       "output_type": "stream",
       "stream": "stdout",
       "text": [
        " 343 , lhood =  -0.391718205314 , pred =  0 , acc =  0.821041666667 , param =  [-3.44404068  2.34118273 -0.15495054]\n",
        "iter = "
       ]
      },
      {
       "output_type": "stream",
       "stream": "stdout",
       "text": [
        " 344 , lhood =  -0.391708685646 , pred =  0 , acc =  0.821041666667 , param =  [-3.44670252  2.34258573 -0.15425125]\n",
        "iter = "
       ]
      },
      {
       "output_type": "stream",
       "stream": "stdout",
       "text": [
        " 345 , lhood =  -0.391699258159 , pred =  0 , acc =  0.821041666667 , param =  [-3.44935124  2.3439827  -0.15355615]\n",
        "iter = "
       ]
      },
      {
       "output_type": "stream",
       "stream": "stdout",
       "text": [
        " 346 , lhood =  -0.391689921869 , pred =  0 , acc =  0.821041666667 , param =  [-3.45198692  2.34537366 -0.15286521]\n",
        "iter = "
       ]
      },
      {
       "output_type": "stream",
       "stream": "stdout",
       "text": [
        " 347 , lhood =  -0.391680675808 , pred =  0 , acc =  0.821041666667 , param =  [-3.45460963  2.34675863 -0.15217839]\n",
        "iter = "
       ]
      },
      {
       "output_type": "stream",
       "stream": "stdout",
       "text": [
        " 348 , lhood =  -0.391671519014 , pred =  0 , acc =  0.821041666667 , param =  [-3.45721946  2.34813766 -0.15149567]\n",
        "iter = "
       ]
      },
      {
       "output_type": "stream",
       "stream": "stdout",
       "text": [
        " 349 , lhood =  -0.391662450541 , pred =  0 , acc =  0.821041666667 , param =  [-3.45981647  2.34951076 -0.15081702]\n",
        "iter = "
       ]
      },
      {
       "output_type": "stream",
       "stream": "stdout",
       "text": [
        " 350 , lhood =  -0.391653469452 , pred =  0 , acc =  0.821041666667 , param =  [-3.46240074  2.35087796 -0.15014241]\n",
        "iter = "
       ]
      },
      {
       "output_type": "stream",
       "stream": "stdout",
       "text": [
        " 351 , lhood =  -0.391644574822 , pred =  0 , acc =  0.821041666667 , param =  [-3.46497235  2.3522393  -0.1494718 ]\n",
        "iter = "
       ]
      },
      {
       "output_type": "stream",
       "stream": "stdout",
       "text": [
        " 352 , lhood =  -0.391635765736 , pred =  0 , acc =  0.821041666667 , param =  [-3.46753137  2.3535948  -0.14880517]\n",
        "iter = "
       ]
      },
      {
       "output_type": "stream",
       "stream": "stdout",
       "text": [
        " 353 , lhood =  -0.391627041291 , pred =  0 , acc =  0.821041666667 , param =  [-3.47007787  2.35494449 -0.1481425 ]\n",
        "iter = "
       ]
      },
      {
       "output_type": "stream",
       "stream": "stdout",
       "text": [
        " 354 , lhood =  -0.391618400593 , pred =  0 , acc =  0.821041666667 , param =  [-3.47261194  2.35628839 -0.14748374]\n",
        "iter = "
       ]
      },
      {
       "output_type": "stream",
       "stream": "stdout",
       "text": [
        " 355 , lhood =  -0.39160984276 , pred =  0 , acc =  0.821041666667 , param =  [-3.47513364  2.35762654 -0.14682888]\n",
        "iter = "
       ]
      },
      {
       "output_type": "stream",
       "stream": "stdout",
       "text": [
        " 356 , lhood =  -0.39160136692 , pred =  0 , acc =  0.821041666667 , param =  [-3.47764303  2.35895896 -0.14617788]\n",
        "iter = "
       ]
      },
      {
       "output_type": "stream",
       "stream": "stdout",
       "text": [
        " 357 , lhood =  -0.391592972212 , pred =  0 , acc =  0.821041666667 , param =  [-3.48014021  2.36028568 -0.14553072]\n",
        "iter = "
       ]
      },
      {
       "output_type": "stream",
       "stream": "stdout",
       "text": [
        " 358 , lhood =  -0.391584657783 , pred =  0 , acc =  0.821041666667 , param =  [-3.48262523  2.36160672 -0.14488736]\n",
        "iter = "
       ]
      },
      {
       "output_type": "stream",
       "stream": "stdout",
       "text": [
        " 359 , lhood =  -0.391576422792 , pred =  0 , acc =  0.821041666667 , param =  [-3.48509817  2.36292212 -0.14424779]\n",
        "iter = "
       ]
      },
      {
       "output_type": "stream",
       "stream": "stdout",
       "text": [
        " 360 , lhood =  -0.391568266406 , pred =  0 , acc =  0.821041666667 , param =  [-3.4875591   2.36423189 -0.14361197]\n",
        "iter = "
       ]
      },
      {
       "output_type": "stream",
       "stream": "stdout",
       "text": [
        " 361 , lhood =  -0.391560187804 , pred =  0 , acc =  0.821041666667 , param =  [-3.49000808  2.36553607 -0.14297988]\n",
        "iter = "
       ]
      },
      {
       "output_type": "stream",
       "stream": "stdout",
       "text": [
        " 362 , lhood =  -0.391552186174 , pred =  0 , acc =  0.821041666667 , param =  [-3.49244519  2.36683468 -0.14235149]\n",
        "iter = "
       ]
      },
      {
       "output_type": "stream",
       "stream": "stdout",
       "text": [
        " 363 , lhood =  -0.39154426071 , pred =  0 , acc =  0.821041666667 , param =  [-3.4948705   2.36812775 -0.14172677]\n",
        "iter = "
       ]
      },
      {
       "output_type": "stream",
       "stream": "stdout",
       "text": [
        " 364 , lhood =  -0.391536410621 , pred =  0 , acc =  0.821041666667 , param =  [-3.49728407  2.3694153  -0.1411057 ]\n",
        "iter = "
       ]
      },
      {
       "output_type": "stream",
       "stream": "stdout",
       "text": [
        " 365 , lhood =  -0.391528635122 , pred =  0 , acc =  0.821041666667 , param =  [-3.49968597  2.37069736 -0.14048826]\n",
        "iter = "
       ]
      },
      {
       "output_type": "stream",
       "stream": "stdout",
       "text": [
        " 366 , lhood =  -0.391520933436 , pred =  0 , acc =  0.821041666667 , param =  [-3.50207626  2.37197396 -0.1398744 ]\n",
        "iter = "
       ]
      },
      {
       "output_type": "stream",
       "stream": "stdout",
       "text": [
        " 367 , lhood =  -0.391513304797 , pred =  0 , acc =  0.821041666667 , param =  [-3.50445503  2.37324512 -0.13926412]\n",
        "iter = "
       ]
      },
      {
       "output_type": "stream",
       "stream": "stdout",
       "text": [
        " 368 , lhood =  -0.391505748449 , pred =  0 , acc =  0.821041666667 , param =  [-3.50682232  2.37451087 -0.13865738]\n",
        "iter = "
       ]
      },
      {
       "output_type": "stream",
       "stream": "stdout",
       "text": [
        " 369 , lhood =  -0.391498263641 , pred =  0 , acc =  0.821041666667 , param =  [-3.50917821  2.37577123 -0.13805416]\n",
        "iter = "
       ]
      },
      {
       "output_type": "stream",
       "stream": "stdout",
       "text": [
        " 370 , lhood =  -0.391490849633 , pred =  0 , acc =  0.821041666667 , param =  [-3.51152276  2.37702622 -0.13745444]\n",
        "iter = "
       ]
      },
      {
       "output_type": "stream",
       "stream": "stdout",
       "text": [
        " 371 , lhood =  -0.391483505695 , pred =  0 , acc =  0.821041666667 , param =  [-3.51385604  2.37827588 -0.13685818]\n",
        "iter = "
       ]
      },
      {
       "output_type": "stream",
       "stream": "stdout",
       "text": [
        " 372 , lhood =  -0.391476231101 , pred =  0 , acc =  0.821041666667 , param =  [-3.51617811  2.37952023 -0.13626537]\n",
        "iter = "
       ]
      },
      {
       "output_type": "stream",
       "stream": "stdout",
       "text": [
        " 373 , lhood =  -0.391469025138 , pred =  0 , acc =  0.821041666667 , param =  [-3.51848904  2.38075929 -0.13567597]\n",
        "iter = "
       ]
      },
      {
       "output_type": "stream",
       "stream": "stdout",
       "text": [
        " 374 , lhood =  -0.391461887098 , pred =  0 , acc =  0.821041666667 , param =  [-3.52078889  2.38199308 -0.13508998]\n",
        "iter = "
       ]
      },
      {
       "output_type": "stream",
       "stream": "stdout",
       "text": [
        " 375 , lhood =  -0.391454816283 , pred =  0 , acc =  0.821041666667 , param =  [-3.52307771  2.38322164 -0.13450735]\n",
        "iter = "
       ]
      },
      {
       "output_type": "stream",
       "stream": "stdout",
       "text": [
        " 376 , lhood =  -0.391447812001 , pred =  0 , acc =  0.821041666667 , param =  [-3.52535558  2.38444498 -0.13392808]\n",
        "iter = "
       ]
      },
      {
       "output_type": "stream",
       "stream": "stdout",
       "text": [
        " 377 , lhood =  -0.391440873571 , pred =  0 , acc =  0.821041666667 , param =  [-3.52762256  2.38566314 -0.13335213]\n",
        "iter = "
       ]
      },
      {
       "output_type": "stream",
       "stream": "stdout",
       "text": [
        " 378 , lhood =  -0.391434000316 , pred =  0 , acc =  0.821041666667 , param =  [-3.52987871  2.38687612 -0.13277948]\n",
        "iter = "
       ]
      },
      {
       "output_type": "stream",
       "stream": "stdout",
       "text": [
        " 379 , lhood =  -0.39142719157 , pred =  0 , acc =  0.821041666667 , param =  [-3.53212409  2.38808397 -0.13221011]\n",
        "iter = "
       ]
      },
      {
       "output_type": "stream",
       "stream": "stdout",
       "text": [
        " 380 , lhood =  -0.391420446671 , pred =  0 , acc =  0.821041666667 , param =  [-3.53435875  2.38928669 -0.13164399]\n",
        "iter = "
       ]
      },
      {
       "output_type": "stream",
       "stream": "stdout",
       "text": [
        " 381 , lhood =  -0.39141376497 , pred =  0 , acc =  0.821041666667 , param =  [-3.53658277  2.39048433 -0.13108111]\n",
        "iter = "
       ]
      },
      {
       "output_type": "stream",
       "stream": "stdout",
       "text": [
        " 382 , lhood =  -0.391407145819 , pred =  0 , acc =  0.821041666667 , param =  [-3.5387962   2.39167689 -0.13052143]\n",
        "iter = "
       ]
      },
      {
       "output_type": "stream",
       "stream": "stdout",
       "text": [
        " 383 , lhood =  -0.391400588581 , pred =  0 , acc =  0.821041666667 , param =  [-3.5409991   2.3928644  -0.12996494]\n",
        "iter = "
       ]
      },
      {
       "output_type": "stream",
       "stream": "stdout",
       "text": [
        " 384 , lhood =  -0.391394092626 , pred =  0 , acc =  0.821041666667 , param =  [-3.54319153  2.39404689 -0.12941162]\n",
        "iter = "
       ]
      },
      {
       "output_type": "stream",
       "stream": "stdout",
       "text": [
        " 385 , lhood =  -0.391387657331 , pred =  0 , acc =  0.821041666667 , param =  [-3.54537355  2.39522438 -0.12886144]\n",
        "iter = "
       ]
      },
      {
       "output_type": "stream",
       "stream": "stdout",
       "text": [
        " 386 , lhood =  -0.39138128208 , pred =  0 , acc =  0.821041666667 , param =  [-3.54754521  2.39639689 -0.12831438]\n",
        "iter = "
       ]
      },
      {
       "output_type": "stream",
       "stream": "stdout",
       "text": [
        " 387 , lhood =  -0.391374966261 , pred =  0 , acc =  0.821041666667 , param =  [-3.54970658  2.39756445 -0.12777042]\n",
        "iter = "
       ]
      },
      {
       "output_type": "stream",
       "stream": "stdout",
       "text": [
        " 388 , lhood =  -0.391368709274 , pred =  0 , acc =  0.821041666667 , param =  [-3.55185772  2.39872707 -0.12722954]\n",
        "iter = "
       ]
      },
      {
       "output_type": "stream",
       "stream": "stdout",
       "text": [
        " 389 , lhood =  -0.391362510523 , pred =  0 , acc =  0.821041666667 , param =  [-3.55399867  2.39988479 -0.12669172]\n",
        "iter = "
       ]
      },
      {
       "output_type": "stream",
       "stream": "stdout",
       "text": [
        " 390 , lhood =  -0.391356369418 , pred =  0 , acc =  0.821041666667 , param =  [-3.5561295   2.40103761 -0.12615693]\n",
        "iter = "
       ]
      },
      {
       "output_type": "stream",
       "stream": "stdout",
       "text": [
        " 391 , lhood =  -0.391350285377 , pred =  0 , acc =  0.821041666667 , param =  [-3.55825026  2.40218558 -0.12562515]\n",
        "iter = "
       ]
      },
      {
       "output_type": "stream",
       "stream": "stdout",
       "text": [
        " 392 , lhood =  -0.391344257823 , pred =  0 , acc =  0.821041666667 , param =  [-3.56036101  2.4033287  -0.12509637]\n",
        "iter = "
       ]
      },
      {
       "output_type": "stream",
       "stream": "stdout",
       "text": [
        " 393 , lhood =  -0.391338286188 , pred =  0 , acc =  0.821041666667 , param =  [-3.56246181  2.404467   -0.12457057]\n",
        "iter = "
       ]
      },
      {
       "output_type": "stream",
       "stream": "stdout",
       "text": [
        " 394 , lhood =  -0.391332369907 , pred =  0 , acc =  0.821041666667 , param =  [-3.5645527   2.40560051 -0.12404771]\n",
        "iter = "
       ]
      },
      {
       "output_type": "stream",
       "stream": "stdout",
       "text": [
        " 395 , lhood =  -0.391326508425 , pred =  0 , acc =  0.821041666667 , param =  [-3.56663375  2.40672923 -0.12352779]\n",
        "iter = "
       ]
      },
      {
       "output_type": "stream",
       "stream": "stdout",
       "text": [
        " 396 , lhood =  -0.39132070119 , pred =  0 , acc =  0.821041666667 , param =  [-3.56870501  2.40785321 -0.12301078]\n",
        "iter = "
       ]
      },
      {
       "output_type": "stream",
       "stream": "stdout",
       "text": [
        " 397 , lhood =  -0.391314947657 , pred =  0 , acc =  0.821041666667 , param =  [-3.57076653  2.40897245 -0.12249666]\n",
        "iter = "
       ]
      },
      {
       "output_type": "stream",
       "stream": "stdout",
       "text": [
        " 398 , lhood =  -0.391309247289 , pred =  0 , acc =  0.821041666667 , param =  [-3.57281837  2.41008698 -0.12198541]\n",
        "iter = "
       ]
      },
      {
       "output_type": "stream",
       "stream": "stdout",
       "text": [
        " 399 , lhood =  -0.391303599552 , pred =  0 , acc =  0.821041666667 , param =  [-3.57486057  2.41119682 -0.12147702]\n",
        "iter = "
       ]
      },
      {
       "output_type": "stream",
       "stream": "stdout",
       "text": [
        " 400 , lhood =  -0.391298003919 , pred =  0 , acc =  0.821041666667 , param =  [-3.5768932   2.412302   -0.12097146]\n",
        "iter = "
       ]
      },
      {
       "output_type": "stream",
       "stream": "stdout",
       "text": [
        " 401 , lhood =  -0.39129245987 , pred =  0 , acc =  0.821041666667 , param =  [-3.57891631  2.41340253 -0.12046871]\n",
        "iter = "
       ]
      },
      {
       "output_type": "stream",
       "stream": "stdout",
       "text": [
        " 402 , lhood =  -0.39128696689 , pred =  0 , acc =  0.821041666667 , param =  [-3.58092995  2.41449843 -0.11996876]\n",
        "iter = "
       ]
      },
      {
       "output_type": "stream",
       "stream": "stdout",
       "text": [
        " 403 , lhood =  -0.391281524469 , pred =  0 , acc =  0.821041666667 , param =  [-3.58293416  2.41558973 -0.11947159]\n",
        "iter = "
       ]
      },
      {
       "output_type": "stream",
       "stream": "stdout",
       "text": [
        " 404 , lhood =  -0.391276132102 , pred =  0 , acc =  0.821041666667 , param =  [-3.58492901  2.41667645 -0.11897717]\n",
        "iter = "
       ]
      },
      {
       "output_type": "stream",
       "stream": "stdout",
       "text": [
        " 405 , lhood =  -0.391270789292 , pred =  0 , acc =  0.821041666667 , param =  [-3.58691454  2.4177586  -0.11848549]\n",
        "iter = "
       ]
      },
      {
       "output_type": "stream",
       "stream": "stdout",
       "text": [
        " 406 , lhood =  -0.391265495547 , pred =  0 , acc =  0.821041666667 , param =  [-3.58889081  2.41883621 -0.11799653]\n",
        "iter = "
       ]
      },
      {
       "output_type": "stream",
       "stream": "stdout",
       "text": [
        " 407 , lhood =  -0.391260250377 , pred =  0 , acc =  0.821041666667 , param =  [-3.59085785  2.4199093  -0.11751027]\n",
        "iter = "
       ]
      },
      {
       "output_type": "stream",
       "stream": "stdout",
       "text": [
        " 408 , lhood =  -0.391255053301 , pred =  0 , acc =  0.821041666667 , param =  [-3.59281574  2.42097789 -0.1170267 ]\n",
        "iter = "
       ]
      },
      {
       "output_type": "stream",
       "stream": "stdout",
       "text": [
        " 409 , lhood =  -0.391249903843 , pred =  0 , acc =  0.821041666667 , param =  [-3.59476451  2.42204201 -0.11654579]\n",
        "iter = "
       ]
      },
      {
       "output_type": "stream",
       "stream": "stdout",
       "text": [
        " 410 , lhood =  -0.39124480153 , pred =  0 , acc =  0.821041666667 , param =  [-3.59670421  2.42310166 -0.11606753]\n",
        "iter = "
       ]
      },
      {
       "output_type": "stream",
       "stream": "stdout",
       "text": [
        " 411 , lhood =  -0.391239745897 , pred =  0 , acc =  0.821041666667 , param =  [-3.59863489  2.42415687 -0.1155919 ]\n",
        "iter = "
       ]
      },
      {
       "output_type": "stream",
       "stream": "stdout",
       "text": [
        " 412 , lhood =  -0.391234736481 , pred =  0 , acc =  0.821041666667 , param =  [-3.60055661  2.42520766 -0.11511888]\n",
        "iter = "
       ]
      },
      {
       "output_type": "stream",
       "stream": "stdout",
       "text": [
        " 413 , lhood =  -0.391229772826 , pred =  0 , acc =  0.821041666667 , param =  [-3.60246941  2.42625405 -0.11464845]\n",
        "iter = "
       ]
      },
      {
       "output_type": "stream",
       "stream": "stdout",
       "text": [
        " 414 , lhood =  -0.391224854481 , pred =  0 , acc =  0.821041666667 , param =  [-3.60437334  2.42729606 -0.1141806 ]\n",
        "iter = "
       ]
      },
      {
       "output_type": "stream",
       "stream": "stdout",
       "text": [
        " 415 , lhood =  -0.391219980998 , pred =  0 , acc =  0.821041666667 , param =  [-3.60626845  2.42833372 -0.11371531]\n",
        "iter = "
       ]
      },
      {
       "output_type": "stream",
       "stream": "stdout",
       "text": [
        " 416 , lhood =  -0.391215151937 , pred =  0 , acc =  0.821041666667 , param =  [-3.60815478  2.42936703 -0.11325257]\n",
        "iter = "
       ]
      },
      {
       "output_type": "stream",
       "stream": "stdout",
       "text": [
        " 417 , lhood =  -0.391210366861 , pred =  0 , acc =  0.821041666667 , param =  [-3.61003238  2.43039602 -0.11279235]\n",
        "iter = "
       ]
      },
      {
       "output_type": "stream",
       "stream": "stdout",
       "text": [
        " 418 , lhood =  -0.391205625337 , pred =  0 , acc =  0.821041666667 , param =  [-3.6119013   2.43142071 -0.11233463]\n",
        "iter = "
       ]
      },
      {
       "output_type": "stream",
       "stream": "stdout",
       "text": [
        " 419 , lhood =  -0.391200926937 , pred =  0 , acc =  0.821041666667 , param =  [-3.61376159  2.43244112 -0.11187941]\n",
        "iter = "
       ]
      },
      {
       "output_type": "stream",
       "stream": "stdout",
       "text": [
        " 420 , lhood =  -0.391196271239 , pred =  0 , acc =  0.821041666667 , param =  [-3.61561328  2.43345727 -0.11142667]\n",
        "iter = "
       ]
      },
      {
       "output_type": "stream",
       "stream": "stdout",
       "text": [
        " 421 , lhood =  -0.391191657824 , pred =  0 , acc =  0.821041666667 , param =  [-3.61745644  2.43446917 -0.11097639]\n",
        "iter = "
       ]
      },
      {
       "output_type": "stream",
       "stream": "stdout",
       "text": [
        " 422 , lhood =  -0.391187086278 , pred =  0 , acc =  0.821041666667 , param =  [-3.6192911   2.43547685 -0.11052855]\n",
        "iter = "
       ]
      },
      {
       "output_type": "stream",
       "stream": "stdout",
       "text": [
        " 423 , lhood =  -0.391182556192 , pred =  0 , acc =  0.821041666667 , param =  [-3.62111731  2.43648033 -0.11008313]\n",
        "iter = "
       ]
      },
      {
       "output_type": "stream",
       "stream": "stdout",
       "text": [
        " 424 , lhood =  -0.391178067161 , pred =  0 , acc =  0.821041666667 , param =  [-3.62293512  2.43747961 -0.10964013]\n",
        "iter = "
       ]
      },
      {
       "output_type": "stream",
       "stream": "stdout",
       "text": [
        " 425 , lhood =  -0.391173618785 , pred =  0 , acc =  0.821041666667 , param =  [-3.62474456  2.43847473 -0.10919952]\n",
        "iter = "
       ]
      },
      {
       "output_type": "stream",
       "stream": "stdout",
       "text": [
        " 426 , lhood =  -0.391169210665 , pred =  0 , acc =  0.821041666667 , param =  [-3.62654569  2.4394657  -0.10876129]\n",
        "iter = "
       ]
      },
      {
       "output_type": "stream",
       "stream": "stdout",
       "text": [
        " 427 , lhood =  -0.391164842412 , pred =  0 , acc =  0.821041666667 , param =  [-3.62833855  2.44045255 -0.10832543]\n",
        "iter = "
       ]
      },
      {
       "output_type": "stream",
       "stream": "stdout",
       "text": [
        " 428 , lhood =  -0.391160513635 , pred =  0 , acc =  0.821041666667 , param =  [-3.63012318  2.44143528 -0.10789191]\n",
        "iter = "
       ]
      },
      {
       "output_type": "stream",
       "stream": "stdout",
       "text": [
        " 429 , lhood =  -0.391156223953 , pred =  0 , acc =  0.821041666667 , param =  [-3.63189963  2.44241391 -0.10746073]\n",
        "iter = "
       ]
      },
      {
       "output_type": "stream",
       "stream": "stdout",
       "text": [
        " 430 , lhood =  -0.391151972984 , pred =  0 , acc =  0.821041666667 , param =  [-3.63366793  2.44338847 -0.10703186]\n",
        "iter = "
       ]
      },
      {
       "output_type": "stream",
       "stream": "stdout",
       "text": [
        " 431 , lhood =  -0.391147760353 , pred =  0 , acc =  0.821041666667 , param =  [-3.63542814  2.44435898 -0.1066053 ]\n",
        "iter = "
       ]
      },
      {
       "output_type": "stream",
       "stream": "stdout",
       "text": [
        " 432 , lhood =  -0.391143585689 , pred =  0 , acc =  0.821041666667 , param =  [-3.63718029  2.44532544 -0.10618102]\n",
        "iter = "
       ]
      },
      {
       "output_type": "stream",
       "stream": "stdout",
       "text": [
        " 433 , lhood =  -0.391139448623 , pred =  0 , acc =  0.821041666667 , param =  [-3.63892444  2.44628789 -0.10575902]\n",
        "iter = "
       ]
      },
      {
       "output_type": "stream",
       "stream": "stdout",
       "text": [
        " 434 , lhood =  -0.391135348792 , pred =  0 , acc =  0.821041666667 , param =  [-3.64066061  2.44724633 -0.10533928]\n",
        "iter = "
       ]
      },
      {
       "output_type": "stream",
       "stream": "stdout",
       "text": [
        " 435 , lhood =  -0.391131285835 , pred =  0 , acc =  0.821041666667 , param =  [-3.64238885  2.44820079 -0.10492177]\n",
        "iter = "
       ]
      },
      {
       "output_type": "stream",
       "stream": "stdout",
       "text": [
        " 436 , lhood =  -0.391127259397 , pred =  0 , acc =  0.821041666667 , param =  [-3.64410921  2.44915128 -0.1045065 ]\n",
        "iter = "
       ]
      },
      {
       "output_type": "stream",
       "stream": "stdout",
       "text": [
        " 437 , lhood =  -0.391123269125 , pred =  0 , acc =  0.821041666667 , param =  [-3.64582173  2.45009782 -0.10409344]\n",
        "iter = "
       ]
      },
      {
       "output_type": "stream",
       "stream": "stdout",
       "text": [
        " 438 , lhood =  -0.39111931467 , pred =  0 , acc =  0.821041666667 , param =  [-3.64752644  2.45104043 -0.10368258]\n",
        "iter = "
       ]
      },
      {
       "output_type": "stream",
       "stream": "stdout",
       "text": [
        " 439 , lhood =  -0.391115395687 , pred =  0 , acc =  0.821041666667 , param =  [-3.64922339  2.45197912 -0.1032739 ]\n",
        "iter = "
       ]
      },
      {
       "output_type": "stream",
       "stream": "stdout",
       "text": [
        " 440 , lhood =  -0.391111511835 , pred =  0 , acc =  0.821041666667 , param =  [-3.65091263  2.45291392 -0.1028674 ]\n",
        "iter = "
       ]
      },
      {
       "output_type": "stream",
       "stream": "stdout",
       "text": [
        " 441 , lhood =  -0.391107662775 , pred =  0 , acc =  0.821041666667 , param =  [-3.65259417  2.45384484 -0.10246306]\n",
        "iter = "
       ]
      },
      {
       "output_type": "stream",
       "stream": "stdout",
       "text": [
        " 442 , lhood =  -0.391103848175 , pred =  0 , acc =  0.821041666667 , param =  [-3.65426808  2.4547719  -0.10206085]\n",
        "iter = "
       ]
      },
      {
       "output_type": "stream",
       "stream": "stdout",
       "text": [
        " 443 , lhood =  -0.391100067701 , pred =  0 , acc =  0.821041666667 , param =  [-3.65593439  2.45569511 -0.10166078]\n",
        "iter = "
       ]
      },
      {
       "output_type": "stream",
       "stream": "stdout",
       "text": [
        " 444 , lhood =  -0.391096321029 , pred =  0 , acc =  0.821041666667 , param =  [-3.65759314  2.45661449 -0.10126283]\n",
        "iter = "
       ]
      },
      {
       "output_type": "stream",
       "stream": "stdout",
       "text": [
        " 445 , lhood =  -0.391092607833 , pred =  0 , acc =  0.821041666667 , param =  [-3.65924437  2.45753007 -0.10086697]\n",
        "iter = "
       ]
      },
      {
       "output_type": "stream",
       "stream": "stdout",
       "text": [
        " 446 , lhood =  -0.391088927793 , pred =  0 , acc =  0.821041666667 , param =  [-3.66088811  2.45844185 -0.10047321]\n",
        "iter = "
       ]
      },
      {
       "output_type": "stream",
       "stream": "stdout",
       "text": [
        " 447 , lhood =  -0.391085280592 , pred =  0 , acc =  0.821041666667 , param =  [-3.66252442  2.45934985 -0.10008152]\n",
        "iter = "
       ]
      },
      {
       "output_type": "stream",
       "stream": "stdout",
       "text": [
        " 448 , lhood =  -0.391081665916 , pred =  0 , acc =  0.821041666667 , param =  [-3.66415331  2.46025409 -0.0996919 ]\n",
        "iter = "
       ]
      },
      {
       "output_type": "stream",
       "stream": "stdout",
       "text": [
        " 449 , lhood =  -0.391078083454 , pred =  0 , acc =  0.821041666667 , param =  [-3.66577485  2.46115458 -0.09930432]\n",
        "iter = "
       ]
      },
      {
       "output_type": "stream",
       "stream": "stdout",
       "text": [
        " 450 , lhood =  -0.391074532899 , pred =  0 , acc =  0.821041666667 , param =  [-3.66738905  2.46205135 -0.09891878]\n",
        "iter = "
       ]
      },
      {
       "output_type": "stream",
       "stream": "stdout",
       "text": [
        " 451 , lhood =  -0.391071013948 , pred =  0 , acc =  0.821041666667 , param =  [-3.66899597  2.46294441 -0.09853526]\n",
        "iter = "
       ]
      },
      {
       "output_type": "stream",
       "stream": "stdout",
       "text": [
        " 452 , lhood =  -0.391067526298 , pred =  0 , acc =  0.821041666667 , param =  [-3.67059563  2.46383378 -0.09815376]\n",
        "iter = "
       ]
      },
      {
       "output_type": "stream",
       "stream": "stdout",
       "text": [
        " 453 , lhood =  -0.391064069652 , pred =  0 , acc =  0.821041666667 , param =  [-3.67218808  2.46471946 -0.09777425]\n",
        "iter = "
       ]
      },
      {
       "output_type": "stream",
       "stream": "stdout",
       "text": [
        " 454 , lhood =  -0.391060643716 , pred =  0 , acc =  0.821041666667 , param =  [-3.67377335  2.46560149 -0.09739673]\n",
        "iter = "
       ]
      },
      {
       "output_type": "stream",
       "stream": "stdout",
       "text": [
        " 455 , lhood =  -0.391057248198 , pred =  0 , acc =  0.821041666667 , param =  [-3.67535148  2.46647987 -0.09702118]\n",
        "iter = "
       ]
      },
      {
       "output_type": "stream",
       "stream": "stdout",
       "text": [
        " 456 , lhood =  -0.391053882808 , pred =  0 , acc =  0.821041666667 , param =  [-3.67692251  2.46735461 -0.09664759]\n",
        "iter = "
       ]
      },
      {
       "output_type": "stream",
       "stream": "stdout",
       "text": [
        " 457 , lhood =  -0.391050547262 , pred =  0 , acc =  0.821041666667 , param =  [-3.67848647  2.46822575 -0.09627595]\n",
        "iter = "
       ]
      },
      {
       "output_type": "stream",
       "stream": "stdout",
       "text": [
        " 458 , lhood =  -0.391047241275 , pred =  0 , acc =  0.821041666667 , param =  [-3.6800434   2.46909329 -0.09590624]\n",
        "iter = "
       ]
      },
      {
       "output_type": "stream",
       "stream": "stdout",
       "text": [
        " 459 , lhood =  -0.39104396457 , pred =  0 , acc =  0.821041666667 , param =  [-3.68159334  2.46995724 -0.09553846]\n",
        "iter = "
       ]
      },
      {
       "output_type": "stream",
       "stream": "stdout",
       "text": [
        " 460 , lhood =  -0.391040716868 , pred =  0 , acc =  0.821041666667 , param =  [-3.68313632  2.47081763 -0.09517259]\n",
        "iter = "
       ]
      },
      {
       "output_type": "stream",
       "stream": "stdout",
       "text": [
        " 461 , lhood =  -0.391037497895 , pred =  0 , acc =  0.821041666667 , param =  [-3.68467238  2.47167447 -0.09480862]\n",
        "iter = "
       ]
      },
      {
       "output_type": "stream",
       "stream": "stdout",
       "text": [
        " 462 , lhood =  -0.391034307381 , pred =  0 , acc =  0.821041666667 , param =  [-3.68620155  2.47252778 -0.09444653]\n",
        "iter = "
       ]
      },
      {
       "output_type": "stream",
       "stream": "stdout",
       "text": [
        " 463 , lhood =  -0.391031145055 , pred =  0 , acc =  0.821041666667 , param =  [-3.68772387  2.47337756 -0.09408633]\n",
        "iter = "
       ]
      },
      {
       "output_type": "stream",
       "stream": "stdout",
       "text": [
        " 464 , lhood =  -0.391028010654 , pred =  0 , acc =  0.821041666667 , param =  [-3.68923937  2.47422384 -0.09372798]\n",
        "iter = "
       ]
      },
      {
       "output_type": "stream",
       "stream": "stdout",
       "text": [
        " 465 , lhood =  -0.391024903914 , pred =  0 , acc =  0.821041666667 , param =  [-3.69074809  2.47506664 -0.09337149]\n",
        "iter = "
       ]
      },
      {
       "output_type": "stream",
       "stream": "stdout",
       "text": [
        " 466 , lhood =  -0.391021824574 , pred =  0 , acc =  0.821041666667 , param =  [-3.69225006  2.47590596 -0.09301684]\n",
        "iter = "
       ]
      },
      {
       "output_type": "stream",
       "stream": "stdout",
       "text": [
        " 467 , lhood =  -0.391018772376 , pred =  0 , acc =  0.821041666667 , param =  [-3.69374532  2.47674182 -0.09266402]\n",
        "iter = "
       ]
      },
      {
       "output_type": "stream",
       "stream": "stdout",
       "text": [
        " 468 , lhood =  -0.391015747067 , pred =  0 , acc =  0.821041666667 , param =  [-3.6952339   2.47757424 -0.09231302]\n",
        "iter = "
       ]
      },
      {
       "output_type": "stream",
       "stream": "stdout",
       "text": [
        " 469 , lhood =  -0.391012748392 , pred =  0 , acc =  0.821041666667 , param =  [-3.69671584  2.47840323 -0.09196382]\n",
        "iter = "
       ]
      },
      {
       "output_type": "stream",
       "stream": "stdout",
       "text": [
        " 470 , lhood =  -0.391009776103 , pred =  0 , acc =  0.821041666667 , param =  [-3.69819116  2.47922882 -0.09161642]\n",
        "iter = "
       ]
      },
      {
       "output_type": "stream",
       "stream": "stdout",
       "text": [
        " 471 , lhood =  -0.391006829951 , pred =  0 , acc =  0.821041666667 , param =  [-3.69965991  2.480051   -0.0912708 ]\n",
        "iter = "
       ]
      },
      {
       "output_type": "stream",
       "stream": "stdout",
       "text": [
        " 472 , lhood =  -0.391003909693 , pred =  0 , acc =  0.821041666667 , param =  [-3.70112212  2.4808698  -0.09092696]\n",
        "iter = "
       ]
      },
      {
       "output_type": "stream",
       "stream": "stdout",
       "text": [
        " 473 , lhood =  -0.391001015085 , pred =  0 , acc =  0.821041666667 , param =  [-3.70257781  2.48168523 -0.09058488]\n",
        "iter = "
       ]
      },
      {
       "output_type": "stream",
       "stream": "stdout",
       "text": [
        " 474 , lhood =  -0.390998145888 , pred =  0 , acc =  0.821041666667 , param =  [-3.70402702  2.48249731 -0.09024456]\n",
        "iter = "
       ]
      },
      {
       "output_type": "stream",
       "stream": "stdout",
       "text": [
        " 475 , lhood =  -0.390995301864 , pred =  0 , acc =  0.821041666667 , param =  [-3.70546979  2.48330605 -0.08990597]\n",
        "iter = "
       ]
      },
      {
       "output_type": "stream",
       "stream": "stdout",
       "text": [
        " 476 , lhood =  -0.390992482779 , pred =  0 , acc =  0.821041666667 , param =  [-3.70690615  2.48411147 -0.08956911]\n",
        "iter = "
       ]
      },
      {
       "output_type": "stream",
       "stream": "stdout",
       "text": [
        " 477 , lhood =  -0.390989688399 , pred =  0 , acc =  0.821041666667 , param =  [-3.70833613  2.48491358 -0.08923398]\n",
        "iter = "
       ]
      },
      {
       "output_type": "stream",
       "stream": "stdout",
       "text": [
        " 478 , lhood =  -0.390986918495 , pred =  0 , acc =  0.821041666667 , param =  [-3.70975975  2.48571239 -0.08890055]\n",
        "iter = "
       ]
      },
      {
       "output_type": "stream",
       "stream": "stdout",
       "text": [
        " 479 , lhood =  -0.390984172837 , pred =  0 , acc =  0.821041666667 , param =  [-3.71117707  2.48650792 -0.08856882]\n",
        "iter = "
       ]
      },
      {
       "output_type": "stream",
       "stream": "stdout",
       "text": [
        " 480 , lhood =  -0.390981451202 , pred =  0 , acc =  0.821041666667 , param =  [-3.7125881   2.48730019 -0.08823878]\n",
        "iter = "
       ]
      },
      {
       "output_type": "stream",
       "stream": "stdout",
       "text": [
        " 481 , lhood =  -0.390978753364 , pred =  0 , acc =  0.821041666667 , param =  [-3.71399287  2.4880892  -0.08791042]\n",
        "iter = "
       ]
      },
      {
       "output_type": "stream",
       "stream": "stdout",
       "text": [
        " 482 , lhood =  -0.390976079104 , pred =  0 , acc =  0.821041666667 , param =  [-3.71539142  2.48887498 -0.08758372]\n",
        "iter = "
       ]
      },
      {
       "output_type": "stream",
       "stream": "stdout",
       "text": [
        " 483 , lhood =  -0.390973428201 , pred =  0 , acc =  0.821041666667 , param =  [-3.71678379  2.48965753 -0.08725868]\n",
        "iter = "
       ]
      },
      {
       "output_type": "stream",
       "stream": "stdout",
       "text": [
        " 484 , lhood =  -0.39097080044 , pred =  0 , acc =  0.821041666667 , param =  [-3.71816999  2.49043688 -0.08693529]\n",
        "iter = "
       ]
      },
      {
       "output_type": "stream",
       "stream": "stdout",
       "text": [
        " 485 , lhood =  -0.390968195605 , pred =  0 , acc =  0.821041666667 , param =  [-3.71955007  2.49121302 -0.08661354]\n",
        "iter = "
       ]
      },
      {
       "output_type": "stream",
       "stream": "stdout",
       "text": [
        " 486 , lhood =  -0.390965613485 , pred =  0 , acc =  0.821041666667 , param =  [-3.72092405  2.49198599 -0.08629342]\n",
        "iter = "
       ]
      },
      {
       "output_type": "stream",
       "stream": "stdout",
       "text": [
        " 487 , lhood =  -0.390963053868 , pred =  0 , acc =  0.821041666667 , param =  [-3.72229196  2.49275579 -0.08597491]\n",
        "iter = "
       ]
      },
      {
       "output_type": "stream",
       "stream": "stdout",
       "text": [
        " 488 , lhood =  -0.390960516548 , pred =  0 , acc =  0.821041666667 , param =  [-3.72365383  2.49352243 -0.08565801]\n",
        "iter = "
       ]
      },
      {
       "output_type": "stream",
       "stream": "stdout",
       "text": [
        " 489 , lhood =  -0.390958001316 , pred =  0 , acc =  0.821041666667 , param =  [-3.7250097   2.49428593 -0.08534271]\n",
        "iter = "
       ]
      },
      {
       "output_type": "stream",
       "stream": "stdout",
       "text": [
        " 490 , lhood =  -0.390955507971 , pred =  0 , acc =  0.821041666667 , param =  [-3.72635959  2.49504631 -0.085029  ]\n",
        "iter = "
       ]
      },
      {
       "output_type": "stream",
       "stream": "stdout",
       "text": [
        " 491 , lhood =  -0.390953036309 , pred =  0 , acc =  0.821041666667 , param =  [-3.72770353  2.49580358 -0.08471687]\n",
        "iter = "
       ]
      },
      {
       "output_type": "stream",
       "stream": "stdout",
       "text": [
        " 492 , lhood =  -0.39095058613 , pred =  0 , acc =  0.821041666667 , param =  [-3.72904156  2.49655774 -0.08440631]\n",
        "iter = "
       ]
      },
      {
       "output_type": "stream",
       "stream": "stdout",
       "text": [
        " 493 , lhood =  -0.390948157237 , pred =  0 , acc =  0.821041666667 , param =  [-3.73037369  2.49730882 -0.08409731]\n",
        "iter = "
       ]
      },
      {
       "output_type": "stream",
       "stream": "stdout",
       "text": [
        " 494 , lhood =  -0.390945749433 , pred =  0 , acc =  0.821041666667 , param =  [-3.73169997  2.49805682 -0.08378985]\n",
        "iter = "
       ]
      },
      {
       "output_type": "stream",
       "stream": "stdout",
       "text": [
        " 495 , lhood =  -0.390943362525 , pred =  0 , acc =  0.821041666667 , param =  [-3.73302042  2.49880177 -0.08348395]\n",
        "iter = "
       ]
      },
      {
       "output_type": "stream",
       "stream": "stdout",
       "text": [
        " 496 , lhood =  -0.39094099632 , pred =  0 , acc =  0.821041666667 , param =  [-3.73433507  2.49954367 -0.08317957]\n",
        "iter = "
       ]
      },
      {
       "output_type": "stream",
       "stream": "stdout",
       "text": [
        " 497 , lhood =  -0.390938650627 , pred =  0 , acc =  0.821041666667 , param =  [-3.73564394  2.50028253 -0.08287671]\n",
        "iter = "
       ]
      },
      {
       "output_type": "stream",
       "stream": "stdout",
       "text": [
        " 498 , lhood =  -0.390936325259 , pred =  0 , acc =  0.821041666667 , param =  [-3.73694707  2.50101838 -0.08257537]\n",
        "iter = "
       ]
      },
      {
       "output_type": "stream",
       "stream": "stdout",
       "text": [
        " 499 , lhood =  -0.39093402003 , pred =  0 , acc =  0.821041666667 , param =  [-3.73824449  2.50175122 -0.08227554]\n",
        "iter = "
       ]
      },
      {
       "output_type": "stream",
       "stream": "stdout",
       "text": [
        " 500 , lhood =  -0.390931734753 , pred =  0 , acc =  0.821041666667 , param =  [-3.73953622  2.50248106 -0.0819772 ]\n",
        "iter = "
       ]
      },
      {
       "output_type": "stream",
       "stream": "stdout",
       "text": [
        " 501 , lhood =  -0.390929469247 , pred =  0 , acc =  0.821041666667 , param =  [-3.74082229  2.50320793 -0.08168035]\n",
        "iter = "
       ]
      },
      {
       "output_type": "stream",
       "stream": "stdout",
       "text": [
        " 502 , lhood =  -0.39092722333 , pred =  0 , acc =  0.821041666667 , param =  [-3.74210272  2.50393183 -0.08138498]\n",
        "iter = "
       ]
      },
      {
       "output_type": "stream",
       "stream": "stdout",
       "text": [
        " 503 , lhood =  -0.390924996823 , pred =  0 , acc =  0.821041666667 , param =  [-3.74337756  2.50465277 -0.08109107]\n",
        "iter = "
       ]
      },
      {
       "output_type": "stream",
       "stream": "stdout",
       "text": [
        " 504 , lhood =  -0.390922789549 , pred =  0 , acc =  0.821041666667 , param =  [-3.74464681  2.50537077 -0.08079863]\n",
        "iter = "
       ]
      },
      {
       "output_type": "stream",
       "stream": "stdout",
       "text": [
        " 505 , lhood =  -0.390920601332 , pred =  0 , acc =  0.821041666667 , param =  [-3.74591052  2.50608583 -0.08050764]\n",
        "iter = "
       ]
      },
      {
       "output_type": "stream",
       "stream": "stdout",
       "text": [
        " 506 , lhood =  -0.390918431998 , pred =  0 , acc =  0.821041666667 , param =  [-3.74716871  2.50679799 -0.0802181 ]\n",
        "iter = "
       ]
      },
      {
       "output_type": "stream",
       "stream": "stdout",
       "text": [
        " 507 , lhood =  -0.390916281374 , pred =  0 , acc =  0.821041666667 , param =  [-3.7484214   2.50750723 -0.07992998]\n",
        "iter = "
       ]
      },
      {
       "output_type": "stream",
       "stream": "stdout",
       "text": [
        " 508 , lhood =  -0.39091414929 , pred =  0 , acc =  0.821041666667 , param =  [-3.74966863  2.50821359 -0.0796433 ]\n",
        "iter = "
       ]
      },
      {
       "output_type": "stream",
       "stream": "stdout",
       "text": [
        " 509 , lhood =  -0.390912035577 , pred =  0 , acc =  0.821041666667 , param =  [-3.75091041  2.50891707 -0.07935803]\n",
        "iter = "
       ]
      },
      {
       "output_type": "stream",
       "stream": "stdout",
       "text": [
        " 510 , lhood =  -0.390909940068 , pred =  0 , acc =  0.821041666667 , param =  [-3.75214679  2.50961767 -0.07907418]\n",
        "iter = "
       ]
      },
      {
       "output_type": "stream",
       "stream": "stdout",
       "text": [
        " 511 , lhood =  -0.390907862597 , pred =  0 , acc =  0.821041666667 , param =  [-3.75337777  2.51031543 -0.07879173]\n",
        "iter = "
       ]
      },
      {
       "output_type": "stream",
       "stream": "stdout",
       "text": [
        " 512 , lhood =  -0.390905803 , pred =  0 , acc =  0.821041666667 , param =  [-3.75460339  2.51101034 -0.07851067]\n",
        "iter = "
       ]
      },
      {
       "output_type": "stream",
       "stream": "stdout",
       "text": [
        " 513 , lhood =  -0.390903761114 , pred =  0 , acc =  0.821041666667 , param =  [-3.75582368  2.51170242 -0.07823099]\n",
        "iter = "
       ]
      },
      {
       "output_type": "stream",
       "stream": "stdout",
       "text": [
        " 514 , lhood =  -0.39090173678 , pred =  0 , acc =  0.821041666667 , param =  [-3.75703865  2.51239169 -0.07795269]\n",
        "iter = "
       ]
      },
      {
       "output_type": "stream",
       "stream": "stdout",
       "text": [
        " 515 , lhood =  -0.390899729836 , pred =  0 , acc =  0.821041666667 , param =  [-3.75824835  2.51307814 -0.07767577]\n",
        "iter = "
       ]
      },
      {
       "output_type": "stream",
       "stream": "stdout",
       "text": [
        " 516 , lhood =  -0.390897740127 , pred =  0 , acc =  0.821041666667 , param =  [-3.75945278  2.51376181 -0.0774002 ]\n",
        "iter = "
       ]
      },
      {
       "output_type": "stream",
       "stream": "stdout",
       "text": [
        " 517 , lhood =  -0.390895767495 , pred =  0 , acc =  0.821041666667 , param =  [-3.76065199  2.51444269 -0.07712599]\n",
        "iter = "
       ]
      },
      {
       "output_type": "stream",
       "stream": "stdout",
       "text": [
        " 518 , lhood =  -0.390893811785 , pred =  0 , acc =  0.821041666667 , param =  [-3.76184598  2.5151208  -0.07685312]\n",
        "iter = "
       ]
      },
      {
       "output_type": "stream",
       "stream": "stdout",
       "text": [
        " 519 , lhood =  -0.390891872846 , pred =  0 , acc =  0.821041666667 , param =  [-3.7630348   2.51579615 -0.07658159]\n",
        "iter = "
       ]
      },
      {
       "output_type": "stream",
       "stream": "stdout",
       "text": [
        " 520 , lhood =  -0.390889950524 , pred =  0 , acc =  0.821041666667 , param =  [-3.76421846  2.51646876 -0.07631139]\n",
        "iter = "
       ]
      },
      {
       "output_type": "stream",
       "stream": "stdout",
       "text": [
        " 521 , lhood =  -0.390888044671 , pred =  0 , acc =  0.821041666667 , param =  [-3.76539699  2.51713863 -0.07604251]\n",
        "iter = "
       ]
      },
      {
       "output_type": "stream",
       "stream": "stdout",
       "text": [
        " 522 , lhood =  -0.390886155136 , pred =  0 , acc =  0.821041666667 , param =  [-3.76657041  2.51780578 -0.07577495]\n",
        "iter = "
       ]
      },
      {
       "output_type": "stream",
       "stream": "stdout",
       "text": [
        " 523 , lhood =  -0.390884281773 , pred =  0 , acc =  0.821041666667 , param =  [-3.76773875  2.51847022 -0.07550869]\n",
        "iter = "
       ]
      },
      {
       "output_type": "stream",
       "stream": "stdout",
       "text": [
        " 524 , lhood =  -0.390882424437 , pred =  0 , acc =  0.821041666667 , param =  [-3.76890203  2.51913196 -0.07524374]\n",
        "iter = "
       ]
      },
      {
       "output_type": "stream",
       "stream": "stdout",
       "text": [
        " 525 , lhood =  -0.390880582981 , pred =  0 , acc =  0.821041666667 , param =  [-3.77006028  2.51979101 -0.07498007]\n",
        "iter = "
       ]
      },
      {
       "output_type": "stream",
       "stream": "stdout",
       "text": [
        " 526 , lhood =  -0.390878757264 , pred =  0 , acc =  0.821041666667 , param =  [-3.77121352  2.52044739 -0.07471769]\n",
        "iter = "
       ]
      },
      {
       "output_type": "stream",
       "stream": "stdout",
       "text": [
        " 527 , lhood =  -0.390876947143 , pred =  0 , acc =  0.821041666667 , param =  [-3.77236177  2.5211011  -0.07445659]\n",
        "iter = "
       ]
      },
      {
       "output_type": "stream",
       "stream": "stdout",
       "text": [
        " 528 , lhood =  -0.390875152479 , pred =  0 , acc =  0.821041666667 , param =  [-3.77350507  2.52175215 -0.07419676]\n",
        "iter = "
       ]
      },
      {
       "output_type": "stream",
       "stream": "stdout",
       "text": [
        " 529 , lhood =  -0.390873373132 , pred =  0 , acc =  0.821041666667 , param =  [-3.77464342  2.52240057 -0.07393819]\n",
        "iter = "
       ]
      },
      {
       "output_type": "stream",
       "stream": "stdout",
       "text": [
        " 530 , lhood =  -0.390871608965 , pred =  0 , acc =  0.821041666667 , param =  [-3.77577687  2.52304635 -0.07368087]\n",
        "iter = "
       ]
      },
      {
       "output_type": "stream",
       "stream": "stdout",
       "text": [
        " 531 , lhood =  -0.390869859841 , pred =  0 , acc =  0.821041666667 , param =  [-3.77690542  2.52368952 -0.07342481]\n",
        "iter = "
       ]
      },
      {
       "output_type": "stream",
       "stream": "stdout",
       "text": [
        " 532 , lhood =  -0.390868125625 , pred =  0 , acc =  0.821041666667 , param =  [-3.77802911  2.52433007 -0.07316998]\n",
        "iter = "
       ]
      },
      {
       "output_type": "stream",
       "stream": "stdout",
       "text": [
        " 533 , lhood =  -0.390866406184 , pred =  0 , acc =  0.821041666667 , param =  [-3.77914796  2.52496803 -0.07291639]\n",
        "iter = "
       ]
      },
      {
       "output_type": "stream",
       "stream": "stdout",
       "text": [
        " 534 , lhood =  -0.390864701385 , pred =  0 , acc =  0.821041666667 , param =  [-3.78026199  2.5256034  -0.07266402]\n",
        "iter = "
       ]
      },
      {
       "output_type": "stream",
       "stream": "stdout",
       "text": [
        " 535 , lhood =  -0.390863011097 , pred =  0 , acc =  0.821041666667 , param =  [-3.78137122  2.5262362  -0.07241288]\n",
        "iter = "
       ]
      },
      {
       "output_type": "stream",
       "stream": "stdout",
       "text": [
        " 536 , lhood =  -0.390861335191 , pred =  0 , acc =  0.821041666667 , param =  [-3.78247568  2.52686643 -0.07216295]\n",
        "iter = "
       ]
      },
      {
       "output_type": "stream",
       "stream": "stdout",
       "text": [
        " 537 , lhood =  -0.390859673537 , pred =  0 , acc =  0.821041666667 , param =  [-3.78357538  2.52749411 -0.07191422]\n",
        "iter = "
       ]
      },
      {
       "output_type": "stream",
       "stream": "stdout",
       "text": [
        " 538 , lhood =  -0.390858026007 , pred =  0 , acc =  0.821041666667 , param =  [-3.78467036  2.52811925 -0.07166669]\n",
        "iter = "
       ]
      },
      {
       "output_type": "stream",
       "stream": "stdout",
       "text": [
        " 539 , lhood =  -0.390856392477 , pred =  0 , acc =  0.821041666667 , param =  [-3.78576064  2.52874185 -0.07142036]\n",
        "iter = "
       ]
      },
      {
       "output_type": "stream",
       "stream": "stdout",
       "text": [
        " 540 , lhood =  -0.390854772821 , pred =  0 , acc =  0.821041666667 , param =  [-3.78684623  2.52936194 -0.07117521]\n",
        "iter = "
       ]
      },
      {
       "output_type": "stream",
       "stream": "stdout",
       "text": [
        " 541 , lhood =  -0.390853166914 , pred =  0 , acc =  0.821041666667 , param =  [-3.78792716  2.52997951 -0.07093124]\n",
        "iter = "
       ]
      },
      {
       "output_type": "stream",
       "stream": "stdout",
       "text": [
        " 542 , lhood =  -0.390851574635 , pred =  0 , acc =  0.821041666667 , param =  [-3.78900345  2.53059459 -0.07068844]\n",
        "iter = "
       ]
      },
      {
       "output_type": "stream",
       "stream": "stdout",
       "text": [
        " 543 , lhood =  -0.390849995862 , pred =  0 , acc =  0.821041666667 , param =  [-3.79007512  2.53120718 -0.07044681]\n",
        "iter = "
       ]
      },
      {
       "output_type": "stream",
       "stream": "stdout",
       "text": [
        " 544 , lhood =  -0.390848430475 , pred =  0 , acc =  0.821041666667 , param =  [-3.7911422   2.53181728 -0.07020634]\n",
        "iter = "
       ]
      },
      {
       "output_type": "stream",
       "stream": "stdout",
       "text": [
        " 545 , lhood =  -0.390846878354 , pred =  0 , acc =  0.821041666667 , param =  [-3.79220471  2.53242492 -0.06996702]\n",
        "iter = "
       ]
      },
      {
       "output_type": "stream",
       "stream": "stdout",
       "text": [
        " 546 , lhood =  -0.390845339381 , pred =  0 , acc =  0.821041666667 , param =  [-3.79326266  2.53303011 -0.06972885]\n",
        "iter = "
       ]
      },
      {
       "output_type": "stream",
       "stream": "stdout",
       "text": [
        " 547 , lhood =  -0.39084381344 , pred =  0 , acc =  0.821041666667 , param =  [-3.79431609  2.53363285 -0.06949181]\n",
        "iter = "
       ]
      },
      {
       "output_type": "stream",
       "stream": "stdout",
       "text": [
        " 548 , lhood =  -0.390842300414 , pred =  0 , acc =  0.821041666667 , param =  [-3.79536501  2.53423315 -0.06925591]\n",
        "iter = "
       ]
      },
      {
       "output_type": "stream",
       "stream": "stdout",
       "text": [
        " 549 , lhood =  -0.39084080019 , pred =  0 , acc =  0.821041666667 , param =  [-3.79640944  2.53483102 -0.06902114]\n",
        "iter = "
       ]
      },
      {
       "output_type": "stream",
       "stream": "stdout",
       "text": [
        " 550 , lhood =  -0.390839312653 , pred =  0 , acc =  0.821041666667 , param =  [-3.79744941  2.53542648 -0.06878749]\n",
        "iter = "
       ]
      },
      {
       "output_type": "stream",
       "stream": "stdout",
       "text": [
        " 551 , lhood =  -0.39083783769 , pred =  0 , acc =  0.821041666667 , param =  [-3.79848493  2.53601953 -0.06855495]\n",
        "iter = "
       ]
      },
      {
       "output_type": "stream",
       "stream": "stdout",
       "text": [
        " 552 , lhood =  -0.390836375191 , pred =  0 , acc =  0.821041666667 , param =  [-3.79951603  2.53661019 -0.06832352]\n",
        "iter = "
       ]
      },
      {
       "output_type": "stream",
       "stream": "stdout",
       "text": [
        " 553 , lhood =  -0.390834925045 , pred =  0 , acc =  0.821041666667 , param =  [-3.80054272  2.53719847 -0.06809319]\n",
        "iter = "
       ]
      },
      {
       "output_type": "stream",
       "stream": "stdout",
       "text": [
        " 554 , lhood =  -0.390833487142 , pred =  0 , acc =  0.821041666667 , param =  [-3.80156504  2.53778437 -0.06786396]\n",
        "iter = "
       ]
      },
      {
       "output_type": "stream",
       "stream": "stdout",
       "text": [
        " 555 , lhood =  -0.390832061375 , pred =  0 , acc =  0.821041666667 , param =  [-3.80258299  2.5383679  -0.06763581]\n",
        "iter = "
       ]
      },
      {
       "output_type": "stream",
       "stream": "stdout",
       "text": [
        " 556 , lhood =  -0.390830647635 , pred =  0 , acc =  0.821041666667 , param =  [-3.8035966   2.53894908 -0.06740876]\n",
        "iter = "
       ]
      },
      {
       "output_type": "stream",
       "stream": "stdout",
       "text": [
        " 557 , lhood =  -0.390829245816 , pred =  0 , acc =  0.821041666667 , param =  [-3.80460589  2.53952791 -0.06718278]\n",
        "iter = "
       ]
      },
      {
       "output_type": "stream",
       "stream": "stdout",
       "text": [
        " 558 , lhood =  -0.390827855814 , pred =  0 , acc =  0.821041666667 , param =  [-3.80561088  2.54010441 -0.06695787]\n",
        "iter = "
       ]
      },
      {
       "output_type": "stream",
       "stream": "stdout",
       "text": [
        " 559 , lhood =  -0.390826477524 , pred =  0 , acc =  0.821041666667 , param =  [-3.80661159  2.54067859 -0.06673402]\n",
        "iter = "
       ]
      },
      {
       "output_type": "stream",
       "stream": "stdout",
       "text": [
        " 560 , lhood =  -0.390825110842 , pred =  0 , acc =  0.821041666667 , param =  [-3.80760805  2.54125044 -0.06651124]\n",
        "iter = "
       ]
      },
      {
       "output_type": "stream",
       "stream": "stdout",
       "text": [
        " 561 , lhood =  -0.390823755666 , pred =  0 , acc =  0.821041666667 , param =  [-3.80860026  2.54182    -0.06628951]\n",
        "iter = "
       ]
      },
      {
       "output_type": "stream",
       "stream": "stdout",
       "text": [
        " 562 , lhood =  -0.390822411895 , pred =  0 , acc =  0.821041666667 , param =  [-3.80958825  2.54238726 -0.06606883]\n",
        "iter = "
       ]
      },
      {
       "output_type": "stream",
       "stream": "stdout",
       "text": [
        " 563 , lhood =  -0.390821079428 , pred =  0 , acc =  0.821041666667 , param =  [-3.81057204  2.54295223 -0.06584919]\n",
        "iter = "
       ]
      },
      {
       "output_type": "stream",
       "stream": "stdout",
       "text": [
        " 564 , lhood =  -0.390819758165 , pred =  0 , acc =  0.821041666667 , param =  [-3.81155165  2.54351492 -0.06563059]\n",
        "iter = "
       ]
      },
      {
       "output_type": "stream",
       "stream": "stdout",
       "text": [
        " 565 , lhood =  -0.390818448009 , pred =  0 , acc =  0.821041666667 , param =  [-3.8125271   2.54407535 -0.06541302]\n",
        "iter = "
       ]
      },
      {
       "output_type": "stream",
       "stream": "stdout",
       "text": [
        " 566 , lhood =  -0.390817148861 , pred =  0 , acc =  0.821041666667 , param =  [-3.81349841  2.54463352 -0.06519647]\n",
        "iter = "
       ]
      },
      {
       "output_type": "stream",
       "stream": "stdout",
       "text": [
        " 567 , lhood =  -0.390815860625 , pred =  0 , acc =  0.821041666667 , param =  [-3.8144656   2.54518945 -0.06498095]\n",
        "iter = "
       ]
      },
      {
       "output_type": "stream",
       "stream": "stdout",
       "text": [
        " 568 , lhood =  -0.390814583204 , pred =  0 , acc =  0.821041666667 , param =  [-3.81542868  2.54574313 -0.06476644]\n",
        "iter = "
       ]
      },
      {
       "output_type": "stream",
       "stream": "stdout",
       "text": [
        " 569 , lhood =  -0.390813316505 , pred =  0 , acc =  0.821041666667 , param =  [-3.81638768  2.54629459 -0.06455294]\n",
        "iter = "
       ]
      },
      {
       "output_type": "stream",
       "stream": "stdout",
       "text": [
        " 570 , lhood =  -0.390812060431 , pred =  0 , acc =  0.821041666667 , param =  [-3.81734262  2.54684383 -0.06434044]\n",
        "iter = "
       ]
      },
      {
       "output_type": "stream",
       "stream": "stdout",
       "text": [
        " 571 , lhood =  -0.390810814892 , pred =  0 , acc =  0.821041666667 , param =  [-3.81829351  2.54739085 -0.06412894]\n",
        "iter = "
       ]
      },
      {
       "output_type": "stream",
       "stream": "stdout",
       "text": [
        " 572 , lhood =  -0.390809579793 , pred =  0 , acc =  0.821041666667 , param =  [-3.81924037  2.54793568 -0.06391843]\n",
        "iter = "
       ]
      },
      {
       "output_type": "stream",
       "stream": "stdout",
       "text": [
        " 573 , lhood =  -0.390808355045 , pred =  0 , acc =  0.821041666667 , param =  [-3.82018322  2.54847832 -0.06370891]\n",
        "iter = "
       ]
      },
      {
       "output_type": "stream",
       "stream": "stdout",
       "text": [
        " 574 , lhood =  -0.390807140555 , pred =  0 , acc =  0.821041666667 , param =  [-3.82112208  2.54901877 -0.06350036]\n",
        "iter = "
       ]
      },
      {
       "output_type": "stream",
       "stream": "stdout",
       "text": [
        " 575 , lhood =  -0.390805936235 , pred =  0 , acc =  0.821041666667 , param =  [-3.82205697  2.54955705 -0.0632928 ]\n",
        "iter = "
       ]
      },
      {
       "output_type": "stream",
       "stream": "stdout",
       "text": [
        " 576 , lhood =  -0.390804741994 , pred =  0 , acc =  0.821041666667 , param =  [-3.82298791  2.55009317 -0.06308621]\n",
        "iter = "
       ]
      },
      {
       "output_type": "stream",
       "stream": "stdout",
       "text": [
        " 577 , lhood =  -0.390803557747 , pred =  0 , acc =  0.821041666667 , param =  [-3.82391492  2.55062713 -0.06288058]\n",
        "iter = "
       ]
      },
      {
       "output_type": "stream",
       "stream": "stdout",
       "text": [
        " 578 , lhood =  -0.390802383404 , pred =  0 , acc =  0.821041666667 , param =  [-3.82483801  2.55115894 -0.06267591]\n",
        "iter = "
       ]
      },
      {
       "output_type": "stream",
       "stream": "stdout",
       "text": [
        " 579 , lhood =  -0.390801218879 , pred =  0 , acc =  0.821041666667 , param =  [-3.8257572   2.55168862 -0.0624722 ]\n",
        "iter = "
       ]
      },
      {
       "output_type": "stream",
       "stream": "stdout",
       "text": [
        " 580 , lhood =  -0.390800064087 , pred =  0 , acc =  0.821041666667 , param =  [-3.8266725   2.55221618 -0.06226943]\n",
        "iter = "
       ]
      },
      {
       "output_type": "stream",
       "stream": "stdout",
       "text": [
        " 581 , lhood =  -0.390798918943 , pred =  0 , acc =  0.821041666667 , param =  [-3.82758395  2.55274161 -0.06206762]\n",
        "iter = "
       ]
      },
      {
       "output_type": "stream",
       "stream": "stdout",
       "text": [
        " 582 , lhood =  -0.390797783362 , pred =  0 , acc =  0.821041666667 , param =  [-3.82849155  2.55326493 -0.06186674]\n",
        "iter = "
       ]
      },
      {
       "output_type": "stream",
       "stream": "stdout",
       "text": [
        " 583 , lhood =  -0.390796657262 , pred =  0 , acc =  0.821041666667 , param =  [-3.82939533  2.55378615 -0.0616668 ]\n",
        "iter = "
       ]
      },
      {
       "output_type": "stream",
       "stream": "stdout",
       "text": [
        " 584 , lhood =  -0.390795540559 , pred =  0 , acc =  0.821041666667 , param =  [-3.8302953   2.55430528 -0.06146778]\n",
        "iter = "
       ]
      },
      {
       "output_type": "stream",
       "stream": "stdout",
       "text": [
        " 585 , lhood =  -0.390794433173 , pred =  0 , acc =  0.821041666667 , param =  [-3.83119147  2.55482233 -0.06126969]\n",
        "iter = "
       ]
      },
      {
       "output_type": "stream",
       "stream": "stdout",
       "text": [
        " 586 , lhood =  -0.390793335021 , pred =  0 , acc =  0.821041666667 , param =  [-3.83208387  2.5553373  -0.06107252]\n",
        "iter = "
       ]
      },
      {
       "output_type": "stream",
       "stream": "stdout",
       "text": [
        " 587 , lhood =  -0.390792246024 , pred =  0 , acc =  0.821041666667 , param =  [-3.83297251  2.55585021 -0.06087627]\n",
        "iter = "
       ]
      },
      {
       "output_type": "stream",
       "stream": "stdout",
       "text": [
        " 588 , lhood =  -0.390791166101 , pred =  0 , acc =  0.821041666667 , param =  [-3.83385742  2.55636106 -0.06068092]\n",
        "iter = "
       ]
      },
      {
       "output_type": "stream",
       "stream": "stdout",
       "text": [
        " 589 , lhood =  -0.390790095175 , pred =  0 , acc =  0.821041666667 , param =  [-3.8347386   2.55686986 -0.06048648]\n",
        "iter = "
       ]
      },
      {
       "output_type": "stream",
       "stream": "stdout",
       "text": [
        " 590 , lhood =  -0.390789033167 , pred =  0 , acc =  0.821041666667 , param =  [-3.83561608  2.55737661 -0.06029295]\n",
        "iter = "
       ]
      },
      {
       "output_type": "stream",
       "stream": "stdout",
       "text": [
        " 591 , lhood =  -0.39078798 , pred =  0 , acc =  0.821041666667 , param =  [-3.83648987  2.55788134 -0.0601003 ]\n",
        "iter = "
       ]
      },
      {
       "output_type": "stream",
       "stream": "stdout",
       "text": [
        " 592 , lhood =  -0.390786935596 , pred =  0 , acc =  0.821041666667 , param =  [-3.83735998  2.55838405 -0.05990855]\n",
        "iter = "
       ]
      },
      {
       "output_type": "stream",
       "stream": "stdout",
       "text": [
        " 593 , lhood =  -0.39078589988 , pred =  0 , acc =  0.821041666667 , param =  [-3.83822644  2.55888474 -0.05971768]\n",
        "iter = "
       ]
      },
      {
       "output_type": "stream",
       "stream": "stdout",
       "text": [
        " 594 , lhood =  -0.390784872777 , pred =  0 , acc =  0.821041666667 , param =  [-3.83908927  2.55938342 -0.05952769]\n",
        "iter = "
       ]
      },
      {
       "output_type": "stream",
       "stream": "stdout",
       "text": [
        " 595 , lhood =  -0.390783854212 , pred =  0 , acc =  0.821041666667 , param =  [-3.83994847  2.55988011 -0.05933858]\n",
        "iter = "
       ]
      },
      {
       "output_type": "stream",
       "stream": "stdout",
       "text": [
        " 596 , lhood =  -0.390782844111 , pred =  0 , acc =  0.821041666667 , param =  [-3.84080407  2.56037481 -0.05915035]\n",
        "iter = "
       ]
      },
      {
       "output_type": "stream",
       "stream": "stdout",
       "text": [
        " 597 , lhood =  -0.390781842401 , pred =  0 , acc =  0.821041666667 , param =  [-3.84165608  2.56086752 -0.05896298]\n",
        "iter = "
       ]
      },
      {
       "output_type": "stream",
       "stream": "stdout",
       "text": [
        " 598 , lhood =  -0.39078084901 , pred =  0 , acc =  0.821041666667 , param =  [-3.84250452  2.56135826 -0.05877647]\n",
        "iter = "
       ]
      },
      {
       "output_type": "stream",
       "stream": "stdout",
       "text": [
        " 599 , lhood =  -0.390779863864 , pred =  0 , acc =  0.821041666667 , param =  [-3.8433494   2.56184704 -0.05859082]\n",
        "iter = "
       ]
      },
      {
       "output_type": "stream",
       "stream": "stdout",
       "text": [
        " 600 , lhood =  -0.390778886894 , pred =  0 , acc =  0.821041666667 , param =  [-3.84419075  2.56233387 -0.05840602]\n",
        "iter = "
       ]
      },
      {
       "output_type": "stream",
       "stream": "stdout",
       "text": [
        " 601 , lhood =  -0.390777918029 , pred =  0 , acc =  0.821041666667 , param =  [-3.84502857  2.56281874 -0.05822207]\n",
        "iter = "
       ]
      },
      {
       "output_type": "stream",
       "stream": "stdout",
       "text": [
        " 602 , lhood =  -0.390776957197 , pred =  0 , acc =  0.821041666667 , param =  [-3.84586288  2.56330167 -0.05803897]\n",
        "iter = "
       ]
      },
      {
       "output_type": "stream",
       "stream": "stdout",
       "text": [
        " 603 , lhood =  -0.390776004332 , pred =  0 , acc =  0.821041666667 , param =  [-3.8466937   2.56378267 -0.0578567 ]\n",
        "iter = "
       ]
      },
      {
       "output_type": "stream",
       "stream": "stdout",
       "text": [
        " 604 , lhood =  -0.390775059362 , pred =  0 , acc =  0.821041666667 , param =  [-3.84752105  2.56426175 -0.05767528]\n",
        "iter = "
       ]
      },
      {
       "output_type": "stream",
       "stream": "stdout",
       "text": [
        " 605 , lhood =  -0.390774122222 , pred =  0 , acc =  0.821041666667 , param =  [-3.84834494  2.56473891 -0.05749468]\n",
        "iter = "
       ]
      },
      {
       "output_type": "stream",
       "stream": "stdout",
       "text": [
        " 606 , lhood =  -0.390773192842 , pred =  0 , acc =  0.821041666667 , param =  [-3.84916538  2.56521417 -0.05731491]\n",
        "iter = "
       ]
      },
      {
       "output_type": "stream",
       "stream": "stdout",
       "text": [
        " 607 , lhood =  -0.390772271157 , pred =  0 , acc =  0.821041666667 , param =  [-3.8499824   2.56568752 -0.05713596]\n",
        "iter = "
       ]
      },
      {
       "output_type": "stream",
       "stream": "stdout",
       "text": [
        " 608 , lhood =  -0.3907713571 , pred =  0 , acc =  0.821041666667 , param =  [-3.850796    2.56615898 -0.05695783]\n",
        "iter = "
       ]
      },
      {
       "output_type": "stream",
       "stream": "stdout",
       "text": [
        " 609 , lhood =  -0.390770450604 , pred =  0 , acc =  0.821041666667 , param =  [-3.85160621  2.56662856 -0.05678052]\n",
        "iter = "
       ]
      },
      {
       "output_type": "stream",
       "stream": "stdout",
       "text": [
        " 610 , lhood =  -0.390769551607 , pred =  0 , acc =  0.821041666667 , param =  [-3.85241303  2.56709626 -0.05660401]\n",
        "iter = "
       ]
      },
      {
       "output_type": "stream",
       "stream": "stdout",
       "text": [
        " 611 , lhood =  -0.390768660042 , pred =  0 , acc =  0.821041666667 , param =  [-3.85321649  2.5675621  -0.05642831]\n",
        "iter = "
       ]
      },
      {
       "output_type": "stream",
       "stream": "stdout",
       "text": [
        " 612 , lhood =  -0.390767775846 , pred =  0 , acc =  0.821041666667 , param =  [-3.85401659  2.56802607 -0.05625342]\n",
        "iter = "
       ]
      },
      {
       "output_type": "stream",
       "stream": "stdout",
       "text": [
        " 613 , lhood =  -0.390766898956 , pred =  0 , acc =  0.821041666667 , param =  [-3.85481337  2.56848819 -0.05607931]\n",
        "iter = "
       ]
      },
      {
       "output_type": "stream",
       "stream": "stdout",
       "text": [
        " 614 , lhood =  -0.390766029309 , pred =  0 , acc =  0.821041666667 , param =  [-3.85560681  2.56894846 -0.055906  ]\n",
        "iter = "
       ]
      },
      {
       "output_type": "stream",
       "stream": "stdout",
       "text": [
        " 615 , lhood =  -0.390765166844 , pred =  0 , acc =  0.821041666667 , param =  [-3.85639696  2.5694069  -0.05573348]\n",
        "iter = "
       ]
      },
      {
       "output_type": "stream",
       "stream": "stdout",
       "text": [
        " 616 , lhood =  -0.390764311497 , pred =  0 , acc =  0.821041666667 , param =  [-3.85718381  2.5698635  -0.05556175]\n",
        "iter = "
       ]
      },
      {
       "output_type": "stream",
       "stream": "stdout",
       "text": [
        " 617 , lhood =  -0.390763463209 , pred =  0 , acc =  0.821041666667 , param =  [-3.85796739  2.57031829 -0.05539079]\n",
        "iter = "
       ]
      },
      {
       "output_type": "stream",
       "stream": "stdout",
       "text": [
        " 618 , lhood =  -0.390762621918 , pred =  0 , acc =  0.821041666667 , param =  [-3.8587477   2.57077125 -0.05522061]\n",
        "iter = "
       ]
      },
      {
       "output_type": "stream",
       "stream": "stdout",
       "text": [
        " 619 , lhood =  -0.390761787566 , pred =  0 , acc =  0.821041666667 , param =  [-3.85952477  2.57122242 -0.05505121]\n",
        "iter = "
       ]
      },
      {
       "output_type": "stream",
       "stream": "stdout",
       "text": [
        " 620 , lhood =  -0.390760960092 , pred =  0 , acc =  0.821041666667 , param =  [-3.8602986   2.57167178 -0.05488257]\n",
        "iter = "
       ]
      },
      {
       "output_type": "stream",
       "stream": "stdout",
       "text": [
        " 621 , lhood =  -0.390760139438 , pred =  0 , acc =  0.821041666667 , param =  [-3.86106922  2.57211935 -0.0547147 ]\n",
        "iter = "
       ]
      },
      {
       "output_type": "stream",
       "stream": "stdout",
       "text": [
        " 622 , lhood =  -0.390759325545 , pred =  0 , acc =  0.821041666667 , param =  [-3.86183664  2.57256513 -0.05454759]\n",
        "iter = "
       ]
      },
      {
       "output_type": "stream",
       "stream": "stdout",
       "text": [
        " 623 , lhood =  -0.390758518355 , pred =  0 , acc =  0.821041666667 , param =  [-3.86260086  2.57300914 -0.05438123]\n",
        "iter = "
       ]
      },
      {
       "output_type": "stream",
       "stream": "stdout",
       "text": [
        " 624 , lhood =  -0.390757717812 , pred =  0 , acc =  0.821041666667 , param =  [-3.86336192  2.57345137 -0.05421563]\n",
        "iter = "
       ]
      },
      {
       "output_type": "stream",
       "stream": "stdout",
       "text": [
        " 625 , lhood =  -0.390756923859 , pred =  0 , acc =  0.821041666667 , param =  [-3.86411981  2.57389185 -0.05405077]\n",
        "iter = "
       ]
      },
      {
       "output_type": "stream",
       "stream": "stdout",
       "text": [
        " 626 , lhood =  -0.390756136439 , pred =  0 , acc =  0.821041666667 , param =  [-3.86487455  2.57433057 -0.05388666]\n",
        "iter = "
       ]
      },
      {
       "output_type": "stream",
       "stream": "stdout",
       "text": [
        " 627 , lhood =  -0.390755355496 , pred =  0 , acc =  0.821041666667 , param =  [-3.86562617  2.57476754 -0.05372329]\n",
        "iter = "
       ]
      },
      {
       "output_type": "stream",
       "stream": "stdout",
       "text": [
        " 628 , lhood =  -0.390754580976 , pred =  0 , acc =  0.821041666667 , param =  [-3.86637466  2.57520277 -0.05356066]\n",
        "iter = "
       ]
      },
      {
       "output_type": "stream",
       "stream": "stdout",
       "text": [
        " 629 , lhood =  -0.390753812823 , pred =  0 , acc =  0.821041666667 , param =  [-3.86712005  2.57563626 -0.05339877]\n",
        "iter = "
       ]
      },
      {
       "output_type": "stream",
       "stream": "stdout",
       "text": [
        " 630 , lhood =  -0.390753050983 , pred =  0 , acc =  0.821041666667 , param =  [-3.86786235  2.57606803 -0.0532376 ]\n",
        "iter = "
       ]
      },
      {
       "output_type": "stream",
       "stream": "stdout",
       "text": [
        " 631 , lhood =  -0.390752295403 , pred =  0 , acc =  0.821041666667 , param =  [-3.86860158  2.57649808 -0.05307716]\n",
        "iter = "
       ]
      },
      {
       "output_type": "stream",
       "stream": "stdout",
       "text": [
        " 632 , lhood =  -0.39075154603 , pred =  0 , acc =  0.821041666667 , param =  [-3.86933774  2.57692642 -0.05291744]\n",
        "iter = "
       ]
      },
      {
       "output_type": "stream",
       "stream": "stdout",
       "text": [
        " 633 , lhood =  -0.390750802809 , pred =  0 , acc =  0.821041666667 , param =  [-3.87007086  2.57735305 -0.05275844]\n",
        "iter = "
       ]
      },
      {
       "output_type": "stream",
       "stream": "stdout",
       "text": [
        " 634 , lhood =  -0.39075006569 , pred =  0 , acc =  0.821041666667 , param =  [-3.87080094  2.57777798 -0.05260015]\n",
        "iter = "
       ]
      },
      {
       "output_type": "stream",
       "stream": "stdout",
       "text": [
        " 635 , lhood =  -0.390749334619 , pred =  0 , acc =  0.821041666667 , param =  [-3.87152799  2.57820123 -0.05244258]\n",
        "iter = "
       ]
      },
      {
       "output_type": "stream",
       "stream": "stdout",
       "text": [
        " 636 , lhood =  -0.390748609547 , pred =  0 , acc =  0.821041666667 , param =  [-3.87225204  2.57862278 -0.05228571]\n",
        "iter = "
       ]
      },
      {
       "output_type": "stream",
       "stream": "stdout",
       "text": [
        " 637 , lhood =  -0.390747890421 , pred =  0 , acc =  0.821041666667 , param =  [-3.8729731   2.57904267 -0.05212955]\n",
        "iter = "
       ]
      },
      {
       "output_type": "stream",
       "stream": "stdout",
       "text": [
        " 638 , lhood =  -0.390747177191 , pred =  0 , acc =  0.821041666667 , param =  [-3.87369117  2.57946088 -0.05197409]\n",
        "iter = "
       ]
      },
      {
       "output_type": "stream",
       "stream": "stdout",
       "text": [
        " 639 , lhood =  -0.390746469808 , pred =  0 , acc =  0.821041666667 , param =  [-3.87440627  2.57987742 -0.05181932]\n",
        "iter = "
       ]
      },
      {
       "output_type": "stream",
       "stream": "stdout",
       "text": [
        " 640 , lhood =  -0.390745768222 , pred =  0 , acc =  0.821041666667 , param =  [-3.87511842  2.58029232 -0.05166525]\n",
        "iter = "
       ]
      },
      {
       "output_type": "stream",
       "stream": "stdout",
       "text": [
        " 641 , lhood =  -0.390745072382 , pred =  0 , acc =  0.821041666667 , param =  [-3.87582763  2.58070556 -0.05151187]\n",
        "iter = "
       ]
      },
      {
       "output_type": "stream",
       "stream": "stdout",
       "text": [
        " 642 , lhood =  -0.390744382242 , pred =  0 , acc =  0.821041666667 , param =  [-3.87653391  2.58111716 -0.05135917]\n",
        "iter = "
       ]
      },
      {
       "output_type": "stream",
       "stream": "stdout",
       "text": [
        " 643 , lhood =  -0.390743697752 , pred =  0 , acc =  0.821041666667 , param =  [-3.87723727  2.58152712 -0.05120716]\n",
        "iter = "
       ]
      },
      {
       "output_type": "stream",
       "stream": "stdout",
       "text": [
        " 644 , lhood =  -0.390743018864 , pred =  0 , acc =  0.821041666667 , param =  [-3.87793773  2.58193545 -0.05105582]\n",
        "iter = "
       ]
      },
      {
       "output_type": "stream",
       "stream": "stdout",
       "text": [
        " 645 , lhood =  -0.390742345532 , pred =  0 , acc =  0.821041666667 , param =  [-3.8786353   2.58234216 -0.05090517]\n",
        "iter = "
       ]
      },
      {
       "output_type": "stream",
       "stream": "stdout",
       "text": [
        " 646 , lhood =  -0.390741677707 , pred =  0 , acc =  0.821041666667 , param =  [-3.87933     2.58274726 -0.05075518]\n",
        "iter = "
       ]
      },
      {
       "output_type": "stream",
       "stream": "stdout",
       "text": [
        " 647 , lhood =  -0.390741015344 , pred =  0 , acc =  0.821041666667 , param =  [-3.88002182  2.58315074 -0.05060587]\n",
        "iter = "
       ]
      },
      {
       "output_type": "stream",
       "stream": "stdout",
       "text": [
        " 648 , lhood =  -0.390740358397 , pred =  0 , acc =  0.821041666667 , param =  [-3.8807108   2.58355262 -0.05045722]\n",
        "iter = "
       ]
      },
      {
       "output_type": "stream",
       "stream": "stdout",
       "text": [
        " 649 , lhood =  -0.390739706819 , pred =  0 , acc =  0.821041666667 , param =  [-3.88139694  2.58395291 -0.05030923]\n",
        "iter = "
       ]
      },
      {
       "output_type": "stream",
       "stream": "stdout",
       "text": [
        " 650 , lhood =  -0.390739060565 , pred =  0 , acc =  0.821041666667 , param =  [-3.88208025  2.58435161 -0.0501619 ]\n",
        "iter = "
       ]
      },
      {
       "output_type": "stream",
       "stream": "stdout",
       "text": [
        " 651 , lhood =  -0.39073841959 , pred =  0 , acc =  0.821041666667 , param =  [-3.88276075  2.58474872 -0.05001523]\n",
        "iter = "
       ]
      },
      {
       "output_type": "stream",
       "stream": "stdout",
       "text": [
        " 652 , lhood =  -0.39073778385 , pred =  0 , acc =  0.821041666667 , param =  [-3.88343844  2.58514426 -0.04986921]\n",
        "iter = "
       ]
      },
      {
       "output_type": "stream",
       "stream": "stdout",
       "text": [
        " 653 , lhood =  -0.3907371533 , pred =  0 , acc =  0.821041666667 , param =  [-3.88411335  2.58553823 -0.04972384]\n",
        "iter = "
       ]
      },
      {
       "output_type": "stream",
       "stream": "stdout",
       "text": [
        " 654 , lhood =  -0.390736527897 , pred =  0 , acc =  0.821041666667 , param =  [-3.88478548  2.58593063 -0.04957911]\n",
        "iter = "
       ]
      },
      {
       "output_type": "stream",
       "stream": "stdout",
       "text": [
        " 655 , lhood =  -0.390735907597 , pred =  0 , acc =  0.821041666667 , param =  [-3.88545484  2.58632148 -0.04943503]\n",
        "iter = "
       ]
      },
      {
       "output_type": "stream",
       "stream": "stdout",
       "text": [
        " 656 , lhood =  -0.390735292357 , pred =  0 , acc =  0.821041666667 , param =  [-3.88612146  2.58671077 -0.04929159]\n",
        "iter = "
       ]
      },
      {
       "output_type": "stream",
       "stream": "stdout",
       "text": [
        " 657 , lhood =  -0.390734682135 , pred =  0 , acc =  0.821041666667 , param =  [-3.88678533  2.58709853 -0.04914878]\n",
        "iter = "
       ]
      },
      {
       "output_type": "stream",
       "stream": "stdout",
       "text": [
        " 658 , lhood =  -0.390734076888 , pred =  0 , acc =  0.821041666667 , param =  [-3.88744647  2.58748474 -0.04900661]\n",
        "iter = "
       ]
      },
      {
       "output_type": "stream",
       "stream": "stdout",
       "text": [
        " 659 , lhood =  -0.390733476575 , pred =  0 , acc =  0.821041666667 , param =  [-3.8881049   2.58786942 -0.04886507]\n",
        "iter = "
       ]
      },
      {
       "output_type": "stream",
       "stream": "stdout",
       "text": [
        " 660 , lhood =  -0.390732881153 , pred =  0 , acc =  0.821041666667 , param =  [-3.88876062  2.58825258 -0.04872415]\n",
        "iter = "
       ]
      },
      {
       "output_type": "stream",
       "stream": "stdout",
       "text": [
        " 661 , lhood =  -0.390732290582 , pred =  0 , acc =  0.821041666667 , param =  [-3.88941365  2.58863422 -0.04858386]\n",
        "iter = "
       ]
      },
      {
       "output_type": "stream",
       "stream": "stdout",
       "text": [
        " 662 , lhood =  -0.390731704821 , pred =  0 , acc =  0.821041666667 , param =  [-3.890064    2.58901434 -0.04844419]\n",
        "iter = "
       ]
      },
      {
       "output_type": "stream",
       "stream": "stdout",
       "text": [
        " 663 , lhood =  -0.390731123829 , pred =  0 , acc =  0.821041666667 , param =  [-3.89071168  2.58939296 -0.04830513]\n",
        "iter = "
       ]
      },
      {
       "output_type": "stream",
       "stream": "stdout",
       "text": [
        " 664 , lhood =  -0.390730547567 , pred =  0 , acc =  0.821041666667 , param =  [-3.89135671  2.58977008 -0.04816669]\n",
        "iter = "
       ]
      },
      {
       "output_type": "stream",
       "stream": "stdout",
       "text": [
        " 665 , lhood =  -0.390729975994 , pred =  0 , acc =  0.821041666667 , param =  [-3.89199909  2.59014571 -0.04802886]\n",
        "iter = "
       ]
      },
      {
       "output_type": "stream",
       "stream": "stdout",
       "text": [
        " 666 , lhood =  -0.390729409072 , pred =  0 , acc =  0.821041666667 , param =  [-3.89263883  2.59051984 -0.04789164]\n",
        "iter = "
       ]
      },
      {
       "output_type": "stream",
       "stream": "stdout",
       "text": [
        " 667 , lhood =  -0.390728846761 , pred =  0 , acc =  0.821041666667 , param =  [-3.89327595  2.5908925  -0.04775503]\n",
        "iter = "
       ]
      },
      {
       "output_type": "stream",
       "stream": "stdout",
       "text": [
        " 668 , lhood =  -0.390728289022 , pred =  0 , acc =  0.821041666667 , param =  [-3.89391046  2.59126367 -0.04761902]\n",
        "iter = "
       ]
      },
      {
       "output_type": "stream",
       "stream": "stdout",
       "text": [
        " 669 , lhood =  -0.390727735817 , pred =  0 , acc =  0.821041666667 , param =  [-3.89454238  2.59163338 -0.0474836 ]\n",
        "iter = "
       ]
      },
      {
       "output_type": "stream",
       "stream": "stdout",
       "text": [
        " 670 , lhood =  -0.390727187109 , pred =  0 , acc =  0.821041666667 , param =  [-3.8951717   2.59200163 -0.04734879]\n",
        "iter = "
       ]
      },
      {
       "output_type": "stream",
       "stream": "stdout",
       "text": [
        " 671 , lhood =  -0.390726642859 , pred =  0 , acc =  0.821041666667 , param =  [-3.89579845  2.59236841 -0.04721456]\n",
        "iter = "
       ]
      },
      {
       "output_type": "stream",
       "stream": "stdout",
       "text": [
        " 672 , lhood =  -0.39072610303 , pred =  0 , acc =  0.821041666667 , param =  [-3.89642263  2.59273375 -0.04708093]\n",
        "iter = "
       ]
      },
      {
       "output_type": "stream",
       "stream": "stdout",
       "text": [
        " 673 , lhood =  -0.390725567585 , pred =  0 , acc =  0.821041666667 , param =  [-3.89704425  2.59309763 -0.04694789]\n",
        "iter = "
       ]
      },
      {
       "output_type": "stream",
       "stream": "stdout",
       "text": [
        " 674 , lhood =  -0.390725036488 , pred =  0 , acc =  0.821041666667 , param =  [-3.89766334  2.59346008 -0.04681543]\n",
        "iter = "
       ]
      },
      {
       "output_type": "stream",
       "stream": "stdout",
       "text": [
        " 675 , lhood =  -0.390724509701 , pred =  0 , acc =  0.821041666667 , param =  [-3.89827989  2.5938211  -0.04668355]\n",
        "iter = "
       ]
      },
      {
       "output_type": "stream",
       "stream": "stdout",
       "text": [
        " 676 , lhood =  -0.390723987189 , pred =  0 , acc =  0.821041666667 , param =  [-3.89889392  2.59418068 -0.04655225]\n",
        "iter = "
       ]
      },
      {
       "output_type": "stream",
       "stream": "stdout",
       "text": [
        " 677 , lhood =  -0.390723468917 , pred =  0 , acc =  0.821041666667 , param =  [-3.89950544  2.59453885 -0.04642152]\n",
        "iter = "
       ]
      },
      {
       "output_type": "stream",
       "stream": "stdout",
       "text": [
        " 678 , lhood =  -0.390722954848 , pred =  0 , acc =  0.821041666667 , param =  [-3.90011447  2.59489559 -0.04629137]\n",
        "iter = "
       ]
      },
      {
       "output_type": "stream",
       "stream": "stdout",
       "text": [
        " 679 , lhood =  -0.390722444948 , pred =  0 , acc =  0.821041666667 , param =  [-3.900721    2.59525093 -0.04616179]\n",
        "iter = "
       ]
      },
      {
       "output_type": "stream",
       "stream": "stdout",
       "text": [
        " 680 , lhood =  -0.390721939181 , pred =  0 , acc =  0.821041666667 , param =  [-3.90132506  2.59560486 -0.04603278]\n",
        "iter = "
       ]
      },
      {
       "output_type": "stream",
       "stream": "stdout",
       "text": [
        " 681 , lhood =  -0.390721437514 , pred =  0 , acc =  0.821041666667 , param =  [-3.90192665  2.59595739 -0.04590434]\n",
        "iter = "
       ]
      },
      {
       "output_type": "stream",
       "stream": "stdout",
       "text": [
        " 682 , lhood =  -0.390720939912 , pred =  0 , acc =  0.821041666667 , param =  [-3.90252578  2.59630853 -0.04577645]\n",
        "iter = "
       ]
      },
      {
       "output_type": "stream",
       "stream": "stdout",
       "text": [
        " 683 , lhood =  -0.39072044634 , pred =  0 , acc =  0.821041666667 , param =  [-3.90312247  2.59665828 -0.04564913]\n",
        "iter = "
       ]
      },
      {
       "output_type": "stream",
       "stream": "stdout",
       "text": [
        " 684 , lhood =  -0.390719956767 , pred =  0 , acc =  0.821041666667 , param =  [-3.90371673  2.59700664 -0.04552236]\n",
        "iter = "
       ]
      },
      {
       "output_type": "stream",
       "stream": "stdout",
       "text": [
        " 685 , lhood =  -0.390719471157 , pred =  0 , acc =  0.821041666667 , param =  [-3.90430856  2.59735363 -0.04539614]\n",
        "iter = "
       ]
      },
      {
       "output_type": "stream",
       "stream": "stdout",
       "text": [
        " 686 , lhood =  -0.390718989478 , pred =  0 , acc =  0.821041666667 , param =  [-3.90489798  2.59769925 -0.04527048]\n",
        "iter = "
       ]
      },
      {
       "output_type": "stream",
       "stream": "stdout",
       "text": [
        " 687 , lhood =  -0.390718511698 , pred =  0 , acc =  0.821041666667 , param =  [-3.90548499  2.59804351 -0.04514536]\n",
        "iter = "
       ]
      },
      {
       "output_type": "stream",
       "stream": "stdout",
       "text": [
        " 688 , lhood =  -0.390718037783 , pred =  0 , acc =  0.821041666667 , param =  [-3.90606961  2.5983864  -0.04502079]\n",
        "iter = "
       ]
      },
      {
       "output_type": "stream",
       "stream": "stdout",
       "text": [
        " 689 , lhood =  -0.390717567702 , pred =  0 , acc =  0.821041666667 , param =  [-3.90665185  2.59872794 -0.04489677]\n",
        "iter = "
       ]
      },
      {
       "output_type": "stream",
       "stream": "stdout",
       "text": [
        " 690 , lhood =  -0.390717101423 , pred =  0 , acc =  0.821041666667 , param =  [-3.90723172  2.59906813 -0.04477328]\n",
        "iter = "
       ]
      },
      {
       "output_type": "stream",
       "stream": "stdout",
       "text": [
        " 691 , lhood =  -0.390716638913 , pred =  0 , acc =  0.821041666667 , param =  [-3.90780923  2.59940698 -0.04465034]\n",
        "iter = "
       ]
      },
      {
       "output_type": "stream",
       "stream": "stdout",
       "text": [
        " 692 , lhood =  -0.390716180143 , pred =  0 , acc =  0.821041666667 , param =  [-3.90838438  2.59974449 -0.04452792]\n",
        "iter = "
       ]
      },
      {
       "output_type": "stream",
       "stream": "stdout",
       "text": [
        " 693 , lhood =  -0.39071572508 , pred =  0 , acc =  0.821041666667 , param =  [-3.9089572   2.60008067 -0.04440604]\n",
        "iter = "
       ]
      },
      {
       "output_type": "stream",
       "stream": "stdout",
       "text": [
        " 694 , lhood =  -0.390715273693 , pred =  0 , acc =  0.821041666667 , param =  [-3.90952768  2.60041552 -0.0442847 ]\n",
        "iter = "
       ]
      },
      {
       "output_type": "stream",
       "stream": "stdout",
       "text": [
        " 695 , lhood =  -0.390714825953 , pred =  0 , acc =  0.821041666667 , param =  [-3.91009584  2.60074905 -0.04416387]\n",
        "iter = "
       ]
      },
      {
       "output_type": "stream",
       "stream": "stdout",
       "text": [
        " 696 , lhood =  -0.390714381829 , pred =  0 , acc =  0.821041666667 , param =  [-3.91066169  2.60108126 -0.04404358]\n",
        "iter = "
       ]
      },
      {
       "output_type": "stream",
       "stream": "stdout",
       "text": [
        " 697 , lhood =  -0.390713941291 , pred =  0 , acc =  0.821041666667 , param =  [-3.91122524  2.60141216 -0.0439238 ]\n",
        "iter = "
       ]
      },
      {
       "output_type": "stream",
       "stream": "stdout",
       "text": [
        " 698 , lhood =  -0.390713504309 , pred =  0 , acc =  0.821041666667 , param =  [-3.9117865   2.60174176 -0.04380455]\n",
        "iter = "
       ]
      },
      {
       "output_type": "stream",
       "stream": "stdout",
       "text": [
        " 699 , lhood =  -0.390713070853 , pred =  0 , acc =  0.821041666667 , param =  [-3.91234548  2.60207006 -0.04368581]\n",
        "iter = "
       ]
      },
      {
       "output_type": "stream",
       "stream": "stdout",
       "text": [
        " 700 , lhood =  -0.390712640895 , pred =  0 , acc =  0.821041666667 , param =  [-3.91290219  2.60239706 -0.04356759]\n",
        "iter = "
       ]
      },
      {
       "output_type": "stream",
       "stream": "stdout",
       "text": [
        " 701 , lhood =  -0.390712214404 , pred =  0 , acc =  0.821041666667 , param =  [-3.91345663  2.60272277 -0.04344988]\n",
        "iter = "
       ]
      },
      {
       "output_type": "stream",
       "stream": "stdout",
       "text": [
        " 702 , lhood =  -0.390711791354 , pred =  0 , acc =  0.821041666667 , param =  [-3.91400883  2.6030472  -0.04333269]\n",
        "iter = "
       ]
      },
      {
       "output_type": "stream",
       "stream": "stdout",
       "text": [
        " 703 , lhood =  -0.390711371715 , pred =  0 , acc =  0.821041666667 , param =  [-3.91455878  2.60337035 -0.04321599]\n",
        "iter = "
       ]
      },
      {
       "output_type": "stream",
       "stream": "stdout",
       "text": [
        " 704 , lhood =  -0.390710955458 , pred =  0 , acc =  0.821041666667 , param =  [-3.9151065   2.60369222 -0.04309981]\n",
        "iter = "
       ]
      },
      {
       "output_type": "stream",
       "stream": "stdout",
       "text": [
        " 705 , lhood =  -0.390710542556 , pred =  0 , acc =  0.821041666667 , param =  [-3.91565199  2.60401283 -0.04298412]\n",
        "iter = "
       ]
      },
      {
       "output_type": "stream",
       "stream": "stdout",
       "text": [
        " 706 , lhood =  -0.390710132981 , pred =  0 , acc =  0.821041666667 , param =  [-3.91619528  2.60433217 -0.04286894]\n",
        "iter = "
       ]
      },
      {
       "output_type": "stream",
       "stream": "stdout",
       "text": [
        " 707 , lhood =  -0.390709726706 , pred =  0 , acc =  0.821041666667 , param =  [-3.91673636  2.60465026 -0.04275426]\n",
        "iter = "
       ]
      },
      {
       "output_type": "stream",
       "stream": "stdout",
       "text": [
        " 708 , lhood =  -0.390709323702 , pred =  0 , acc =  0.821041666667 , param =  [-3.91727524  2.60496709 -0.04264007]\n",
        "iter = "
       ]
      },
      {
       "output_type": "stream",
       "stream": "stdout",
       "text": [
        " 709 , lhood =  -0.390708923944 , pred =  0 , acc =  0.821041666667 , param =  [-3.91781194  2.60528267 -0.04252637]\n",
        "iter = "
       ]
      },
      {
       "output_type": "stream",
       "stream": "stdout",
       "text": [
        " 710 , lhood =  -0.390708527404 , pred =  0 , acc =  0.821041666667 , param =  [-3.91834647  2.60559701 -0.04241317]\n",
        "iter = "
       ]
      },
      {
       "output_type": "stream",
       "stream": "stdout",
       "text": [
        " 711 , lhood =  -0.390708134056 , pred =  0 , acc =  0.821041666667 , param =  [-3.91887883  2.60591011 -0.04230045]\n",
        "iter = "
       ]
      },
      {
       "output_type": "stream",
       "stream": "stdout",
       "text": [
        " 712 , lhood =  -0.390707743872 , pred =  0 , acc =  0.821041666667 , param =  [-3.91940903  2.60622198 -0.04218822]\n",
        "iter = "
       ]
      },
      {
       "output_type": "stream",
       "stream": "stdout",
       "text": [
        " 713 , lhood =  -0.390707356828 , pred =  0 , acc =  0.821041666667 , param =  [-3.91993708  2.60653262 -0.04207647]\n",
        "iter = "
       ]
      },
      {
       "output_type": "stream",
       "stream": "stdout",
       "text": [
        " 714 , lhood =  -0.390706972897 , pred =  0 , acc =  0.821041666667 , param =  [-3.920463    2.60684203 -0.0419652 ]\n",
        "iter = "
       ]
      },
      {
       "output_type": "stream",
       "stream": "stdout",
       "text": [
        " 715 , lhood =  -0.390706592054 , pred =  0 , acc =  0.821041666667 , param =  [-3.92098678  2.60715023 -0.04185442]\n",
        "iter = "
       ]
      },
      {
       "output_type": "stream",
       "stream": "stdout",
       "text": [
        " 716 , lhood =  -0.390706214272 , pred =  0 , acc =  0.821041666667 , param =  [-3.92150845  2.60745722 -0.04174411]\n",
        "iter = "
       ]
      },
      {
       "output_type": "stream",
       "stream": "stdout",
       "text": [
        " 717 , lhood =  -0.390705839527 , pred =  0 , acc =  0.821041666667 , param =  [-3.92202801  2.60776299 -0.04163427]\n",
        "iter = "
       ]
      },
      {
       "output_type": "stream",
       "stream": "stdout",
       "text": [
        " 718 , lhood =  -0.390705467794 , pred =  0 , acc =  0.821041666667 , param =  [-3.92254546  2.60806757 -0.04152491]\n",
        "iter = "
       ]
      },
      {
       "output_type": "stream",
       "stream": "stdout",
       "text": [
        " 719 , lhood =  -0.390705099047 , pred =  0 , acc =  0.821041666667 , param =  [-3.92306082  2.60837094 -0.04141602]\n",
        "iter = "
       ]
      },
      {
       "output_type": "stream",
       "stream": "stdout",
       "text": [
        " 720 , lhood =  -0.390704733263 , pred =  0 , acc =  0.821041666667 , param =  [-3.9235741   2.60867312 -0.04130759]\n",
        "iter = "
       ]
      },
      {
       "output_type": "stream",
       "stream": "stdout",
       "text": [
        " 721 , lhood =  -0.390704370416 , pred =  0 , acc =  0.821041666667 , param =  [-3.9240853   2.60897411 -0.04119963]\n",
        "iter = "
       ]
      },
      {
       "output_type": "stream",
       "stream": "stdout",
       "text": [
        " 722 , lhood =  -0.390704010483 , pred =  0 , acc =  0.821041666667 , param =  [-3.92459443  2.60927392 -0.04109214]\n",
        "iter = "
       ]
      },
      {
       "output_type": "stream",
       "stream": "stdout",
       "text": [
        " 723 , lhood =  -0.39070365344 , pred =  0 , acc =  0.821041666667 , param =  [-3.92510151  2.60957255 -0.0409851 ]\n",
        "iter = "
       ]
      },
      {
       "output_type": "stream",
       "stream": "stdout",
       "text": [
        " 724 , lhood =  -0.390703299262 , pred =  0 , acc =  0.821041666667 , param =  [-3.92560654  2.60987    -0.04087853]\n",
        "iter = "
       ]
      },
      {
       "output_type": "stream",
       "stream": "stdout",
       "text": [
        " 725 , lhood =  -0.390702947927 , pred =  0 , acc =  0.821041666667 , param =  [-3.92610953  2.61016629 -0.04077241]\n",
        "iter = "
       ]
      },
      {
       "output_type": "stream",
       "stream": "stdout",
       "text": [
        " 726 , lhood =  -0.39070259941 , pred =  0 , acc =  0.821041666667 , param =  [-3.92661048  2.61046141 -0.04066675]\n",
        "iter = "
       ]
      },
      {
       "output_type": "stream",
       "stream": "stdout",
       "text": [
        " 727 , lhood =  -0.390702253689 , pred =  0 , acc =  0.821041666667 , param =  [-3.92710942  2.61075537 -0.04056154]\n",
        "iter = "
       ]
      },
      {
       "output_type": "stream",
       "stream": "stdout",
       "text": [
        " 728 , lhood =  -0.39070191074 , pred =  0 , acc =  0.821041666667 , param =  [-3.92760634  2.61104817 -0.04045678]\n",
        "iter = "
       ]
      },
      {
       "output_type": "stream",
       "stream": "stdout",
       "text": [
        " 729 , lhood =  -0.390701570542 , pred =  0 , acc =  0.821041666667 , param =  [-3.92810125  2.61133982 -0.04035247]\n",
        "iter = "
       ]
      },
      {
       "output_type": "stream",
       "stream": "stdout",
       "text": [
        " 730 , lhood =  -0.39070123307 , pred =  0 , acc =  0.821041666667 , param =  [-3.92859417  2.61163033 -0.0402486 ]\n",
        "iter = "
       ]
      },
      {
       "output_type": "stream",
       "stream": "stdout",
       "text": [
        " 731 , lhood =  -0.390700898303 , pred =  0 , acc =  0.821041666667 , param =  [-3.9290851   2.61191969 -0.04014518]\n",
        "iter = "
       ]
      },
      {
       "output_type": "stream",
       "stream": "stdout",
       "text": [
        " 732 , lhood =  -0.390700566219 , pred =  0 , acc =  0.821041666667 , param =  [-3.92957405  2.61220792 -0.0400422 ]\n",
        "iter = "
       ]
      },
      {
       "output_type": "stream",
       "stream": "stdout",
       "text": [
        " 733 , lhood =  -0.390700236795 , pred =  0 , acc =  0.821041666667 , param =  [-3.93006103  2.61249502 -0.03993966]\n",
        "iter = "
       ]
      },
      {
       "output_type": "stream",
       "stream": "stdout",
       "text": [
        " 734 , lhood =  -0.39069991001 , pred =  0 , acc =  0.821041666667 , param =  [-3.93054605  2.61278098 -0.03983756]\n",
        "iter = "
       ]
      },
      {
       "output_type": "stream",
       "stream": "stdout",
       "text": [
        " 735 , lhood =  -0.390699585843 , pred =  0 , acc =  0.821041666667 , param =  [-3.93102911  2.61306583 -0.03973589]\n",
        "iter = "
       ]
      },
      {
       "output_type": "stream",
       "stream": "stdout",
       "text": [
        " 736 , lhood =  -0.39069926427 , pred =  0 , acc =  0.821041666667 , param =  [-3.93151022  2.61334955 -0.03963466]\n",
        "iter = "
       ]
      },
      {
       "output_type": "stream",
       "stream": "stdout",
       "text": [
        " 737 , lhood =  -0.390698945272 , pred =  0 , acc =  0.821041666667 , param =  [-3.9319894   2.61363216 -0.03953386]\n",
        "iter = "
       ]
      },
      {
       "output_type": "stream",
       "stream": "stdout",
       "text": [
        " 738 , lhood =  -0.390698628827 , pred =  0 , acc =  0.821041666667 , param =  [-3.93246664  2.61391367 -0.03943349]\n",
        "iter = "
       ]
      },
      {
       "output_type": "stream",
       "stream": "stdout",
       "text": [
        " 739 , lhood =  -0.390698314915 , pred =  0 , acc =  0.821041666667 , param =  [-3.93294197  2.61419406 -0.03933355]\n",
        "iter = "
       ]
      },
      {
       "output_type": "stream",
       "stream": "stdout",
       "text": [
        " 740 , lhood =  -0.390698003513 , pred =  0 , acc =  0.821041666667 , param =  [-3.93341538  2.61447336 -0.03923403]\n"
       ]
      },
      {
       "ename": "KeyboardInterrupt",
       "evalue": "",
       "output_type": "pyerr",
       "traceback": [
        "\u001b[0;31m---------------------------------------------------------------------------\u001b[0m\n\u001b[0;31mKeyboardInterrupt\u001b[0m                         Traceback (most recent call last)",
        "\u001b[0;32m<ipython-input-74-5963e5381fae>\u001b[0m in \u001b[0;36m<module>\u001b[0;34m()\u001b[0m\n\u001b[1;32m     29\u001b[0m   \u001b[0;32mreturn\u001b[0m \u001b[0mparam\u001b[0m\u001b[0;34m\u001b[0m\u001b[0m\n\u001b[1;32m     30\u001b[0m \u001b[0;34m\u001b[0m\u001b[0m\n\u001b[0;32m---> 31\u001b[0;31m \u001b[0mparam\u001b[0m \u001b[0;34m=\u001b[0m \u001b[0mtrain_batchgrad\u001b[0m\u001b[0;34m(\u001b[0m\u001b[0mzip\u001b[0m\u001b[0;34m(\u001b[0m\u001b[0mbias\u001b[0m\u001b[0;34m,\u001b[0m \u001b[0mcond_ent\u001b[0m\u001b[0;34m,\u001b[0m \u001b[0mnum_sp\u001b[0m\u001b[0;34m)\u001b[0m\u001b[0;34m,\u001b[0m \u001b[0mreward\u001b[0m\u001b[0;34m,\u001b[0m \u001b[0;36m1\u001b[0m\u001b[0;34m,\u001b[0m \u001b[0;36m1000\u001b[0m\u001b[0;34m)\u001b[0m\u001b[0;34m\u001b[0m\u001b[0m\n\u001b[0m",
        "\u001b[0;32m<ipython-input-74-5963e5381fae>\u001b[0m in \u001b[0;36mtrain_batchgrad\u001b[0;34m(example_l, reward_l, eta, num_iter)\u001b[0m\n\u001b[1;32m     21\u001b[0m         \u001b[0mlhood\u001b[0m \u001b[0;34m+=\u001b[0m \u001b[0mnp\u001b[0m\u001b[0;34m.\u001b[0m\u001b[0mlog\u001b[0m\u001b[0;34m(\u001b[0m\u001b[0;36m1\u001b[0m\u001b[0;34m-\u001b[0m\u001b[0mresp\u001b[0m\u001b[0;34m)\u001b[0m\u001b[0;34m\u001b[0m\u001b[0m\n\u001b[1;32m     22\u001b[0m       \u001b[0macc\u001b[0m \u001b[0;34m+=\u001b[0m \u001b[0mreward\u001b[0m \u001b[0;34m>\u001b[0m \u001b[0;36m0\u001b[0m \u001b[0;32mand\u001b[0m \u001b[0mresp\u001b[0m \u001b[0;34m>=\u001b[0m \u001b[0;36m0.5\u001b[0m \u001b[0;32mor\u001b[0m \u001b[0mreward\u001b[0m \u001b[0;34m<=\u001b[0m \u001b[0;36m0\u001b[0m \u001b[0;32mand\u001b[0m \u001b[0mresp\u001b[0m \u001b[0;34m<\u001b[0m \u001b[0;36m0.5\u001b[0m\u001b[0;34m\u001b[0m\u001b[0m\n\u001b[0;32m---> 23\u001b[0;31m       \u001b[0mnum_pred\u001b[0m \u001b[0;34m+=\u001b[0m \u001b[0mresp\u001b[0m \u001b[0;34m>=\u001b[0m \u001b[0;36m0.5\u001b[0m\u001b[0;34m\u001b[0m\u001b[0m\n\u001b[0m\u001b[1;32m     24\u001b[0m     \u001b[0mgrad\u001b[0m \u001b[0;34m/=\u001b[0m \u001b[0mfloat\u001b[0m\u001b[0;34m(\u001b[0m\u001b[0mlen\u001b[0m\u001b[0;34m(\u001b[0m\u001b[0mexample_l\u001b[0m\u001b[0;34m)\u001b[0m\u001b[0;34m)\u001b[0m\u001b[0;34m\u001b[0m\u001b[0m\n\u001b[1;32m     25\u001b[0m     \u001b[0mlhood\u001b[0m \u001b[0;34m/=\u001b[0m \u001b[0mfloat\u001b[0m\u001b[0;34m(\u001b[0m\u001b[0mlen\u001b[0m\u001b[0;34m(\u001b[0m\u001b[0mexample_l\u001b[0m\u001b[0;34m)\u001b[0m\u001b[0;34m)\u001b[0m\u001b[0;34m\u001b[0m\u001b[0m\n",
        "\u001b[0;31mKeyboardInterrupt\u001b[0m: "
       ]
      }
     ],
     "prompt_number": 74
    },
    {
     "cell_type": "code",
     "collapsed": false,
     "input": [],
     "language": "python",
     "metadata": {},
     "outputs": []
    }
   ],
   "metadata": {}
  }
 ]
}